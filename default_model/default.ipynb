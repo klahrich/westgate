{
 "cells": [
  {
   "cell_type": "code",
   "execution_count": 18,
   "metadata": {},
   "outputs": [
    {
     "name": "stdout",
     "output_type": "stream",
     "text": [
      "The autoreload extension is already loaded. To reload it, use:\n",
      "  %reload_ext autoreload\n"
     ]
    }
   ],
   "source": [
    "%load_ext autoreload\n",
    "%autoreload 2"
   ]
  },
  {
   "cell_type": "code",
   "execution_count": 1,
   "metadata": {},
   "outputs": [],
   "source": [
    "import pandas as pd\n",
    "from westgate.flaml_model import *\n",
    "import pandas as pd\n",
    "from westgate.combochart import combo_chart\n",
    "import argparse\n",
    "from colored import Fore, Back, Style\n",
    "from sklearn.ensemble._stacking import StackingClassifier"
   ]
  },
  {
   "cell_type": "code",
   "execution_count": 20,
   "metadata": {},
   "outputs": [],
   "source": [
    "default_model = UWModel(experiment_id='default_1.0')"
   ]
  },
  {
   "cell_type": "code",
   "execution_count": 2,
   "metadata": {},
   "outputs": [
    {
     "name": "stderr",
     "output_type": "stream",
     "text": [
      "C:\\Users\\karim\\AppData\\Local\\Temp\\ipykernel_12128\\3568183418.py:1: DtypeWarning: Columns (741) have mixed types. Specify dtype option on import or set low_memory=False.\n",
      "  accepted_df = pd.read_csv('../data/AttributesLoans2022.csv', encoding='latin')\n"
     ]
    }
   ],
   "source": [
    "accepted_df = pd.read_csv('../data/AttributesLoans2022.csv', encoding='latin')"
   ]
  },
  {
   "cell_type": "code",
   "execution_count": 3,
   "metadata": {},
   "outputs": [
    {
     "data": {
      "text/plain": [
       "employer_income_frequency\n",
       "BiWeekly     6553\n",
       "Weekly       1365\n",
       "BiMonthly    1124\n",
       "Unknown       545\n",
       "Monthly        48\n",
       "Name: count, dtype: int64"
      ]
     },
     "execution_count": 3,
     "metadata": {},
     "output_type": "execute_result"
    }
   ],
   "source": [
    "accepted_df['employer_income_frequency'].value_counts()"
   ]
  },
  {
   "cell_type": "code",
   "execution_count": 22,
   "metadata": {},
   "outputs": [
    {
     "data": {
      "text/plain": [
       "10098"
      ]
     },
     "execution_count": 22,
     "metadata": {},
     "output_type": "execute_result"
    }
   ],
   "source": [
    "len(accepted_df)"
   ]
  },
  {
   "cell_type": "code",
   "execution_count": 23,
   "metadata": {},
   "outputs": [],
   "source": [
    "accepted_df['request_month'] = accepted_df['request_date'].str[5:7].astype(int)\n",
    "accepted_df['validation_flag'] = accepted_df['request_month'] == 11\n",
    "accepted_df['test_flag'] = accepted_df['request_month'] == 12\n",
    "accepted_df['weight'] = accepted_df['request_month'] / 12.0"
   ]
  },
  {
   "cell_type": "code",
   "execution_count": 24,
   "metadata": {},
   "outputs": [],
   "source": [
    "accepted_df['profit'] = accepted_df['total_paid'] - accepted_df['principal']"
   ]
  },
  {
   "cell_type": "code",
   "execution_count": 25,
   "metadata": {},
   "outputs": [],
   "source": [
    "accepted_df[default_model.target] = np.where(accepted_df['profit'] < 50, 1, 0)"
   ]
  },
  {
   "cell_type": "code",
   "execution_count": 26,
   "metadata": {},
   "outputs": [
    {
     "data": {
      "text/plain": [
       "status\n",
       "0    0.700832\n",
       "1    0.299168\n",
       "Name: proportion, dtype: float64"
      ]
     },
     "execution_count": 26,
     "metadata": {},
     "output_type": "execute_result"
    }
   ],
   "source": [
    "accepted_df[default_model.target].value_counts(normalize=True)"
   ]
  },
  {
   "cell_type": "code",
   "execution_count": 27,
   "metadata": {},
   "outputs": [],
   "source": [
    "filtered_df = default_model.filter_df(accepted_df)"
   ]
  },
  {
   "cell_type": "code",
   "execution_count": 28,
   "metadata": {},
   "outputs": [
    {
     "data": {
      "text/plain": [
       "9507"
      ]
     },
     "execution_count": 28,
     "metadata": {},
     "output_type": "execute_result"
    }
   ],
   "source": [
    "len(filtered_df)"
   ]
  },
  {
   "cell_type": "code",
   "execution_count": 29,
   "metadata": {},
   "outputs": [
    {
     "data": {
      "text/plain": [
       "status\n",
       "0    0.703376\n",
       "1    0.296624\n",
       "Name: proportion, dtype: float64"
      ]
     },
     "execution_count": 29,
     "metadata": {},
     "output_type": "execute_result"
    }
   ],
   "source": [
    "filtered_df[default_model.target].value_counts(normalize=True)"
   ]
  },
  {
   "cell_type": "code",
   "execution_count": 30,
   "metadata": {},
   "outputs": [],
   "source": [
    "#not used\n",
    "#rs = ShuffleSplit(n_splits=1, test_size=.20, random_state=0)"
   ]
  },
  {
   "cell_type": "code",
   "execution_count": 34,
   "metadata": {},
   "outputs": [],
   "source": [
    "# here X_teste is December\n",
    "\n",
    "X_train, X_test, y_train, y_test, extra = default_model.split_data(filtered_df, \n",
    "                                                            split_criteria='test_flag',\n",
    "                                                            extra_cols=['weight', 'validation_flag', 'request_month'])\n",
    "\n",
    "X_train, X_test, y_train, y_test, extra = r\n",
    "\n",
    "X_train, X_test = default_model.feature_engineer(X_train, y_train, X_test, y_test)\n",
    "\n",
    "#TODO: deal with na values in X_train/X_test if any\n",
    "#non_na_idx = X['age'].notna()\n",
    "\n",
    "#X = X[non_na_idx]\n",
    "\n",
    "#if y is not None:\n",
    "    #y = y[non_na_idx]\n",
    "\n"
   ]
  },
  {
   "cell_type": "code",
   "execution_count": 35,
   "metadata": {},
   "outputs": [
    {
     "data": {
      "text/plain": [
       "dict_keys(['train_weight', 'test_weight', 'train_validation_flag', 'test_validation_flag', 'train_request_month', 'test_request_month', 'train_profit', 'test_profit', 'train_Id', 'test_Id', 'train_principal', 'test_principal', 'train_total_paid', 'test_total_paid', 'train_request_date', 'test_request_date', 'train_dob', 'test_dob'])"
      ]
     },
     "execution_count": 35,
     "metadata": {},
     "output_type": "execute_result"
    }
   ],
   "source": [
    "extra.keys()"
   ]
  },
  {
   "cell_type": "code",
   "execution_count": 36,
   "metadata": {},
   "outputs": [
    {
     "data": {
      "text/plain": [
       "8455"
      ]
     },
     "execution_count": 36,
     "metadata": {},
     "output_type": "execute_result"
    }
   ],
   "source": [
    "len(X_train)"
   ]
  },
  {
   "cell_type": "code",
   "execution_count": 37,
   "metadata": {},
   "outputs": [],
   "source": [
    "# here X_val is November\n",
    "\n",
    "X_val, y_val = X_train.loc[extra['train_validation_flag']], y_train.loc[extra['train_validation_flag']]\n",
    "X_train, y_train = X_train.loc[~extra['train_validation_flag']], y_train.loc[~extra['train_validation_flag']]"
   ]
  },
  {
   "cell_type": "code",
   "execution_count": 38,
   "metadata": {},
   "outputs": [
    {
     "data": {
      "text/plain": [
       "True"
      ]
     },
     "execution_count": 38,
     "metadata": {},
     "output_type": "execute_result"
    }
   ],
   "source": [
    "len(X_train) + len(X_val) + len(X_test) == len(filtered_df)"
   ]
  },
  {
   "cell_type": "code",
   "execution_count": 39,
   "metadata": {},
   "outputs": [],
   "source": [
    "weight_train = extra['train_weight'].loc[~extra['train_validation_flag']]\n",
    "weight_val = extra['train_weight'].loc[extra['train_validation_flag']]\n",
    "weight_test = extra['test_weight']"
   ]
  },
  {
   "cell_type": "code",
   "execution_count": 40,
   "metadata": {},
   "outputs": [
    {
     "data": {
      "text/plain": [
       "(7501, 954, 1052)"
      ]
     },
     "execution_count": 40,
     "metadata": {},
     "output_type": "execute_result"
    }
   ],
   "source": [
    "len(weight_train), len(weight_val), len(weight_test)"
   ]
  },
  {
   "cell_type": "code",
   "execution_count": 41,
   "metadata": {},
   "outputs": [
    {
     "data": {
      "text/plain": [
       "(7501, 954, 1052)"
      ]
     },
     "execution_count": 41,
     "metadata": {},
     "output_type": "execute_result"
    }
   ],
   "source": [
    "len(X_train), len(X_val), len(X_test)"
   ]
  },
  {
   "cell_type": "code",
   "execution_count": 42,
   "metadata": {},
   "outputs": [
    {
     "name": "stdout",
     "output_type": "stream",
     "text": [
      "X_train shape: (7501, 26)\n",
      "X_test shape: (1052, 26)\n",
      "\n"
     ]
    },
    {
     "data": {
      "image/png": "[encoded data removed]",
      "text/plain": [
       "<Figure size 640x480 with 1 Axes>"
      ]
     },
     "metadata": {},
     "output_type": "display_data"
    },
    {
     "name": "stdout",
     "output_type": "stream",
     "text": [
      "Actual Default[TEST]:\n",
      "297 (28.2%)\n",
      "Predicted Default[TEST]:\n",
      "106 (10.1%)\n",
      "\n",
      "y_pred_proba distribution:\n",
      "(0.135, 0.184]    259\n",
      "(0.184, 0.232]    247\n",
      "(0.232, 0.28]     169\n",
      "(0.28, 0.328]     129\n",
      "(0.328, 0.376]     86\n",
      "(0.376, 0.424]     51\n",
      "(0.424, 0.472]     43\n",
      "(0.472, 0.52]      30\n",
      "(0.52, 0.568]      28\n",
      "(0.568, 0.616]     10\n",
      "Name: count, dtype: int64\n",
      "\n",
      "Best validation loss: -0.2529479265590374\n",
      "\n",
      "\n",
      "              precision    recall  f1-score   support\n",
      "\n",
      "           0       0.76      0.95      0.84       755\n",
      "           1       0.63      0.23      0.33       297\n",
      "\n",
      "    accuracy                           0.74      1052\n",
      "   macro avg       0.69      0.59      0.59      1052\n",
      "weighted avg       0.72      0.74      0.70      1052\n",
      "\n",
      "Normalized confusion matrix:\n",
      "[[0.94834437 0.05165563]\n",
      " [0.77441077 0.22558923]]\n",
      "\n",
      "\n",
      "Profitability stats\n",
      "----\n",
      "Predicted profit [TEST]: $206325.00\n",
      "Actual profit [TEST]: $203798.00\n",
      "Anti-profit [TEST]: $-2527.00\n",
      "\u001b[4m\u001b[38;5;6m\u001b[48;5;0mAnti-profit per loan [TEST]: $-2.00\u001b[0m\n",
      "----\n"
     ]
    },
    {
     "data": {
      "image/png": "[encoded data removed]",
      "text/plain": [
       "<Figure size 640x480 with 2 Axes>"
      ]
     },
     "metadata": {},
     "output_type": "display_data"
    }
   ],
   "source": [
    "def p90_accuracy_metric(X_val, y_val, estimator, labels,\n",
    "                X_train, y_train, weight_val=None, weight_train=None,\n",
    "                *args):\n",
    "    y_probas = estimator.predict_proba(X_val)[:, 1]\n",
    "    df = pd.DataFrame({'proba': y_probas, 'y_val': y_val})\n",
    "    perc90 = np.percentile(y_probas, 90)\n",
    "    perc10 = np.percentile(y_probas, 10)\n",
    "    delta = df.loc[df['proba'] >= perc90]['y_val'].sum() - df.loc[df['proba'] <= perc10]['y_val'].sum()\n",
    "    return -delta, {}\n",
    "        \n",
    "config = {\n",
    "    #\"ensemble\": True,\n",
    "    #\"estimator_list\": ['xgb_limitdepth'],\n",
    "    \"estimator_list\": ['xgboost'],\n",
    "    \"metric\": \"roc_auc\",\n",
    "    #\"metric\": p90_accuracy_metric,\n",
    "    \"eval_method\": 'holdout',\n",
    "    'X_val': X_val,\n",
    "    'y_val': y_val,\n",
    "    'sample_weight': weight_train,\n",
    "    'sample_weight_val': weight_val\n",
    "}\n",
    "\n",
    "y_pred_proba, y_pred, extra = default_model.fit(\n",
    "        X_train, X_test, y_train, y_test, extra,\n",
    "        time_budget=20, \n",
    "        automl_config=config,\n",
    "        show_plots=True,\n",
    "        percentile=90\n",
    ")"
   ]
  },
  {
   "cell_type": "code",
   "execution_count": 43,
   "metadata": {},
   "outputs": [],
   "source": [
    "default_model.save()"
   ]
  },
  {
   "cell_type": "code",
   "execution_count": 44,
   "metadata": {},
   "outputs": [
    {
     "data": {
      "text/plain": [
       "26"
      ]
     },
     "execution_count": 44,
     "metadata": {},
     "output_type": "execute_result"
    }
   ],
   "source": [
    "len(default_model.features)"
   ]
  },
  {
   "cell_type": "code",
   "execution_count": 45,
   "metadata": {},
   "outputs": [
    {
     "name": "stdout",
     "output_type": "stream",
     "text": [
      "['average_closing_balance_day_after_employer_income', 'average_closing_balance_day_of_employer_income', 'average_closing_balance_day_of_income', 'average_monthly_micro_loan_payments_complex', 'average_monthly_utility_payments_complex', 'balance_90_days_ago', 'balance_current', 'balance_min', 'count_days_negative_balance_90_days', 'count_distinct_micro_lenders', 'count_loan_payments_current_month', 'count_loan_payments_previous_month', 'count_nsf_30_days', 'employer_income_frequency', 'sum_employer_income_2_months_ago', 'sum_employer_income_current_month', 'sum_employer_income_previous_month', 'sum_non_employer_income', 'sum_non_employer_income_2_months_ago', 'sum_non_employer_income_current_month', 'sum_non_employer_income_previous_month', 'telecom_payments_average', 'other_loan_payments_average', 'utility_payments_average', 'gender', 'age']\n"
     ]
    }
   ],
   "source": [
    "print(default_model.features)"
   ]
  },
  {
   "cell_type": "code",
   "execution_count": 46,
   "metadata": {},
   "outputs": [],
   "source": [
    "X2022 = pd.concat([X_train, X_val, X_test])"
   ]
  },
  {
   "cell_type": "code",
   "execution_count": 47,
   "metadata": {},
   "outputs": [],
   "source": [
    "y2022 = pd.concat([y_train, y_val, y_test])"
   ]
  },
  {
   "cell_type": "code",
   "execution_count": 48,
   "metadata": {},
   "outputs": [],
   "source": [
    "weight2022 = pd.concat([weight_train, weight_val, weight_test])"
   ]
  },
  {
   "cell_type": "code",
   "execution_count": 49,
   "metadata": {},
   "outputs": [
    {
     "name": "stdout",
     "output_type": "stream",
     "text": [
      "[flaml.automl.logger: 03-23 08:28:56] {804} INFO - log file name log_default_1.0.log\n",
      "[flaml.automl.logger: 03-23 08:28:56] {857} INFO - estimator = xgboost, config = {'n_estimators': 42, 'max_leaves': 103, 'min_child_weight': 0.059680146826664886, 'learning_rate': 0.03027862259035647, 'subsample': 0.763787915762039, 'colsample_bylevel': 0.5493443205226076, 'colsample_bytree': 0.7196188089311553, 'reg_alpha': 0.05227653182206384, 'reg_lambda': 2.564998901900601}, #training instances = 9507\n",
      "[flaml.automl.logger: 03-23 08:28:58] {890} INFO - retrain from log succeeded\n"
     ]
    },
    {
     "data": {
      "text/plain": [
       "19.464924812316895"
      ]
     },
     "execution_count": 49,
     "metadata": {},
     "output_type": "execute_result"
    }
   ],
   "source": [
    "default_model.automl.retrain_from_log(\n",
    "    'log_default_1.0.log',\n",
    "    X2022,\n",
    "    y2022,\n",
    "    train_best=True,\n",
    "    train_full=True,\n",
    "    sample_weight=weight2022,\n",
    "    time_budget=20\n",
    ")"
   ]
  },
  {
   "cell_type": "markdown",
   "metadata": {},
   "source": [
    "Saving / loading the model"
   ]
  },
  {
   "cell_type": "code",
   "execution_count": 50,
   "metadata": {},
   "outputs": [],
   "source": [
    "default_model.save()"
   ]
  },
  {
   "cell_type": "code",
   "execution_count": 51,
   "metadata": {},
   "outputs": [],
   "source": [
    "default_model_loaded = load_model('default_1.0')"
   ]
  },
  {
   "cell_type": "code",
   "execution_count": 52,
   "metadata": {},
   "outputs": [],
   "source": [
    "preds2022 = default_model.predict_proba(X2022, filter=False, engineer=False)"
   ]
  },
  {
   "cell_type": "code",
   "execution_count": 53,
   "metadata": {},
   "outputs": [
    {
     "data": {
      "text/plain": [
       "0.4266939163208007"
      ]
     },
     "execution_count": 53,
     "metadata": {},
     "output_type": "execute_result"
    }
   ],
   "source": [
    "p90_2022 = np.percentile(preds2022['pred_proba'], 90)\n",
    "p90_2022"
   ]
  },
  {
   "cell_type": "markdown",
   "metadata": {},
   "source": [
    "# Predictions for Jan'23"
   ]
  },
  {
   "cell_type": "code",
   "execution_count": 42,
   "metadata": {},
   "outputs": [
    {
     "name": "stderr",
     "output_type": "stream",
     "text": [
      "C:\\Users\\karim\\AppData\\Local\\Temp\\ipykernel_3504\\4126847242.py:1: DtypeWarning: Columns (387) have mixed types. Specify dtype option on import or set low_memory=False.\n",
      "  data2023_df = pd.read_csv('../data/janToNov2023Loansv2.csv', encoding='latin')\n"
     ]
    }
   ],
   "source": [
    "data2023_df = pd.read_csv('../data/janToNov2023Loansv2.csv', encoding='latin')"
   ]
  },
  {
   "cell_type": "code",
   "execution_count": 43,
   "metadata": {},
   "outputs": [
    {
     "data": {
      "text/plain": [
       "9499"
      ]
     },
     "execution_count": 43,
     "metadata": {},
     "output_type": "execute_result"
    }
   ],
   "source": [
    "len(data2023_df)"
   ]
  },
  {
   "cell_type": "code",
   "execution_count": 44,
   "metadata": {},
   "outputs": [],
   "source": [
    "jan23_df = data2023_df.loc[data2023_df['request_date'].str[:7]=='2023-01']"
   ]
  },
  {
   "cell_type": "code",
   "execution_count": 45,
   "metadata": {},
   "outputs": [
    {
     "data": {
      "text/plain": [
       "1045"
      ]
     },
     "execution_count": 45,
     "metadata": {},
     "output_type": "execute_result"
    }
   ],
   "source": [
    "len(jan23_df)"
   ]
  },
  {
   "cell_type": "code",
   "execution_count": 46,
   "metadata": {},
   "outputs": [],
   "source": [
    "jan23_df.drop_duplicates(inplace=True)"
   ]
  },
  {
   "cell_type": "code",
   "execution_count": 47,
   "metadata": {},
   "outputs": [
    {
     "data": {
      "text/plain": [
       "1040"
      ]
     },
     "execution_count": 47,
     "metadata": {},
     "output_type": "execute_result"
    }
   ],
   "source": [
    "len(jan23_df)"
   ]
  },
  {
   "cell_type": "code",
   "execution_count": 58,
   "metadata": {},
   "outputs": [],
   "source": [
    "jan23_df.set_index('loanId', inplace=True)"
   ]
  },
  {
   "cell_type": "code",
   "execution_count": 59,
   "metadata": {},
   "outputs": [
    {
     "data": {
      "text/html": [
       "<div>\n",
       "<style scoped>\n",
       "    .dataframe tbody tr th:only-of-type {\n",
       "        vertical-align: middle;\n",
       "    }\n",
       "\n",
       "    .dataframe tbody tr th {\n",
       "        vertical-align: top;\n",
       "    }\n",
       "\n",
       "    .dataframe thead th {\n",
       "        text-align: right;\n",
       "    }\n",
       "</style>\n",
       "<table border=\"1\" class=\"dataframe\">\n",
       "  <thead>\n",
       "    <tr style=\"text-align: right;\">\n",
       "      <th></th>\n",
       "      <th>dob</th>\n",
       "      <th>gender</th>\n",
       "      <th>request_date</th>\n",
       "      <th>account_age_days</th>\n",
       "      <th>active_days_trend</th>\n",
       "      <th>auto_loan_payment_frequency</th>\n",
       "      <th>average_closing_balance_day_after_employer_income</th>\n",
       "      <th>average_closing_balance_day_after_government_income</th>\n",
       "      <th>average_closing_balance_day_after_income</th>\n",
       "      <th>average_closing_balance_day_of_employer_income</th>\n",
       "      <th>...</th>\n",
       "      <th>sum_wsib_income</th>\n",
       "      <th>student_loan_payments_frequency</th>\n",
       "      <th>telecom_payments_frequency</th>\n",
       "      <th>telecom_payments_average</th>\n",
       "      <th>other_loan_payments_frequency</th>\n",
       "      <th>other_loan_payments_average</th>\n",
       "      <th>utility_payments_frequency</th>\n",
       "      <th>utility_payments_average</th>\n",
       "      <th>average_monthly_insurance_income_complex</th>\n",
       "      <th>MostRecentTransactionDate</th>\n",
       "    </tr>\n",
       "    <tr>\n",
       "      <th>loanId</th>\n",
       "      <th></th>\n",
       "      <th></th>\n",
       "      <th></th>\n",
       "      <th></th>\n",
       "      <th></th>\n",
       "      <th></th>\n",
       "      <th></th>\n",
       "      <th></th>\n",
       "      <th></th>\n",
       "      <th></th>\n",
       "      <th></th>\n",
       "      <th></th>\n",
       "      <th></th>\n",
       "      <th></th>\n",
       "      <th></th>\n",
       "      <th></th>\n",
       "      <th></th>\n",
       "      <th></th>\n",
       "      <th></th>\n",
       "      <th></th>\n",
       "      <th></th>\n",
       "    </tr>\n",
       "  </thead>\n",
       "  <tbody>\n",
       "    <tr>\n",
       "      <th>3970620</th>\n",
       "      <td>1991-09-15</td>\n",
       "      <td>Female</td>\n",
       "      <td>2023-01-19</td>\n",
       "      <td>366.0</td>\n",
       "      <td>1.03</td>\n",
       "      <td>Monthly</td>\n",
       "      <td>364.90</td>\n",
       "      <td>85.89</td>\n",
       "      <td>297.83</td>\n",
       "      <td>329.04</td>\n",
       "      <td>...</td>\n",
       "      <td>0.0</td>\n",
       "      <td>Unknown</td>\n",
       "      <td>Unknown</td>\n",
       "      <td>143.38</td>\n",
       "      <td>BiWeekly</td>\n",
       "      <td>293.26</td>\n",
       "      <td>NONE_DETECTED</td>\n",
       "      <td>0.00</td>\n",
       "      <td>7.27</td>\n",
       "      <td>05/25/2023</td>\n",
       "    </tr>\n",
       "    <tr>\n",
       "      <th>3986502</th>\n",
       "      <td>1991-11-07</td>\n",
       "      <td>Female</td>\n",
       "      <td>2023-01-31</td>\n",
       "      <td>365.0</td>\n",
       "      <td>1.02</td>\n",
       "      <td>NONE_DETECTED</td>\n",
       "      <td>381.74</td>\n",
       "      <td>269.92</td>\n",
       "      <td>276.69</td>\n",
       "      <td>411.25</td>\n",
       "      <td>...</td>\n",
       "      <td>0.0</td>\n",
       "      <td>NONE_DETECTED</td>\n",
       "      <td>Unknown</td>\n",
       "      <td>130.27</td>\n",
       "      <td>NONE_DETECTED</td>\n",
       "      <td>0.00</td>\n",
       "      <td>NONE_DETECTED</td>\n",
       "      <td>0.00</td>\n",
       "      <td>0.00</td>\n",
       "      <td>06/19/2023</td>\n",
       "    </tr>\n",
       "    <tr>\n",
       "      <th>3813879</th>\n",
       "      <td>1989-08-16</td>\n",
       "      <td>Male</td>\n",
       "      <td>2023-01-02</td>\n",
       "      <td>366.0</td>\n",
       "      <td>1.06</td>\n",
       "      <td>Weekly</td>\n",
       "      <td>996.93</td>\n",
       "      <td>-55.76</td>\n",
       "      <td>835.17</td>\n",
       "      <td>1153.10</td>\n",
       "      <td>...</td>\n",
       "      <td>0.0</td>\n",
       "      <td>NONE_DETECTED</td>\n",
       "      <td>NONE_DETECTED</td>\n",
       "      <td>0.00</td>\n",
       "      <td>Weekly</td>\n",
       "      <td>83.37</td>\n",
       "      <td>NONE_DETECTED</td>\n",
       "      <td>0.00</td>\n",
       "      <td>0.00</td>\n",
       "      <td>08/29/2023</td>\n",
       "    </tr>\n",
       "    <tr>\n",
       "      <th>3814985</th>\n",
       "      <td>2004-02-04</td>\n",
       "      <td>Male</td>\n",
       "      <td>2023-01-03</td>\n",
       "      <td>365.0</td>\n",
       "      <td>0.74</td>\n",
       "      <td>NONE_DETECTED</td>\n",
       "      <td>1178.11</td>\n",
       "      <td>1.26</td>\n",
       "      <td>1114.36</td>\n",
       "      <td>1249.69</td>\n",
       "      <td>...</td>\n",
       "      <td>0.0</td>\n",
       "      <td>NONE_DETECTED</td>\n",
       "      <td>Monthly</td>\n",
       "      <td>40.40</td>\n",
       "      <td>NONE_DETECTED</td>\n",
       "      <td>0.00</td>\n",
       "      <td>Unknown</td>\n",
       "      <td>76.93</td>\n",
       "      <td>0.40</td>\n",
       "      <td>04/21/2023</td>\n",
       "    </tr>\n",
       "    <tr>\n",
       "      <th>3813995</th>\n",
       "      <td>1992-08-21</td>\n",
       "      <td>Male</td>\n",
       "      <td>2023-01-02</td>\n",
       "      <td>366.0</td>\n",
       "      <td>1.08</td>\n",
       "      <td>NONE_DETECTED</td>\n",
       "      <td>522.96</td>\n",
       "      <td>170.62</td>\n",
       "      <td>429.96</td>\n",
       "      <td>525.33</td>\n",
       "      <td>...</td>\n",
       "      <td>0.0</td>\n",
       "      <td>NONE_DETECTED</td>\n",
       "      <td>Unknown</td>\n",
       "      <td>163.80</td>\n",
       "      <td>BiWeekly</td>\n",
       "      <td>279.30</td>\n",
       "      <td>Unknown</td>\n",
       "      <td>157.44</td>\n",
       "      <td>1.08</td>\n",
       "      <td>08/07/2023</td>\n",
       "    </tr>\n",
       "  </tbody>\n",
       "</table>\n",
       "<p>5 rows × 742 columns</p>\n",
       "</div>"
      ],
      "text/plain": [
       "                dob  gender request_date  account_age_days  active_days_trend  \\\n",
       "loanId                                                                          \n",
       "3970620  1991-09-15  Female   2023-01-19             366.0               1.03   \n",
       "3986502  1991-11-07  Female   2023-01-31             365.0               1.02   \n",
       "3813879  1989-08-16    Male   2023-01-02             366.0               1.06   \n",
       "3814985  2004-02-04    Male   2023-01-03             365.0               0.74   \n",
       "3813995  1992-08-21    Male   2023-01-02             366.0               1.08   \n",
       "\n",
       "        auto_loan_payment_frequency  \\\n",
       "loanId                                \n",
       "3970620                     Monthly   \n",
       "3986502               NONE_DETECTED   \n",
       "3813879                      Weekly   \n",
       "3814985               NONE_DETECTED   \n",
       "3813995               NONE_DETECTED   \n",
       "\n",
       "         average_closing_balance_day_after_employer_income  \\\n",
       "loanId                                                       \n",
       "3970620                                             364.90   \n",
       "3986502                                             381.74   \n",
       "3813879                                             996.93   \n",
       "3814985                                            1178.11   \n",
       "3813995                                             522.96   \n",
       "\n",
       "        average_closing_balance_day_after_government_income  \\\n",
       "loanId                                                        \n",
       "3970620                                              85.89    \n",
       "3986502                                             269.92    \n",
       "3813879                                             -55.76    \n",
       "3814985                                               1.26    \n",
       "3813995                                             170.62    \n",
       "\n",
       "         average_closing_balance_day_after_income  \\\n",
       "loanId                                              \n",
       "3970620                                    297.83   \n",
       "3986502                                    276.69   \n",
       "3813879                                    835.17   \n",
       "3814985                                   1114.36   \n",
       "3813995                                    429.96   \n",
       "\n",
       "         average_closing_balance_day_of_employer_income  ... sum_wsib_income  \\\n",
       "loanId                                                   ...                   \n",
       "3970620                                          329.04  ...             0.0   \n",
       "3986502                                          411.25  ...             0.0   \n",
       "3813879                                         1153.10  ...             0.0   \n",
       "3814985                                         1249.69  ...             0.0   \n",
       "3813995                                          525.33  ...             0.0   \n",
       "\n",
       "         student_loan_payments_frequency  telecom_payments_frequency  \\\n",
       "loanId                                                                 \n",
       "3970620                          Unknown                     Unknown   \n",
       "3986502                    NONE_DETECTED                     Unknown   \n",
       "3813879                    NONE_DETECTED               NONE_DETECTED   \n",
       "3814985                    NONE_DETECTED                     Monthly   \n",
       "3813995                    NONE_DETECTED                     Unknown   \n",
       "\n",
       "         telecom_payments_average  other_loan_payments_frequency  \\\n",
       "loanId                                                             \n",
       "3970620                    143.38                       BiWeekly   \n",
       "3986502                    130.27                  NONE_DETECTED   \n",
       "3813879                      0.00                         Weekly   \n",
       "3814985                     40.40                  NONE_DETECTED   \n",
       "3813995                    163.80                       BiWeekly   \n",
       "\n",
       "         other_loan_payments_average  utility_payments_frequency  \\\n",
       "loanId                                                             \n",
       "3970620                       293.26               NONE_DETECTED   \n",
       "3986502                         0.00               NONE_DETECTED   \n",
       "3813879                        83.37               NONE_DETECTED   \n",
       "3814985                         0.00                     Unknown   \n",
       "3813995                       279.30                     Unknown   \n",
       "\n",
       "         utility_payments_average  average_monthly_insurance_income_complex  \\\n",
       "loanId                                                                        \n",
       "3970620                      0.00                                      7.27   \n",
       "3986502                      0.00                                      0.00   \n",
       "3813879                      0.00                                      0.00   \n",
       "3814985                     76.93                                      0.40   \n",
       "3813995                    157.44                                      1.08   \n",
       "\n",
       "         MostRecentTransactionDate  \n",
       "loanId                              \n",
       "3970620                 05/25/2023  \n",
       "3986502                 06/19/2023  \n",
       "3813879                 08/29/2023  \n",
       "3814985                 04/21/2023  \n",
       "3813995                 08/07/2023  \n",
       "\n",
       "[5 rows x 742 columns]"
      ]
     },
     "execution_count": 59,
     "metadata": {},
     "output_type": "execute_result"
    }
   ],
   "source": [
    "jan23_df.head()"
   ]
  },
  {
   "cell_type": "code",
   "execution_count": 48,
   "metadata": {},
   "outputs": [],
   "source": [
    "loans23_df = pd.read_csv('../data/loans_branch-if-jan2023.csv')"
   ]
  },
  {
   "cell_type": "code",
   "execution_count": 49,
   "metadata": {},
   "outputs": [],
   "source": [
    "loans23_df['profit'] = loans23_df['Paid Amount'] - loans23_df['Principal Amount']"
   ]
  },
  {
   "cell_type": "code",
   "execution_count": 50,
   "metadata": {},
   "outputs": [],
   "source": [
    "loans23_df.set_index('Loan Id', inplace=True)"
   ]
  },
  {
   "cell_type": "code",
   "execution_count": 55,
   "metadata": {},
   "outputs": [
    {
     "data": {
      "text/plain": [
       "31510"
      ]
     },
     "execution_count": 55,
     "metadata": {},
     "output_type": "execute_result"
    }
   ],
   "source": [
    "len(loans23_df)"
   ]
  },
  {
   "cell_type": "code",
   "execution_count": 56,
   "metadata": {},
   "outputs": [
    {
     "data": {
      "text/html": [
       "<div>\n",
       "<style scoped>\n",
       "    .dataframe tbody tr th:only-of-type {\n",
       "        vertical-align: middle;\n",
       "    }\n",
       "\n",
       "    .dataframe tbody tr th {\n",
       "        vertical-align: top;\n",
       "    }\n",
       "\n",
       "    .dataframe thead th {\n",
       "        text-align: right;\n",
       "    }\n",
       "</style>\n",
       "<table border=\"1\" class=\"dataframe\">\n",
       "  <thead>\n",
       "    <tr style=\"text-align: right;\">\n",
       "      <th></th>\n",
       "      <th>Loan #</th>\n",
       "      <th>Loan Duration</th>\n",
       "      <th>Maturity Date</th>\n",
       "      <th>First Name</th>\n",
       "      <th>Last Name</th>\n",
       "      <th>Full Name</th>\n",
       "      <th>Released Date</th>\n",
       "      <th>Principal Amount</th>\n",
       "      <th>Disbursed By</th>\n",
       "      <th>Paid Amount</th>\n",
       "      <th>...</th>\n",
       "      <th>Total Interest Paid</th>\n",
       "      <th>Total Penalty Balance</th>\n",
       "      <th>Total Penalty Paid</th>\n",
       "      <th>Pending Due</th>\n",
       "      <th>Pending Fees Due</th>\n",
       "      <th>Pending Interest Due</th>\n",
       "      <th>Pending Penalty Due</th>\n",
       "      <th>Pending Principal Due</th>\n",
       "      <th>Balance Amount</th>\n",
       "      <th>profit</th>\n",
       "    </tr>\n",
       "    <tr>\n",
       "      <th>Loan Id</th>\n",
       "      <th></th>\n",
       "      <th></th>\n",
       "      <th></th>\n",
       "      <th></th>\n",
       "      <th></th>\n",
       "      <th></th>\n",
       "      <th></th>\n",
       "      <th></th>\n",
       "      <th></th>\n",
       "      <th></th>\n",
       "      <th></th>\n",
       "      <th></th>\n",
       "      <th></th>\n",
       "      <th></th>\n",
       "      <th></th>\n",
       "      <th></th>\n",
       "      <th></th>\n",
       "      <th></th>\n",
       "      <th></th>\n",
       "      <th></th>\n",
       "      <th></th>\n",
       "    </tr>\n",
       "  </thead>\n",
       "  <tbody>\n",
       "    <tr>\n",
       "      <th>2545807</th>\n",
       "      <td>IF10000083</td>\n",
       "      <td>3 Months</td>\n",
       "      <td>02/24/2022</td>\n",
       "      <td>Brian</td>\n",
       "      <td>Robert Wason</td>\n",
       "      <td>Brian Robert Wason</td>\n",
       "      <td>12/02/2021</td>\n",
       "      <td>300.0</td>\n",
       "      <td>Cash</td>\n",
       "      <td>587.58</td>\n",
       "      <td>...</td>\n",
       "      <td>17.58</td>\n",
       "      <td>0.0</td>\n",
       "      <td>0.0</td>\n",
       "      <td>0.00</td>\n",
       "      <td>NaN</td>\n",
       "      <td>NaN</td>\n",
       "      <td>NaN</td>\n",
       "      <td>NaN</td>\n",
       "      <td>0.00</td>\n",
       "      <td>287.58</td>\n",
       "    </tr>\n",
       "    <tr>\n",
       "      <th>2545954</th>\n",
       "      <td>IF10000085</td>\n",
       "      <td>3 Months</td>\n",
       "      <td>02/18/2022</td>\n",
       "      <td>Ashley</td>\n",
       "      <td>Sarah Pulker</td>\n",
       "      <td>Ashley Sarah Pulker</td>\n",
       "      <td>12/02/2021</td>\n",
       "      <td>300.0</td>\n",
       "      <td>Online Transfer</td>\n",
       "      <td>391.72</td>\n",
       "      <td>...</td>\n",
       "      <td>11.72</td>\n",
       "      <td>110.0</td>\n",
       "      <td>0.0</td>\n",
       "      <td>305.86</td>\n",
       "      <td>90.0</td>\n",
       "      <td>5.86</td>\n",
       "      <td>110.0</td>\n",
       "      <td>100.0</td>\n",
       "      <td>305.86</td>\n",
       "      <td>91.72</td>\n",
       "    </tr>\n",
       "    <tr>\n",
       "      <th>2545977</th>\n",
       "      <td>IF10000086</td>\n",
       "      <td>2 Months</td>\n",
       "      <td>01/31/2022</td>\n",
       "      <td>Anpalagan</td>\n",
       "      <td>Dilajini</td>\n",
       "      <td>Anpalagan Dilajini</td>\n",
       "      <td>12/02/2021</td>\n",
       "      <td>200.0</td>\n",
       "      <td>Cash</td>\n",
       "      <td>379.74</td>\n",
       "      <td>...</td>\n",
       "      <td>7.74</td>\n",
       "      <td>0.0</td>\n",
       "      <td>0.0</td>\n",
       "      <td>0.00</td>\n",
       "      <td>90.0</td>\n",
       "      <td>5.86</td>\n",
       "      <td>110.0</td>\n",
       "      <td>100.0</td>\n",
       "      <td>0.00</td>\n",
       "      <td>179.74</td>\n",
       "    </tr>\n",
       "    <tr>\n",
       "      <th>2545990</th>\n",
       "      <td>IF10000087</td>\n",
       "      <td>3 Months</td>\n",
       "      <td>02/24/2022</td>\n",
       "      <td>Kenneth</td>\n",
       "      <td>Payne</td>\n",
       "      <td>Kenneth Payne</td>\n",
       "      <td>12/02/2021</td>\n",
       "      <td>350.0</td>\n",
       "      <td>Cash</td>\n",
       "      <td>880.51</td>\n",
       "      <td>...</td>\n",
       "      <td>20.51</td>\n",
       "      <td>0.0</td>\n",
       "      <td>210.0</td>\n",
       "      <td>0.00</td>\n",
       "      <td>90.0</td>\n",
       "      <td>5.86</td>\n",
       "      <td>110.0</td>\n",
       "      <td>100.0</td>\n",
       "      <td>0.00</td>\n",
       "      <td>530.51</td>\n",
       "    </tr>\n",
       "    <tr>\n",
       "      <th>2546124</th>\n",
       "      <td>IF10000091</td>\n",
       "      <td>3 Months</td>\n",
       "      <td>02/24/2022</td>\n",
       "      <td>Dawn Eleanor</td>\n",
       "      <td>Bailey</td>\n",
       "      <td>Dawn Eleanor Bailey</td>\n",
       "      <td>12/02/2021</td>\n",
       "      <td>300.0</td>\n",
       "      <td>Cash</td>\n",
       "      <td>587.58</td>\n",
       "      <td>...</td>\n",
       "      <td>17.58</td>\n",
       "      <td>0.0</td>\n",
       "      <td>0.0</td>\n",
       "      <td>0.00</td>\n",
       "      <td>90.0</td>\n",
       "      <td>5.86</td>\n",
       "      <td>110.0</td>\n",
       "      <td>100.0</td>\n",
       "      <td>0.00</td>\n",
       "      <td>287.58</td>\n",
       "    </tr>\n",
       "  </tbody>\n",
       "</table>\n",
       "<p>5 rows × 26 columns</p>\n",
       "</div>"
      ],
      "text/plain": [
       "             Loan # Loan Duration Maturity Date    First Name     Last Name  \\\n",
       "Loan Id                                                                       \n",
       "2545807  IF10000083      3 Months    02/24/2022         Brian  Robert Wason   \n",
       "2545954  IF10000085      3 Months    02/18/2022        Ashley  Sarah Pulker   \n",
       "2545977  IF10000086      2 Months    01/31/2022     Anpalagan      Dilajini   \n",
       "2545990  IF10000087      3 Months    02/24/2022       Kenneth         Payne   \n",
       "2546124  IF10000091      3 Months    02/24/2022  Dawn Eleanor        Bailey   \n",
       "\n",
       "                   Full Name Released Date  Principal Amount     Disbursed By  \\\n",
       "Loan Id                                                                         \n",
       "2545807   Brian Robert Wason    12/02/2021             300.0             Cash   \n",
       "2545954  Ashley Sarah Pulker    12/02/2021             300.0  Online Transfer   \n",
       "2545977   Anpalagan Dilajini    12/02/2021             200.0             Cash   \n",
       "2545990        Kenneth Payne    12/02/2021             350.0             Cash   \n",
       "2546124  Dawn Eleanor Bailey    12/02/2021             300.0             Cash   \n",
       "\n",
       "         Paid Amount  ...  Total Interest Paid  Total Penalty Balance  \\\n",
       "Loan Id               ...                                               \n",
       "2545807       587.58  ...                17.58                    0.0   \n",
       "2545954       391.72  ...                11.72                  110.0   \n",
       "2545977       379.74  ...                 7.74                    0.0   \n",
       "2545990       880.51  ...                20.51                    0.0   \n",
       "2546124       587.58  ...                17.58                    0.0   \n",
       "\n",
       "         Total Penalty Paid  Pending Due  Pending Fees Due  \\\n",
       "Loan Id                                                      \n",
       "2545807                 0.0         0.00               NaN   \n",
       "2545954                 0.0       305.86              90.0   \n",
       "2545977                 0.0         0.00              90.0   \n",
       "2545990               210.0         0.00              90.0   \n",
       "2546124                 0.0         0.00              90.0   \n",
       "\n",
       "         Pending Interest Due  Pending Penalty Due  Pending Principal Due  \\\n",
       "Loan Id                                                                     \n",
       "2545807                   NaN                  NaN                    NaN   \n",
       "2545954                  5.86                110.0                  100.0   \n",
       "2545977                  5.86                110.0                  100.0   \n",
       "2545990                  5.86                110.0                  100.0   \n",
       "2546124                  5.86                110.0                  100.0   \n",
       "\n",
       "         Balance Amount  profit  \n",
       "Loan Id                          \n",
       "2545807            0.00  287.58  \n",
       "2545954          305.86   91.72  \n",
       "2545977            0.00  179.74  \n",
       "2545990            0.00  530.51  \n",
       "2546124            0.00  287.58  \n",
       "\n",
       "[5 rows x 26 columns]"
      ]
     },
     "execution_count": 56,
     "metadata": {},
     "output_type": "execute_result"
    }
   ],
   "source": [
    "loans23_df.sort_index().head()"
   ]
  },
  {
   "cell_type": "code",
   "execution_count": 60,
   "metadata": {},
   "outputs": [],
   "source": [
    "jan23_ex_df = pd.merge(jan23_df, loans23_df, left_index=True, right_index=True, validate='one_to_one')"
   ]
  },
  {
   "cell_type": "code",
   "execution_count": 61,
   "metadata": {},
   "outputs": [
    {
     "data": {
      "text/plain": [
       "1040"
      ]
     },
     "execution_count": 61,
     "metadata": {},
     "output_type": "execute_result"
    }
   ],
   "source": [
    "len(jan23_ex_df)"
   ]
  },
  {
   "cell_type": "code",
   "execution_count": 62,
   "metadata": {},
   "outputs": [],
   "source": [
    "jan23_ex_df['pred_proba'] = default_model.predict_proba(jan23_ex_df)['pred_proba']"
   ]
  },
  {
   "cell_type": "code",
   "execution_count": 63,
   "metadata": {},
   "outputs": [],
   "source": [
    "predicted_defaults_df = jan23_ex_df.loc[jan23_ex_df['pred_proba'] >= p90_2022]"
   ]
  },
  {
   "cell_type": "code",
   "execution_count": 64,
   "metadata": {},
   "outputs": [
    {
     "data": {
      "text/plain": [
       "(74, 1040, 0.07115384615384615)"
      ]
     },
     "execution_count": 64,
     "metadata": {},
     "output_type": "execute_result"
    }
   ],
   "source": [
    "len(predicted_defaults_df), len(jan23_ex_df), len(predicted_defaults_df) / len(jan23_ex_df) "
   ]
  },
  {
   "cell_type": "code",
   "execution_count": 65,
   "metadata": {},
   "outputs": [
    {
     "data": {
      "text/plain": [
       "-16.31202702702702"
      ]
     },
     "execution_count": 65,
     "metadata": {},
     "output_type": "execute_result"
    }
   ],
   "source": [
    "profit_jan23 = predicted_defaults_df['profit'].sum() / len(predicted_defaults_df)\n",
    "profit_jan23"
   ]
  },
  {
   "cell_type": "markdown",
   "metadata": {},
   "source": [
    "# Predictions for all 2022 + jan'23"
   ]
  },
  {
   "cell_type": "code",
   "execution_count": 66,
   "metadata": {},
   "outputs": [],
   "source": [
    "request_month = pd.concat([extra['train_request_month'], extra['test_request_month']])\n",
    "profits = pd.concat([extra['train_profit'], extra['test_profit']])"
   ]
  },
  {
   "cell_type": "code",
   "execution_count": 67,
   "metadata": {},
   "outputs": [],
   "source": [
    "res_list = []\n",
    "\n",
    "for month in range(1, 13):\n",
    "    X_month = X2022.loc[request_month == month]\n",
    "    profits_month = profits.loc[request_month == month]\n",
    "    preds_df = default_model.predict_proba(X_month, filter=False, engineer=False)\n",
    "    preds_df['profit'] = profits_month\n",
    "    predicted_defaults = preds_df.loc[preds_df['pred_proba'] >= p90_2022]\n",
    "    res_list.append({'month': '2022-' + (str(month) if month >= 10 else '0' + str(month)), \n",
    "                    'anti-profit per loan': round(predicted_defaults['profit'].sum() / len(predicted_defaults))})\n",
    "\n",
    "profits_month = jan23_ex_df['profit']\n",
    "preds_df = default_model.predict_proba(jan23_ex_df)\n",
    "preds_df['profit'] = profits_month\n",
    "predicted_defaults = preds_df.loc[preds_df['pred_proba'] >= p90_2022]\n",
    "res_list.append({'month': '2023-01', \n",
    "                'anti-profit per loan': round(predicted_defaults['profit'].sum() / len(predicted_defaults))})"
   ]
  },
  {
   "cell_type": "code",
   "execution_count": 68,
   "metadata": {},
   "outputs": [
    {
     "data": {
      "text/html": [
       "<div>\n",
       "<style scoped>\n",
       "    .dataframe tbody tr th:only-of-type {\n",
       "        vertical-align: middle;\n",
       "    }\n",
       "\n",
       "    .dataframe tbody tr th {\n",
       "        vertical-align: top;\n",
       "    }\n",
       "\n",
       "    .dataframe thead th {\n",
       "        text-align: right;\n",
       "    }\n",
       "</style>\n",
       "<table border=\"1\" class=\"dataframe\">\n",
       "  <thead>\n",
       "    <tr style=\"text-align: right;\">\n",
       "      <th></th>\n",
       "      <th>month</th>\n",
       "      <th>anti-profit per loan</th>\n",
       "    </tr>\n",
       "  </thead>\n",
       "  <tbody>\n",
       "    <tr>\n",
       "      <th>0</th>\n",
       "      <td>2022-01</td>\n",
       "      <td>-89</td>\n",
       "    </tr>\n",
       "    <tr>\n",
       "      <th>1</th>\n",
       "      <td>2022-02</td>\n",
       "      <td>-33</td>\n",
       "    </tr>\n",
       "    <tr>\n",
       "      <th>2</th>\n",
       "      <td>2022-03</td>\n",
       "      <td>42</td>\n",
       "    </tr>\n",
       "    <tr>\n",
       "      <th>3</th>\n",
       "      <td>2022-04</td>\n",
       "      <td>36</td>\n",
       "    </tr>\n",
       "    <tr>\n",
       "      <th>4</th>\n",
       "      <td>2022-05</td>\n",
       "      <td>53</td>\n",
       "    </tr>\n",
       "    <tr>\n",
       "      <th>5</th>\n",
       "      <td>2022-06</td>\n",
       "      <td>42</td>\n",
       "    </tr>\n",
       "    <tr>\n",
       "      <th>6</th>\n",
       "      <td>2022-07</td>\n",
       "      <td>13</td>\n",
       "    </tr>\n",
       "    <tr>\n",
       "      <th>7</th>\n",
       "      <td>2022-08</td>\n",
       "      <td>12</td>\n",
       "    </tr>\n",
       "    <tr>\n",
       "      <th>8</th>\n",
       "      <td>2022-09</td>\n",
       "      <td>30</td>\n",
       "    </tr>\n",
       "    <tr>\n",
       "      <th>9</th>\n",
       "      <td>2022-10</td>\n",
       "      <td>10</td>\n",
       "    </tr>\n",
       "    <tr>\n",
       "      <th>10</th>\n",
       "      <td>2022-11</td>\n",
       "      <td>13</td>\n",
       "    </tr>\n",
       "    <tr>\n",
       "      <th>11</th>\n",
       "      <td>2022-12</td>\n",
       "      <td>25</td>\n",
       "    </tr>\n",
       "    <tr>\n",
       "      <th>12</th>\n",
       "      <td>2023-01</td>\n",
       "      <td>-16</td>\n",
       "    </tr>\n",
       "  </tbody>\n",
       "</table>\n",
       "</div>"
      ],
      "text/plain": [
       "      month  anti-profit per loan\n",
       "0   2022-01                   -89\n",
       "1   2022-02                   -33\n",
       "2   2022-03                    42\n",
       "3   2022-04                    36\n",
       "4   2022-05                    53\n",
       "5   2022-06                    42\n",
       "6   2022-07                    13\n",
       "7   2022-08                    12\n",
       "8   2022-09                    30\n",
       "9   2022-10                    10\n",
       "10  2022-11                    13\n",
       "11  2022-12                    25\n",
       "12  2023-01                   -16"
      ]
     },
     "execution_count": 68,
     "metadata": {},
     "output_type": "execute_result"
    }
   ],
   "source": [
    "pd.DataFrame.from_records(res_list)"
   ]
  },
  {
   "cell_type": "code",
   "execution_count": 236,
   "metadata": {},
   "outputs": [
    {
     "data": {
      "text/plain": [
       "33.38461538461539"
      ]
     },
     "execution_count": 236,
     "metadata": {},
     "output_type": "execute_result"
    }
   ],
   "source": [
    "pd.DataFrame.from_records(res_list)['anti-profit per loan'].mean()"
   ]
  }
 ],
 "metadata": {
  "interpreter": {
   "hash": "38b8ab3c7caf7263c2b1864059dd22fc7e99c3d689cca848f2cf647715e92ae3"
  },
  "kernelspec": {
   "display_name": "Python 3.10.5 ('.env-flaml': venv)",
   "language": "python",
   "name": "python3"
  },
  "language_info": {
   "codemirror_mode": {
    "name": "ipython",
    "version": 3
   },
   "file_extension": ".py",
   "mimetype": "text/x-python",
   "name": "python",
   "nbconvert_exporter": "python",
   "pygments_lexer": "ipython3",
   "version": "3.10.5"
  },
  "orig_nbformat": 4
 },
 "nbformat": 4,
 "nbformat_minor": 2
}
