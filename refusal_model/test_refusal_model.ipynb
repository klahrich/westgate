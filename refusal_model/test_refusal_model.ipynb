{
 "cells": [
  {
   "cell_type": "code",
   "execution_count": 101,
   "metadata": {},
   "outputs": [],
   "source": [
    "import numpy as np\n",
    "import pandas as pd\n",
    "from westgate.flaml_model_core import LendingModel\n",
    "from westgate.flaml_model_utils import load_model\n",
    "from sklearn.metrics import classification_report\n",
    "import json"
   ]
  },
  {
   "cell_type": "code",
   "execution_count": 140,
   "metadata": {},
   "outputs": [],
   "source": [
    "base_folder = 'C:/Users/karim/Documents/westgate'\n",
    "data_folder = base_folder + '/data/training'"
   ]
  },
  {
   "cell_type": "code",
   "execution_count": 181,
   "metadata": {},
   "outputs": [
    {
     "name": "stderr",
     "output_type": "stream",
     "text": [
      "C:\\Users\\karim\\AppData\\Local\\Temp\\ipykernel_11192\\2821053411.py:1: DtypeWarning: Columns (741) have mixed types. Specify dtype option on import or set low_memory=False.\n",
      "  accepted_2022_df = pd.read_csv(data_folder + '/loan_outcomes_2022.csv', encoding='latin')\n"
     ]
    }
   ],
   "source": [
    "accepted_2022_df = pd.read_csv(data_folder + '/loan_outcomes_2022.csv', encoding='latin')\n",
    "refused_2022_df = pd.read_csv(data_folder + '/refusal2022.csv', encoding='latin')"
   ]
  },
  {
   "cell_type": "code",
   "execution_count": 194,
   "metadata": {},
   "outputs": [],
   "source": [
    "refused_2022_df['Id'] = refused_2022_df['loginId']"
   ]
  },
  {
   "cell_type": "code",
   "execution_count": 141,
   "metadata": {},
   "outputs": [
    {
     "name": "stderr",
     "output_type": "stream",
     "text": [
      "C:\\Users\\karim\\AppData\\Local\\Temp\\ipykernel_11192\\1357624890.py:1: DtypeWarning: Columns (394) have mixed types. Specify dtype option on import or set low_memory=False.\n",
      "  accepted_2023_df = pd.read_csv(data_folder + '/janToNov2023LoansAccepted.csv')\n"
     ]
    }
   ],
   "source": [
    "accepted_2023_df = pd.read_csv(data_folder + '/janToNov2023LoansAccepted.csv')\n",
    "refused_2023_df = pd.read_csv(data_folder + '/refusal2023_IF.csv')"
   ]
  },
  {
   "cell_type": "code",
   "execution_count": 195,
   "metadata": {},
   "outputs": [],
   "source": [
    "accepted_df = accepted_2022_df\n",
    "refused_df = refused_2022_df"
   ]
  },
  {
   "cell_type": "code",
   "execution_count": 139,
   "metadata": {},
   "outputs": [],
   "source": [
    "year=2023\n",
    "month=12\n",
    "percentile = 20"
   ]
  },
  {
   "cell_type": "code",
   "execution_count": 183,
   "metadata": {},
   "outputs": [],
   "source": [
    "accepted_df['gender'] = accepted_df['gender'].str.lower()"
   ]
  },
  {
   "cell_type": "code",
   "execution_count": 196,
   "metadata": {},
   "outputs": [],
   "source": [
    "refused_df.rename(columns={'requestDate': 'request_date'}, inplace=True)"
   ]
  },
  {
   "cell_type": "code",
   "execution_count": 197,
   "metadata": {},
   "outputs": [],
   "source": [
    "accepted_valid_requestdate = accepted_df[~accepted_df['request_date'].isna()]\n",
    "refused_valid_requestdate = refused_df[~refused_df['request_date'].isna()]"
   ]
  },
  {
   "cell_type": "code",
   "execution_count": 145,
   "metadata": {},
   "outputs": [],
   "source": [
    "year_col = accepted_valid_requestdate['request_date'].str[0:4].astype(int)\n",
    "month_col = accepted_valid_requestdate['request_date'].str[5:7].astype(int)"
   ]
  },
  {
   "cell_type": "code",
   "execution_count": 198,
   "metadata": {},
   "outputs": [],
   "source": [
    "#accepted_df = accepted_valid_requestdate[(year_col==year) & (month_col==month)]\n",
    "accepted_final_df = accepted_valid_requestdate"
   ]
  },
  {
   "cell_type": "code",
   "execution_count": 147,
   "metadata": {},
   "outputs": [],
   "source": [
    "year_col = refused_valid_requestdate['request_date'].str[0:4].astype(int)\n",
    "month_col = refused_valid_requestdate['request_date'].str[5:7].astype(int)"
   ]
  },
  {
   "cell_type": "code",
   "execution_count": 214,
   "metadata": {},
   "outputs": [],
   "source": [
    "#refused_df = refused_valid_requestdate[(year_col==year) & (month_col==month)]\n",
    "refused_final_df = refused_valid_requestdate"
   ]
  },
  {
   "cell_type": "code",
   "execution_count": 215,
   "metadata": {},
   "outputs": [],
   "source": [
    "accepted_final_df['refused'] = 0\n",
    "refused_final_df['refused'] = 1"
   ]
  },
  {
   "cell_type": "code",
   "execution_count": 216,
   "metadata": {},
   "outputs": [
    {
     "name": "stdout",
     "output_type": "stream",
     "text": [
      "# loans before auto-refusal: 37398\n",
      "# loans after auto-refusal: 28579\n"
     ]
    }
   ],
   "source": [
    "refused_final_df['recurring_deposits_90_days'] = (\n",
    "    refused_final_df['recurring_deposits_current_month'] + \n",
    "    refused_final_df['recurring_deposits_previous_month'] +\n",
    "    refused_final_df['recurring_deposits_2_months_ago']\n",
    ")\n",
    "\n",
    "refused_final_df['sum_micro_loans_60_days'] = (\n",
    "    refused_final_df['sum_micro_loan_payments_current_month'] + \n",
    "    refused_final_df['sum_micro_loan_payments_previous_month'] \n",
    ")\n",
    "\n",
    "refused_final_df['recurring_deposits_90_days'] = (\n",
    "    refused_final_df['recurring_deposits_current_month'] + \n",
    "    refused_final_df['recurring_deposits_previous_month'] +\n",
    "    refused_final_df['recurring_deposits_2_months_ago']\n",
    ")\n",
    "\n",
    "refused_final_df['sum_micro_loans_60_days'] = (\n",
    "    refused_final_df['sum_micro_loan_payments_current_month'] + \n",
    "    refused_final_df['sum_micro_loan_payments_previous_month'] \n",
    ")\n",
    "\n",
    "# %%\n",
    "print('# loans before auto-refusal: ' + str(len(refused_final_df)))\n",
    "\n",
    "refused_final_df = refused_final_df[refused_final_df['account_age_days'] >= 85]\n",
    "\n",
    "refused_final_df = refused_final_df[refused_final_df['count_nsf_90_days'] <= 8]\n",
    "\n",
    "refused_final_df = refused_final_df[refused_final_df['count_nsf_30_days'] <= 6]\n",
    "\n",
    "refused_final_df = refused_final_df[refused_final_df['count_stop_payment_90_days'] <= 4]\n",
    "\n",
    "print('# loans after auto-refusal: ' + str(len(refused_final_df)))"
   ]
  },
  {
   "cell_type": "code",
   "execution_count": 217,
   "metadata": {},
   "outputs": [],
   "source": [
    "model_default = load_model('default', basefolder=base_folder + '/model_binaries/')"
   ]
  },
  {
   "cell_type": "code",
   "execution_count": 218,
   "metadata": {},
   "outputs": [
    {
     "name": "stdout",
     "output_type": "stream",
     "text": [
      "126 rows removed by threshold filtering\n",
      "458 Rows with 'error' column not NA have been discarded.\n",
      "5 Rows with 'Id' column NA have been discarded.\n",
      "2 Rows with 'account_age_days' column not positive have been discarded.\n"
     ]
    }
   ],
   "source": [
    "accepted_filtered_df = model_default.filter_df(accepted_final_df)"
   ]
  },
  {
   "cell_type": "code",
   "execution_count": 219,
   "metadata": {},
   "outputs": [],
   "source": [
    "df = pd.concat([accepted_filtered_df, refused_final_df]).reset_index()"
   ]
  },
  {
   "cell_type": "code",
   "execution_count": 220,
   "metadata": {},
   "outputs": [
    {
     "data": {
      "text/plain": [
       "38086"
      ]
     },
     "execution_count": 220,
     "metadata": {},
     "output_type": "execute_result"
    }
   ],
   "source": [
    "len(df)"
   ]
  },
  {
   "cell_type": "code",
   "execution_count": 221,
   "metadata": {},
   "outputs": [],
   "source": [
    "model_refusal:LendingModel = load_model('refusal', basefolder=base_folder + '/model_binaries/')"
   ]
  },
  {
   "cell_type": "code",
   "execution_count": 222,
   "metadata": {},
   "outputs": [
    {
     "name": "stdout",
     "output_type": "stream",
     "text": [
      "0 rows removed by threshold filtering\n",
      "Error calculating age with dob ########## and request_date 2022-06-15 00:00:00\n",
      "Unknown string format: ##########\n",
      "Error calculating age with dob ########## and request_date 2022-09-14 00:00:00\n",
      "Unknown string format: ##########\n",
      "Error calculating age with dob ########## and request_date 2022-10-03 00:00:00\n",
      "Unknown string format: ##########\n",
      "Error calculating age with dob ########## and request_date 2022-10-06 00:00:00\n",
      "Unknown string format: ##########\n"
     ]
    }
   ],
   "source": [
    "pred_refusal = model_refusal.predict_proba(df, filter=True, engineer=True)"
   ]
  },
  {
   "cell_type": "code",
   "execution_count": 223,
   "metadata": {},
   "outputs": [
    {
     "data": {
      "text/plain": [
       "38086"
      ]
     },
     "execution_count": 223,
     "metadata": {},
     "output_type": "execute_result"
    }
   ],
   "source": [
    "len(pred_refusal)"
   ]
  },
  {
   "cell_type": "code",
   "execution_count": 224,
   "metadata": {},
   "outputs": [],
   "source": [
    "df_pred = df.loc[pred_refusal.index]"
   ]
  },
  {
   "cell_type": "code",
   "execution_count": 225,
   "metadata": {},
   "outputs": [
    {
     "data": {
      "text/plain": [
       "38086"
      ]
     },
     "execution_count": 225,
     "metadata": {},
     "output_type": "execute_result"
    }
   ],
   "source": [
    "len(df_pred)"
   ]
  },
  {
   "cell_type": "code",
   "execution_count": 226,
   "metadata": {},
   "outputs": [],
   "source": [
    "y_test = df_pred['refused']"
   ]
  },
  {
   "cell_type": "code",
   "execution_count": 227,
   "metadata": {},
   "outputs": [],
   "source": [
    "y_pred = np.where(pred_refusal >= model_refusal.percentiles[percentile], 1, 0)\n",
    "\n",
    "df_pred['y_test'] = y_test\n",
    "df_pred['y_pred'] = y_pred"
   ]
  },
  {
   "cell_type": "code",
   "execution_count": 228,
   "metadata": {},
   "outputs": [],
   "source": [
    "result = {\n",
    "    'nb loans': len(df_pred),\n",
    "    'nb_predicted_refusals': int(y_pred.sum()),\n",
    "    'nb_actual_refusals': int(y_test.sum()),\n",
    "    'pct_predicted_refusals': float(y_pred.sum() / y_pred.size),\n",
    "    'classification_report': classification_report(y_test, y_pred, output_dict=True)\n",
    "}\n"
   ]
  },
  {
   "cell_type": "code",
   "execution_count": 229,
   "metadata": {},
   "outputs": [
    {
     "name": "stdout",
     "output_type": "stream",
     "text": [
      "{\n",
      "    \"nb loans\": 38086,\n",
      "    \"nb_predicted_refusals\": 24464,\n",
      "    \"nb_actual_refusals\": 28579,\n",
      "    \"pct_predicted_refusals\": 0.6423357664233577,\n",
      "    \"classification_report\": {\n",
      "        \"0\": {\n",
      "            \"precision\": 0.47364557333724855,\n",
      "            \"recall\": 0.6786578310718419,\n",
      "            \"f1-score\": 0.5579143067145143,\n",
      "            \"support\": 9507.0\n",
      "        },\n",
      "        \"1\": {\n",
      "            \"precision\": 0.8751226291693918,\n",
      "            \"recall\": 0.7491164841317051,\n",
      "            \"f1-score\": 0.8072318684840601,\n",
      "            \"support\": 28579.0\n",
      "        },\n",
      "        \"accuracy\": 0.7315286456965814,\n",
      "        \"macro avg\": {\n",
      "            \"precision\": 0.6743841012533202,\n",
      "            \"recall\": 0.7138871576017735,\n",
      "            \"f1-score\": 0.6825730875992873,\n",
      "            \"support\": 38086.0\n",
      "        },\n",
      "        \"weighted avg\": {\n",
      "            \"precision\": 0.7749062144816801,\n",
      "            \"recall\": 0.7315286456965814,\n",
      "            \"f1-score\": 0.7449973975566047,\n",
      "            \"support\": 38086.0\n",
      "        }\n",
      "    }\n",
      "}\n"
     ]
    }
   ],
   "source": [
    "print(json.dumps(result, indent=4))"
   ]
  },
  {
   "cell_type": "code",
   "execution_count": null,
   "metadata": {},
   "outputs": [],
   "source": []
  }
 ],
 "metadata": {
  "kernelspec": {
   "display_name": ".venv-westgate",
   "language": "python",
   "name": "python3"
  },
  "language_info": {
   "codemirror_mode": {
    "name": "ipython",
    "version": 3
   },
   "file_extension": ".py",
   "mimetype": "text/x-python",
   "name": "python",
   "nbconvert_exporter": "python",
   "pygments_lexer": "ipython3",
   "version": "3.12.3"
  }
 },
 "nbformat": 4,
 "nbformat_minor": 2
}
