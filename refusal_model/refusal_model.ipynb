{
 "cells": [
  {
   "cell_type": "code",
   "execution_count": 1,
   "metadata": {},
   "outputs": [],
   "source": [
    "%load_ext autoreload\n",
    "%autoreload 2"
   ]
  },
  {
   "cell_type": "code",
   "execution_count": 79,
   "metadata": {},
   "outputs": [],
   "source": [
    "from westgate.flaml_model import *\n",
    "from westgate.feature_eng import FeatureEng\n",
    "import pandas as pd\n",
    "from westgate.combochart import combo_chart\n",
    "import logging"
   ]
  },
  {
   "cell_type": "code",
   "execution_count": 88,
   "metadata": {},
   "outputs": [],
   "source": [
    "logger = logging.getLogger('westgate.flaml_model')\n",
    "fhandler = logging.FileHandler(filename='metrics.log', mode='w')\n",
    "formatter = logging.Formatter('%(message)s')\n",
    "fhandler.setFormatter(formatter)\n",
    "logger.addHandler(fhandler)\n",
    "logger.setLevel(logging.INFO)"
   ]
  },
  {
   "cell_type": "code",
   "execution_count": 3,
   "metadata": {},
   "outputs": [],
   "source": [
    "data_folder = 'C:/Users/karim/Documents/westgate/data/training/'"
   ]
  },
  {
   "cell_type": "code",
   "execution_count": 4,
   "metadata": {},
   "outputs": [
    {
     "name": "stderr",
     "output_type": "stream",
     "text": [
      "C:\\Users\\karim\\AppData\\Local\\Temp\\ipykernel_20724\\2059859133.py:1: DtypeWarning: Columns (741) have mixed types. Specify dtype option on import or set low_memory=False.\n",
      "  accepted_2022_df = pd.read_csv(data_folder + 'loan_outcomes_2022.csv', encoding='latin')\n"
     ]
    }
   ],
   "source": [
    "accepted_2022_df = pd.read_csv(data_folder + 'loan_outcomes_2022.csv', encoding='latin')\n",
    "refused_2022_df = pd.read_csv(data_folder + 'refusal2022.csv', encoding='latin')\n"
   ]
  },
  {
   "cell_type": "code",
   "execution_count": 5,
   "metadata": {},
   "outputs": [
    {
     "data": {
      "text/plain": [
       "0"
      ]
     },
     "execution_count": 5,
     "metadata": {},
     "output_type": "execute_result"
    }
   ],
   "source": [
    "refused_2022_df['request_date'].isna().sum()"
   ]
  },
  {
   "cell_type": "code",
   "execution_count": 6,
   "metadata": {},
   "outputs": [
    {
     "data": {
      "text/html": [
       "<div>\n",
       "<style scoped>\n",
       "    .dataframe tbody tr th:only-of-type {\n",
       "        vertical-align: middle;\n",
       "    }\n",
       "\n",
       "    .dataframe tbody tr th {\n",
       "        vertical-align: top;\n",
       "    }\n",
       "\n",
       "    .dataframe thead th {\n",
       "        text-align: right;\n",
       "    }\n",
       "</style>\n",
       "<table border=\"1\" class=\"dataframe\">\n",
       "  <thead>\n",
       "    <tr style=\"text-align: right;\">\n",
       "      <th></th>\n",
       "      <th>Id</th>\n",
       "      <th>account_age_days</th>\n",
       "      <th>active_days_trend</th>\n",
       "      <th>auto_loan_payment_frequency</th>\n",
       "      <th>average_closing_balance_day_after_employer_income</th>\n",
       "      <th>average_closing_balance_day_after_government_income</th>\n",
       "      <th>average_closing_balance_day_after_income</th>\n",
       "      <th>average_closing_balance_day_of_employer_income</th>\n",
       "      <th>average_closing_balance_day_of_government_income</th>\n",
       "      <th>average_closing_balance_day_of_income</th>\n",
       "      <th>...</th>\n",
       "      <th>principal</th>\n",
       "      <th>request_date</th>\n",
       "      <th>total_paid</th>\n",
       "      <th>fees_paid</th>\n",
       "      <th>first_repayment_date</th>\n",
       "      <th>last_repayment_date</th>\n",
       "      <th>repayment_count</th>\n",
       "      <th>loan_application_id</th>\n",
       "      <th>borrower_id</th>\n",
       "      <th>error</th>\n",
       "    </tr>\n",
       "  </thead>\n",
       "  <tbody>\n",
       "    <tr>\n",
       "      <th>0</th>\n",
       "      <td>fe5152b3-de9b-43ad-952e-9d8256fa4dbf</td>\n",
       "      <td>411.0</td>\n",
       "      <td>1.13</td>\n",
       "      <td>NONE_DETECTED</td>\n",
       "      <td>2255.66</td>\n",
       "      <td>1953.4</td>\n",
       "      <td>2223.04</td>\n",
       "      <td>2285.82</td>\n",
       "      <td>1653.16</td>\n",
       "      <td>878.06</td>\n",
       "      <td>...</td>\n",
       "      <td>400</td>\n",
       "      <td>2022-01-03 0:00</td>\n",
       "      <td>799.56</td>\n",
       "      <td>0.0</td>\n",
       "      <td>2022-01-21 0:00</td>\n",
       "      <td>2022-04-29 0:00</td>\n",
       "      <td>8.0</td>\n",
       "      <td>IF1000001770</td>\n",
       "      <td>CID000001770</td>\n",
       "      <td>NaN</td>\n",
       "    </tr>\n",
       "    <tr>\n",
       "      <th>1</th>\n",
       "      <td>cca4af83-7da9-4bf1-896b-18f1e7e79cd6</td>\n",
       "      <td>91.0</td>\n",
       "      <td>0.81</td>\n",
       "      <td>NONE_DETECTED</td>\n",
       "      <td>1773.62</td>\n",
       "      <td>1544.31</td>\n",
       "      <td>1406.45</td>\n",
       "      <td>2877.36</td>\n",
       "      <td>1955</td>\n",
       "      <td>539.54</td>\n",
       "      <td>...</td>\n",
       "      <td>300</td>\n",
       "      <td>2022-01-03 0:00</td>\n",
       "      <td>0.00</td>\n",
       "      <td>NaN</td>\n",
       "      <td>NaN</td>\n",
       "      <td>NaN</td>\n",
       "      <td>NaN</td>\n",
       "      <td>IF1000001985</td>\n",
       "      <td>CID000001985</td>\n",
       "      <td>NaN</td>\n",
       "    </tr>\n",
       "    <tr>\n",
       "      <th>2</th>\n",
       "      <td>aaf584ec-b257-4d75-8fb6-21c542950515</td>\n",
       "      <td>91.0</td>\n",
       "      <td>0.91</td>\n",
       "      <td>NONE_DETECTED</td>\n",
       "      <td>1391.54</td>\n",
       "      <td>734.61</td>\n",
       "      <td>1297.69</td>\n",
       "      <td>2412.04</td>\n",
       "      <td>791.78</td>\n",
       "      <td>1096.63</td>\n",
       "      <td>...</td>\n",
       "      <td>300</td>\n",
       "      <td>2022-01-03 0:00</td>\n",
       "      <td>587.58</td>\n",
       "      <td>0.0</td>\n",
       "      <td>2022-01-19 0:00</td>\n",
       "      <td>2022-03-30 0:00</td>\n",
       "      <td>6.0</td>\n",
       "      <td>IF1000001938</td>\n",
       "      <td>CID000001938</td>\n",
       "      <td>NaN</td>\n",
       "    </tr>\n",
       "    <tr>\n",
       "      <th>3</th>\n",
       "      <td>7188c8d3-7ded-459a-9c6e-313f4938c3b5</td>\n",
       "      <td>91.0</td>\n",
       "      <td>1.01</td>\n",
       "      <td>NONE_DETECTED</td>\n",
       "      <td>324.16</td>\n",
       "      <td>1461.1</td>\n",
       "      <td>459.23</td>\n",
       "      <td>76.91</td>\n",
       "      <td>1732.94</td>\n",
       "      <td>226.30</td>\n",
       "      <td>...</td>\n",
       "      <td>400</td>\n",
       "      <td>2022-01-03 0:00</td>\n",
       "      <td>799.56</td>\n",
       "      <td>0.0</td>\n",
       "      <td>2022-01-13 0:00</td>\n",
       "      <td>2022-04-21 0:00</td>\n",
       "      <td>8.0</td>\n",
       "      <td>IF1000001987</td>\n",
       "      <td>CID000001987</td>\n",
       "      <td>NaN</td>\n",
       "    </tr>\n",
       "    <tr>\n",
       "      <th>4</th>\n",
       "      <td>NaN</td>\n",
       "      <td>NaN</td>\n",
       "      <td>NaN</td>\n",
       "      <td>NaN</td>\n",
       "      <td>NaN</td>\n",
       "      <td>NaN</td>\n",
       "      <td>NaN</td>\n",
       "      <td>NaN</td>\n",
       "      <td>NaN</td>\n",
       "      <td>NaN</td>\n",
       "      <td>...</td>\n",
       "      <td>300</td>\n",
       "      <td>2022-01-04 0:00</td>\n",
       "      <td>189.86</td>\n",
       "      <td>0.0</td>\n",
       "      <td>2022-01-13 0:00</td>\n",
       "      <td>2022-02-10 0:00</td>\n",
       "      <td>2.0</td>\n",
       "      <td>IF1000002247</td>\n",
       "      <td>CID000002247</td>\n",
       "      <td>NoTransactions</td>\n",
       "    </tr>\n",
       "  </tbody>\n",
       "</table>\n",
       "<p>5 rows × 755 columns</p>\n",
       "</div>"
      ],
      "text/plain": [
       "                                     Id  account_age_days  active_days_trend  \\\n",
       "0  fe5152b3-de9b-43ad-952e-9d8256fa4dbf             411.0               1.13   \n",
       "1  cca4af83-7da9-4bf1-896b-18f1e7e79cd6              91.0               0.81   \n",
       "2  aaf584ec-b257-4d75-8fb6-21c542950515              91.0               0.91   \n",
       "3  7188c8d3-7ded-459a-9c6e-313f4938c3b5              91.0               1.01   \n",
       "4                                   NaN               NaN                NaN   \n",
       "\n",
       "  auto_loan_payment_frequency  \\\n",
       "0               NONE_DETECTED   \n",
       "1               NONE_DETECTED   \n",
       "2               NONE_DETECTED   \n",
       "3               NONE_DETECTED   \n",
       "4                         NaN   \n",
       "\n",
       "   average_closing_balance_day_after_employer_income  \\\n",
       "0                                            2255.66   \n",
       "1                                            1773.62   \n",
       "2                                            1391.54   \n",
       "3                                             324.16   \n",
       "4                                                NaN   \n",
       "\n",
       "  average_closing_balance_day_after_government_income  \\\n",
       "0                                             1953.4    \n",
       "1                                            1544.31    \n",
       "2                                             734.61    \n",
       "3                                             1461.1    \n",
       "4                                                NaN    \n",
       "\n",
       "   average_closing_balance_day_after_income  \\\n",
       "0                                   2223.04   \n",
       "1                                   1406.45   \n",
       "2                                   1297.69   \n",
       "3                                    459.23   \n",
       "4                                       NaN   \n",
       "\n",
       "   average_closing_balance_day_of_employer_income  \\\n",
       "0                                         2285.82   \n",
       "1                                         2877.36   \n",
       "2                                         2412.04   \n",
       "3                                           76.91   \n",
       "4                                             NaN   \n",
       "\n",
       "  average_closing_balance_day_of_government_income  \\\n",
       "0                                          1653.16   \n",
       "1                                             1955   \n",
       "2                                           791.78   \n",
       "3                                          1732.94   \n",
       "4                                              NaN   \n",
       "\n",
       "   average_closing_balance_day_of_income  ...  principal     request_date  \\\n",
       "0                                 878.06  ...        400  2022-01-03 0:00   \n",
       "1                                 539.54  ...        300  2022-01-03 0:00   \n",
       "2                                1096.63  ...        300  2022-01-03 0:00   \n",
       "3                                 226.30  ...        400  2022-01-03 0:00   \n",
       "4                                    NaN  ...        300  2022-01-04 0:00   \n",
       "\n",
       "   total_paid  fees_paid  first_repayment_date  last_repayment_date  \\\n",
       "0      799.56        0.0       2022-01-21 0:00      2022-04-29 0:00   \n",
       "1        0.00        NaN                   NaN                  NaN   \n",
       "2      587.58        0.0       2022-01-19 0:00      2022-03-30 0:00   \n",
       "3      799.56        0.0       2022-01-13 0:00      2022-04-21 0:00   \n",
       "4      189.86        0.0       2022-01-13 0:00      2022-02-10 0:00   \n",
       "\n",
       "   repayment_count  loan_application_id   borrower_id           error  \n",
       "0              8.0         IF1000001770  CID000001770             NaN  \n",
       "1              NaN         IF1000001985  CID000001985             NaN  \n",
       "2              6.0         IF1000001938  CID000001938             NaN  \n",
       "3              8.0         IF1000001987  CID000001987             NaN  \n",
       "4              2.0         IF1000002247  CID000002247  NoTransactions  \n",
       "\n",
       "[5 rows x 755 columns]"
      ]
     },
     "execution_count": 6,
     "metadata": {},
     "output_type": "execute_result"
    }
   ],
   "source": [
    "accepted_2022_df.head()"
   ]
  },
  {
   "cell_type": "code",
   "execution_count": 7,
   "metadata": {},
   "outputs": [],
   "source": [
    "refused_2022_df['Id'] = refused_2022_df['loginId']"
   ]
  },
  {
   "cell_type": "code",
   "execution_count": 8,
   "metadata": {},
   "outputs": [
    {
     "data": {
      "text/html": [
       "<div>\n",
       "<style scoped>\n",
       "    .dataframe tbody tr th:only-of-type {\n",
       "        vertical-align: middle;\n",
       "    }\n",
       "\n",
       "    .dataframe tbody tr th {\n",
       "        vertical-align: top;\n",
       "    }\n",
       "\n",
       "    .dataframe thead th {\n",
       "        text-align: right;\n",
       "    }\n",
       "</style>\n",
       "<table border=\"1\" class=\"dataframe\">\n",
       "  <thead>\n",
       "    <tr style=\"text-align: right;\">\n",
       "      <th></th>\n",
       "      <th>approbexRequest</th>\n",
       "      <th>loginId</th>\n",
       "      <th>request_date</th>\n",
       "      <th>status</th>\n",
       "      <th>dob</th>\n",
       "      <th>gender</th>\n",
       "      <th>province</th>\n",
       "      <th>refusalReason</th>\n",
       "      <th>account_age_days</th>\n",
       "      <th>active_days_trend</th>\n",
       "      <th>...</th>\n",
       "      <th>student_loan_payments_frequency</th>\n",
       "      <th>telecom_payments_frequency</th>\n",
       "      <th>telecom_payments_average</th>\n",
       "      <th>other_loan_payments_frequency</th>\n",
       "      <th>other_loan_payments_average</th>\n",
       "      <th>utility_payments_frequency</th>\n",
       "      <th>utility_payments_average</th>\n",
       "      <th>average_monthly_insurance_income_complex</th>\n",
       "      <th>MostRecentTransactionDate</th>\n",
       "      <th>Id</th>\n",
       "    </tr>\n",
       "  </thead>\n",
       "  <tbody>\n",
       "    <tr>\n",
       "      <th>0</th>\n",
       "      <td>33618</td>\n",
       "      <td>407e7544-e992-4511-d395-08da1bcb0581</td>\n",
       "      <td>2022-04-11</td>\n",
       "      <td>Refused</td>\n",
       "      <td>1976-07-24</td>\n",
       "      <td>female</td>\n",
       "      <td>Ontario</td>\n",
       "      <td>Non eligible income;Too many NSF's.;Excessive ...</td>\n",
       "      <td>91</td>\n",
       "      <td>1.05</td>\n",
       "      <td>...</td>\n",
       "      <td>NONE_DETECTED</td>\n",
       "      <td>NONE_DETECTED</td>\n",
       "      <td>0.00</td>\n",
       "      <td>NONE_DETECTED</td>\n",
       "      <td>0.00</td>\n",
       "      <td>NONE_DETECTED</td>\n",
       "      <td>0.0</td>\n",
       "      <td>0.0</td>\n",
       "      <td>04/08/2022</td>\n",
       "      <td>407e7544-e992-4511-d395-08da1bcb0581</td>\n",
       "    </tr>\n",
       "    <tr>\n",
       "      <th>1</th>\n",
       "      <td>33515</td>\n",
       "      <td>429ff74e-b4d0-4275-d359-08da1bcb0581</td>\n",
       "      <td>2022-04-11</td>\n",
       "      <td>Refused</td>\n",
       "      <td>1987-05-15</td>\n",
       "      <td>male</td>\n",
       "      <td>Ontario</td>\n",
       "      <td>Other (when other the agent will have to manua...</td>\n",
       "      <td>91</td>\n",
       "      <td>1.14</td>\n",
       "      <td>...</td>\n",
       "      <td>NONE_DETECTED</td>\n",
       "      <td>NONE_DETECTED</td>\n",
       "      <td>0.00</td>\n",
       "      <td>Monthly</td>\n",
       "      <td>452.96</td>\n",
       "      <td>NONE_DETECTED</td>\n",
       "      <td>0.0</td>\n",
       "      <td>0.0</td>\n",
       "      <td>04/08/2022</td>\n",
       "      <td>429ff74e-b4d0-4275-d359-08da1bcb0581</td>\n",
       "    </tr>\n",
       "    <tr>\n",
       "      <th>2</th>\n",
       "      <td>33449</td>\n",
       "      <td>3d551bdd-f6fd-47f5-a0e9-08da19aabda4</td>\n",
       "      <td>2022-04-11</td>\n",
       "      <td>Refused</td>\n",
       "      <td>1994-04-09</td>\n",
       "      <td>female</td>\n",
       "      <td>Ontario</td>\n",
       "      <td>Other (when other the agent will have to manua...</td>\n",
       "      <td>91</td>\n",
       "      <td>0.94</td>\n",
       "      <td>...</td>\n",
       "      <td>NONE_DETECTED</td>\n",
       "      <td>Unknown</td>\n",
       "      <td>517.22</td>\n",
       "      <td>Unknown</td>\n",
       "      <td>90.82</td>\n",
       "      <td>Unknown</td>\n",
       "      <td>450.0</td>\n",
       "      <td>0.0</td>\n",
       "      <td>04/11/2022</td>\n",
       "      <td>3d551bdd-f6fd-47f5-a0e9-08da19aabda4</td>\n",
       "    </tr>\n",
       "    <tr>\n",
       "      <th>3</th>\n",
       "      <td>33358</td>\n",
       "      <td>42f8d3c8-c233-401a-a0b2-08da19aabda4</td>\n",
       "      <td>2022-04-11</td>\n",
       "      <td>Refused</td>\n",
       "      <td>1987-04-04</td>\n",
       "      <td>male</td>\n",
       "      <td>Quebec</td>\n",
       "      <td>Other (when other the agent will have to manua...</td>\n",
       "      <td>91</td>\n",
       "      <td>0.83</td>\n",
       "      <td>...</td>\n",
       "      <td>NONE_DETECTED</td>\n",
       "      <td>NONE_DETECTED</td>\n",
       "      <td>0.00</td>\n",
       "      <td>NONE_DETECTED</td>\n",
       "      <td>0.00</td>\n",
       "      <td>NONE_DETECTED</td>\n",
       "      <td>0.0</td>\n",
       "      <td>0.0</td>\n",
       "      <td>04/09/2022</td>\n",
       "      <td>42f8d3c8-c233-401a-a0b2-08da19aabda4</td>\n",
       "    </tr>\n",
       "    <tr>\n",
       "      <th>4</th>\n",
       "      <td>77410</td>\n",
       "      <td>b8c33e44-9022-4949-8de2-08da74b319c4</td>\n",
       "      <td>2022-08-02</td>\n",
       "      <td>Refused</td>\n",
       "      <td>1993-08-02</td>\n",
       "      <td>female</td>\n",
       "      <td>New Brunswick</td>\n",
       "      <td>Non eligible income</td>\n",
       "      <td>91</td>\n",
       "      <td>0.98</td>\n",
       "      <td>...</td>\n",
       "      <td>NONE_DETECTED</td>\n",
       "      <td>Unknown</td>\n",
       "      <td>169.10</td>\n",
       "      <td>Unknown</td>\n",
       "      <td>66.33</td>\n",
       "      <td>NONE_DETECTED</td>\n",
       "      <td>0.0</td>\n",
       "      <td>0.0</td>\n",
       "      <td>08/02/2022</td>\n",
       "      <td>b8c33e44-9022-4949-8de2-08da74b319c4</td>\n",
       "    </tr>\n",
       "  </tbody>\n",
       "</table>\n",
       "<p>5 rows × 748 columns</p>\n",
       "</div>"
      ],
      "text/plain": [
       "   approbexRequest                               loginId request_date  \\\n",
       "0            33618  407e7544-e992-4511-d395-08da1bcb0581   2022-04-11   \n",
       "1            33515  429ff74e-b4d0-4275-d359-08da1bcb0581   2022-04-11   \n",
       "2            33449  3d551bdd-f6fd-47f5-a0e9-08da19aabda4   2022-04-11   \n",
       "3            33358  42f8d3c8-c233-401a-a0b2-08da19aabda4   2022-04-11   \n",
       "4            77410  b8c33e44-9022-4949-8de2-08da74b319c4   2022-08-02   \n",
       "\n",
       "    status         dob  gender       province  \\\n",
       "0  Refused  1976-07-24  female        Ontario   \n",
       "1  Refused  1987-05-15    male        Ontario   \n",
       "2  Refused  1994-04-09  female        Ontario   \n",
       "3  Refused  1987-04-04    male         Quebec   \n",
       "4  Refused  1993-08-02  female  New Brunswick   \n",
       "\n",
       "                                       refusalReason  account_age_days  \\\n",
       "0  Non eligible income;Too many NSF's.;Excessive ...                91   \n",
       "1  Other (when other the agent will have to manua...                91   \n",
       "2  Other (when other the agent will have to manua...                91   \n",
       "3  Other (when other the agent will have to manua...                91   \n",
       "4                                Non eligible income                91   \n",
       "\n",
       "   active_days_trend  ... student_loan_payments_frequency  \\\n",
       "0               1.05  ...                   NONE_DETECTED   \n",
       "1               1.14  ...                   NONE_DETECTED   \n",
       "2               0.94  ...                   NONE_DETECTED   \n",
       "3               0.83  ...                   NONE_DETECTED   \n",
       "4               0.98  ...                   NONE_DETECTED   \n",
       "\n",
       "   telecom_payments_frequency telecom_payments_average  \\\n",
       "0               NONE_DETECTED                     0.00   \n",
       "1               NONE_DETECTED                     0.00   \n",
       "2                     Unknown                   517.22   \n",
       "3               NONE_DETECTED                     0.00   \n",
       "4                     Unknown                   169.10   \n",
       "\n",
       "   other_loan_payments_frequency  other_loan_payments_average  \\\n",
       "0                  NONE_DETECTED                         0.00   \n",
       "1                        Monthly                       452.96   \n",
       "2                        Unknown                        90.82   \n",
       "3                  NONE_DETECTED                         0.00   \n",
       "4                        Unknown                        66.33   \n",
       "\n",
       "  utility_payments_frequency  utility_payments_average  \\\n",
       "0              NONE_DETECTED                       0.0   \n",
       "1              NONE_DETECTED                       0.0   \n",
       "2                    Unknown                     450.0   \n",
       "3              NONE_DETECTED                       0.0   \n",
       "4              NONE_DETECTED                       0.0   \n",
       "\n",
       "   average_monthly_insurance_income_complex  MostRecentTransactionDate  \\\n",
       "0                                       0.0                 04/08/2022   \n",
       "1                                       0.0                 04/08/2022   \n",
       "2                                       0.0                 04/11/2022   \n",
       "3                                       0.0                 04/09/2022   \n",
       "4                                       0.0                 08/02/2022   \n",
       "\n",
       "                                     Id  \n",
       "0  407e7544-e992-4511-d395-08da1bcb0581  \n",
       "1  429ff74e-b4d0-4275-d359-08da1bcb0581  \n",
       "2  3d551bdd-f6fd-47f5-a0e9-08da19aabda4  \n",
       "3  42f8d3c8-c233-401a-a0b2-08da19aabda4  \n",
       "4  b8c33e44-9022-4949-8de2-08da74b319c4  \n",
       "\n",
       "[5 rows x 748 columns]"
      ]
     },
     "execution_count": 8,
     "metadata": {},
     "output_type": "execute_result"
    }
   ],
   "source": [
    "refused_2022_df.head()"
   ]
  },
  {
   "cell_type": "code",
   "execution_count": 9,
   "metadata": {},
   "outputs": [
    {
     "name": "stderr",
     "output_type": "stream",
     "text": [
      "C:\\Users\\karim\\AppData\\Local\\Temp\\ipykernel_20724\\3334318270.py:1: DtypeWarning: Columns (394) have mixed types. Specify dtype option on import or set low_memory=False.\n",
      "  accepted_2023_df = pd.read_csv(data_folder + 'janToNov2023LoansAccepted.csv')\n"
     ]
    }
   ],
   "source": [
    "accepted_2023_df = pd.read_csv(data_folder + 'janToNov2023LoansAccepted.csv')\n",
    "refused_2023_df = pd.read_csv(data_folder + 'refusal2023_IF.csv')"
   ]
  },
  {
   "cell_type": "code",
   "execution_count": 10,
   "metadata": {},
   "outputs": [
    {
     "data": {
      "text/html": [
       "<div>\n",
       "<style scoped>\n",
       "    .dataframe tbody tr th:only-of-type {\n",
       "        vertical-align: middle;\n",
       "    }\n",
       "\n",
       "    .dataframe tbody tr th {\n",
       "        vertical-align: top;\n",
       "    }\n",
       "\n",
       "    .dataframe thead th {\n",
       "        text-align: right;\n",
       "    }\n",
       "</style>\n",
       "<table border=\"1\" class=\"dataframe\">\n",
       "  <thead>\n",
       "    <tr style=\"text-align: right;\">\n",
       "      <th></th>\n",
       "      <th>Id</th>\n",
       "      <th>dob</th>\n",
       "      <th>gender</th>\n",
       "      <th>request_date</th>\n",
       "      <th>loan_duration</th>\n",
       "      <th>loan_num_repayments</th>\n",
       "      <th>loan_total_paid</th>\n",
       "      <th>borrower_province</th>\n",
       "      <th>total_amount_due</th>\n",
       "      <th>loan_balance</th>\n",
       "      <th>...</th>\n",
       "      <th>sum_wsib_income</th>\n",
       "      <th>student_loan_payments_frequency</th>\n",
       "      <th>telecom_payments_frequency</th>\n",
       "      <th>telecom_payments_average</th>\n",
       "      <th>other_loan_payments_frequency</th>\n",
       "      <th>other_loan_payments_average</th>\n",
       "      <th>utility_payments_frequency</th>\n",
       "      <th>utility_payments_average</th>\n",
       "      <th>average_monthly_insurance_income_complex</th>\n",
       "      <th>MostRecentTransactionDate</th>\n",
       "    </tr>\n",
       "  </thead>\n",
       "  <tbody>\n",
       "    <tr>\n",
       "      <th>0</th>\n",
       "      <td>3971786</td>\n",
       "      <td>1980-09-07</td>\n",
       "      <td>Male</td>\n",
       "      <td>2023-02-03</td>\n",
       "      <td>4</td>\n",
       "      <td>8</td>\n",
       "      <td>799.56</td>\n",
       "      <td>Saskatchewan</td>\n",
       "      <td>799.56</td>\n",
       "      <td>0.00</td>\n",
       "      <td>...</td>\n",
       "      <td>0.0</td>\n",
       "      <td>NONE_DETECTED</td>\n",
       "      <td>Unknown</td>\n",
       "      <td>194.01</td>\n",
       "      <td>BiWeekly</td>\n",
       "      <td>390.64</td>\n",
       "      <td>NONE_DETECTED</td>\n",
       "      <td>0.00</td>\n",
       "      <td>3344.38</td>\n",
       "      <td>12/01/2023</td>\n",
       "    </tr>\n",
       "    <tr>\n",
       "      <th>1</th>\n",
       "      <td>3971656</td>\n",
       "      <td>1996-06-04</td>\n",
       "      <td>Male</td>\n",
       "      <td>2023-02-03</td>\n",
       "      <td>4</td>\n",
       "      <td>14</td>\n",
       "      <td>148.41</td>\n",
       "      <td>Ontario</td>\n",
       "      <td>882.61</td>\n",
       "      <td>734.20</td>\n",
       "      <td>...</td>\n",
       "      <td>0.0</td>\n",
       "      <td>NONE_DETECTED</td>\n",
       "      <td>Unknown</td>\n",
       "      <td>16.80</td>\n",
       "      <td>Monthly</td>\n",
       "      <td>367.05</td>\n",
       "      <td>NONE_DETECTED</td>\n",
       "      <td>0.00</td>\n",
       "      <td>0.00</td>\n",
       "      <td>02/03/2023</td>\n",
       "    </tr>\n",
       "    <tr>\n",
       "      <th>2</th>\n",
       "      <td>3970820</td>\n",
       "      <td>1993-05-21</td>\n",
       "      <td>Male</td>\n",
       "      <td>2023-02-02</td>\n",
       "      <td>4</td>\n",
       "      <td>15</td>\n",
       "      <td>689.59</td>\n",
       "      <td>New Brunswick</td>\n",
       "      <td>689.59</td>\n",
       "      <td>0.00</td>\n",
       "      <td>...</td>\n",
       "      <td>0.0</td>\n",
       "      <td>Unknown</td>\n",
       "      <td>Unknown</td>\n",
       "      <td>205.95</td>\n",
       "      <td>BiWeekly</td>\n",
       "      <td>189.95</td>\n",
       "      <td>BiWeekly</td>\n",
       "      <td>175.25</td>\n",
       "      <td>13.86</td>\n",
       "      <td>02/02/2023</td>\n",
       "    </tr>\n",
       "    <tr>\n",
       "      <th>3</th>\n",
       "      <td>3971029</td>\n",
       "      <td>1990-03-04</td>\n",
       "      <td>Female</td>\n",
       "      <td>2023-02-02</td>\n",
       "      <td>3</td>\n",
       "      <td>6</td>\n",
       "      <td>97.93</td>\n",
       "      <td>Alberta</td>\n",
       "      <td>587.58</td>\n",
       "      <td>489.65</td>\n",
       "      <td>...</td>\n",
       "      <td>0.0</td>\n",
       "      <td>NONE_DETECTED</td>\n",
       "      <td>Unknown</td>\n",
       "      <td>85.25</td>\n",
       "      <td>NONE_DETECTED</td>\n",
       "      <td>0.00</td>\n",
       "      <td>Monthly</td>\n",
       "      <td>45.95</td>\n",
       "      <td>0.00</td>\n",
       "      <td>02/01/2023</td>\n",
       "    </tr>\n",
       "    <tr>\n",
       "      <th>4</th>\n",
       "      <td>3971679</td>\n",
       "      <td>1981-07-14</td>\n",
       "      <td>Male</td>\n",
       "      <td>2023-02-03</td>\n",
       "      <td>4</td>\n",
       "      <td>8</td>\n",
       "      <td>791.56</td>\n",
       "      <td>Quebec</td>\n",
       "      <td>791.56</td>\n",
       "      <td>0.00</td>\n",
       "      <td>...</td>\n",
       "      <td>0.0</td>\n",
       "      <td>NONE_DETECTED</td>\n",
       "      <td>Unknown</td>\n",
       "      <td>138.47</td>\n",
       "      <td>BiWeekly</td>\n",
       "      <td>55.69</td>\n",
       "      <td>Unknown</td>\n",
       "      <td>190.83</td>\n",
       "      <td>0.00</td>\n",
       "      <td>09/21/2023</td>\n",
       "    </tr>\n",
       "  </tbody>\n",
       "</table>\n",
       "<p>5 rows × 750 columns</p>\n",
       "</div>"
      ],
      "text/plain": [
       "        Id         dob  gender request_date  loan_duration  \\\n",
       "0  3971786  1980-09-07    Male   2023-02-03              4   \n",
       "1  3971656  1996-06-04    Male   2023-02-03              4   \n",
       "2  3970820  1993-05-21    Male   2023-02-02              4   \n",
       "3  3971029  1990-03-04  Female   2023-02-02              3   \n",
       "4  3971679  1981-07-14    Male   2023-02-03              4   \n",
       "\n",
       "   loan_num_repayments  loan_total_paid borrower_province  total_amount_due  \\\n",
       "0                    8           799.56      Saskatchewan            799.56   \n",
       "1                   14           148.41           Ontario            882.61   \n",
       "2                   15           689.59     New Brunswick            689.59   \n",
       "3                    6            97.93           Alberta            587.58   \n",
       "4                    8           791.56            Quebec            791.56   \n",
       "\n",
       "   loan_balance  ... sum_wsib_income  student_loan_payments_frequency  \\\n",
       "0          0.00  ...             0.0                    NONE_DETECTED   \n",
       "1        734.20  ...             0.0                    NONE_DETECTED   \n",
       "2          0.00  ...             0.0                          Unknown   \n",
       "3        489.65  ...             0.0                    NONE_DETECTED   \n",
       "4          0.00  ...             0.0                    NONE_DETECTED   \n",
       "\n",
       "   telecom_payments_frequency telecom_payments_average  \\\n",
       "0                     Unknown                   194.01   \n",
       "1                     Unknown                    16.80   \n",
       "2                     Unknown                   205.95   \n",
       "3                     Unknown                    85.25   \n",
       "4                     Unknown                   138.47   \n",
       "\n",
       "   other_loan_payments_frequency other_loan_payments_average  \\\n",
       "0                       BiWeekly                      390.64   \n",
       "1                        Monthly                      367.05   \n",
       "2                       BiWeekly                      189.95   \n",
       "3                  NONE_DETECTED                        0.00   \n",
       "4                       BiWeekly                       55.69   \n",
       "\n",
       "   utility_payments_frequency  utility_payments_average  \\\n",
       "0               NONE_DETECTED                      0.00   \n",
       "1               NONE_DETECTED                      0.00   \n",
       "2                    BiWeekly                    175.25   \n",
       "3                     Monthly                     45.95   \n",
       "4                     Unknown                    190.83   \n",
       "\n",
       "  average_monthly_insurance_income_complex  MostRecentTransactionDate  \n",
       "0                                  3344.38                 12/01/2023  \n",
       "1                                     0.00                 02/03/2023  \n",
       "2                                    13.86                 02/02/2023  \n",
       "3                                     0.00                 02/01/2023  \n",
       "4                                     0.00                 09/21/2023  \n",
       "\n",
       "[5 rows x 750 columns]"
      ]
     },
     "execution_count": 10,
     "metadata": {},
     "output_type": "execute_result"
    }
   ],
   "source": [
    "accepted_2023_df.head()"
   ]
  },
  {
   "cell_type": "code",
   "execution_count": 11,
   "metadata": {},
   "outputs": [],
   "source": [
    "refused_2023_df['Id'] = refused_2023_df['loginId']"
   ]
  },
  {
   "cell_type": "code",
   "execution_count": 12,
   "metadata": {},
   "outputs": [
    {
     "data": {
      "text/html": [
       "<div>\n",
       "<style scoped>\n",
       "    .dataframe tbody tr th:only-of-type {\n",
       "        vertical-align: middle;\n",
       "    }\n",
       "\n",
       "    .dataframe tbody tr th {\n",
       "        vertical-align: top;\n",
       "    }\n",
       "\n",
       "    .dataframe thead th {\n",
       "        text-align: right;\n",
       "    }\n",
       "</style>\n",
       "<table border=\"1\" class=\"dataframe\">\n",
       "  <thead>\n",
       "    <tr style=\"text-align: right;\">\n",
       "      <th></th>\n",
       "      <th>approbexRequest</th>\n",
       "      <th>loginId</th>\n",
       "      <th>requestDate</th>\n",
       "      <th>status</th>\n",
       "      <th>dob</th>\n",
       "      <th>gender</th>\n",
       "      <th>province</th>\n",
       "      <th>refusalReason</th>\n",
       "      <th>account_age_days</th>\n",
       "      <th>active_days_trend</th>\n",
       "      <th>...</th>\n",
       "      <th>student_loan_payments_frequency</th>\n",
       "      <th>telecom_payments_frequency</th>\n",
       "      <th>telecom_payments_average</th>\n",
       "      <th>other_loan_payments_frequency</th>\n",
       "      <th>other_loan_payments_average</th>\n",
       "      <th>utility_payments_frequency</th>\n",
       "      <th>utility_payments_average</th>\n",
       "      <th>average_monthly_insurance_income_complex</th>\n",
       "      <th>MostRecentTransactionDate</th>\n",
       "      <th>Id</th>\n",
       "    </tr>\n",
       "  </thead>\n",
       "  <tbody>\n",
       "    <tr>\n",
       "      <th>0</th>\n",
       "      <td>153102</td>\n",
       "      <td>bac976e4-403e-4723-60dc-08db054e1e7d</td>\n",
       "      <td>2023-02-02</td>\n",
       "      <td>Refused</td>\n",
       "      <td>2001-09-25</td>\n",
       "      <td>female</td>\n",
       "      <td>Ontario</td>\n",
       "      <td>Non eligible income</td>\n",
       "      <td>366.0</td>\n",
       "      <td>1.09</td>\n",
       "      <td>...</td>\n",
       "      <td>NONE_DETECTED</td>\n",
       "      <td>Unknown</td>\n",
       "      <td>241.17</td>\n",
       "      <td>NONE_DETECTED</td>\n",
       "      <td>0.00</td>\n",
       "      <td>NONE_DETECTED</td>\n",
       "      <td>0.00</td>\n",
       "      <td>0.0</td>\n",
       "      <td>02/02/2023</td>\n",
       "      <td>bac976e4-403e-4723-60dc-08db054e1e7d</td>\n",
       "    </tr>\n",
       "    <tr>\n",
       "      <th>1</th>\n",
       "      <td>153113</td>\n",
       "      <td>8ffd1e0e-532e-4306-d6cc-08db0550d16a</td>\n",
       "      <td>2023-02-02</td>\n",
       "      <td>Refused</td>\n",
       "      <td>1991-09-11</td>\n",
       "      <td>male</td>\n",
       "      <td>Alberta</td>\n",
       "      <td>Bank account under 90 Days.</td>\n",
       "      <td>16.0</td>\n",
       "      <td>0.53</td>\n",
       "      <td>...</td>\n",
       "      <td>NONE_DETECTED</td>\n",
       "      <td>NONE_DETECTED</td>\n",
       "      <td>0.00</td>\n",
       "      <td>NONE_DETECTED</td>\n",
       "      <td>0.00</td>\n",
       "      <td>NONE_DETECTED</td>\n",
       "      <td>0.00</td>\n",
       "      <td>0.0</td>\n",
       "      <td>02/02/2023</td>\n",
       "      <td>8ffd1e0e-532e-4306-d6cc-08db0550d16a</td>\n",
       "    </tr>\n",
       "    <tr>\n",
       "      <th>2</th>\n",
       "      <td>153115</td>\n",
       "      <td>c2660836-46f3-4737-5d64-08db05532381</td>\n",
       "      <td>2023-02-02</td>\n",
       "      <td>Refused</td>\n",
       "      <td>1984-02-23</td>\n",
       "      <td>male</td>\n",
       "      <td>Ontario</td>\n",
       "      <td>Non eligible income</td>\n",
       "      <td>366.0</td>\n",
       "      <td>1.06</td>\n",
       "      <td>...</td>\n",
       "      <td>NONE_DETECTED</td>\n",
       "      <td>Unknown</td>\n",
       "      <td>45.20</td>\n",
       "      <td>NONE_DETECTED</td>\n",
       "      <td>0.00</td>\n",
       "      <td>NONE_DETECTED</td>\n",
       "      <td>0.00</td>\n",
       "      <td>0.0</td>\n",
       "      <td>02/01/2023</td>\n",
       "      <td>c2660836-46f3-4737-5d64-08db05532381</td>\n",
       "    </tr>\n",
       "    <tr>\n",
       "      <th>3</th>\n",
       "      <td>153119</td>\n",
       "      <td>eb518661-42a1-4186-6a79-08daa4d33623</td>\n",
       "      <td>2023-02-02</td>\n",
       "      <td>Refused</td>\n",
       "      <td>1963-12-28</td>\n",
       "      <td>male</td>\n",
       "      <td>Alberta</td>\n",
       "      <td>Too many NSF's.; Non eligible income; Too many...</td>\n",
       "      <td>366.0</td>\n",
       "      <td>0.92</td>\n",
       "      <td>...</td>\n",
       "      <td>NONE_DETECTED</td>\n",
       "      <td>Unknown</td>\n",
       "      <td>350.40</td>\n",
       "      <td>BiWeekly</td>\n",
       "      <td>178.76</td>\n",
       "      <td>Monthly</td>\n",
       "      <td>310.43</td>\n",
       "      <td>25.4</td>\n",
       "      <td>02/02/2023</td>\n",
       "      <td>eb518661-42a1-4186-6a79-08daa4d33623</td>\n",
       "    </tr>\n",
       "    <tr>\n",
       "      <th>4</th>\n",
       "      <td>153120</td>\n",
       "      <td>0d8c7ae5-3ace-4193-5d65-08db05532381</td>\n",
       "      <td>2023-02-02</td>\n",
       "      <td>Refused</td>\n",
       "      <td>1992-01-07</td>\n",
       "      <td>male</td>\n",
       "      <td>Prince Edward Island</td>\n",
       "      <td>Excessive transfers</td>\n",
       "      <td>366.0</td>\n",
       "      <td>0.76</td>\n",
       "      <td>...</td>\n",
       "      <td>NONE_DETECTED</td>\n",
       "      <td>Unknown</td>\n",
       "      <td>120.39</td>\n",
       "      <td>NONE_DETECTED</td>\n",
       "      <td>0.00</td>\n",
       "      <td>NONE_DETECTED</td>\n",
       "      <td>0.00</td>\n",
       "      <td>0.0</td>\n",
       "      <td>02/02/2023</td>\n",
       "      <td>0d8c7ae5-3ace-4193-5d65-08db05532381</td>\n",
       "    </tr>\n",
       "  </tbody>\n",
       "</table>\n",
       "<p>5 rows × 748 columns</p>\n",
       "</div>"
      ],
      "text/plain": [
       "   approbexRequest                               loginId requestDate   status  \\\n",
       "0           153102  bac976e4-403e-4723-60dc-08db054e1e7d  2023-02-02  Refused   \n",
       "1           153113  8ffd1e0e-532e-4306-d6cc-08db0550d16a  2023-02-02  Refused   \n",
       "2           153115  c2660836-46f3-4737-5d64-08db05532381  2023-02-02  Refused   \n",
       "3           153119  eb518661-42a1-4186-6a79-08daa4d33623  2023-02-02  Refused   \n",
       "4           153120  0d8c7ae5-3ace-4193-5d65-08db05532381  2023-02-02  Refused   \n",
       "\n",
       "          dob  gender              province  \\\n",
       "0  2001-09-25  female               Ontario   \n",
       "1  1991-09-11    male               Alberta   \n",
       "2  1984-02-23    male               Ontario   \n",
       "3  1963-12-28    male               Alberta   \n",
       "4  1992-01-07    male  Prince Edward Island   \n",
       "\n",
       "                                       refusalReason  account_age_days  \\\n",
       "0                                Non eligible income             366.0   \n",
       "1                        Bank account under 90 Days.              16.0   \n",
       "2                                Non eligible income             366.0   \n",
       "3  Too many NSF's.; Non eligible income; Too many...             366.0   \n",
       "4                                Excessive transfers             366.0   \n",
       "\n",
       "   active_days_trend  ... student_loan_payments_frequency  \\\n",
       "0               1.09  ...                   NONE_DETECTED   \n",
       "1               0.53  ...                   NONE_DETECTED   \n",
       "2               1.06  ...                   NONE_DETECTED   \n",
       "3               0.92  ...                   NONE_DETECTED   \n",
       "4               0.76  ...                   NONE_DETECTED   \n",
       "\n",
       "   telecom_payments_frequency telecom_payments_average  \\\n",
       "0                     Unknown                   241.17   \n",
       "1               NONE_DETECTED                     0.00   \n",
       "2                     Unknown                    45.20   \n",
       "3                     Unknown                   350.40   \n",
       "4                     Unknown                   120.39   \n",
       "\n",
       "   other_loan_payments_frequency  other_loan_payments_average  \\\n",
       "0                  NONE_DETECTED                         0.00   \n",
       "1                  NONE_DETECTED                         0.00   \n",
       "2                  NONE_DETECTED                         0.00   \n",
       "3                       BiWeekly                       178.76   \n",
       "4                  NONE_DETECTED                         0.00   \n",
       "\n",
       "  utility_payments_frequency  utility_payments_average  \\\n",
       "0              NONE_DETECTED                      0.00   \n",
       "1              NONE_DETECTED                      0.00   \n",
       "2              NONE_DETECTED                      0.00   \n",
       "3                    Monthly                    310.43   \n",
       "4              NONE_DETECTED                      0.00   \n",
       "\n",
       "   average_monthly_insurance_income_complex  MostRecentTransactionDate  \\\n",
       "0                                       0.0                 02/02/2023   \n",
       "1                                       0.0                 02/02/2023   \n",
       "2                                       0.0                 02/01/2023   \n",
       "3                                      25.4                 02/02/2023   \n",
       "4                                       0.0                 02/02/2023   \n",
       "\n",
       "                                     Id  \n",
       "0  bac976e4-403e-4723-60dc-08db054e1e7d  \n",
       "1  8ffd1e0e-532e-4306-d6cc-08db0550d16a  \n",
       "2  c2660836-46f3-4737-5d64-08db05532381  \n",
       "3  eb518661-42a1-4186-6a79-08daa4d33623  \n",
       "4  0d8c7ae5-3ace-4193-5d65-08db05532381  \n",
       "\n",
       "[5 rows x 748 columns]"
      ]
     },
     "execution_count": 12,
     "metadata": {},
     "output_type": "execute_result"
    }
   ],
   "source": [
    "refused_2023_df.head()"
   ]
  },
  {
   "cell_type": "code",
   "execution_count": 13,
   "metadata": {},
   "outputs": [],
   "source": [
    "accepted_2023_df['gender'] = accepted_2023_df['gender'].str.lower()"
   ]
  },
  {
   "cell_type": "code",
   "execution_count": 14,
   "metadata": {},
   "outputs": [],
   "source": [
    "refused_2023_df.rename(columns={'requestDate': 'request_date'}, inplace=True)"
   ]
  },
  {
   "cell_type": "code",
   "execution_count": 15,
   "metadata": {},
   "outputs": [
    {
     "data": {
      "text/plain": [
       "0"
      ]
     },
     "execution_count": 15,
     "metadata": {},
     "output_type": "execute_result"
    }
   ],
   "source": [
    "refused_2023_df['request_date'].isna().sum()"
   ]
  },
  {
   "cell_type": "code",
   "execution_count": 16,
   "metadata": {},
   "outputs": [],
   "source": [
    "refused_2024_IF_df = pd.read_csv(data_folder + 'refusal2024_IF.csv')\n",
    "refused_2024_PR_df = pd.read_csv(data_folder + 'refusal2024_PR.csv', encoding='latin')\n",
    "\n",
    "refused_2024_df = pd.concat([refused_2024_IF_df, refused_2024_PR_df])"
   ]
  },
  {
   "cell_type": "code",
   "execution_count": 17,
   "metadata": {},
   "outputs": [],
   "source": [
    "refused_2024_df['Id'] = refused_2024_df['loginId']"
   ]
  },
  {
   "cell_type": "code",
   "execution_count": 18,
   "metadata": {},
   "outputs": [],
   "source": [
    "refused_2024_df.rename(columns={'requestDate': 'request_date'}, inplace=True)"
   ]
  },
  {
   "cell_type": "code",
   "execution_count": 19,
   "metadata": {},
   "outputs": [
    {
     "data": {
      "text/plain": [
       "0"
      ]
     },
     "execution_count": 19,
     "metadata": {},
     "output_type": "execute_result"
    }
   ],
   "source": [
    "refused_2024_df['request_date'].isna().sum()"
   ]
  },
  {
   "cell_type": "code",
   "execution_count": 20,
   "metadata": {},
   "outputs": [
    {
     "data": {
      "text/plain": [
       "0         male\n",
       "1         male\n",
       "2       female\n",
       "3       female\n",
       "4       female\n",
       "         ...  \n",
       "6590    female\n",
       "6591      male\n",
       "6592      male\n",
       "6593      male\n",
       "6594      male\n",
       "Name: gender, Length: 14748, dtype: object"
      ]
     },
     "execution_count": 20,
     "metadata": {},
     "output_type": "execute_result"
    }
   ],
   "source": [
    "refused_2024_df['gender']"
   ]
  },
  {
   "cell_type": "code",
   "execution_count": 21,
   "metadata": {},
   "outputs": [],
   "source": [
    "accepted_df = pd.concat([accepted_2022_df, accepted_2023_df])"
   ]
  },
  {
   "cell_type": "code",
   "execution_count": 22,
   "metadata": {},
   "outputs": [],
   "source": [
    "refused_df = pd.concat([refused_2022_df, refused_2023_df, refused_2024_df])"
   ]
  },
  {
   "cell_type": "code",
   "execution_count": 23,
   "metadata": {},
   "outputs": [],
   "source": [
    "refused_df['recurring_deposits_90_days'] = (\n",
    "    refused_df['recurring_deposits_current_month'] + \n",
    "    refused_df['recurring_deposits_previous_month'] +\n",
    "    refused_df['recurring_deposits_2_months_ago']\n",
    ")\n",
    "\n",
    "refused_df['sum_micro_loans_60_days'] = (\n",
    "    refused_df['sum_micro_loan_payments_current_month'] + \n",
    "    refused_df['sum_micro_loan_payments_previous_month'] \n",
    ")\n",
    "\n",
    "refused_df['recurring_deposits_90_days'] = (\n",
    "    refused_df['recurring_deposits_current_month'] + \n",
    "    refused_df['recurring_deposits_previous_month'] +\n",
    "    refused_df['recurring_deposits_2_months_ago']\n",
    ")\n",
    "\n",
    "refused_df['sum_micro_loans_60_days'] = (\n",
    "    refused_df['sum_micro_loan_payments_current_month'] + \n",
    "    refused_df['sum_micro_loan_payments_previous_month'] \n",
    ")"
   ]
  },
  {
   "cell_type": "code",
   "execution_count": 24,
   "metadata": {},
   "outputs": [
    {
     "name": "stdout",
     "output_type": "stream",
     "text": [
      "# loans before auto-refusal: 96677\n",
      "# loans after auto-refusal: 78528\n"
     ]
    }
   ],
   "source": [
    "print('# loans before auto-refusal: ' + str(len(refused_df)))\n",
    "\n",
    "refused_df = refused_df[refused_df['account_age_days'] >= 85]\n",
    "\n",
    "refused_df = refused_df[refused_df['count_nsf_90_days'] <= 8]\n",
    "\n",
    "refused_df = refused_df[refused_df['count_nsf_30_days'] <= 6]\n",
    "\n",
    "refused_df = refused_df[refused_df['count_stop_payment_90_days'] <= 4]\n",
    "\n",
    "#refused_df = refused_df[refused_df['recurring_deposits_90_days']/3.0 >= 1800] <-- filers way too much\n",
    "\n",
    "#refused_df = refused_df[refused_df['sum_micro_loans_60_days'] <= 1000]\n",
    "\n",
    "print('# loans after auto-refusal: ' + str(len(refused_df)))"
   ]
  },
  {
   "cell_type": "code",
   "execution_count": 25,
   "metadata": {},
   "outputs": [
    {
     "data": {
      "text/plain": [
       "19597"
      ]
     },
     "execution_count": 25,
     "metadata": {},
     "output_type": "execute_result"
    }
   ],
   "source": [
    "len(accepted_df)"
   ]
  },
  {
   "cell_type": "code",
   "execution_count": 60,
   "metadata": {},
   "outputs": [
    {
     "name": "stdout",
     "output_type": "stream",
     "text": [
      "                                           variable      type  threshold_min  \\\n",
      "0                                           refused    target            NaN   \n",
      "1                                                Id  optional            NaN   \n",
      "2                                      request_date     extra            NaN   \n",
      "3                                     refusalReason  optional            NaN   \n",
      "4                                               dob     extra            NaN   \n",
      "5                                  account_age_days   numeric            NaN   \n",
      "6                                 count_nsf_90_days   numeric            NaN   \n",
      "7                                 count_nsf_30_days   numeric            NaN   \n",
      "8                        count_stop_payment_90_days   numeric            NaN   \n",
      "9             sum_micro_loan_payments_current_month   numeric            NaN   \n",
      "10           sum_micro_loan_payments_previous_month   numeric            NaN   \n",
      "11             sum_micro_loan_payments_2_months_ago   numeric            NaN   \n",
      "12                 recurring_deposits_current_month   numeric            NaN   \n",
      "13                recurring_deposits_previous_month   numeric            NaN   \n",
      "14                  recurring_deposits_2_months_ago   numeric            NaN   \n",
      "15                                count_active_days   numeric            NaN   \n",
      "16                   sum_total_income_current_month   numeric            NaN   \n",
      "17                  sum_total_income_previous_month   numeric            NaN   \n",
      "18                    sum_total_income_2_months_ago   numeric            NaN   \n",
      "19                  sum_loan_payments_current_month   numeric            NaN   \n",
      "20                 sum_loan_payments_previous_month   numeric            NaN   \n",
      "21                   sum_loan_payments_2_months_ago   numeric            NaN   \n",
      "22                        sum_loan_deposits_30_days   numeric            NaN   \n",
      "23                        sum_loan_deposits_60_days   numeric            NaN   \n",
      "24                        sum_loan_deposits_90_days   numeric            NaN   \n",
      "25              sum_government_income_current_month   numeric            NaN   \n",
      "26             sum_government_income_previous_month   numeric            NaN   \n",
      "27               sum_government_income_2_months_ago   numeric            NaN   \n",
      "28    sum_employment_insurance_income_current_month   numeric            NaN   \n",
      "29   sum_employment_insurance_income_previous_month   numeric            NaN   \n",
      "30     sum_employment_insurance_income_2_months_ago   numeric            NaN   \n",
      "31                sum_employer_income_current_month   numeric            NaN   \n",
      "32               sum_employer_income_previous_month   numeric            NaN   \n",
      "33                 sum_employer_income_2_months_ago   numeric            NaN   \n",
      "34   average_monthly_recurring_transfers_in_complex   numeric            NaN   \n",
      "35  average_monthly_recurring_transfers_out_complex   numeric            NaN   \n",
      "36            sum_non_employer_income_current_month   numeric            NaN   \n",
      "37           sum_non_employer_income_previous_month   numeric            NaN   \n",
      "38             sum_non_employer_income_2_months_ago   numeric            NaN   \n",
      "\n",
      "    threshold_max  \n",
      "0             NaN  \n",
      "1             NaN  \n",
      "2             NaN  \n",
      "3             NaN  \n",
      "4             NaN  \n",
      "5             NaN  \n",
      "6             NaN  \n",
      "7             NaN  \n",
      "8             NaN  \n",
      "9             NaN  \n",
      "10            NaN  \n",
      "11            NaN  \n",
      "12            NaN  \n",
      "13            NaN  \n",
      "14            NaN  \n",
      "15            NaN  \n",
      "16            NaN  \n",
      "17            NaN  \n",
      "18            NaN  \n",
      "19            NaN  \n",
      "20            NaN  \n",
      "21            NaN  \n",
      "22            NaN  \n",
      "23            NaN  \n",
      "24            NaN  \n",
      "25            NaN  \n",
      "26            NaN  \n",
      "27            NaN  \n",
      "28            NaN  \n",
      "29            NaN  \n",
      "30            NaN  \n",
      "31            NaN  \n",
      "32            NaN  \n",
      "33            NaN  \n",
      "34            NaN  \n",
      "35            NaN  \n",
      "36            NaN  \n",
      "37            NaN  \n",
      "38            NaN  \n",
      "                                           variable     type  threshold_min  \\\n",
      "34   average_monthly_recurring_transfers_in_complex  numeric            NaN   \n",
      "35  average_monthly_recurring_transfers_out_complex  numeric            NaN   \n",
      "36            sum_non_employer_income_current_month  numeric            NaN   \n",
      "37           sum_non_employer_income_previous_month  numeric            NaN   \n",
      "38             sum_non_employer_income_2_months_ago  numeric            NaN   \n",
      "\n",
      "    threshold_max  \n",
      "34            NaN  \n",
      "35            NaN  \n",
      "36            NaN  \n",
      "37            NaN  \n",
      "38            NaN  \n"
     ]
    }
   ],
   "source": [
    "default_model = UWModel(experiment_id='default_1.0', basefolder='../default_model/')\n",
    "refusal_model = LendingModel(experiment_id='refusal_0.4')"
   ]
  },
  {
   "cell_type": "code",
   "execution_count": 27,
   "metadata": {},
   "outputs": [
    {
     "name": "stdout",
     "output_type": "stream",
     "text": [
      "261 rows removed by threshold filtering\n",
      "458 Rows with 'error' column not NA have been discarded.\n",
      "5 Rows with 'Id' column NA have been discarded.\n",
      "4 Rows with 'request_date' column NA have been discarded.\n",
      "59 Rows with 'account_age_days' column not positive have been discarded.\n"
     ]
    }
   ],
   "source": [
    "accepted_filtered_df = default_model.filter_df(accepted_df)"
   ]
  },
  {
   "cell_type": "code",
   "execution_count": 28,
   "metadata": {},
   "outputs": [
    {
     "data": {
      "text/plain": [
       "18810"
      ]
     },
     "execution_count": 28,
     "metadata": {},
     "output_type": "execute_result"
    }
   ],
   "source": [
    "len(accepted_filtered_df)"
   ]
  },
  {
   "cell_type": "code",
   "execution_count": 61,
   "metadata": {},
   "outputs": [
    {
     "data": {
      "text/plain": [
       "['request_date',\n",
       " 'dob',\n",
       " 'account_age_days',\n",
       " 'count_nsf_90_days',\n",
       " 'count_nsf_30_days',\n",
       " 'count_stop_payment_90_days',\n",
       " 'sum_micro_loan_payments_current_month',\n",
       " 'sum_micro_loan_payments_previous_month',\n",
       " 'sum_micro_loan_payments_2_months_ago',\n",
       " 'recurring_deposits_current_month',\n",
       " 'recurring_deposits_previous_month',\n",
       " 'recurring_deposits_2_months_ago',\n",
       " 'count_active_days',\n",
       " 'sum_total_income_current_month',\n",
       " 'sum_total_income_previous_month',\n",
       " 'sum_total_income_2_months_ago',\n",
       " 'sum_loan_payments_current_month',\n",
       " 'sum_loan_payments_previous_month',\n",
       " 'sum_loan_payments_2_months_ago',\n",
       " 'sum_loan_deposits_30_days',\n",
       " 'sum_loan_deposits_60_days',\n",
       " 'sum_loan_deposits_90_days',\n",
       " 'sum_government_income_current_month',\n",
       " 'sum_government_income_previous_month',\n",
       " 'sum_government_income_2_months_ago',\n",
       " 'sum_employment_insurance_income_current_month',\n",
       " 'sum_employment_insurance_income_previous_month',\n",
       " 'sum_employment_insurance_income_2_months_ago',\n",
       " 'sum_employer_income_current_month',\n",
       " 'sum_employer_income_previous_month',\n",
       " 'sum_employer_income_2_months_ago',\n",
       " 'average_monthly_recurring_transfers_in_complex',\n",
       " 'average_monthly_recurring_transfers_out_complex',\n",
       " 'sum_non_employer_income_current_month',\n",
       " 'sum_non_employer_income_previous_month',\n",
       " 'sum_non_employer_income_2_months_ago']"
      ]
     },
     "execution_count": 61,
     "metadata": {},
     "output_type": "execute_result"
    }
   ],
   "source": [
    "list(refusal_model.features_in)"
   ]
  },
  {
   "cell_type": "code",
   "execution_count": 30,
   "metadata": {},
   "outputs": [
    {
     "data": {
      "text/plain": [
       "[]"
      ]
     },
     "execution_count": 30,
     "metadata": {},
     "output_type": "execute_result"
    }
   ],
   "source": [
    "# check that accepted data contains all required features\n",
    "[c for c in refusal_model.features_in if c not in accepted_filtered_df]"
   ]
  },
  {
   "cell_type": "code",
   "execution_count": 31,
   "metadata": {},
   "outputs": [
    {
     "data": {
      "text/plain": [
       "[]"
      ]
     },
     "execution_count": 31,
     "metadata": {},
     "output_type": "execute_result"
    }
   ],
   "source": [
    "# check that refused data contains all required features\n",
    "[c for c in refusal_model.features_in if c not in refused_df]"
   ]
  },
  {
   "cell_type": "code",
   "execution_count": 32,
   "metadata": {},
   "outputs": [
    {
     "data": {
      "text/plain": [
       "0"
      ]
     },
     "execution_count": 32,
     "metadata": {},
     "output_type": "execute_result"
    }
   ],
   "source": [
    "refused_df['request_date'].isna().sum()"
   ]
  },
  {
   "cell_type": "code",
   "execution_count": 33,
   "metadata": {},
   "outputs": [],
   "source": [
    "accepted_filtered_df['refused'] = 0\n",
    "refused_df['refused'] = 1\n",
    "\n",
    "df = pd.concat([accepted_filtered_df, refused_df])"
   ]
  },
  {
   "cell_type": "code",
   "execution_count": 49,
   "metadata": {},
   "outputs": [
    {
     "data": {
      "text/plain": [
       "True"
      ]
     },
     "execution_count": 49,
     "metadata": {},
     "output_type": "execute_result"
    }
   ],
   "source": [
    "'sum_non_employer_income_current_month' in accepted_filtered_df.columns"
   ]
  },
  {
   "cell_type": "code",
   "execution_count": 34,
   "metadata": {},
   "outputs": [
    {
     "data": {
      "text/plain": [
       "97338"
      ]
     },
     "execution_count": 34,
     "metadata": {},
     "output_type": "execute_result"
    }
   ],
   "source": [
    "len(df)"
   ]
  },
  {
   "cell_type": "code",
   "execution_count": 35,
   "metadata": {},
   "outputs": [
    {
     "data": {
      "text/plain": [
       "refused\n",
       "1    0.806756\n",
       "0    0.193244\n",
       "Name: proportion, dtype: float64"
      ]
     },
     "execution_count": 35,
     "metadata": {},
     "output_type": "execute_result"
    }
   ],
   "source": [
    "df['refused'].value_counts(normalize=True)"
   ]
  },
  {
   "cell_type": "code",
   "execution_count": 62,
   "metadata": {},
   "outputs": [
    {
     "name": "stdout",
     "output_type": "stream",
     "text": [
      "0                                             refused\n",
      "1                                                  Id\n",
      "2                                        request_date\n",
      "3                                       refusalReason\n",
      "4                                                 dob\n",
      "5                                    account_age_days\n",
      "6                                   count_nsf_90_days\n",
      "7                                   count_nsf_30_days\n",
      "8                          count_stop_payment_90_days\n",
      "9               sum_micro_loan_payments_current_month\n",
      "10             sum_micro_loan_payments_previous_month\n",
      "11               sum_micro_loan_payments_2_months_ago\n",
      "12                   recurring_deposits_current_month\n",
      "13                  recurring_deposits_previous_month\n",
      "14                    recurring_deposits_2_months_ago\n",
      "15                                  count_active_days\n",
      "16                     sum_total_income_current_month\n",
      "17                    sum_total_income_previous_month\n",
      "18                      sum_total_income_2_months_ago\n",
      "19                    sum_loan_payments_current_month\n",
      "20                   sum_loan_payments_previous_month\n",
      "21                     sum_loan_payments_2_months_ago\n",
      "22                          sum_loan_deposits_30_days\n",
      "23                          sum_loan_deposits_60_days\n",
      "24                          sum_loan_deposits_90_days\n",
      "25                sum_government_income_current_month\n",
      "26               sum_government_income_previous_month\n",
      "27                 sum_government_income_2_months_ago\n",
      "28      sum_employment_insurance_income_current_month\n",
      "29     sum_employment_insurance_income_previous_month\n",
      "30       sum_employment_insurance_income_2_months_ago\n",
      "31                  sum_employer_income_current_month\n",
      "32                 sum_employer_income_previous_month\n",
      "33                   sum_employer_income_2_months_ago\n",
      "34     average_monthly_recurring_transfers_in_complex\n",
      "35    average_monthly_recurring_transfers_out_complex\n",
      "36              sum_non_employer_income_current_month\n",
      "37             sum_non_employer_income_previous_month\n",
      "38               sum_non_employer_income_2_months_ago\n",
      "Name: variable, dtype: object\n"
     ]
    }
   ],
   "source": [
    "X_train, X_test, y_train, y_test, extra = refusal_model.split_data(df, split_criteria=0.15)"
   ]
  },
  {
   "cell_type": "code",
   "execution_count": 63,
   "metadata": {},
   "outputs": [
    {
     "data": {
      "text/plain": [
       "True"
      ]
     },
     "execution_count": 63,
     "metadata": {},
     "output_type": "execute_result"
    }
   ],
   "source": [
    "'sum_non_employer_income_current_month' in X_train.columns"
   ]
  },
  {
   "cell_type": "code",
   "execution_count": 37,
   "metadata": {},
   "outputs": [
    {
     "data": {
      "text/plain": [
       "dict_keys(['train_request_date', 'test_request_date', 'train_dob', 'test_dob', 'train_Id', 'test_Id', 'train_refusalReason', 'test_refusalReason'])"
      ]
     },
     "execution_count": 37,
     "metadata": {},
     "output_type": "execute_result"
    }
   ],
   "source": [
    "extra.keys()"
   ]
  },
  {
   "cell_type": "code",
   "execution_count": 38,
   "metadata": {},
   "outputs": [
    {
     "data": {
      "text/plain": [
       "82737"
      ]
     },
     "execution_count": 38,
     "metadata": {},
     "output_type": "execute_result"
    }
   ],
   "source": [
    "len(X_train)"
   ]
  },
  {
   "cell_type": "code",
   "execution_count": 43,
   "metadata": {},
   "outputs": [],
   "source": [
    "from westgate.feature_eng import FeatureEng\n",
    "\n",
    "class IncomeFE(FeatureEng):\n",
    "\n",
    "    def feature_engineer(self, X:pd.DataFrame) -> pd.DataFrame:\n",
    "\n",
    "        X['non_classified_income_current_month'] = (X['sum_non_employer_income_current_month']\n",
    "                                                    - X['sum_government_income_current_month'])\n",
    "\n",
    "        X['non_classified_income_previous_month'] = (X['sum_non_employer_income_previous_month']\n",
    "                                                    - X['sum_government_income_previous_month'])\n",
    "\n",
    "        X['non_classified_income_2_months_ago'] = (X['sum_non_employer_income_2_months_ago']\n",
    "                                                    - X['sum_government_income_2_months_ago'])\n",
    "\n",
    "        X['monthly_repayment_capacity'] = (X['sum_employer_income_current_month']\n",
    "                                            - X['sum_loan_deposits_90_days'] / 3.0)\n",
    "\n",
    "        return X"
   ]
  },
  {
   "cell_type": "code",
   "execution_count": 64,
   "metadata": {},
   "outputs": [],
   "source": [
    "refusal_model.add_feature_eng(IncomeFE())"
   ]
  },
  {
   "cell_type": "code",
   "execution_count": 66,
   "metadata": {},
   "outputs": [
    {
     "name": "stdout",
     "output_type": "stream",
     "text": [
      "Error calculating age with dob ########## and request_date 2024-04-03 00:00:00\n",
      "Unknown string format: ##########\n",
      "Error calculating age with dob ########## and request_date 2023-03-30 00:00:00\n",
      "Unknown string format: ##########\n",
      "Error calculating age with dob ########## and request_date 2022-10-06 00:00:00\n",
      "Unknown string format: ##########\n",
      "Error calculating age with dob ########## and request_date 2022-10-03 00:00:00\n",
      "Unknown string format: ##########\n",
      "Error calculating age with dob ########## and request_date 2024-04-03 00:00:00\n",
      "Unknown string format: ##########\n",
      "Error calculating age with dob ########## and request_date 2024-03-06 00:00:00\n",
      "Unknown string format: ##########\n",
      "Error calculating age with dob ########## and request_date 2022-09-14 00:00:00\n",
      "Unknown string format: ##########\n",
      "Error calculating age with dob ########## and request_date 2023-11-10 00:00:00\n",
      "Unknown string format: ##########\n",
      "Error calculating age with dob ########## and request_date 2023-06-11 00:00:00\n",
      "Unknown string format: ##########\n",
      "Error calculating age with dob ########## and request_date 2024-04-03 00:00:00\n",
      "Unknown string format: ##########\n",
      "Error calculating age with dob ########## and request_date 2022-06-15 00:00:00\n",
      "Unknown string format: ##########\n"
     ]
    }
   ],
   "source": [
    "X_train, X_test = refusal_model.feature_engineer(X_train, X_test)"
   ]
  },
  {
   "cell_type": "code",
   "execution_count": 67,
   "metadata": {},
   "outputs": [
    {
     "data": {
      "text/plain": [
       "(82737, 82737)"
      ]
     },
     "execution_count": 67,
     "metadata": {},
     "output_type": "execute_result"
    }
   ],
   "source": [
    "len(X_train),len(y_train)"
   ]
  },
  {
   "cell_type": "code",
   "execution_count": 68,
   "metadata": {},
   "outputs": [],
   "source": [
    "filter = ~X_train['age'].isna()\n",
    "X_train = X_train.loc[filter]\n",
    "y_train = y_train.loc[filter]"
   ]
  },
  {
   "cell_type": "code",
   "execution_count": 69,
   "metadata": {},
   "outputs": [],
   "source": [
    "filter = ~X_test['age'].isna()\n",
    "X_test = X_test.loc[filter]\n",
    "y_test = y_test.loc[filter]"
   ]
  },
  {
   "cell_type": "code",
   "execution_count": 70,
   "metadata": {},
   "outputs": [
    {
     "data": {
      "text/plain": [
       "(82727, 82727)"
      ]
     },
     "execution_count": 70,
     "metadata": {},
     "output_type": "execute_result"
    }
   ],
   "source": [
    "len(X_train), len(y_train)"
   ]
  },
  {
   "cell_type": "code",
   "execution_count": 71,
   "metadata": {},
   "outputs": [],
   "source": [
    "X_train.reset_index(inplace=True, drop=True)\n",
    "y_train.reset_index(inplace=True, drop=True)\n",
    "X_test.reset_index(inplace=True, drop=True)\n",
    "y_test.reset_index(inplace=True, drop=True)"
   ]
  },
  {
   "cell_type": "code",
   "execution_count": 72,
   "metadata": {},
   "outputs": [
    {
     "data": {
      "text/plain": [
       "0"
      ]
     },
     "execution_count": 72,
     "metadata": {},
     "output_type": "execute_result"
    }
   ],
   "source": [
    "X_train.isna().sum().sum()"
   ]
  },
  {
   "cell_type": "code",
   "execution_count": 73,
   "metadata": {},
   "outputs": [],
   "source": [
    "r = X_train, y_train, X_test, y_test, extra"
   ]
  },
  {
   "cell_type": "code",
   "execution_count": 74,
   "metadata": {},
   "outputs": [
    {
     "data": {
      "text/plain": [
       "(14600, 14600)"
      ]
     },
     "execution_count": 74,
     "metadata": {},
     "output_type": "execute_result"
    }
   ],
   "source": [
    "len(X_test), len(y_test)"
   ]
  },
  {
   "cell_type": "code",
   "execution_count": 75,
   "metadata": {},
   "outputs": [
    {
     "data": {
      "text/plain": [
       "refused\n",
       "1    0.805411\n",
       "0    0.194589\n",
       "Name: proportion, dtype: float64"
      ]
     },
     "execution_count": 75,
     "metadata": {},
     "output_type": "execute_result"
    }
   ],
   "source": [
    "y_test.value_counts(normalize=True)"
   ]
  },
  {
   "cell_type": "code",
   "execution_count": 76,
   "metadata": {},
   "outputs": [
    {
     "data": {
      "text/plain": [
       "Index(['account_age_days', 'average_monthly_recurring_transfers_in_complex',\n",
       "       'average_monthly_recurring_transfers_out_complex', 'count_active_days',\n",
       "       'count_nsf_30_days', 'count_nsf_90_days', 'count_stop_payment_90_days',\n",
       "       'recurring_deposits_2_months_ago', 'recurring_deposits_current_month',\n",
       "       'recurring_deposits_previous_month', 'sum_employer_income_2_months_ago',\n",
       "       'sum_employer_income_current_month',\n",
       "       'sum_employer_income_previous_month',\n",
       "       'sum_employment_insurance_income_2_months_ago',\n",
       "       'sum_employment_insurance_income_current_month',\n",
       "       'sum_employment_insurance_income_previous_month',\n",
       "       'sum_government_income_2_months_ago',\n",
       "       'sum_government_income_current_month',\n",
       "       'sum_government_income_previous_month', 'sum_loan_deposits_30_days',\n",
       "       'sum_loan_deposits_60_days', 'sum_loan_deposits_90_days',\n",
       "       'sum_loan_payments_2_months_ago', 'sum_loan_payments_current_month',\n",
       "       'sum_loan_payments_previous_month',\n",
       "       'sum_micro_loan_payments_2_months_ago',\n",
       "       'sum_micro_loan_payments_current_month',\n",
       "       'sum_micro_loan_payments_previous_month',\n",
       "       'sum_non_employer_income_2_months_ago',\n",
       "       'sum_non_employer_income_current_month',\n",
       "       'sum_non_employer_income_previous_month',\n",
       "       'sum_total_income_2_months_ago', 'sum_total_income_current_month',\n",
       "       'sum_total_income_previous_month', 'age',\n",
       "       'non_classified_income_current_month',\n",
       "       'non_classified_income_previous_month',\n",
       "       'non_classified_income_2_months_ago', 'monthly_repayment_capacity'],\n",
       "      dtype='object')"
      ]
     },
     "execution_count": 76,
     "metadata": {},
     "output_type": "execute_result"
    }
   ],
   "source": [
    "X_test.columns"
   ]
  },
  {
   "cell_type": "code",
   "execution_count": 89,
   "metadata": {},
   "outputs": [
    {
     "data": {
      "image/png": "[encoded data removed]",
      "text/plain": [
       "<Figure size 640x480 with 1 Axes>"
      ]
     },
     "metadata": {},
     "output_type": "display_data"
    },
    {
     "name": "stdout",
     "output_type": "stream",
     "text": [
      "Saving X_test-refusal_0.4.csv\n"
     ]
    },
    {
     "data": {
      "image/png": "[encoded data removed]",
      "text/plain": [
       "<Figure size 640x480 with 1 Axes>"
      ]
     },
     "metadata": {},
     "output_type": "display_data"
    }
   ],
   "source": [
    "y_pred_proba, y_pred, extra = refusal_model.fit(*r, \n",
    "                                                time_budget=10, \n",
    "                                                threshold=0.55)"
   ]
  },
  {
   "cell_type": "code",
   "execution_count": 60,
   "metadata": {},
   "outputs": [
    {
     "data": {
      "text/html": [
       "<div>\n",
       "<style scoped>\n",
       "    .dataframe tbody tr th:only-of-type {\n",
       "        vertical-align: middle;\n",
       "    }\n",
       "\n",
       "    .dataframe tbody tr th {\n",
       "        vertical-align: top;\n",
       "    }\n",
       "\n",
       "    .dataframe thead th {\n",
       "        text-align: right;\n",
       "    }\n",
       "</style>\n",
       "<table border=\"1\" class=\"dataframe\">\n",
       "  <thead>\n",
       "    <tr style=\"text-align: right;\">\n",
       "      <th></th>\n",
       "      <th>variable</th>\n",
       "      <th>imp</th>\n",
       "    </tr>\n",
       "  </thead>\n",
       "  <tbody>\n",
       "    <tr>\n",
       "      <th>5</th>\n",
       "      <td>count_nsf_90_days</td>\n",
       "      <td>0.110160</td>\n",
       "    </tr>\n",
       "    <tr>\n",
       "      <th>4</th>\n",
       "      <td>count_nsf_30_days</td>\n",
       "      <td>0.059344</td>\n",
       "    </tr>\n",
       "    <tr>\n",
       "      <th>10</th>\n",
       "      <td>sum_employer_income_2_months_ago</td>\n",
       "      <td>0.054609</td>\n",
       "    </tr>\n",
       "    <tr>\n",
       "      <th>6</th>\n",
       "      <td>count_stop_payment_90_days</td>\n",
       "      <td>0.047966</td>\n",
       "    </tr>\n",
       "    <tr>\n",
       "      <th>12</th>\n",
       "      <td>sum_employer_income_previous_month</td>\n",
       "      <td>0.044818</td>\n",
       "    </tr>\n",
       "    <tr>\n",
       "      <th>0</th>\n",
       "      <td>account_age_days</td>\n",
       "      <td>0.042228</td>\n",
       "    </tr>\n",
       "    <tr>\n",
       "      <th>8</th>\n",
       "      <td>recurring_deposits_current_month</td>\n",
       "      <td>0.041195</td>\n",
       "    </tr>\n",
       "    <tr>\n",
       "      <th>30</th>\n",
       "      <td>sum_total_income_previous_month</td>\n",
       "      <td>0.040591</td>\n",
       "    </tr>\n",
       "    <tr>\n",
       "      <th>11</th>\n",
       "      <td>sum_employer_income_current_month</td>\n",
       "      <td>0.036225</td>\n",
       "    </tr>\n",
       "    <tr>\n",
       "      <th>25</th>\n",
       "      <td>sum_micro_loan_payments_2_months_ago</td>\n",
       "      <td>0.034501</td>\n",
       "    </tr>\n",
       "    <tr>\n",
       "      <th>27</th>\n",
       "      <td>sum_micro_loan_payments_previous_month</td>\n",
       "      <td>0.031279</td>\n",
       "    </tr>\n",
       "    <tr>\n",
       "      <th>3</th>\n",
       "      <td>count_active_days</td>\n",
       "      <td>0.027491</td>\n",
       "    </tr>\n",
       "    <tr>\n",
       "      <th>26</th>\n",
       "      <td>sum_micro_loan_payments_current_month</td>\n",
       "      <td>0.026527</td>\n",
       "    </tr>\n",
       "    <tr>\n",
       "      <th>7</th>\n",
       "      <td>recurring_deposits_2_months_ago</td>\n",
       "      <td>0.025474</td>\n",
       "    </tr>\n",
       "    <tr>\n",
       "      <th>24</th>\n",
       "      <td>sum_loan_payments_previous_month</td>\n",
       "      <td>0.025453</td>\n",
       "    </tr>\n",
       "    <tr>\n",
       "      <th>28</th>\n",
       "      <td>sum_total_income_2_months_ago</td>\n",
       "      <td>0.025198</td>\n",
       "    </tr>\n",
       "    <tr>\n",
       "      <th>9</th>\n",
       "      <td>recurring_deposits_previous_month</td>\n",
       "      <td>0.024486</td>\n",
       "    </tr>\n",
       "    <tr>\n",
       "      <th>18</th>\n",
       "      <td>sum_government_income_previous_month</td>\n",
       "      <td>0.024148</td>\n",
       "    </tr>\n",
       "    <tr>\n",
       "      <th>23</th>\n",
       "      <td>sum_loan_payments_current_month</td>\n",
       "      <td>0.023465</td>\n",
       "    </tr>\n",
       "    <tr>\n",
       "      <th>22</th>\n",
       "      <td>sum_loan_payments_2_months_ago</td>\n",
       "      <td>0.023380</td>\n",
       "    </tr>\n",
       "    <tr>\n",
       "      <th>31</th>\n",
       "      <td>age</td>\n",
       "      <td>0.022862</td>\n",
       "    </tr>\n",
       "    <tr>\n",
       "      <th>16</th>\n",
       "      <td>sum_government_income_2_months_ago</td>\n",
       "      <td>0.022505</td>\n",
       "    </tr>\n",
       "    <tr>\n",
       "      <th>20</th>\n",
       "      <td>sum_loan_deposits_60_days</td>\n",
       "      <td>0.021203</td>\n",
       "    </tr>\n",
       "    <tr>\n",
       "      <th>17</th>\n",
       "      <td>sum_government_income_current_month</td>\n",
       "      <td>0.021099</td>\n",
       "    </tr>\n",
       "    <tr>\n",
       "      <th>19</th>\n",
       "      <td>sum_loan_deposits_30_days</td>\n",
       "      <td>0.020472</td>\n",
       "    </tr>\n",
       "    <tr>\n",
       "      <th>21</th>\n",
       "      <td>sum_loan_deposits_90_days</td>\n",
       "      <td>0.020154</td>\n",
       "    </tr>\n",
       "    <tr>\n",
       "      <th>2</th>\n",
       "      <td>average_monthly_recurring_transfers_out_complex</td>\n",
       "      <td>0.019342</td>\n",
       "    </tr>\n",
       "    <tr>\n",
       "      <th>1</th>\n",
       "      <td>average_monthly_recurring_transfers_in_complex</td>\n",
       "      <td>0.018970</td>\n",
       "    </tr>\n",
       "    <tr>\n",
       "      <th>29</th>\n",
       "      <td>sum_total_income_current_month</td>\n",
       "      <td>0.018907</td>\n",
       "    </tr>\n",
       "    <tr>\n",
       "      <th>13</th>\n",
       "      <td>sum_employment_insurance_income_2_months_ago</td>\n",
       "      <td>0.016503</td>\n",
       "    </tr>\n",
       "    <tr>\n",
       "      <th>15</th>\n",
       "      <td>sum_employment_insurance_income_previous_month</td>\n",
       "      <td>0.015389</td>\n",
       "    </tr>\n",
       "    <tr>\n",
       "      <th>14</th>\n",
       "      <td>sum_employment_insurance_income_current_month</td>\n",
       "      <td>0.014056</td>\n",
       "    </tr>\n",
       "  </tbody>\n",
       "</table>\n",
       "</div>"
      ],
      "text/plain": [
       "                                           variable       imp\n",
       "5                                 count_nsf_90_days  0.110160\n",
       "4                                 count_nsf_30_days  0.059344\n",
       "10                 sum_employer_income_2_months_ago  0.054609\n",
       "6                        count_stop_payment_90_days  0.047966\n",
       "12               sum_employer_income_previous_month  0.044818\n",
       "0                                  account_age_days  0.042228\n",
       "8                  recurring_deposits_current_month  0.041195\n",
       "30                  sum_total_income_previous_month  0.040591\n",
       "11                sum_employer_income_current_month  0.036225\n",
       "25             sum_micro_loan_payments_2_months_ago  0.034501\n",
       "27           sum_micro_loan_payments_previous_month  0.031279\n",
       "3                                 count_active_days  0.027491\n",
       "26            sum_micro_loan_payments_current_month  0.026527\n",
       "7                   recurring_deposits_2_months_ago  0.025474\n",
       "24                 sum_loan_payments_previous_month  0.025453\n",
       "28                    sum_total_income_2_months_ago  0.025198\n",
       "9                 recurring_deposits_previous_month  0.024486\n",
       "18             sum_government_income_previous_month  0.024148\n",
       "23                  sum_loan_payments_current_month  0.023465\n",
       "22                   sum_loan_payments_2_months_ago  0.023380\n",
       "31                                              age  0.022862\n",
       "16               sum_government_income_2_months_ago  0.022505\n",
       "20                        sum_loan_deposits_60_days  0.021203\n",
       "17              sum_government_income_current_month  0.021099\n",
       "19                        sum_loan_deposits_30_days  0.020472\n",
       "21                        sum_loan_deposits_90_days  0.020154\n",
       "2   average_monthly_recurring_transfers_out_complex  0.019342\n",
       "1    average_monthly_recurring_transfers_in_complex  0.018970\n",
       "29                   sum_total_income_current_month  0.018907\n",
       "13     sum_employment_insurance_income_2_months_ago  0.016503\n",
       "15   sum_employment_insurance_income_previous_month  0.015389\n",
       "14    sum_employment_insurance_income_current_month  0.014056"
      ]
     },
     "execution_count": 60,
     "metadata": {},
     "output_type": "execute_result"
    }
   ],
   "source": [
    "refusal_model.feat_imp()"
   ]
  },
  {
   "cell_type": "code",
   "execution_count": 52,
   "metadata": {},
   "outputs": [],
   "source": [
    "y_pred_proba_test = refusal_model.predict_proba(X_test, filter=False, engineer=False)"
   ]
  },
  {
   "cell_type": "code",
   "execution_count": 53,
   "metadata": {},
   "outputs": [
    {
     "data": {
      "text/plain": [
       "<Axes: ylabel='Frequency'>"
      ]
     },
     "execution_count": 53,
     "metadata": {},
     "output_type": "execute_result"
    },
    {
     "data": {
      "image/png": "[encoded data removed]",
      "text/plain": [
       "<Figure size 640x480 with 1 Axes>"
      ]
     },
     "metadata": {},
     "output_type": "display_data"
    }
   ],
   "source": [
    "y_pred_proba_test.plot.hist()"
   ]
  },
  {
   "cell_type": "code",
   "execution_count": 54,
   "metadata": {},
   "outputs": [],
   "source": [
    "perf_df = pd.DataFrame({'y_pred': y_pred_proba, 'y_test': y_test})"
   ]
  },
  {
   "cell_type": "code",
   "execution_count": 55,
   "metadata": {},
   "outputs": [
    {
     "data": {
      "image/png": "[encoded data removed]",
      "text/plain": [
       "<Figure size 640x480 with 2 Axes>"
      ]
     },
     "metadata": {},
     "output_type": "display_data"
    }
   ],
   "source": [
    "fig = combo_chart(perf_df, xvar='y_pred', q=10, yvar='y_test', ylabel='Refusal rate')"
   ]
  },
  {
   "cell_type": "code",
   "execution_count": 61,
   "metadata": {},
   "outputs": [],
   "source": [
    "X_full = pd.concat([X_train, X_test])\n",
    "y_full = pd.concat([y_train, y_test])"
   ]
  },
  {
   "cell_type": "code",
   "execution_count": 62,
   "metadata": {},
   "outputs": [
    {
     "name": "stdout",
     "output_type": "stream",
     "text": [
      "[flaml.automl.logger: 05-27 06:33:43] {804} INFO - log file name log_refusal_0.3.log\n",
      "[flaml.automl.logger: 05-27 06:33:43] {857} INFO - estimator = xgboost, config = {'n_estimators': 43, 'max_leaves': 25, 'min_child_weight': 12.49957082554637, 'learning_rate': 0.6413547778096401, 'subsample': 1.0, 'colsample_bylevel': 0.9528676738644739, 'colsample_bytree': 0.6980216487058154, 'reg_alpha': 0.015338994407265423, 'reg_lambda': 0.6187883856240529}, #training instances = 97327\n",
      "[flaml.automl.logger: 05-27 06:33:44] {890} INFO - retrain from log succeeded\n"
     ]
    },
    {
     "data": {
      "text/plain": [
       "45.589619636535645"
      ]
     },
     "execution_count": 62,
     "metadata": {},
     "output_type": "execute_result"
    }
   ],
   "source": [
    "refusal_model.automl.retrain_from_log(\n",
    "    'log_refusal_0.3.log',\n",
    "    X_full,\n",
    "    y_full,\n",
    "    train_best=True,\n",
    "    train_full=True,\n",
    "    time_budget=60\n",
    ")"
   ]
  },
  {
   "cell_type": "code",
   "execution_count": 63,
   "metadata": {},
   "outputs": [],
   "source": [
    "refusal_model.save()"
   ]
  },
  {
   "cell_type": "code",
   "execution_count": 64,
   "metadata": {},
   "outputs": [
    {
     "data": {
      "text/html": [
       "<div>\n",
       "<style scoped>\n",
       "    .dataframe tbody tr th:only-of-type {\n",
       "        vertical-align: middle;\n",
       "    }\n",
       "\n",
       "    .dataframe tbody tr th {\n",
       "        vertical-align: top;\n",
       "    }\n",
       "\n",
       "    .dataframe thead th {\n",
       "        text-align: right;\n",
       "    }\n",
       "</style>\n",
       "<table border=\"1\" class=\"dataframe\">\n",
       "  <thead>\n",
       "    <tr style=\"text-align: right;\">\n",
       "      <th></th>\n",
       "      <th>account_age_days</th>\n",
       "      <th>average_monthly_recurring_transfers_in_complex</th>\n",
       "      <th>average_monthly_recurring_transfers_out_complex</th>\n",
       "      <th>count_active_days</th>\n",
       "      <th>count_nsf_30_days</th>\n",
       "      <th>count_nsf_90_days</th>\n",
       "      <th>count_stop_payment_90_days</th>\n",
       "      <th>recurring_deposits_2_months_ago</th>\n",
       "      <th>recurring_deposits_current_month</th>\n",
       "      <th>recurring_deposits_previous_month</th>\n",
       "      <th>...</th>\n",
       "      <th>sum_loan_payments_2_months_ago</th>\n",
       "      <th>sum_loan_payments_current_month</th>\n",
       "      <th>sum_loan_payments_previous_month</th>\n",
       "      <th>sum_micro_loan_payments_2_months_ago</th>\n",
       "      <th>sum_micro_loan_payments_current_month</th>\n",
       "      <th>sum_micro_loan_payments_previous_month</th>\n",
       "      <th>sum_total_income_2_months_ago</th>\n",
       "      <th>sum_total_income_current_month</th>\n",
       "      <th>sum_total_income_previous_month</th>\n",
       "      <th>age</th>\n",
       "    </tr>\n",
       "  </thead>\n",
       "  <tbody>\n",
       "    <tr>\n",
       "      <th>0</th>\n",
       "      <td>198.0</td>\n",
       "      <td>0.0</td>\n",
       "      <td>150.0</td>\n",
       "      <td>107.0</td>\n",
       "      <td>3.0</td>\n",
       "      <td>3.0</td>\n",
       "      <td>0.0</td>\n",
       "      <td>0.0</td>\n",
       "      <td>0.0</td>\n",
       "      <td>0.0</td>\n",
       "      <td>...</td>\n",
       "      <td>1267.64</td>\n",
       "      <td>1657.49</td>\n",
       "      <td>1941.24</td>\n",
       "      <td>1162.3</td>\n",
       "      <td>1416.81</td>\n",
       "      <td>1835.90</td>\n",
       "      <td>2150.41</td>\n",
       "      <td>2553.79</td>\n",
       "      <td>2684.21</td>\n",
       "      <td>34.0</td>\n",
       "    </tr>\n",
       "    <tr>\n",
       "      <th>1</th>\n",
       "      <td>88.0</td>\n",
       "      <td>0.0</td>\n",
       "      <td>0.0</td>\n",
       "      <td>57.0</td>\n",
       "      <td>0.0</td>\n",
       "      <td>0.0</td>\n",
       "      <td>2.0</td>\n",
       "      <td>0.0</td>\n",
       "      <td>0.0</td>\n",
       "      <td>0.0</td>\n",
       "      <td>...</td>\n",
       "      <td>135.00</td>\n",
       "      <td>191.97</td>\n",
       "      <td>172.98</td>\n",
       "      <td>0.0</td>\n",
       "      <td>0.00</td>\n",
       "      <td>0.00</td>\n",
       "      <td>8476.36</td>\n",
       "      <td>5117.08</td>\n",
       "      <td>4077.11</td>\n",
       "      <td>49.0</td>\n",
       "    </tr>\n",
       "    <tr>\n",
       "      <th>2</th>\n",
       "      <td>90.0</td>\n",
       "      <td>0.0</td>\n",
       "      <td>0.0</td>\n",
       "      <td>56.0</td>\n",
       "      <td>0.0</td>\n",
       "      <td>0.0</td>\n",
       "      <td>0.0</td>\n",
       "      <td>0.0</td>\n",
       "      <td>0.0</td>\n",
       "      <td>0.0</td>\n",
       "      <td>...</td>\n",
       "      <td>0.00</td>\n",
       "      <td>0.00</td>\n",
       "      <td>0.00</td>\n",
       "      <td>0.0</td>\n",
       "      <td>0.00</td>\n",
       "      <td>0.00</td>\n",
       "      <td>3601.78</td>\n",
       "      <td>0.00</td>\n",
       "      <td>2990.71</td>\n",
       "      <td>30.0</td>\n",
       "    </tr>\n",
       "    <tr>\n",
       "      <th>3</th>\n",
       "      <td>91.0</td>\n",
       "      <td>0.0</td>\n",
       "      <td>1050.0</td>\n",
       "      <td>59.0</td>\n",
       "      <td>0.0</td>\n",
       "      <td>0.0</td>\n",
       "      <td>0.0</td>\n",
       "      <td>0.0</td>\n",
       "      <td>0.0</td>\n",
       "      <td>0.0</td>\n",
       "      <td>...</td>\n",
       "      <td>394.76</td>\n",
       "      <td>95.70</td>\n",
       "      <td>382.05</td>\n",
       "      <td>222.6</td>\n",
       "      <td>95.70</td>\n",
       "      <td>166.94</td>\n",
       "      <td>1979.26</td>\n",
       "      <td>412.00</td>\n",
       "      <td>1894.16</td>\n",
       "      <td>49.0</td>\n",
       "    </tr>\n",
       "    <tr>\n",
       "      <th>4</th>\n",
       "      <td>365.0</td>\n",
       "      <td>0.0</td>\n",
       "      <td>0.0</td>\n",
       "      <td>200.0</td>\n",
       "      <td>2.0</td>\n",
       "      <td>2.0</td>\n",
       "      <td>0.0</td>\n",
       "      <td>0.0</td>\n",
       "      <td>0.0</td>\n",
       "      <td>0.0</td>\n",
       "      <td>...</td>\n",
       "      <td>75.50</td>\n",
       "      <td>18.99</td>\n",
       "      <td>268.33</td>\n",
       "      <td>0.0</td>\n",
       "      <td>0.00</td>\n",
       "      <td>173.84</td>\n",
       "      <td>666.00</td>\n",
       "      <td>0.00</td>\n",
       "      <td>0.00</td>\n",
       "      <td>28.0</td>\n",
       "    </tr>\n",
       "  </tbody>\n",
       "</table>\n",
       "<p>5 rows × 32 columns</p>\n",
       "</div>"
      ],
      "text/plain": [
       "   account_age_days  average_monthly_recurring_transfers_in_complex  \\\n",
       "0             198.0                                             0.0   \n",
       "1              88.0                                             0.0   \n",
       "2              90.0                                             0.0   \n",
       "3              91.0                                             0.0   \n",
       "4             365.0                                             0.0   \n",
       "\n",
       "   average_monthly_recurring_transfers_out_complex  count_active_days  \\\n",
       "0                                            150.0              107.0   \n",
       "1                                              0.0               57.0   \n",
       "2                                              0.0               56.0   \n",
       "3                                           1050.0               59.0   \n",
       "4                                              0.0              200.0   \n",
       "\n",
       "   count_nsf_30_days  count_nsf_90_days  count_stop_payment_90_days  \\\n",
       "0                3.0                3.0                         0.0   \n",
       "1                0.0                0.0                         2.0   \n",
       "2                0.0                0.0                         0.0   \n",
       "3                0.0                0.0                         0.0   \n",
       "4                2.0                2.0                         0.0   \n",
       "\n",
       "   recurring_deposits_2_months_ago  recurring_deposits_current_month  \\\n",
       "0                              0.0                               0.0   \n",
       "1                              0.0                               0.0   \n",
       "2                              0.0                               0.0   \n",
       "3                              0.0                               0.0   \n",
       "4                              0.0                               0.0   \n",
       "\n",
       "   recurring_deposits_previous_month  ...  sum_loan_payments_2_months_ago  \\\n",
       "0                                0.0  ...                         1267.64   \n",
       "1                                0.0  ...                          135.00   \n",
       "2                                0.0  ...                            0.00   \n",
       "3                                0.0  ...                          394.76   \n",
       "4                                0.0  ...                           75.50   \n",
       "\n",
       "   sum_loan_payments_current_month  sum_loan_payments_previous_month  \\\n",
       "0                          1657.49                           1941.24   \n",
       "1                           191.97                            172.98   \n",
       "2                             0.00                              0.00   \n",
       "3                            95.70                            382.05   \n",
       "4                            18.99                            268.33   \n",
       "\n",
       "   sum_micro_loan_payments_2_months_ago  \\\n",
       "0                                1162.3   \n",
       "1                                   0.0   \n",
       "2                                   0.0   \n",
       "3                                 222.6   \n",
       "4                                   0.0   \n",
       "\n",
       "   sum_micro_loan_payments_current_month  \\\n",
       "0                                1416.81   \n",
       "1                                   0.00   \n",
       "2                                   0.00   \n",
       "3                                  95.70   \n",
       "4                                   0.00   \n",
       "\n",
       "   sum_micro_loan_payments_previous_month  sum_total_income_2_months_ago  \\\n",
       "0                                 1835.90                        2150.41   \n",
       "1                                    0.00                        8476.36   \n",
       "2                                    0.00                        3601.78   \n",
       "3                                  166.94                        1979.26   \n",
       "4                                  173.84                         666.00   \n",
       "\n",
       "   sum_total_income_current_month  sum_total_income_previous_month   age  \n",
       "0                         2553.79                          2684.21  34.0  \n",
       "1                         5117.08                          4077.11  49.0  \n",
       "2                            0.00                          2990.71  30.0  \n",
       "3                          412.00                          1894.16  49.0  \n",
       "4                            0.00                             0.00  28.0  \n",
       "\n",
       "[5 rows x 32 columns]"
      ]
     },
     "execution_count": 64,
     "metadata": {},
     "output_type": "execute_result"
    }
   ],
   "source": [
    "X_full.head()"
   ]
  },
  {
   "cell_type": "code",
   "execution_count": 65,
   "metadata": {},
   "outputs": [],
   "source": [
    "y_pred_proba = refusal_model.predict_proba(X_full, filter=False, engineer=False)['pred_proba']"
   ]
  },
  {
   "cell_type": "code",
   "execution_count": 66,
   "metadata": {},
   "outputs": [
    {
     "data": {
      "text/plain": [
       "<Axes: ylabel='Frequency'>"
      ]
     },
     "execution_count": 66,
     "metadata": {},
     "output_type": "execute_result"
    },
    {
     "data": {
      "image/png": "[encoded data removed]",
      "text/plain": [
       "<Figure size 640x480 with 1 Axes>"
      ]
     },
     "metadata": {},
     "output_type": "display_data"
    }
   ],
   "source": [
    "y_pred_proba.plot.hist()"
   ]
  },
  {
   "cell_type": "code",
   "execution_count": 67,
   "metadata": {},
   "outputs": [
    {
     "name": "stdout",
     "output_type": "stream",
     "text": [
      "\n",
      "y_pred_proba distribution:\n",
      "pred_proba\n",
      "(0.9, 1.0]          45102\n",
      "(0.8, 0.9]          17466\n",
      "(0.7, 0.8]          11205\n",
      "(0.6, 0.7]           7846\n",
      "(0.5, 0.6]           5786\n",
      "(0.4, 0.5]           4338\n",
      "(0.3, 0.4]           2564\n",
      "(0.2, 0.3]           1290\n",
      "(-0.000998, 0.1]     1245\n",
      "(0.1, 0.2]            485\n",
      "Name: count, dtype: int64\n"
     ]
    }
   ],
   "source": [
    "y_pred_proba_bins = pd.cut(y_pred_proba, 10, duplicates = 'drop')\n",
    "print('\\ny_pred_proba distribution:')\n",
    "print(y_pred_proba_bins.value_counts())"
   ]
  },
  {
   "cell_type": "code",
   "execution_count": 68,
   "metadata": {},
   "outputs": [
    {
     "data": {
      "text/plain": [
       "array([0.37701078, 0.49571544, 0.58349861, 0.65219302, 0.70826584,\n",
       "       0.75511549, 0.79431935, 0.82892301, 0.85728685, 0.88249481,\n",
       "       0.90526485, 0.92521245, 0.94311357, 0.95798733, 0.9703573 ,\n",
       "       0.97951324, 0.98674767, 0.99192162, 0.99531112])"
      ]
     },
     "execution_count": 68,
     "metadata": {},
     "output_type": "execute_result"
    }
   ],
   "source": [
    "percentiles = np.percentile(y_pred_proba, range(5,100,5))\n",
    "percentiles"
   ]
  },
  {
   "cell_type": "code",
   "execution_count": 69,
   "metadata": {},
   "outputs": [
    {
     "data": {
      "text/plain": [
       "{5: 0.3770107805728912,\n",
       " 10: 0.4957154393196106,\n",
       " 15: 0.5834986090660095,\n",
       " 20: 0.652193021774292,\n",
       " 25: 0.7082658410072327,\n",
       " 30: 0.7551154851913452,\n",
       " 35: 0.7943193495273589,\n",
       " 40: 0.8289230108261109,\n",
       " 45: 0.8572868466377258,\n",
       " 50: 0.8824948072433472,\n",
       " 55: 0.9052648544311523,\n",
       " 60: 0.9252124547958374,\n",
       " 65: 0.9431135654449463,\n",
       " 70: 0.9579873323440552,\n",
       " 75: 0.9703572988510132,\n",
       " 80: 0.9795132398605346,\n",
       " 85: 0.9867476701736451,\n",
       " 90: 0.991921615600586,\n",
       " 95: 0.9953111231327056}"
      ]
     },
     "execution_count": 69,
     "metadata": {},
     "output_type": "execute_result"
    }
   ],
   "source": [
    "refusal_model.percentiles = {p:v for p,v in zip(range(5,100,5), percentiles)}\n",
    "refusal_model.percentiles "
   ]
  },
  {
   "cell_type": "code",
   "execution_count": 77,
   "metadata": {},
   "outputs": [
    {
     "name": "stdout",
     "output_type": "stream",
     "text": [
      "              precision    recall  f1-score   support\n",
      "\n",
      "           0       0.64      0.49      0.56     18810\n",
      "           1       0.89      0.93      0.91     78517\n",
      "\n",
      "    accuracy                           0.85     97327\n",
      "   macro avg       0.76      0.71      0.73     97327\n",
      "weighted avg       0.84      0.85      0.84     97327\n",
      "\n",
      "0.8500005137320579\n"
     ]
    }
   ],
   "source": [
    "from sklearn.metrics import classification_report, confusion_matrix\n",
    "\n",
    "y_pred = np.where(y_pred_proba >= refusal_model.percentiles[15], 1, 0)\n",
    "\n",
    "print(classification_report(y_full, y_pred))\n",
    "\n",
    "print(y_pred.sum() / len(y_pred))"
   ]
  },
  {
   "cell_type": "code",
   "execution_count": 70,
   "metadata": {},
   "outputs": [],
   "source": [
    "refusal_model.save()"
   ]
  },
  {
   "cell_type": "markdown",
   "metadata": {},
   "source": [
    "### Predictions review"
   ]
  },
  {
   "cell_type": "code",
   "execution_count": 256,
   "metadata": {},
   "outputs": [
    {
     "ename": "AttributeError",
     "evalue": "'NoneType' object has no attribute 'predict_proba'",
     "output_type": "error",
     "traceback": [
      "\u001b[1;31m---------------------------------------------------------------------------\u001b[0m",
      "\u001b[1;31mAttributeError\u001b[0m                            Traceback (most recent call last)",
      "Cell \u001b[1;32mIn[256], line 1\u001b[0m\n\u001b[1;32m----> 1\u001b[0m \u001b[43mrefusal_model\u001b[49m\u001b[38;5;241;43m.\u001b[39;49m\u001b[43mpredict_proba\u001b[49m\u001b[43m(\u001b[49m\u001b[43mX_train\u001b[49m\u001b[43m,\u001b[49m\u001b[43m \u001b[49m\u001b[38;5;28;43mfilter\u001b[39;49m\u001b[38;5;241;43m=\u001b[39;49m\u001b[38;5;28;43;01mFalse\u001b[39;49;00m\u001b[43m,\u001b[49m\u001b[43m \u001b[49m\u001b[43mengineer\u001b[49m\u001b[38;5;241;43m=\u001b[39;49m\u001b[38;5;28;43;01mFalse\u001b[39;49;00m\u001b[43m)\u001b[49m[\u001b[38;5;124m'\u001b[39m\u001b[38;5;124mpred_proba\u001b[39m\u001b[38;5;124m'\u001b[39m]\n",
      "File \u001b[1;32m~\\Documents\\westgate\\westgate\\flaml_model.py:122\u001b[0m, in \u001b[0;36mLendingModel.predict_proba\u001b[1;34m(self, df, filter, engineer)\u001b[0m\n\u001b[0;32m    <a href='file:///~/Documents/westgate/westgate/flaml_model.py?line=118'>119</a>\u001b[0m         \u001b[39mraise\u001b[39;00m EmptyDataFrameException(\u001b[39m'\u001b[39m\u001b[39mNo rows remaining after feature engineering.\u001b[39m\u001b[39m'\u001b[39m)\n\u001b[0;32m    <a href='file:///~/Documents/westgate/westgate/flaml_model.py?line=120'>121</a>\u001b[0m \u001b[39m#prediction_df = df[self.features].to_numpy()\u001b[39;00m\n\u001b[1;32m--> <a href='file:///~/Documents/westgate/westgate/flaml_model.py?line=121'>122</a>\u001b[0m preds \u001b[39m=\u001b[39m  \u001b[39mself\u001b[39;49m\u001b[39m.\u001b[39;49mautoml\u001b[39m.\u001b[39;49mpredict_proba(df[\u001b[39mself\u001b[39m\u001b[39m.\u001b[39mfeatures])\n\u001b[0;32m    <a href='file:///~/Documents/westgate/westgate/flaml_model.py?line=123'>124</a>\u001b[0m \u001b[39mif\u001b[39;00m preds\u001b[39m.\u001b[39mshape[\u001b[39m0\u001b[39m] \u001b[39m>\u001b[39m \u001b[39m1\u001b[39m:\n\u001b[0;32m    <a href='file:///~/Documents/westgate/westgate/flaml_model.py?line=124'>125</a>\u001b[0m     preds \u001b[39m=\u001b[39m preds[:, \u001b[39m1\u001b[39m]\n",
      "\u001b[1;31mAttributeError\u001b[0m: 'NoneType' object has no attribute 'predict_proba'"
     ]
    }
   ],
   "source": [
    "refusal_model.predict_proba(X_train, filter=False, engineer=False)['pred_proba']"
   ]
  },
  {
   "cell_type": "markdown",
   "metadata": {},
   "source": [
    "refusal_model.predict_proba(X_train, filter=False, engineer=False)['pred_proba']"
   ]
  }
 ],
 "metadata": {
  "interpreter": {
   "hash": "c949762a1497e6497ef2ce1d03508af2baca1492d5369cf1827d7a1955776fe1"
  },
  "kernelspec": {
   "display_name": "Python 3.10.5 ('.env-dataprep': venv)",
   "language": "python",
   "name": "python3"
  },
  "language_info": {
   "codemirror_mode": {
    "name": "ipython",
    "version": 3
   },
   "file_extension": ".py",
   "mimetype": "text/x-python",
   "name": "python",
   "nbconvert_exporter": "python",
   "pygments_lexer": "ipython3",
   "version": "3.12.3"
  },
  "orig_nbformat": 4
 },
 "nbformat": 4,
 "nbformat_minor": 2
}
