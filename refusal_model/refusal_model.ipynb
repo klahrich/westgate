{
 "cells": [
  {
   "cell_type": "code",
   "execution_count": 1,
   "metadata": {},
   "outputs": [],
   "source": [
    "%load_ext autoreload\n",
    "%autoreload 2"
   ]
  },
  {
   "cell_type": "code",
   "execution_count": 2,
   "metadata": {},
   "outputs": [],
   "source": [
    "from westgate.flaml_model import *\n",
    "import pandas as pd\n",
    "from westgate.combochart import combo_chart\n",
    "import logging"
   ]
  },
  {
   "cell_type": "code",
   "execution_count": 3,
   "metadata": {},
   "outputs": [],
   "source": [
    "logger = logging.getLogger('westgate.flaml_model')\n",
    "fhandler = logging.FileHandler(filename='metrics.log', mode='w')\n",
    "formatter = logging.Formatter('%(message)s')\n",
    "fhandler.setFormatter(formatter)\n",
    "logger.addHandler(fhandler)\n",
    "logger.setLevel(logging.INFO)"
   ]
  },
  {
   "cell_type": "code",
   "execution_count": 4,
   "metadata": {},
   "outputs": [],
   "source": [
    "data_folder = 'C:/Users/karim/Documents/westgate/data/training/'"
   ]
  },
  {
   "cell_type": "code",
   "execution_count": 5,
   "metadata": {},
   "outputs": [
    {
     "name": "stderr",
     "output_type": "stream",
     "text": [
      "C:\\Users\\karim\\AppData\\Local\\Temp\\ipykernel_23532\\2059859133.py:1: DtypeWarning: Columns (741) have mixed types. Specify dtype option on import or set low_memory=False.\n",
      "  accepted_2022_df = pd.read_csv(data_folder + 'loan_outcomes_2022.csv', encoding='latin')\n"
     ]
    }
   ],
   "source": [
    "accepted_2022_df = pd.read_csv(data_folder + 'loan_outcomes_2022.csv', encoding='latin')\n",
    "refused_2022_df = pd.read_csv(data_folder + 'refusal2022.csv', encoding='latin')\n"
   ]
  },
  {
   "cell_type": "code",
   "execution_count": 6,
   "metadata": {},
   "outputs": [
    {
     "data": {
      "text/plain": [
       "0"
      ]
     },
     "execution_count": 6,
     "metadata": {},
     "output_type": "execute_result"
    }
   ],
   "source": [
    "refused_2022_df['request_date'].isna().sum()"
   ]
  },
  {
   "cell_type": "code",
   "execution_count": 7,
   "metadata": {},
   "outputs": [
    {
     "data": {
      "text/html": [
       "<div>\n",
       "<style scoped>\n",
       "    .dataframe tbody tr th:only-of-type {\n",
       "        vertical-align: middle;\n",
       "    }\n",
       "\n",
       "    .dataframe tbody tr th {\n",
       "        vertical-align: top;\n",
       "    }\n",
       "\n",
       "    .dataframe thead th {\n",
       "        text-align: right;\n",
       "    }\n",
       "</style>\n",
       "<table border=\"1\" class=\"dataframe\">\n",
       "  <thead>\n",
       "    <tr style=\"text-align: right;\">\n",
       "      <th></th>\n",
       "      <th>Id</th>\n",
       "      <th>account_age_days</th>\n",
       "      <th>active_days_trend</th>\n",
       "      <th>auto_loan_payment_frequency</th>\n",
       "      <th>average_closing_balance_day_after_employer_income</th>\n",
       "      <th>average_closing_balance_day_after_government_income</th>\n",
       "      <th>average_closing_balance_day_after_income</th>\n",
       "      <th>average_closing_balance_day_of_employer_income</th>\n",
       "      <th>average_closing_balance_day_of_government_income</th>\n",
       "      <th>average_closing_balance_day_of_income</th>\n",
       "      <th>...</th>\n",
       "      <th>principal</th>\n",
       "      <th>request_date</th>\n",
       "      <th>total_paid</th>\n",
       "      <th>fees_paid</th>\n",
       "      <th>first_repayment_date</th>\n",
       "      <th>last_repayment_date</th>\n",
       "      <th>repayment_count</th>\n",
       "      <th>loan_application_id</th>\n",
       "      <th>borrower_id</th>\n",
       "      <th>error</th>\n",
       "    </tr>\n",
       "  </thead>\n",
       "  <tbody>\n",
       "    <tr>\n",
       "      <th>0</th>\n",
       "      <td>fe5152b3-de9b-43ad-952e-9d8256fa4dbf</td>\n",
       "      <td>411.0</td>\n",
       "      <td>1.13</td>\n",
       "      <td>NONE_DETECTED</td>\n",
       "      <td>2255.66</td>\n",
       "      <td>1953.4</td>\n",
       "      <td>2223.04</td>\n",
       "      <td>2285.82</td>\n",
       "      <td>1653.16</td>\n",
       "      <td>878.06</td>\n",
       "      <td>...</td>\n",
       "      <td>400</td>\n",
       "      <td>2022-01-03 0:00</td>\n",
       "      <td>799.56</td>\n",
       "      <td>0.0</td>\n",
       "      <td>2022-01-21 0:00</td>\n",
       "      <td>2022-04-29 0:00</td>\n",
       "      <td>8.0</td>\n",
       "      <td>IF1000001770</td>\n",
       "      <td>CID000001770</td>\n",
       "      <td>NaN</td>\n",
       "    </tr>\n",
       "    <tr>\n",
       "      <th>1</th>\n",
       "      <td>cca4af83-7da9-4bf1-896b-18f1e7e79cd6</td>\n",
       "      <td>91.0</td>\n",
       "      <td>0.81</td>\n",
       "      <td>NONE_DETECTED</td>\n",
       "      <td>1773.62</td>\n",
       "      <td>1544.31</td>\n",
       "      <td>1406.45</td>\n",
       "      <td>2877.36</td>\n",
       "      <td>1955</td>\n",
       "      <td>539.54</td>\n",
       "      <td>...</td>\n",
       "      <td>300</td>\n",
       "      <td>2022-01-03 0:00</td>\n",
       "      <td>0.00</td>\n",
       "      <td>NaN</td>\n",
       "      <td>NaN</td>\n",
       "      <td>NaN</td>\n",
       "      <td>NaN</td>\n",
       "      <td>IF1000001985</td>\n",
       "      <td>CID000001985</td>\n",
       "      <td>NaN</td>\n",
       "    </tr>\n",
       "    <tr>\n",
       "      <th>2</th>\n",
       "      <td>aaf584ec-b257-4d75-8fb6-21c542950515</td>\n",
       "      <td>91.0</td>\n",
       "      <td>0.91</td>\n",
       "      <td>NONE_DETECTED</td>\n",
       "      <td>1391.54</td>\n",
       "      <td>734.61</td>\n",
       "      <td>1297.69</td>\n",
       "      <td>2412.04</td>\n",
       "      <td>791.78</td>\n",
       "      <td>1096.63</td>\n",
       "      <td>...</td>\n",
       "      <td>300</td>\n",
       "      <td>2022-01-03 0:00</td>\n",
       "      <td>587.58</td>\n",
       "      <td>0.0</td>\n",
       "      <td>2022-01-19 0:00</td>\n",
       "      <td>2022-03-30 0:00</td>\n",
       "      <td>6.0</td>\n",
       "      <td>IF1000001938</td>\n",
       "      <td>CID000001938</td>\n",
       "      <td>NaN</td>\n",
       "    </tr>\n",
       "    <tr>\n",
       "      <th>3</th>\n",
       "      <td>7188c8d3-7ded-459a-9c6e-313f4938c3b5</td>\n",
       "      <td>91.0</td>\n",
       "      <td>1.01</td>\n",
       "      <td>NONE_DETECTED</td>\n",
       "      <td>324.16</td>\n",
       "      <td>1461.1</td>\n",
       "      <td>459.23</td>\n",
       "      <td>76.91</td>\n",
       "      <td>1732.94</td>\n",
       "      <td>226.30</td>\n",
       "      <td>...</td>\n",
       "      <td>400</td>\n",
       "      <td>2022-01-03 0:00</td>\n",
       "      <td>799.56</td>\n",
       "      <td>0.0</td>\n",
       "      <td>2022-01-13 0:00</td>\n",
       "      <td>2022-04-21 0:00</td>\n",
       "      <td>8.0</td>\n",
       "      <td>IF1000001987</td>\n",
       "      <td>CID000001987</td>\n",
       "      <td>NaN</td>\n",
       "    </tr>\n",
       "    <tr>\n",
       "      <th>4</th>\n",
       "      <td>NaN</td>\n",
       "      <td>NaN</td>\n",
       "      <td>NaN</td>\n",
       "      <td>NaN</td>\n",
       "      <td>NaN</td>\n",
       "      <td>NaN</td>\n",
       "      <td>NaN</td>\n",
       "      <td>NaN</td>\n",
       "      <td>NaN</td>\n",
       "      <td>NaN</td>\n",
       "      <td>...</td>\n",
       "      <td>300</td>\n",
       "      <td>2022-01-04 0:00</td>\n",
       "      <td>189.86</td>\n",
       "      <td>0.0</td>\n",
       "      <td>2022-01-13 0:00</td>\n",
       "      <td>2022-02-10 0:00</td>\n",
       "      <td>2.0</td>\n",
       "      <td>IF1000002247</td>\n",
       "      <td>CID000002247</td>\n",
       "      <td>NoTransactions</td>\n",
       "    </tr>\n",
       "  </tbody>\n",
       "</table>\n",
       "<p>5 rows × 755 columns</p>\n",
       "</div>"
      ],
      "text/plain": [
       "                                     Id  account_age_days  active_days_trend  \\\n",
       "0  fe5152b3-de9b-43ad-952e-9d8256fa4dbf             411.0               1.13   \n",
       "1  cca4af83-7da9-4bf1-896b-18f1e7e79cd6              91.0               0.81   \n",
       "2  aaf584ec-b257-4d75-8fb6-21c542950515              91.0               0.91   \n",
       "3  7188c8d3-7ded-459a-9c6e-313f4938c3b5              91.0               1.01   \n",
       "4                                   NaN               NaN                NaN   \n",
       "\n",
       "  auto_loan_payment_frequency  \\\n",
       "0               NONE_DETECTED   \n",
       "1               NONE_DETECTED   \n",
       "2               NONE_DETECTED   \n",
       "3               NONE_DETECTED   \n",
       "4                         NaN   \n",
       "\n",
       "   average_closing_balance_day_after_employer_income  \\\n",
       "0                                            2255.66   \n",
       "1                                            1773.62   \n",
       "2                                            1391.54   \n",
       "3                                             324.16   \n",
       "4                                                NaN   \n",
       "\n",
       "  average_closing_balance_day_after_government_income  \\\n",
       "0                                             1953.4    \n",
       "1                                            1544.31    \n",
       "2                                             734.61    \n",
       "3                                             1461.1    \n",
       "4                                                NaN    \n",
       "\n",
       "   average_closing_balance_day_after_income  \\\n",
       "0                                   2223.04   \n",
       "1                                   1406.45   \n",
       "2                                   1297.69   \n",
       "3                                    459.23   \n",
       "4                                       NaN   \n",
       "\n",
       "   average_closing_balance_day_of_employer_income  \\\n",
       "0                                         2285.82   \n",
       "1                                         2877.36   \n",
       "2                                         2412.04   \n",
       "3                                           76.91   \n",
       "4                                             NaN   \n",
       "\n",
       "  average_closing_balance_day_of_government_income  \\\n",
       "0                                          1653.16   \n",
       "1                                             1955   \n",
       "2                                           791.78   \n",
       "3                                          1732.94   \n",
       "4                                              NaN   \n",
       "\n",
       "   average_closing_balance_day_of_income  ...  principal     request_date  \\\n",
       "0                                 878.06  ...        400  2022-01-03 0:00   \n",
       "1                                 539.54  ...        300  2022-01-03 0:00   \n",
       "2                                1096.63  ...        300  2022-01-03 0:00   \n",
       "3                                 226.30  ...        400  2022-01-03 0:00   \n",
       "4                                    NaN  ...        300  2022-01-04 0:00   \n",
       "\n",
       "   total_paid  fees_paid  first_repayment_date  last_repayment_date  \\\n",
       "0      799.56        0.0       2022-01-21 0:00      2022-04-29 0:00   \n",
       "1        0.00        NaN                   NaN                  NaN   \n",
       "2      587.58        0.0       2022-01-19 0:00      2022-03-30 0:00   \n",
       "3      799.56        0.0       2022-01-13 0:00      2022-04-21 0:00   \n",
       "4      189.86        0.0       2022-01-13 0:00      2022-02-10 0:00   \n",
       "\n",
       "   repayment_count  loan_application_id   borrower_id           error  \n",
       "0              8.0         IF1000001770  CID000001770             NaN  \n",
       "1              NaN         IF1000001985  CID000001985             NaN  \n",
       "2              6.0         IF1000001938  CID000001938             NaN  \n",
       "3              8.0         IF1000001987  CID000001987             NaN  \n",
       "4              2.0         IF1000002247  CID000002247  NoTransactions  \n",
       "\n",
       "[5 rows x 755 columns]"
      ]
     },
     "execution_count": 7,
     "metadata": {},
     "output_type": "execute_result"
    }
   ],
   "source": [
    "accepted_2022_df.head()"
   ]
  },
  {
   "cell_type": "code",
   "execution_count": 8,
   "metadata": {},
   "outputs": [],
   "source": [
    "refused_2022_df['Id'] = refused_2022_df['loginId']"
   ]
  },
  {
   "cell_type": "code",
   "execution_count": 10,
   "metadata": {},
   "outputs": [
    {
     "name": "stderr",
     "output_type": "stream",
     "text": [
      "C:\\Users\\karim\\AppData\\Local\\Temp\\ipykernel_23532\\3334318270.py:1: DtypeWarning: Columns (394) have mixed types. Specify dtype option on import or set low_memory=False.\n",
      "  accepted_2023_df = pd.read_csv(data_folder + 'janToNov2023LoansAccepted.csv')\n"
     ]
    }
   ],
   "source": [
    "accepted_2023_df = pd.read_csv(data_folder + 'janToNov2023LoansAccepted.csv')\n",
    "refused_2023_df = pd.read_csv(data_folder + 'refusal2023_IF.csv')"
   ]
  },
  {
   "cell_type": "code",
   "execution_count": 12,
   "metadata": {},
   "outputs": [],
   "source": [
    "refused_2023_df['Id'] = refused_2023_df['loginId']"
   ]
  },
  {
   "cell_type": "code",
   "execution_count": 13,
   "metadata": {},
   "outputs": [],
   "source": [
    "accepted_2023_df['gender'] = accepted_2023_df['gender'].str.lower()"
   ]
  },
  {
   "cell_type": "code",
   "execution_count": 14,
   "metadata": {},
   "outputs": [],
   "source": [
    "refused_2023_df.rename(columns={'requestDate': 'request_date'}, inplace=True)"
   ]
  },
  {
   "cell_type": "code",
   "execution_count": 15,
   "metadata": {},
   "outputs": [
    {
     "data": {
      "text/plain": [
       "0"
      ]
     },
     "execution_count": 15,
     "metadata": {},
     "output_type": "execute_result"
    }
   ],
   "source": [
    "refused_2023_df['request_date'].isna().sum()"
   ]
  },
  {
   "cell_type": "code",
   "execution_count": 16,
   "metadata": {},
   "outputs": [],
   "source": [
    "refused_2024_IF_df = pd.read_csv(data_folder + 'refusal2024_IF.csv')\n",
    "refused_2024_PR_df = pd.read_csv(data_folder + 'refusal2024_PR.csv', encoding='latin')\n",
    "\n",
    "refused_2024_df = pd.concat([refused_2024_IF_df, refused_2024_PR_df])"
   ]
  },
  {
   "cell_type": "code",
   "execution_count": 17,
   "metadata": {},
   "outputs": [],
   "source": [
    "refused_2024_df['Id'] = refused_2024_df['loginId']"
   ]
  },
  {
   "cell_type": "code",
   "execution_count": 18,
   "metadata": {},
   "outputs": [],
   "source": [
    "refused_2024_df.rename(columns={'requestDate': 'request_date'}, inplace=True)"
   ]
  },
  {
   "cell_type": "code",
   "execution_count": 19,
   "metadata": {},
   "outputs": [
    {
     "data": {
      "text/plain": [
       "0"
      ]
     },
     "execution_count": 19,
     "metadata": {},
     "output_type": "execute_result"
    }
   ],
   "source": [
    "refused_2024_df['request_date'].isna().sum()"
   ]
  },
  {
   "cell_type": "code",
   "execution_count": 20,
   "metadata": {},
   "outputs": [],
   "source": [
    "accepted_df = pd.concat([accepted_2022_df, accepted_2023_df])"
   ]
  },
  {
   "cell_type": "code",
   "execution_count": 21,
   "metadata": {},
   "outputs": [],
   "source": [
    "refused_df = pd.concat([refused_2022_df, refused_2023_df, refused_2024_df])"
   ]
  },
  {
   "cell_type": "code",
   "execution_count": 22,
   "metadata": {},
   "outputs": [],
   "source": [
    "refused_df['recurring_deposits_90_days'] = (\n",
    "    refused_df['recurring_deposits_current_month'] + \n",
    "    refused_df['recurring_deposits_previous_month'] +\n",
    "    refused_df['recurring_deposits_2_months_ago']\n",
    ")\n",
    "\n",
    "refused_df['sum_micro_loans_60_days'] = (\n",
    "    refused_df['sum_micro_loan_payments_current_month'] + \n",
    "    refused_df['sum_micro_loan_payments_previous_month'] \n",
    ")\n",
    "\n",
    "refused_df['recurring_deposits_90_days'] = (\n",
    "    refused_df['recurring_deposits_current_month'] + \n",
    "    refused_df['recurring_deposits_previous_month'] +\n",
    "    refused_df['recurring_deposits_2_months_ago']\n",
    ")\n",
    "\n",
    "refused_df['sum_micro_loans_60_days'] = (\n",
    "    refused_df['sum_micro_loan_payments_current_month'] + \n",
    "    refused_df['sum_micro_loan_payments_previous_month'] \n",
    ")"
   ]
  },
  {
   "cell_type": "code",
   "execution_count": 23,
   "metadata": {},
   "outputs": [
    {
     "name": "stdout",
     "output_type": "stream",
     "text": [
      "# loans before auto-refusal: 96677\n",
      "# loans after auto-refusal: 78528\n"
     ]
    }
   ],
   "source": [
    "print('# loans before auto-refusal: ' + str(len(refused_df)))\n",
    "\n",
    "refused_df = refused_df[refused_df['account_age_days'] >= 85]\n",
    "\n",
    "refused_df = refused_df[refused_df['count_nsf_90_days'] <= 8]\n",
    "\n",
    "refused_df = refused_df[refused_df['count_nsf_30_days'] <= 6]\n",
    "\n",
    "refused_df = refused_df[refused_df['count_stop_payment_90_days'] <= 4]\n",
    "\n",
    "#refused_df = refused_df[refused_df['recurring_deposits_90_days']/3.0 >= 1800] <-- filers way too much\n",
    "\n",
    "#refused_df = refused_df[refused_df['sum_micro_loans_60_days'] <= 1000]\n",
    "\n",
    "print('# loans after auto-refusal: ' + str(len(refused_df)))"
   ]
  },
  {
   "cell_type": "code",
   "execution_count": 24,
   "metadata": {},
   "outputs": [
    {
     "data": {
      "text/plain": [
       "19597"
      ]
     },
     "execution_count": 24,
     "metadata": {},
     "output_type": "execute_result"
    }
   ],
   "source": [
    "len(accepted_df)"
   ]
  },
  {
   "cell_type": "code",
   "execution_count": 25,
   "metadata": {},
   "outputs": [],
   "source": [
    "default_model = UWModel(model_name='default', model_version='1.0', basefolder='../default_model/')"
   ]
  },
  {
   "cell_type": "code",
   "execution_count": 26,
   "metadata": {},
   "outputs": [
    {
     "name": "stdout",
     "output_type": "stream",
     "text": [
      "261 rows removed by threshold filtering\n",
      "458 Rows with 'error' column not NA have been discarded.\n",
      "5 Rows with 'Id' column NA have been discarded.\n",
      "4 Rows with 'request_date' column NA have been discarded.\n",
      "59 Rows with 'account_age_days' column not positive have been discarded.\n"
     ]
    }
   ],
   "source": [
    "accepted_filtered_df = default_model.filter_df(accepted_df)"
   ]
  },
  {
   "cell_type": "code",
   "execution_count": 27,
   "metadata": {},
   "outputs": [
    {
     "data": {
      "text/plain": [
       "18810"
      ]
     },
     "execution_count": 27,
     "metadata": {},
     "output_type": "execute_result"
    }
   ],
   "source": [
    "len(accepted_filtered_df)"
   ]
  },
  {
   "cell_type": "code",
   "execution_count": 28,
   "metadata": {},
   "outputs": [
    {
     "data": {
      "text/plain": [
       "0"
      ]
     },
     "execution_count": 28,
     "metadata": {},
     "output_type": "execute_result"
    }
   ],
   "source": [
    "refused_df['request_date'].isna().sum()"
   ]
  },
  {
   "cell_type": "code",
   "execution_count": 29,
   "metadata": {},
   "outputs": [],
   "source": [
    "accepted_filtered_df['refused'] = 0\n",
    "refused_df['refused'] = 1\n",
    "\n",
    "df = pd.concat([accepted_filtered_df, refused_df])"
   ]
  },
  {
   "cell_type": "code",
   "execution_count": 31,
   "metadata": {},
   "outputs": [
    {
     "data": {
      "text/plain": [
       "97338"
      ]
     },
     "execution_count": 31,
     "metadata": {},
     "output_type": "execute_result"
    }
   ],
   "source": [
    "len(df)"
   ]
  },
  {
   "cell_type": "code",
   "execution_count": 32,
   "metadata": {},
   "outputs": [
    {
     "data": {
      "text/plain": [
       "refused\n",
       "1    0.806756\n",
       "0    0.193244\n",
       "Name: proportion, dtype: float64"
      ]
     },
     "execution_count": 32,
     "metadata": {},
     "output_type": "execute_result"
    }
   ],
   "source": [
    "df['refused'].value_counts(normalize=True)"
   ]
  },
  {
   "cell_type": "code",
   "execution_count": 50,
   "metadata": {},
   "outputs": [],
   "source": [
    "refusal_model = LendingModel(model_name='refusal', model_version='0.4')"
   ]
  },
  {
   "cell_type": "code",
   "execution_count": 51,
   "metadata": {},
   "outputs": [],
   "source": [
    "X_train, X_test, y_train, y_test, extra = refusal_model.split_data(df, split_criteria=0.15)"
   ]
  },
  {
   "cell_type": "code",
   "execution_count": 52,
   "metadata": {},
   "outputs": [
    {
     "data": {
      "text/plain": [
       "True"
      ]
     },
     "execution_count": 52,
     "metadata": {},
     "output_type": "execute_result"
    }
   ],
   "source": [
    "'sum_non_employer_income_current_month' in X_train.columns"
   ]
  },
  {
   "cell_type": "code",
   "execution_count": 53,
   "metadata": {},
   "outputs": [
    {
     "data": {
      "text/plain": [
       "dict_keys(['train_request_date', 'test_request_date', 'train_dob', 'test_dob', 'train_Id', 'test_Id', 'train_refusalReason', 'test_refusalReason'])"
      ]
     },
     "execution_count": 53,
     "metadata": {},
     "output_type": "execute_result"
    }
   ],
   "source": [
    "extra.keys()"
   ]
  },
  {
   "cell_type": "code",
   "execution_count": 54,
   "metadata": {},
   "outputs": [
    {
     "data": {
      "text/plain": [
       "82737"
      ]
     },
     "execution_count": 54,
     "metadata": {},
     "output_type": "execute_result"
    }
   ],
   "source": [
    "len(X_train)"
   ]
  },
  {
   "cell_type": "code",
   "execution_count": 55,
   "metadata": {},
   "outputs": [
    {
     "name": "stdout",
     "output_type": "stream",
     "text": [
      "Error calculating age with dob ########## and request_date 2024-04-03 00:00:00\n",
      "Unknown string format: ##########\n",
      "Error calculating age with dob ########## and request_date 2022-09-14 00:00:00\n",
      "Unknown string format: ##########\n",
      "Error calculating age with dob ########## and request_date 2024-03-06 00:00:00\n",
      "Unknown string format: ##########\n",
      "Error calculating age with dob ########## and request_date 2023-11-10 00:00:00\n",
      "Unknown string format: ##########\n",
      "Error calculating age with dob ########## and request_date 2022-10-03 00:00:00\n",
      "Unknown string format: ##########\n",
      "Error calculating age with dob ########## and request_date 2024-04-03 00:00:00\n",
      "Unknown string format: ##########\n",
      "Error calculating age with dob ########## and request_date 2023-03-30 00:00:00\n",
      "Unknown string format: ##########\n",
      "Error calculating age with dob ########## and request_date 2024-04-03 00:00:00\n",
      "Unknown string format: ##########\n",
      "Error calculating age with dob ########## and request_date 2022-06-15 00:00:00\n",
      "Unknown string format: ##########\n",
      "Error calculating age with dob ########## and request_date 2023-06-11 00:00:00\n",
      "Unknown string format: ##########\n",
      "Error calculating age with dob ########## and request_date 2022-10-06 00:00:00\n",
      "Unknown string format: ##########\n"
     ]
    }
   ],
   "source": [
    "X_train, X_test = refusal_model.feature_engineer(X_train, X_test)"
   ]
  },
  {
   "cell_type": "code",
   "execution_count": 56,
   "metadata": {},
   "outputs": [
    {
     "data": {
      "text/plain": [
       "(82737, 82737)"
      ]
     },
     "execution_count": 56,
     "metadata": {},
     "output_type": "execute_result"
    }
   ],
   "source": [
    "len(X_train),len(y_train)"
   ]
  },
  {
   "cell_type": "code",
   "execution_count": 57,
   "metadata": {},
   "outputs": [],
   "source": [
    "filter = ~X_train['age'].isna()\n",
    "X_train = X_train.loc[filter]\n",
    "y_train = y_train.loc[filter]"
   ]
  },
  {
   "cell_type": "code",
   "execution_count": 58,
   "metadata": {},
   "outputs": [],
   "source": [
    "filter = ~X_test['age'].isna()\n",
    "X_test = X_test.loc[filter]\n",
    "y_test = y_test.loc[filter]"
   ]
  },
  {
   "cell_type": "code",
   "execution_count": 59,
   "metadata": {},
   "outputs": [
    {
     "data": {
      "text/plain": [
       "(82726, 82726)"
      ]
     },
     "execution_count": 59,
     "metadata": {},
     "output_type": "execute_result"
    }
   ],
   "source": [
    "len(X_train), len(y_train)"
   ]
  },
  {
   "cell_type": "code",
   "execution_count": 60,
   "metadata": {},
   "outputs": [],
   "source": [
    "X_train.reset_index(inplace=True, drop=True)\n",
    "y_train.reset_index(inplace=True, drop=True)\n",
    "X_test.reset_index(inplace=True, drop=True)\n",
    "y_test.reset_index(inplace=True, drop=True)"
   ]
  },
  {
   "cell_type": "code",
   "execution_count": 61,
   "metadata": {},
   "outputs": [
    {
     "data": {
      "text/plain": [
       "0"
      ]
     },
     "execution_count": 61,
     "metadata": {},
     "output_type": "execute_result"
    }
   ],
   "source": [
    "X_train.isna().sum().sum()"
   ]
  },
  {
   "cell_type": "code",
   "execution_count": 62,
   "metadata": {},
   "outputs": [],
   "source": [
    "r = X_train, y_train, X_test, y_test, extra"
   ]
  },
  {
   "cell_type": "code",
   "execution_count": 63,
   "metadata": {},
   "outputs": [
    {
     "data": {
      "text/plain": [
       "(14601, 14601)"
      ]
     },
     "execution_count": 63,
     "metadata": {},
     "output_type": "execute_result"
    }
   ],
   "source": [
    "len(X_test), len(y_test)"
   ]
  },
  {
   "cell_type": "code",
   "execution_count": 64,
   "metadata": {},
   "outputs": [
    {
     "data": {
      "text/plain": [
       "refused\n",
       "1    0.809808\n",
       "0    0.190192\n",
       "Name: proportion, dtype: float64"
      ]
     },
     "execution_count": 64,
     "metadata": {},
     "output_type": "execute_result"
    }
   ],
   "source": [
    "y_test.value_counts(normalize=True)"
   ]
  },
  {
   "cell_type": "code",
   "execution_count": 65,
   "metadata": {},
   "outputs": [
    {
     "data": {
      "image/png": "[encoded data removed]",
      "text/plain": [
       "<Figure size 640x480 with 1 Axes>"
      ]
     },
     "metadata": {},
     "output_type": "display_data"
    },
    {
     "name": "stdout",
     "output_type": "stream",
     "text": [
      "Saving X_test_refusal.csv\n"
     ]
    },
    {
     "data": {
      "image/png": "[encoded data removed]",
      "text/plain": [
       "<Figure size 640x480 with 1 Axes>"
      ]
     },
     "metadata": {},
     "output_type": "display_data"
    }
   ],
   "source": [
    "y_pred_proba, y_pred, extra = refusal_model.fit(*r, \n",
    "                                                time_budget=600, \n",
    "                                                threshold=0.55)"
   ]
  },
  {
   "cell_type": "code",
   "execution_count": 66,
   "metadata": {},
   "outputs": [
    {
     "data": {
      "text/html": [
       "<div>\n",
       "<style scoped>\n",
       "    .dataframe tbody tr th:only-of-type {\n",
       "        vertical-align: middle;\n",
       "    }\n",
       "\n",
       "    .dataframe tbody tr th {\n",
       "        vertical-align: top;\n",
       "    }\n",
       "\n",
       "    .dataframe thead th {\n",
       "        text-align: right;\n",
       "    }\n",
       "</style>\n",
       "<table border=\"1\" class=\"dataframe\">\n",
       "  <thead>\n",
       "    <tr style=\"text-align: right;\">\n",
       "      <th></th>\n",
       "      <th>variable</th>\n",
       "      <th>imp</th>\n",
       "    </tr>\n",
       "  </thead>\n",
       "  <tbody>\n",
       "    <tr>\n",
       "      <th>5</th>\n",
       "      <td>count_nsf_90_days</td>\n",
       "      <td>0.075791</td>\n",
       "    </tr>\n",
       "    <tr>\n",
       "      <th>4</th>\n",
       "      <td>count_nsf_30_days</td>\n",
       "      <td>0.043016</td>\n",
       "    </tr>\n",
       "    <tr>\n",
       "      <th>8</th>\n",
       "      <td>recurring_deposits_current_month</td>\n",
       "      <td>0.042309</td>\n",
       "    </tr>\n",
       "    <tr>\n",
       "      <th>6</th>\n",
       "      <td>count_stop_payment_90_days</td>\n",
       "      <td>0.037605</td>\n",
       "    </tr>\n",
       "    <tr>\n",
       "      <th>0</th>\n",
       "      <td>account_age_days</td>\n",
       "      <td>0.035036</td>\n",
       "    </tr>\n",
       "    <tr>\n",
       "      <th>12</th>\n",
       "      <td>sum_employer_income_previous_month</td>\n",
       "      <td>0.034185</td>\n",
       "    </tr>\n",
       "    <tr>\n",
       "      <th>10</th>\n",
       "      <td>sum_employer_income_2_months_ago</td>\n",
       "      <td>0.032609</td>\n",
       "    </tr>\n",
       "    <tr>\n",
       "      <th>25</th>\n",
       "      <td>sum_micro_loan_payments_2_months_ago</td>\n",
       "      <td>0.030932</td>\n",
       "    </tr>\n",
       "    <tr>\n",
       "      <th>31</th>\n",
       "      <td>sum_total_income_2_months_ago</td>\n",
       "      <td>0.026980</td>\n",
       "    </tr>\n",
       "    <tr>\n",
       "      <th>27</th>\n",
       "      <td>sum_micro_loan_payments_previous_month</td>\n",
       "      <td>0.026509</td>\n",
       "    </tr>\n",
       "    <tr>\n",
       "      <th>11</th>\n",
       "      <td>sum_employer_income_current_month</td>\n",
       "      <td>0.025646</td>\n",
       "    </tr>\n",
       "    <tr>\n",
       "      <th>33</th>\n",
       "      <td>sum_total_income_previous_month</td>\n",
       "      <td>0.025183</td>\n",
       "    </tr>\n",
       "    <tr>\n",
       "      <th>22</th>\n",
       "      <td>sum_loan_payments_2_months_ago</td>\n",
       "      <td>0.024894</td>\n",
       "    </tr>\n",
       "    <tr>\n",
       "      <th>24</th>\n",
       "      <td>sum_loan_payments_previous_month</td>\n",
       "      <td>0.024893</td>\n",
       "    </tr>\n",
       "    <tr>\n",
       "      <th>26</th>\n",
       "      <td>sum_micro_loan_payments_current_month</td>\n",
       "      <td>0.024665</td>\n",
       "    </tr>\n",
       "    <tr>\n",
       "      <th>7</th>\n",
       "      <td>recurring_deposits_2_months_ago</td>\n",
       "      <td>0.023825</td>\n",
       "    </tr>\n",
       "    <tr>\n",
       "      <th>9</th>\n",
       "      <td>recurring_deposits_previous_month</td>\n",
       "      <td>0.023586</td>\n",
       "    </tr>\n",
       "    <tr>\n",
       "      <th>3</th>\n",
       "      <td>count_active_days</td>\n",
       "      <td>0.023551</td>\n",
       "    </tr>\n",
       "    <tr>\n",
       "      <th>23</th>\n",
       "      <td>sum_loan_payments_current_month</td>\n",
       "      <td>0.022037</td>\n",
       "    </tr>\n",
       "    <tr>\n",
       "      <th>16</th>\n",
       "      <td>sum_government_income_2_months_ago</td>\n",
       "      <td>0.021798</td>\n",
       "    </tr>\n",
       "    <tr>\n",
       "      <th>30</th>\n",
       "      <td>sum_non_employer_income_previous_month</td>\n",
       "      <td>0.021740</td>\n",
       "    </tr>\n",
       "    <tr>\n",
       "      <th>35</th>\n",
       "      <td>non_classified_income_current_month</td>\n",
       "      <td>0.021740</td>\n",
       "    </tr>\n",
       "    <tr>\n",
       "      <th>32</th>\n",
       "      <td>sum_total_income_current_month</td>\n",
       "      <td>0.020973</td>\n",
       "    </tr>\n",
       "    <tr>\n",
       "      <th>18</th>\n",
       "      <td>sum_government_income_previous_month</td>\n",
       "      <td>0.020885</td>\n",
       "    </tr>\n",
       "    <tr>\n",
       "      <th>38</th>\n",
       "      <td>monthly_repayment_capacity</td>\n",
       "      <td>0.020779</td>\n",
       "    </tr>\n",
       "    <tr>\n",
       "      <th>34</th>\n",
       "      <td>age</td>\n",
       "      <td>0.020564</td>\n",
       "    </tr>\n",
       "    <tr>\n",
       "      <th>1</th>\n",
       "      <td>average_monthly_recurring_transfers_in_complex</td>\n",
       "      <td>0.020441</td>\n",
       "    </tr>\n",
       "    <tr>\n",
       "      <th>29</th>\n",
       "      <td>sum_non_employer_income_current_month</td>\n",
       "      <td>0.020395</td>\n",
       "    </tr>\n",
       "    <tr>\n",
       "      <th>19</th>\n",
       "      <td>sum_loan_deposits_30_days</td>\n",
       "      <td>0.020300</td>\n",
       "    </tr>\n",
       "    <tr>\n",
       "      <th>28</th>\n",
       "      <td>sum_non_employer_income_2_months_ago</td>\n",
       "      <td>0.020034</td>\n",
       "    </tr>\n",
       "    <tr>\n",
       "      <th>36</th>\n",
       "      <td>non_classified_income_previous_month</td>\n",
       "      <td>0.019773</td>\n",
       "    </tr>\n",
       "    <tr>\n",
       "      <th>20</th>\n",
       "      <td>sum_loan_deposits_60_days</td>\n",
       "      <td>0.019492</td>\n",
       "    </tr>\n",
       "    <tr>\n",
       "      <th>37</th>\n",
       "      <td>non_classified_income_2_months_ago</td>\n",
       "      <td>0.019444</td>\n",
       "    </tr>\n",
       "    <tr>\n",
       "      <th>17</th>\n",
       "      <td>sum_government_income_current_month</td>\n",
       "      <td>0.019123</td>\n",
       "    </tr>\n",
       "    <tr>\n",
       "      <th>21</th>\n",
       "      <td>sum_loan_deposits_90_days</td>\n",
       "      <td>0.018526</td>\n",
       "    </tr>\n",
       "    <tr>\n",
       "      <th>2</th>\n",
       "      <td>average_monthly_recurring_transfers_out_complex</td>\n",
       "      <td>0.018504</td>\n",
       "    </tr>\n",
       "    <tr>\n",
       "      <th>15</th>\n",
       "      <td>sum_employment_insurance_income_previous_month</td>\n",
       "      <td>0.017638</td>\n",
       "    </tr>\n",
       "    <tr>\n",
       "      <th>13</th>\n",
       "      <td>sum_employment_insurance_income_2_months_ago</td>\n",
       "      <td>0.017552</td>\n",
       "    </tr>\n",
       "    <tr>\n",
       "      <th>14</th>\n",
       "      <td>sum_employment_insurance_income_current_month</td>\n",
       "      <td>0.017045</td>\n",
       "    </tr>\n",
       "  </tbody>\n",
       "</table>\n",
       "</div>"
      ],
      "text/plain": [
       "                                           variable       imp\n",
       "5                                 count_nsf_90_days  0.075791\n",
       "4                                 count_nsf_30_days  0.043016\n",
       "8                  recurring_deposits_current_month  0.042309\n",
       "6                        count_stop_payment_90_days  0.037605\n",
       "0                                  account_age_days  0.035036\n",
       "12               sum_employer_income_previous_month  0.034185\n",
       "10                 sum_employer_income_2_months_ago  0.032609\n",
       "25             sum_micro_loan_payments_2_months_ago  0.030932\n",
       "31                    sum_total_income_2_months_ago  0.026980\n",
       "27           sum_micro_loan_payments_previous_month  0.026509\n",
       "11                sum_employer_income_current_month  0.025646\n",
       "33                  sum_total_income_previous_month  0.025183\n",
       "22                   sum_loan_payments_2_months_ago  0.024894\n",
       "24                 sum_loan_payments_previous_month  0.024893\n",
       "26            sum_micro_loan_payments_current_month  0.024665\n",
       "7                   recurring_deposits_2_months_ago  0.023825\n",
       "9                 recurring_deposits_previous_month  0.023586\n",
       "3                                 count_active_days  0.023551\n",
       "23                  sum_loan_payments_current_month  0.022037\n",
       "16               sum_government_income_2_months_ago  0.021798\n",
       "30           sum_non_employer_income_previous_month  0.021740\n",
       "35              non_classified_income_current_month  0.021740\n",
       "32                   sum_total_income_current_month  0.020973\n",
       "18             sum_government_income_previous_month  0.020885\n",
       "38                       monthly_repayment_capacity  0.020779\n",
       "34                                              age  0.020564\n",
       "1    average_monthly_recurring_transfers_in_complex  0.020441\n",
       "29            sum_non_employer_income_current_month  0.020395\n",
       "19                        sum_loan_deposits_30_days  0.020300\n",
       "28             sum_non_employer_income_2_months_ago  0.020034\n",
       "36             non_classified_income_previous_month  0.019773\n",
       "20                        sum_loan_deposits_60_days  0.019492\n",
       "37               non_classified_income_2_months_ago  0.019444\n",
       "17              sum_government_income_current_month  0.019123\n",
       "21                        sum_loan_deposits_90_days  0.018526\n",
       "2   average_monthly_recurring_transfers_out_complex  0.018504\n",
       "15   sum_employment_insurance_income_previous_month  0.017638\n",
       "13     sum_employment_insurance_income_2_months_ago  0.017552\n",
       "14    sum_employment_insurance_income_current_month  0.017045"
      ]
     },
     "execution_count": 66,
     "metadata": {},
     "output_type": "execute_result"
    }
   ],
   "source": [
    "refusal_model.feat_imp()"
   ]
  },
  {
   "cell_type": "code",
   "execution_count": 67,
   "metadata": {},
   "outputs": [],
   "source": [
    "y_pred_proba_test = refusal_model.predict_proba(X_test, filter=False, engineer=False)"
   ]
  },
  {
   "cell_type": "code",
   "execution_count": 68,
   "metadata": {},
   "outputs": [
    {
     "data": {
      "text/plain": [
       "<Axes: ylabel='Frequency'>"
      ]
     },
     "execution_count": 68,
     "metadata": {},
     "output_type": "execute_result"
    },
    {
     "data": {
      "image/png": "[encoded data removed]",
      "text/plain": [
       "<Figure size 640x480 with 1 Axes>"
      ]
     },
     "metadata": {},
     "output_type": "display_data"
    }
   ],
   "source": [
    "y_pred_proba_test.plot.hist()"
   ]
  },
  {
   "cell_type": "code",
   "execution_count": 69,
   "metadata": {},
   "outputs": [],
   "source": [
    "perf_df = pd.DataFrame({'y_pred': y_pred_proba, 'y_test': y_test})"
   ]
  },
  {
   "cell_type": "code",
   "execution_count": 70,
   "metadata": {},
   "outputs": [
    {
     "data": {
      "image/png": "[encoded data removed]",
      "text/plain": [
       "<Figure size 640x480 with 2 Axes>"
      ]
     },
     "metadata": {},
     "output_type": "display_data"
    }
   ],
   "source": [
    "fig = combo_chart(perf_df, xvar='y_pred', q=10, yvar='y_test', ylabel='Refusal rate')"
   ]
  },
  {
   "cell_type": "code",
   "execution_count": 71,
   "metadata": {},
   "outputs": [],
   "source": [
    "X_full = pd.concat([X_train, X_test])\n",
    "y_full = pd.concat([y_train, y_test])"
   ]
  },
  {
   "cell_type": "code",
   "execution_count": 72,
   "metadata": {},
   "outputs": [
    {
     "name": "stdout",
     "output_type": "stream",
     "text": [
      "[flaml.automl.logger: 06-03 11:35:55] {804} INFO - log file name log_refusal.log\n",
      "[flaml.automl.logger: 06-03 11:35:55] {857} INFO - estimator = xgboost, config = {'n_estimators': 144, 'max_leaves': 4, 'min_child_weight': 10.30666503597474, 'learning_rate': 0.23511987355535005, 'subsample': 1.0, 'colsample_bylevel': 0.7434035055937628, 'colsample_bytree': 0.7062896312160846, 'reg_alpha': 0.0009765625, 'reg_lambda': 0.22219592499709967}, #training instances = 97327\n",
      "[flaml.automl.logger: 06-03 11:35:58] {890} INFO - retrain from log succeeded\n"
     ]
    },
    {
     "data": {
      "text/plain": [
       "58.92676568031311"
      ]
     },
     "execution_count": 72,
     "metadata": {},
     "output_type": "execute_result"
    }
   ],
   "source": [
    "refusal_model.automl.retrain_from_log(\n",
    "    'log_refusal.log',\n",
    "    X_full,\n",
    "    y_full,\n",
    "    train_best=True,\n",
    "    train_full=True,\n",
    "    time_budget=60\n",
    ")"
   ]
  },
  {
   "cell_type": "code",
   "execution_count": 73,
   "metadata": {},
   "outputs": [],
   "source": [
    "percentiles = np.percentile(y_pred_proba, range(5,100,5))"
   ]
  },
  {
   "cell_type": "code",
   "execution_count": 74,
   "metadata": {},
   "outputs": [],
   "source": [
    "refusal_model.percentiles = {p:v for p,v in zip(range(5,100,5), percentiles)}"
   ]
  },
  {
   "cell_type": "code",
   "execution_count": 75,
   "metadata": {},
   "outputs": [],
   "source": [
    "refusal_model.save()"
   ]
  },
  {
   "cell_type": "code",
   "execution_count": 65,
   "metadata": {},
   "outputs": [],
   "source": [
    "y_pred_proba = refusal_model.predict_proba(X_full, filter=False, engineer=False)['pred_proba']"
   ]
  },
  {
   "cell_type": "code",
   "execution_count": 66,
   "metadata": {},
   "outputs": [
    {
     "data": {
      "text/plain": [
       "<Axes: ylabel='Frequency'>"
      ]
     },
     "execution_count": 66,
     "metadata": {},
     "output_type": "execute_result"
    },
    {
     "data": {
      "image/png": "[encoded data removed]",
      "text/plain": [
       "<Figure size 640x480 with 1 Axes>"
      ]
     },
     "metadata": {},
     "output_type": "display_data"
    }
   ],
   "source": [
    "y_pred_proba.plot.hist()"
   ]
  },
  {
   "cell_type": "code",
   "execution_count": 67,
   "metadata": {},
   "outputs": [
    {
     "name": "stdout",
     "output_type": "stream",
     "text": [
      "\n",
      "y_pred_proba distribution:\n",
      "pred_proba\n",
      "(0.9, 1.0]          45102\n",
      "(0.8, 0.9]          17466\n",
      "(0.7, 0.8]          11205\n",
      "(0.6, 0.7]           7846\n",
      "(0.5, 0.6]           5786\n",
      "(0.4, 0.5]           4338\n",
      "(0.3, 0.4]           2564\n",
      "(0.2, 0.3]           1290\n",
      "(-0.000998, 0.1]     1245\n",
      "(0.1, 0.2]            485\n",
      "Name: count, dtype: int64\n"
     ]
    }
   ],
   "source": [
    "y_pred_proba_bins = pd.cut(y_pred_proba, 10, duplicates = 'drop')\n",
    "print('\\ny_pred_proba distribution:')\n",
    "print(y_pred_proba_bins.value_counts())"
   ]
  },
  {
   "cell_type": "code",
   "execution_count": 77,
   "metadata": {},
   "outputs": [
    {
     "name": "stdout",
     "output_type": "stream",
     "text": [
      "              precision    recall  f1-score   support\n",
      "\n",
      "           0       0.64      0.49      0.56     18810\n",
      "           1       0.89      0.93      0.91     78517\n",
      "\n",
      "    accuracy                           0.85     97327\n",
      "   macro avg       0.76      0.71      0.73     97327\n",
      "weighted avg       0.84      0.85      0.84     97327\n",
      "\n",
      "0.8500005137320579\n"
     ]
    }
   ],
   "source": [
    "from sklearn.metrics import classification_report, confusion_matrix\n",
    "\n",
    "y_pred = np.where(y_pred_proba >= refusal_model.percentiles[15], 1, 0)\n",
    "\n",
    "print(classification_report(y_full, y_pred))\n",
    "\n",
    "print(y_pred.sum() / len(y_pred))"
   ]
  },
  {
   "cell_type": "code",
   "execution_count": 70,
   "metadata": {},
   "outputs": [],
   "source": [
    "refusal_model.save()"
   ]
  },
  {
   "cell_type": "markdown",
   "metadata": {},
   "source": [
    "### Debugging"
   ]
  },
  {
   "cell_type": "code",
   "execution_count": 256,
   "metadata": {},
   "outputs": [
    {
     "ename": "AttributeError",
     "evalue": "'NoneType' object has no attribute 'predict_proba'",
     "output_type": "error",
     "traceback": [
      "\u001b[1;31m---------------------------------------------------------------------------\u001b[0m",
      "\u001b[1;31mAttributeError\u001b[0m                            Traceback (most recent call last)",
      "Cell \u001b[1;32mIn[256], line 1\u001b[0m\n\u001b[1;32m----> 1\u001b[0m \u001b[43mrefusal_model\u001b[49m\u001b[38;5;241;43m.\u001b[39;49m\u001b[43mpredict_proba\u001b[49m\u001b[43m(\u001b[49m\u001b[43mX_train\u001b[49m\u001b[43m,\u001b[49m\u001b[43m \u001b[49m\u001b[38;5;28;43mfilter\u001b[39;49m\u001b[38;5;241;43m=\u001b[39;49m\u001b[38;5;28;43;01mFalse\u001b[39;49;00m\u001b[43m,\u001b[49m\u001b[43m \u001b[49m\u001b[43mengineer\u001b[49m\u001b[38;5;241;43m=\u001b[39;49m\u001b[38;5;28;43;01mFalse\u001b[39;49;00m\u001b[43m)\u001b[49m[\u001b[38;5;124m'\u001b[39m\u001b[38;5;124mpred_proba\u001b[39m\u001b[38;5;124m'\u001b[39m]\n",
      "File \u001b[1;32m~\\Documents\\westgate\\westgate\\flaml_model.py:122\u001b[0m, in \u001b[0;36mLendingModel.predict_proba\u001b[1;34m(self, df, filter, engineer)\u001b[0m\n\u001b[0;32m    <a href='file:///~/Documents/westgate/westgate/flaml_model.py?line=118'>119</a>\u001b[0m         \u001b[39mraise\u001b[39;00m EmptyDataFrameException(\u001b[39m'\u001b[39m\u001b[39mNo rows remaining after feature engineering.\u001b[39m\u001b[39m'\u001b[39m)\n\u001b[0;32m    <a href='file:///~/Documents/westgate/westgate/flaml_model.py?line=120'>121</a>\u001b[0m \u001b[39m#prediction_df = df[self.features].to_numpy()\u001b[39;00m\n\u001b[1;32m--> <a href='file:///~/Documents/westgate/westgate/flaml_model.py?line=121'>122</a>\u001b[0m preds \u001b[39m=\u001b[39m  \u001b[39mself\u001b[39;49m\u001b[39m.\u001b[39;49mautoml\u001b[39m.\u001b[39;49mpredict_proba(df[\u001b[39mself\u001b[39m\u001b[39m.\u001b[39mfeatures])\n\u001b[0;32m    <a href='file:///~/Documents/westgate/westgate/flaml_model.py?line=123'>124</a>\u001b[0m \u001b[39mif\u001b[39;00m preds\u001b[39m.\u001b[39mshape[\u001b[39m0\u001b[39m] \u001b[39m>\u001b[39m \u001b[39m1\u001b[39m:\n\u001b[0;32m    <a href='file:///~/Documents/westgate/westgate/flaml_model.py?line=124'>125</a>\u001b[0m     preds \u001b[39m=\u001b[39m preds[:, \u001b[39m1\u001b[39m]\n",
      "\u001b[1;31mAttributeError\u001b[0m: 'NoneType' object has no attribute 'predict_proba'"
     ]
    }
   ],
   "source": [
    "refusal_model.predict_proba(X_train, filter=False, engineer=False)['pred_proba']"
   ]
  },
  {
   "cell_type": "code",
   "execution_count": 189,
   "metadata": {},
   "outputs": [],
   "source": [
    "logger.removeHandler(logger.handlers[0])\n",
    "logger.handlers[0].close()"
   ]
  },
  {
   "cell_type": "code",
   "execution_count": 4,
   "metadata": {},
   "outputs": [],
   "source": [
    "refusal_model = load_model('refusal')"
   ]
  },
  {
   "cell_type": "code",
   "execution_count": 5,
   "metadata": {},
   "outputs": [
    {
     "data": {
      "text/plain": [
       "['request_date',\n",
       " 'dob',\n",
       " 'account_age_days',\n",
       " 'count_nsf_90_days',\n",
       " 'count_nsf_30_days',\n",
       " 'count_stop_payment_90_days',\n",
       " 'sum_micro_loan_payments_current_month',\n",
       " 'sum_micro_loan_payments_previous_month',\n",
       " 'sum_micro_loan_payments_2_months_ago',\n",
       " 'recurring_deposits_current_month',\n",
       " 'recurring_deposits_previous_month',\n",
       " 'recurring_deposits_2_months_ago',\n",
       " 'count_active_days',\n",
       " 'sum_total_income_current_month',\n",
       " 'sum_total_income_previous_month',\n",
       " 'sum_total_income_2_months_ago',\n",
       " 'sum_loan_payments_current_month',\n",
       " 'sum_loan_payments_previous_month',\n",
       " 'sum_loan_payments_2_months_ago',\n",
       " 'sum_loan_deposits_30_days',\n",
       " 'sum_loan_deposits_60_days',\n",
       " 'sum_loan_deposits_90_days',\n",
       " 'sum_government_income_current_month',\n",
       " 'sum_government_income_previous_month',\n",
       " 'sum_government_income_2_months_ago',\n",
       " 'sum_employment_insurance_income_current_month',\n",
       " 'sum_employment_insurance_income_previous_month',\n",
       " 'sum_employment_insurance_income_2_months_ago',\n",
       " 'sum_employer_income_current_month',\n",
       " 'sum_employer_income_previous_month',\n",
       " 'sum_employer_income_2_months_ago',\n",
       " 'average_monthly_recurring_transfers_in_complex',\n",
       " 'average_monthly_recurring_transfers_out_complex',\n",
       " 'sum_non_employer_income_current_month',\n",
       " 'sum_non_employer_income_previous_month',\n",
       " 'sum_non_employer_income_2_months_ago']"
      ]
     },
     "execution_count": 5,
     "metadata": {},
     "output_type": "execute_result"
    }
   ],
   "source": [
    "refusal_model.features_in"
   ]
  }
 ],
 "metadata": {
  "interpreter": {
   "hash": "c949762a1497e6497ef2ce1d03508af2baca1492d5369cf1827d7a1955776fe1"
  },
  "kernelspec": {
   "display_name": "Python 3.10.5 ('.env-dataprep': venv)",
   "language": "python",
   "name": "python3"
  },
  "language_info": {
   "codemirror_mode": {
    "name": "ipython",
    "version": 3
   },
   "file_extension": ".py",
   "mimetype": "text/x-python",
   "name": "python",
   "nbconvert_exporter": "python",
   "pygments_lexer": "ipython3",
   "version": "3.12.3"
  },
  "orig_nbformat": 4
 },
 "nbformat": 4,
 "nbformat_minor": 2
}
