{
 "cells": [
  {
   "cell_type": "code",
   "execution_count": 1,
   "metadata": {},
   "outputs": [],
   "source": [
    "%load_ext autoreload\n",
    "%autoreload 2"
   ]
  },
  {
   "cell_type": "code",
   "execution_count": 3,
   "metadata": {},
   "outputs": [],
   "source": [
    "from westgate.flaml_model import *\n",
    "import pandas as pd\n",
    "from westgate.combochart import combo_chart"
   ]
  },
  {
   "cell_type": "code",
   "execution_count": 12,
   "metadata": {},
   "outputs": [
    {
     "name": "stdout",
     "output_type": "stream",
     "text": [
      "./features_refusal_0.2.csv\n",
      "../default_model/features_default_1.0.csv\n"
     ]
    }
   ],
   "source": [
    "print(refusal_model.feature_file)\n",
    "print(default_model.feature_file)"
   ]
  },
  {
   "cell_type": "code",
   "execution_count": 5,
   "metadata": {},
   "outputs": [
    {
     "name": "stderr",
     "output_type": "stream",
     "text": [
      "C:\\Users\\karim\\AppData\\Local\\Temp\\ipykernel_7824\\3967161521.py:1: DtypeWarning: Columns (741) have mixed types. Specify dtype option on import or set low_memory=False.\n",
      "  accepted_df = pd.read_csv('../data/AttributesLoans2022.csv', encoding='latin')\n"
     ]
    }
   ],
   "source": [
    "accepted_df = pd.read_csv('../data/AttributesLoans2022.csv', encoding='latin')\n",
    "refused_raw_df = pd.read_csv('../data/refusal2022.csv', encoding='latin')"
   ]
  },
  {
   "cell_type": "code",
   "execution_count": 6,
   "metadata": {},
   "outputs": [],
   "source": [
    "refused_raw_df['recurring_deposits_90_days'] = (\n",
    "    refused_raw_df['recurring_deposits_current_month'] + \n",
    "    refused_raw_df['recurring_deposits_previous_month'] +\n",
    "    refused_raw_df['recurring_deposits_2_months_ago']\n",
    ")\n",
    "\n",
    "refused_raw_df['sum_micro_loans_60_days'] = (\n",
    "    refused_raw_df['sum_micro_loan_payments_current_month'] + \n",
    "    refused_raw_df['sum_micro_loan_payments_previous_month'] \n",
    ")\n",
    "\n",
    "refused_raw_df['recurring_deposits_90_days'] = (\n",
    "    refused_raw_df['recurring_deposits_current_month'] + \n",
    "    refused_raw_df['recurring_deposits_previous_month'] +\n",
    "    refused_raw_df['recurring_deposits_2_months_ago']\n",
    ")\n",
    "\n",
    "refused_raw_df['sum_micro_loans_60_days'] = (\n",
    "    refused_raw_df['sum_micro_loan_payments_current_month'] + \n",
    "    refused_raw_df['sum_micro_loan_payments_previous_month'] \n",
    ")"
   ]
  },
  {
   "cell_type": "code",
   "execution_count": 7,
   "metadata": {},
   "outputs": [
    {
     "name": "stdout",
     "output_type": "stream",
     "text": [
      "# loans before auto-refusal: 37398\n",
      "# loans after auto-refusal: 28579\n"
     ]
    }
   ],
   "source": [
    "print('# loans before auto-refusal: ' + str(len(refused_raw_df)))\n",
    "\n",
    "refused_df = refused_raw_df[refused_raw_df['account_age_days'] >= 85]\n",
    "\n",
    "refused_df = refused_df[refused_df['count_nsf_90_days'] <= 8]\n",
    "\n",
    "refused_df = refused_df[refused_df['count_nsf_30_days'] <= 6]\n",
    "\n",
    "refused_df = refused_df[refused_df['count_stop_payment_90_days'] <= 4]\n",
    "\n",
    "#refused_df = refused_df[refused_df['recurring_deposits_90_days']/3.0 >= 1800] <-- filers way too much\n",
    "\n",
    "#refused_df = refused_df[refused_df['sum_micro_loans_60_days'] <= 1000]\n",
    "\n",
    "print('# loans after auto-refusal: ' + str(len(refused_df)))"
   ]
  },
  {
   "cell_type": "code",
   "execution_count": 8,
   "metadata": {},
   "outputs": [
    {
     "data": {
      "text/plain": [
       "10098"
      ]
     },
     "execution_count": 8,
     "metadata": {},
     "output_type": "execute_result"
    }
   ],
   "source": [
    "len(accepted_df)"
   ]
  },
  {
   "cell_type": "code",
   "execution_count": 38,
   "metadata": {},
   "outputs": [],
   "source": [
    "default_model = UWModel(experiment_id='default_1.0', basefolder='../default_model/')\n",
    "refusal_model = LendingModel(experiment_id='refusal_0.2')"
   ]
  },
  {
   "cell_type": "code",
   "execution_count": 13,
   "metadata": {},
   "outputs": [],
   "source": [
    "accepted_filtered_df = default_model.filter_df(accepted_df)"
   ]
  },
  {
   "cell_type": "code",
   "execution_count": 14,
   "metadata": {},
   "outputs": [
    {
     "data": {
      "text/plain": [
       "9507"
      ]
     },
     "execution_count": 14,
     "metadata": {},
     "output_type": "execute_result"
    }
   ],
   "source": [
    "len(accepted_filtered_df)"
   ]
  },
  {
   "cell_type": "code",
   "execution_count": 79,
   "metadata": {},
   "outputs": [],
   "source": [
    "accepted_filtered_df['refusal'] = 0\n",
    "refused_df['refusal'] = 1\n",
    "\n",
    "df = pd.concat([accepted_filtered_df, refused_df])"
   ]
  },
  {
   "cell_type": "code",
   "execution_count": 80,
   "metadata": {},
   "outputs": [
    {
     "data": {
      "text/plain": [
       "38086"
      ]
     },
     "execution_count": 80,
     "metadata": {},
     "output_type": "execute_result"
    }
   ],
   "source": [
    "len(df)"
   ]
  },
  {
   "cell_type": "code",
   "execution_count": 82,
   "metadata": {},
   "outputs": [
    {
     "data": {
      "text/plain": [
       "refusal\n",
       "1    0.750381\n",
       "0    0.249619\n",
       "Name: proportion, dtype: float64"
      ]
     },
     "execution_count": 82,
     "metadata": {},
     "output_type": "execute_result"
    }
   ],
   "source": [
    "df['refusal'].value_counts(normalize=True)"
   ]
  },
  {
   "cell_type": "code",
   "execution_count": 34,
   "metadata": {},
   "outputs": [
    {
     "data": {
      "text/plain": [
       "True"
      ]
     },
     "execution_count": 34,
     "metadata": {},
     "output_type": "execute_result"
    }
   ],
   "source": [
    "'dob' in df.columns"
   ]
  },
  {
   "cell_type": "code",
   "execution_count": 84,
   "metadata": {},
   "outputs": [],
   "source": [
    "X_train, X_test, y_train, y_test, extra = refusal_model.split_data(df, split_criteria=0.15)"
   ]
  },
  {
   "cell_type": "code",
   "execution_count": 85,
   "metadata": {},
   "outputs": [
    {
     "data": {
      "text/plain": [
       "32373"
      ]
     },
     "execution_count": 85,
     "metadata": {},
     "output_type": "execute_result"
    }
   ],
   "source": [
    "len(X_train)"
   ]
  },
  {
   "cell_type": "code",
   "execution_count": 52,
   "metadata": {},
   "outputs": [
    {
     "data": {
      "text/plain": [
       "True"
      ]
     },
     "execution_count": 52,
     "metadata": {},
     "output_type": "execute_result"
    }
   ],
   "source": [
    "'dob' in X_train.columns"
   ]
  },
  {
   "cell_type": "code",
   "execution_count": 86,
   "metadata": {},
   "outputs": [],
   "source": [
    "X_train, y_train, X_test, y_test = refusal_model.feature_engineer(X_train, y_train, X_test, y_test)"
   ]
  },
  {
   "cell_type": "code",
   "execution_count": 87,
   "metadata": {},
   "outputs": [
    {
     "data": {
      "text/plain": [
       "(32370, 32370)"
      ]
     },
     "execution_count": 87,
     "metadata": {},
     "output_type": "execute_result"
    }
   ],
   "source": [
    "len(X_train), len(y_train)"
   ]
  },
  {
   "cell_type": "code",
   "execution_count": 88,
   "metadata": {},
   "outputs": [
    {
     "data": {
      "text/plain": [
       "Index(['account_age_days', 'average_monthly_recurring_transfers_in_complex',\n",
       "       'average_monthly_recurring_transfers_out_complex', 'count_active_days',\n",
       "       'count_nsf_30_days', 'count_nsf_90_days', 'count_stop_payment_90_days',\n",
       "       'recurring_deposits_2_months_ago', 'recurring_deposits_current_month',\n",
       "       'recurring_deposits_previous_month',\n",
       "       'sum_disability_income_2_months_ago',\n",
       "       'sum_disability_income_current_month',\n",
       "       'sum_disability_income_previous_month',\n",
       "       'sum_employer_income_2_months_ago', 'sum_employer_income_current_month',\n",
       "       'sum_employer_income_previous_month',\n",
       "       'sum_employment_insurance_income_2_months_ago',\n",
       "       'sum_employment_insurance_income_current_month',\n",
       "       'sum_employment_insurance_income_previous_month',\n",
       "       'sum_government_income_2_months_ago',\n",
       "       'sum_government_income_current_month',\n",
       "       'sum_government_income_previous_month', 'sum_loan_deposits_30_days',\n",
       "       'sum_loan_deposits_60_days', 'sum_loan_deposits_90_days',\n",
       "       'sum_loan_payments_2_months_ago', 'sum_loan_payments_current_month',\n",
       "       'sum_loan_payments_previous_month',\n",
       "       'sum_micro_loan_payments_2_months_ago',\n",
       "       'sum_micro_loan_payments_current_month',\n",
       "       'sum_micro_loan_payments_previous_month',\n",
       "       'sum_total_income_2_months_ago', 'sum_total_income_current_month',\n",
       "       'sum_total_income_previous_month', 'gender', 'age'],\n",
       "      dtype='object')"
      ]
     },
     "execution_count": 88,
     "metadata": {},
     "output_type": "execute_result"
    }
   ],
   "source": [
    "X_train.columns"
   ]
  },
  {
   "cell_type": "code",
   "execution_count": 89,
   "metadata": {},
   "outputs": [
    {
     "data": {
      "text/plain": [
       "0"
      ]
     },
     "execution_count": 89,
     "metadata": {},
     "output_type": "execute_result"
    }
   ],
   "source": [
    "X_train.isna().sum().sum()"
   ]
  },
  {
   "cell_type": "code",
   "execution_count": 90,
   "metadata": {},
   "outputs": [],
   "source": [
    "r = X_train, y_train, X_test, y_test, extra"
   ]
  },
  {
   "cell_type": "code",
   "execution_count": 91,
   "metadata": {},
   "outputs": [
    {
     "data": {
      "text/plain": [
       "(5712, 5712)"
      ]
     },
     "execution_count": 91,
     "metadata": {},
     "output_type": "execute_result"
    }
   ],
   "source": [
    "len(X_test), len(y_test)"
   ]
  },
  {
   "cell_type": "code",
   "execution_count": 92,
   "metadata": {},
   "outputs": [
    {
     "data": {
      "text/plain": [
       "refusal\n",
       "1    0.752276\n",
       "0    0.247724\n",
       "Name: proportion, dtype: float64"
      ]
     },
     "execution_count": 92,
     "metadata": {},
     "output_type": "execute_result"
    }
   ],
   "source": [
    "y_test.value_counts(normalize=True)"
   ]
  },
  {
   "cell_type": "code",
   "execution_count": 93,
   "metadata": {},
   "outputs": [
    {
     "name": "stdout",
     "output_type": "stream",
     "text": [
      "X_train shape: (32370, 36)\n",
      "X_test shape: (5712, 36)\n",
      "\n"
     ]
    },
    {
     "data": {
      "image/png": "[encoded data removed]",
      "text/plain": [
       "<Figure size 640x480 with 1 Axes>"
      ]
     },
     "metadata": {},
     "output_type": "display_data"
    },
    {
     "name": "stdout",
     "output_type": "stream",
     "text": [
      "Actual [TEST]:\n",
      "4297 (75.2%)\n",
      "Predicted [TEST]:\n",
      "5671 (99.3%)\n",
      "\n",
      "y_pred_proba distribution:\n",
      "(0.000121, 0.1]      97\n",
      "(0.1, 0.199]         12\n",
      "(0.199, 0.298]        8\n",
      "(0.298, 0.398]      172\n",
      "(0.398, 0.497]      491\n",
      "(0.497, 0.596]      644\n",
      "(0.596, 0.695]      631\n",
      "(0.695, 0.794]      798\n",
      "(0.794, 0.893]      762\n",
      "(0.893, 0.992]     2097\n",
      "Name: count, dtype: int64\n",
      "\n",
      "Best validation loss: -0.1787150436669079\n",
      "\n",
      "\n",
      "              precision    recall  f1-score   support\n",
      "\n",
      "           0       1.00      0.03      0.06      1415\n",
      "           1       0.76      1.00      0.86      4297\n",
      "\n",
      "    accuracy                           0.76      5712\n",
      "   macro avg       0.88      0.51      0.46      5712\n",
      "weighted avg       0.82      0.76      0.66      5712\n",
      "\n",
      "Normalized confusion matrix:\n",
      "[[0.02897527 0.97102473]\n",
      " [0.         1.        ]]\n",
      "\n",
      "\n"
     ]
    }
   ],
   "source": [
    "y_pred_proba, y_pred, extra = refusal_model.fit(*r, time_budget=20, percentile=0.75)"
   ]
  },
  {
   "cell_type": "code",
   "execution_count": 94,
   "metadata": {},
   "outputs": [],
   "source": [
    "perf_df = pd.DataFrame({'y_pred': y_pred_proba, 'y_test': y_test})"
   ]
  },
  {
   "cell_type": "code",
   "execution_count": 98,
   "metadata": {},
   "outputs": [
    {
     "data": {
      "image/png": "[encoded data removed]",
      "text/plain": [
       "<Figure size 640x480 with 2 Axes>"
      ]
     },
     "metadata": {},
     "output_type": "display_data"
    }
   ],
   "source": [
    "fig = combo_chart(perf_df, xvar='y_pred', q=10, yvar='y_test', ylabel='Refusal rate')"
   ]
  },
  {
   "cell_type": "code",
   "execution_count": 100,
   "metadata": {},
   "outputs": [
    {
     "data": {
      "text/html": [
       "<div>\n",
       "<style scoped>\n",
       "    .dataframe tbody tr th:only-of-type {\n",
       "        vertical-align: middle;\n",
       "    }\n",
       "\n",
       "    .dataframe tbody tr th {\n",
       "        vertical-align: top;\n",
       "    }\n",
       "\n",
       "    .dataframe thead th {\n",
       "        text-align: right;\n",
       "    }\n",
       "</style>\n",
       "<table border=\"1\" class=\"dataframe\">\n",
       "  <thead>\n",
       "    <tr style=\"text-align: right;\">\n",
       "      <th></th>\n",
       "      <th>variable</th>\n",
       "      <th>imp</th>\n",
       "    </tr>\n",
       "  </thead>\n",
       "  <tbody>\n",
       "    <tr>\n",
       "      <th>16</th>\n",
       "      <td>sum_employer_income_previous_month</td>\n",
       "      <td>0.253021</td>\n",
       "    </tr>\n",
       "    <tr>\n",
       "      <th>14</th>\n",
       "      <td>sum_employer_income_2_months_ago</td>\n",
       "      <td>0.160892</td>\n",
       "    </tr>\n",
       "    <tr>\n",
       "      <th>29</th>\n",
       "      <td>sum_micro_loan_payments_2_months_ago</td>\n",
       "      <td>0.097068</td>\n",
       "    </tr>\n",
       "    <tr>\n",
       "      <th>5</th>\n",
       "      <td>count_nsf_30_days</td>\n",
       "      <td>0.070222</td>\n",
       "    </tr>\n",
       "    <tr>\n",
       "      <th>6</th>\n",
       "      <td>count_nsf_90_days</td>\n",
       "      <td>0.056725</td>\n",
       "    </tr>\n",
       "    <tr>\n",
       "      <th>28</th>\n",
       "      <td>sum_loan_payments_previous_month</td>\n",
       "      <td>0.038829</td>\n",
       "    </tr>\n",
       "    <tr>\n",
       "      <th>1</th>\n",
       "      <td>account_age_days</td>\n",
       "      <td>0.035612</td>\n",
       "    </tr>\n",
       "    <tr>\n",
       "      <th>31</th>\n",
       "      <td>sum_micro_loan_payments_previous_month</td>\n",
       "      <td>0.031135</td>\n",
       "    </tr>\n",
       "    <tr>\n",
       "      <th>30</th>\n",
       "      <td>sum_micro_loan_payments_current_month</td>\n",
       "      <td>0.029105</td>\n",
       "    </tr>\n",
       "    <tr>\n",
       "      <th>35</th>\n",
       "      <td>age</td>\n",
       "      <td>0.022678</td>\n",
       "    </tr>\n",
       "    <tr>\n",
       "      <th>24</th>\n",
       "      <td>sum_loan_deposits_60_days</td>\n",
       "      <td>0.020199</td>\n",
       "    </tr>\n",
       "    <tr>\n",
       "      <th>3</th>\n",
       "      <td>average_monthly_recurring_transfers_out_complex</td>\n",
       "      <td>0.017550</td>\n",
       "    </tr>\n",
       "    <tr>\n",
       "      <th>2</th>\n",
       "      <td>average_monthly_recurring_transfers_in_complex</td>\n",
       "      <td>0.016785</td>\n",
       "    </tr>\n",
       "    <tr>\n",
       "      <th>4</th>\n",
       "      <td>count_active_days</td>\n",
       "      <td>0.016230</td>\n",
       "    </tr>\n",
       "    <tr>\n",
       "      <th>7</th>\n",
       "      <td>count_stop_payment_90_days</td>\n",
       "      <td>0.016125</td>\n",
       "    </tr>\n",
       "    <tr>\n",
       "      <th>15</th>\n",
       "      <td>sum_employer_income_current_month</td>\n",
       "      <td>0.015215</td>\n",
       "    </tr>\n",
       "    <tr>\n",
       "      <th>27</th>\n",
       "      <td>sum_loan_payments_current_month</td>\n",
       "      <td>0.014000</td>\n",
       "    </tr>\n",
       "    <tr>\n",
       "      <th>21</th>\n",
       "      <td>sum_government_income_current_month</td>\n",
       "      <td>0.013366</td>\n",
       "    </tr>\n",
       "    <tr>\n",
       "      <th>34</th>\n",
       "      <td>sum_total_income_previous_month</td>\n",
       "      <td>0.013311</td>\n",
       "    </tr>\n",
       "    <tr>\n",
       "      <th>32</th>\n",
       "      <td>sum_total_income_2_months_ago</td>\n",
       "      <td>0.012617</td>\n",
       "    </tr>\n",
       "    <tr>\n",
       "      <th>22</th>\n",
       "      <td>sum_government_income_previous_month</td>\n",
       "      <td>0.011310</td>\n",
       "    </tr>\n",
       "    <tr>\n",
       "      <th>26</th>\n",
       "      <td>sum_loan_payments_2_months_ago</td>\n",
       "      <td>0.009755</td>\n",
       "    </tr>\n",
       "    <tr>\n",
       "      <th>8</th>\n",
       "      <td>recurring_deposits_2_months_ago</td>\n",
       "      <td>0.008156</td>\n",
       "    </tr>\n",
       "    <tr>\n",
       "      <th>9</th>\n",
       "      <td>recurring_deposits_current_month</td>\n",
       "      <td>0.007908</td>\n",
       "    </tr>\n",
       "    <tr>\n",
       "      <th>20</th>\n",
       "      <td>sum_government_income_2_months_ago</td>\n",
       "      <td>0.006388</td>\n",
       "    </tr>\n",
       "    <tr>\n",
       "      <th>23</th>\n",
       "      <td>sum_loan_deposits_30_days</td>\n",
       "      <td>0.005798</td>\n",
       "    </tr>\n",
       "    <tr>\n",
       "      <th>33</th>\n",
       "      <td>sum_total_income_current_month</td>\n",
       "      <td>0.000000</td>\n",
       "    </tr>\n",
       "    <tr>\n",
       "      <th>0</th>\n",
       "      <td>gender</td>\n",
       "      <td>0.000000</td>\n",
       "    </tr>\n",
       "    <tr>\n",
       "      <th>25</th>\n",
       "      <td>sum_loan_deposits_90_days</td>\n",
       "      <td>0.000000</td>\n",
       "    </tr>\n",
       "    <tr>\n",
       "      <th>19</th>\n",
       "      <td>sum_employment_insurance_income_previous_month</td>\n",
       "      <td>0.000000</td>\n",
       "    </tr>\n",
       "    <tr>\n",
       "      <th>17</th>\n",
       "      <td>sum_employment_insurance_income_2_months_ago</td>\n",
       "      <td>0.000000</td>\n",
       "    </tr>\n",
       "    <tr>\n",
       "      <th>13</th>\n",
       "      <td>sum_disability_income_previous_month</td>\n",
       "      <td>0.000000</td>\n",
       "    </tr>\n",
       "    <tr>\n",
       "      <th>12</th>\n",
       "      <td>sum_disability_income_current_month</td>\n",
       "      <td>0.000000</td>\n",
       "    </tr>\n",
       "    <tr>\n",
       "      <th>11</th>\n",
       "      <td>sum_disability_income_2_months_ago</td>\n",
       "      <td>0.000000</td>\n",
       "    </tr>\n",
       "    <tr>\n",
       "      <th>10</th>\n",
       "      <td>recurring_deposits_previous_month</td>\n",
       "      <td>0.000000</td>\n",
       "    </tr>\n",
       "    <tr>\n",
       "      <th>18</th>\n",
       "      <td>sum_employment_insurance_income_current_month</td>\n",
       "      <td>0.000000</td>\n",
       "    </tr>\n",
       "  </tbody>\n",
       "</table>\n",
       "</div>"
      ],
      "text/plain": [
       "                                           variable       imp\n",
       "16               sum_employer_income_previous_month  0.253021\n",
       "14                 sum_employer_income_2_months_ago  0.160892\n",
       "29             sum_micro_loan_payments_2_months_ago  0.097068\n",
       "5                                 count_nsf_30_days  0.070222\n",
       "6                                 count_nsf_90_days  0.056725\n",
       "28                 sum_loan_payments_previous_month  0.038829\n",
       "1                                  account_age_days  0.035612\n",
       "31           sum_micro_loan_payments_previous_month  0.031135\n",
       "30            sum_micro_loan_payments_current_month  0.029105\n",
       "35                                              age  0.022678\n",
       "24                        sum_loan_deposits_60_days  0.020199\n",
       "3   average_monthly_recurring_transfers_out_complex  0.017550\n",
       "2    average_monthly_recurring_transfers_in_complex  0.016785\n",
       "4                                 count_active_days  0.016230\n",
       "7                        count_stop_payment_90_days  0.016125\n",
       "15                sum_employer_income_current_month  0.015215\n",
       "27                  sum_loan_payments_current_month  0.014000\n",
       "21              sum_government_income_current_month  0.013366\n",
       "34                  sum_total_income_previous_month  0.013311\n",
       "32                    sum_total_income_2_months_ago  0.012617\n",
       "22             sum_government_income_previous_month  0.011310\n",
       "26                   sum_loan_payments_2_months_ago  0.009755\n",
       "8                   recurring_deposits_2_months_ago  0.008156\n",
       "9                  recurring_deposits_current_month  0.007908\n",
       "20               sum_government_income_2_months_ago  0.006388\n",
       "23                        sum_loan_deposits_30_days  0.005798\n",
       "33                   sum_total_income_current_month  0.000000\n",
       "0                                            gender  0.000000\n",
       "25                        sum_loan_deposits_90_days  0.000000\n",
       "19   sum_employment_insurance_income_previous_month  0.000000\n",
       "17     sum_employment_insurance_income_2_months_ago  0.000000\n",
       "13             sum_disability_income_previous_month  0.000000\n",
       "12              sum_disability_income_current_month  0.000000\n",
       "11               sum_disability_income_2_months_ago  0.000000\n",
       "10                recurring_deposits_previous_month  0.000000\n",
       "18    sum_employment_insurance_income_current_month  0.000000"
      ]
     },
     "execution_count": 100,
     "metadata": {},
     "output_type": "execute_result"
    }
   ],
   "source": [
    "refusal_model.feat_imp()"
   ]
  }
 ],
 "metadata": {
  "interpreter": {
   "hash": "c949762a1497e6497ef2ce1d03508af2baca1492d5369cf1827d7a1955776fe1"
  },
  "kernelspec": {
   "display_name": "Python 3.10.5 ('.env-dataprep': venv)",
   "language": "python",
   "name": "python3"
  },
  "language_info": {
   "codemirror_mode": {
    "name": "ipython",
    "version": 3
   },
   "file_extension": ".py",
   "mimetype": "text/x-python",
   "name": "python",
   "nbconvert_exporter": "python",
   "pygments_lexer": "ipython3",
   "version": "3.10.5"
  },
  "orig_nbformat": 4
 },
 "nbformat": 4,
 "nbformat_minor": 2
}
