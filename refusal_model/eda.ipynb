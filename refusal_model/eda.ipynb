{
 "cells": [
  {
   "cell_type": "code",
   "execution_count": 94,
   "metadata": {},
   "outputs": [],
   "source": [
    "import pandas as pd\n",
    "from pandas.api.types import is_numeric_dtype\n",
    "from westgate.flaml_model import *\n",
    "from sklearn.feature_selection import mutual_info_classif\n",
    "import random\n",
    "from collections import defaultdict\n",
    "import math\n",
    "from tqdm import tqdm\n",
    "\n",
    "from flaml import AutoML"
   ]
  },
  {
   "cell_type": "code",
   "execution_count": 3,
   "metadata": {},
   "outputs": [],
   "source": [
    "refused_raw_df = pd.read_csv('../data/refusal2022.csv', encoding='latin')"
   ]
  },
  {
   "cell_type": "code",
   "execution_count": 4,
   "metadata": {},
   "outputs": [],
   "source": [
    "refused_raw_df['recurring_deposits_90_days'] = (\n",
    "    refused_raw_df['recurring_deposits_current_month'] + \n",
    "    refused_raw_df['recurring_deposits_previous_month'] +\n",
    "    refused_raw_df['recurring_deposits_2_months_ago']\n",
    ")\n",
    "\n",
    "refused_raw_df['sum_micro_loans_60_days'] = (\n",
    "    refused_raw_df['sum_micro_loan_payments_current_month'] + \n",
    "    refused_raw_df['sum_micro_loan_payments_previous_month'] \n",
    ")\n",
    "\n",
    "refused_raw_df['recurring_deposits_90_days'] = (\n",
    "    refused_raw_df['recurring_deposits_current_month'] + \n",
    "    refused_raw_df['recurring_deposits_previous_month'] +\n",
    "    refused_raw_df['recurring_deposits_2_months_ago']\n",
    ")\n",
    "\n",
    "refused_raw_df['sum_micro_loans_60_days'] = (\n",
    "    refused_raw_df['sum_micro_loan_payments_current_month'] + \n",
    "    refused_raw_df['sum_micro_loan_payments_previous_month'] \n",
    ")"
   ]
  },
  {
   "cell_type": "code",
   "execution_count": 5,
   "metadata": {},
   "outputs": [
    {
     "name": "stdout",
     "output_type": "stream",
     "text": [
      "# loans before auto-refusal: 37398\n",
      "# loans after auto-refusal: 28579\n"
     ]
    }
   ],
   "source": [
    "print('# loans before auto-refusal: ' + str(len(refused_raw_df)))\n",
    "\n",
    "refused_df = refused_raw_df[refused_raw_df['account_age_days'] >= 85]\n",
    "\n",
    "refused_df = refused_df[refused_df['count_nsf_90_days'] <= 8]\n",
    "\n",
    "refused_df = refused_df[refused_df['count_nsf_30_days'] <= 6]\n",
    "\n",
    "refused_df = refused_df[refused_df['count_stop_payment_90_days'] <= 4]\n",
    "\n",
    "#refused_df = refused_df[refused_df['recurring_deposits_90_days']/3.0 >= 1800] <-- filers way too much\n",
    "\n",
    "#refused_df = refused_df[refused_df['sum_micro_loans_60_days'] <= 1000]\n",
    "\n",
    "print('# loans after auto-refusal: ' + str(len(refused_df)))"
   ]
  },
  {
   "cell_type": "code",
   "execution_count": 6,
   "metadata": {},
   "outputs": [
    {
     "name": "stderr",
     "output_type": "stream",
     "text": [
      "C:\\Users\\karim\\AppData\\Local\\Temp\\ipykernel_336\\850028601.py:1: DtypeWarning: Columns (741) have mixed types. Specify dtype option on import or set low_memory=False.\n",
      "  accepted_raw_df = pd.read_csv('../data/AttributesLoans2022.csv', encoding='latin')\n"
     ]
    }
   ],
   "source": [
    "accepted_raw_df = pd.read_csv('../data/AttributesLoans2022.csv', encoding='latin')"
   ]
  },
  {
   "cell_type": "code",
   "execution_count": 7,
   "metadata": {},
   "outputs": [
    {
     "data": {
      "text/plain": [
       "10098"
      ]
     },
     "execution_count": 7,
     "metadata": {},
     "output_type": "execute_result"
    }
   ],
   "source": [
    "len(accepted_raw_df)"
   ]
  },
  {
   "cell_type": "code",
   "execution_count": 8,
   "metadata": {},
   "outputs": [],
   "source": [
    "def filter_accepted_df(df):\n",
    "    if 'error' in df.columns:\n",
    "        df = df[df['error'].isna()]\n",
    "    if 'Id' in df.columns:\n",
    "        df = df[~df['Id'].isna()]\n",
    "    if 'request_date' in df.columns:\n",
    "        df = df[~df['request_date'].isna()]\n",
    "    if 'account_age_days' in df.columns:\n",
    "        df = df[df['account_age_days'] > 0]\n",
    "    return df"
   ]
  },
  {
   "cell_type": "code",
   "execution_count": 9,
   "metadata": {},
   "outputs": [],
   "source": [
    "accepted_df = filter_accepted_df(accepted_raw_df)"
   ]
  },
  {
   "cell_type": "code",
   "execution_count": 10,
   "metadata": {},
   "outputs": [
    {
     "data": {
      "text/plain": [
       "9633"
      ]
     },
     "execution_count": 10,
     "metadata": {},
     "output_type": "execute_result"
    }
   ],
   "source": [
    "len(accepted_df)"
   ]
  },
  {
   "cell_type": "code",
   "execution_count": 11,
   "metadata": {},
   "outputs": [],
   "source": [
    "accepted_df.drop(columns=['requestId', 'fees_paid', 'first_repayment_date', \n",
    "                          'last_repayment_date', 'repayment_count', 'error'],\n",
    "                inplace=True)"
   ]
  },
  {
   "cell_type": "code",
   "execution_count": 12,
   "metadata": {},
   "outputs": [
    {
     "data": {
      "text/plain": [
       "average_monthly_auto_loan_payments_complex                   8\n",
       "average_monthly_child_support_income_government_complex     39\n",
       "average_monthly_government_income_complex                   12\n",
       "average_monthly_loan_deposits_complex                       15\n",
       "average_monthly_loan_payments_complex                       31\n",
       "average_monthly_micro_loan_payments_complex                 27\n",
       "average_monthly_non_employer_income_complex                 13\n",
       "average_monthly_other_loan_payments_complex                 16\n",
       "average_monthly_pension_income_complex                      24\n",
       "average_monthly_social_assistance_income_complex           103\n",
       "average_monthly_student_loan_payments_complex                1\n",
       "average_monthly_telecom_payments_complex                    24\n",
       "average_monthly_total_income_complex                        32\n",
       "average_monthly_utility_payments_complex                     9\n",
       "average_monthly_wsib_income_complex                          4\n",
       "estimated_annual_net_employer_income                       381\n",
       "average_monthly_insurance_income_complex                     1\n",
       "dtype: int64"
      ]
     },
     "execution_count": 12,
     "metadata": {},
     "output_type": "execute_result"
    }
   ],
   "source": [
    "na_cols = accepted_df.isna().sum()\n",
    "na_cols[na_cols > 0]"
   ]
  },
  {
   "cell_type": "code",
   "execution_count": 13,
   "metadata": {},
   "outputs": [],
   "source": [
    "accepted_df.fillna(-1, inplace=True)"
   ]
  },
  {
   "cell_type": "code",
   "execution_count": 14,
   "metadata": {},
   "outputs": [],
   "source": [
    "accepted_df['refusal'] = 0\n",
    "refused_df['refusal'] = 1"
   ]
  },
  {
   "cell_type": "code",
   "execution_count": 15,
   "metadata": {},
   "outputs": [
    {
     "data": {
      "text/plain": [
       "average_monthly_child_support_income_government_complex     106\n",
       "average_monthly_pension_income_complex                       57\n",
       "average_monthly_social_assistance_income_complex            476\n",
       "average_monthly_wsib_income_complex                          18\n",
       "balance_max                                                   2\n",
       "balance_min                                                   6\n",
       "estimated_annual_net_employer_income                       6162\n",
       "dtype: int64"
      ]
     },
     "execution_count": 15,
     "metadata": {},
     "output_type": "execute_result"
    }
   ],
   "source": [
    "na_cols = refused_df.isna().sum()\n",
    "na_cols[na_cols > 0]"
   ]
  },
  {
   "cell_type": "code",
   "execution_count": 16,
   "metadata": {},
   "outputs": [],
   "source": [
    "refused_df['average_monthly_child_support_income_government_complex'].fillna(-1, inplace=True)\n",
    "refused_df['average_monthly_pension_income_complex'].fillna(-1, inplace=True)\n",
    "refused_df['average_monthly_social_assistance_income_complex'].fillna(-1, inplace=True)\n",
    "refused_df['average_monthly_wsib_income_complex'].fillna(-1, inplace=True)\n",
    "refused_df['estimated_annual_net_employer_income'].fillna(-1, inplace=True)"
   ]
  },
  {
   "cell_type": "code",
   "execution_count": 17,
   "metadata": {},
   "outputs": [
    {
     "data": {
      "text/plain": [
       "balance_max    2\n",
       "balance_min    6\n",
       "dtype: int64"
      ]
     },
     "execution_count": 17,
     "metadata": {},
     "output_type": "execute_result"
    }
   ],
   "source": [
    "na_cols = refused_df.isna().sum()\n",
    "na_cols[na_cols > 0]"
   ]
  },
  {
   "cell_type": "code",
   "execution_count": 18,
   "metadata": {},
   "outputs": [],
   "source": [
    "refused_df.dropna(inplace=True)"
   ]
  },
  {
   "cell_type": "code",
   "execution_count": 19,
   "metadata": {},
   "outputs": [
    {
     "data": {
      "text/plain": [
       "0"
      ]
     },
     "execution_count": 19,
     "metadata": {},
     "output_type": "execute_result"
    }
   ],
   "source": [
    "refused_df.isna().sum().sum()"
   ]
  },
  {
   "cell_type": "code",
   "execution_count": 20,
   "metadata": {},
   "outputs": [
    {
     "data": {
      "text/plain": [
       "0"
      ]
     },
     "execution_count": 20,
     "metadata": {},
     "output_type": "execute_result"
    }
   ],
   "source": [
    "accepted_df.isna().sum().sum()"
   ]
  },
  {
   "cell_type": "code",
   "execution_count": 21,
   "metadata": {},
   "outputs": [],
   "source": [
    "common_cols = [c for c in refused_df.columns if c in accepted_df.columns]\n",
    "refusal_only_cols = [c for c in refused_df.columns if c not in accepted_df.columns]\n",
    "default_only_cols = [c for c in accepted_df.columns if c not in refused_df.columns]"
   ]
  },
  {
   "cell_type": "code",
   "execution_count": 22,
   "metadata": {},
   "outputs": [
    {
     "data": {
      "text/plain": [
       "['approbexRequest',\n",
       " 'province',\n",
       " 'refusalReason',\n",
       " 'recurring_deposits_90_days',\n",
       " 'sum_micro_loans_60_days']"
      ]
     },
     "execution_count": 22,
     "metadata": {},
     "output_type": "execute_result"
    }
   ],
   "source": [
    "refusal_only_cols"
   ]
  },
  {
   "cell_type": "code",
   "execution_count": 23,
   "metadata": {},
   "outputs": [
    {
     "data": {
      "text/plain": [
       "['Id', 'principal', 'total_paid', 'loan_application_id', 'borrower_id']"
      ]
     },
     "execution_count": 23,
     "metadata": {},
     "output_type": "execute_result"
    }
   ],
   "source": [
    "default_only_cols"
   ]
  },
  {
   "cell_type": "code",
   "execution_count": 24,
   "metadata": {},
   "outputs": [],
   "source": [
    "df = pd.concat([accepted_df[common_cols], refused_df[common_cols]])"
   ]
  },
  {
   "cell_type": "code",
   "execution_count": 25,
   "metadata": {},
   "outputs": [
    {
     "data": {
      "text/plain": [
       "38205"
      ]
     },
     "execution_count": 25,
     "metadata": {},
     "output_type": "execute_result"
    }
   ],
   "source": [
    "len(df)"
   ]
  },
  {
   "cell_type": "code",
   "execution_count": 26,
   "metadata": {},
   "outputs": [
    {
     "data": {
      "text/plain": [
       "0"
      ]
     },
     "execution_count": 26,
     "metadata": {},
     "output_type": "execute_result"
    }
   ],
   "source": [
    "df.isna().sum().sum()"
   ]
  },
  {
   "cell_type": "code",
   "execution_count": 27,
   "metadata": {},
   "outputs": [],
   "source": [
    "exclude_cols = ['approbexRequest', 'loginId', 'Id', 'requestDate', 'refusalReason', \n",
    "                'MostRecentTransactionDate', 'error', 'borrower_id', 'loan_application_id',\n",
    "                'repayment_count', 'request_id', 'status', 'total_paid', 'fees_paid', \n",
    "                'first_repayment_date', 'last_repayment_date']\n",
    "\n",
    "df = df[[c for c in df.columns if c not in exclude_cols]]"
   ]
  },
  {
   "cell_type": "code",
   "execution_count": 28,
   "metadata": {},
   "outputs": [
    {
     "data": {
      "text/plain": [
       "(array([0, 0, 1, ..., 0, 0, 1], dtype=int64),\n",
       " Index(['male', 'female'], dtype='object'))"
      ]
     },
     "execution_count": 28,
     "metadata": {},
     "output_type": "execute_result"
    }
   ],
   "source": [
    "pd.factorize(df['gender'])"
   ]
  },
  {
   "cell_type": "code",
   "execution_count": 29,
   "metadata": {},
   "outputs": [],
   "source": [
    "def feature_engineer(df: pd.DataFrame) -> pd.DataFrame:\n",
    "\n",
    "    def time_diff(df):\n",
    "        try:\n",
    "            request_date = df['request_date']\n",
    "            dob = df['dob']\n",
    "            request_date = parse(request_date)\n",
    "            dob = parse(dob)\n",
    "            return relativedelta(request_date, dob).years\n",
    "        except Exception as e:\n",
    "            print('Problematic value for dob ' + str(dob))\n",
    "    \n",
    "    assert 'dob' in df.columns\n",
    "    assert is_string_dtype(df['dob'])\n",
    "    assert 'request_date' in df.columns\n",
    "    assert is_string_dtype(df['request_date'])\n",
    "\n",
    "    df['dob'] = df['dob'].str[:10]\n",
    "    df['request_date'] = df['request_date'].str[:10]\n",
    "\n",
    "    df['age'] = df[['request_date', 'dob']].apply(time_diff, axis=1)\n",
    "\n",
    "    return df"
   ]
  },
  {
   "cell_type": "code",
   "execution_count": 30,
   "metadata": {},
   "outputs": [
    {
     "name": "stdout",
     "output_type": "stream",
     "text": [
      "Problematic value for dob ##########\n",
      "Problematic value for dob ##########\n",
      "Problematic value for dob ##########\n",
      "Problematic value for dob ##########\n"
     ]
    }
   ],
   "source": [
    "df = feature_engineer(df)"
   ]
  },
  {
   "cell_type": "code",
   "execution_count": 31,
   "metadata": {},
   "outputs": [
    {
     "data": {
      "text/plain": [
       "4"
      ]
     },
     "execution_count": 31,
     "metadata": {},
     "output_type": "execute_result"
    }
   ],
   "source": [
    "df['age'].isna().sum()"
   ]
  },
  {
   "cell_type": "code",
   "execution_count": 32,
   "metadata": {},
   "outputs": [],
   "source": [
    "df.dropna(inplace=True)"
   ]
  },
  {
   "cell_type": "code",
   "execution_count": 33,
   "metadata": {},
   "outputs": [],
   "source": [
    "df.drop(columns=['request_date', 'dob'], inplace=True)"
   ]
  },
  {
   "cell_type": "code",
   "execution_count": 34,
   "metadata": {},
   "outputs": [
    {
     "name": "stdout",
     "output_type": "stream",
     "text": [
      "dropping column average_closing_balance_day_after_government_income\n",
      "dropping column average_closing_balance_day_of_government_income\n",
      "dropping column employer_a_name\n",
      "dropping column employer_b_name\n",
      "dropping column employer_name\n",
      "dropping column employer_other_name\n",
      "dropping column last_2_paydates_child_support_income_government\n",
      "dropping column last_2_paydates_disability_income\n",
      "dropping column last_2_paydates_employer_a\n",
      "dropping column last_2_paydates_employer_b\n",
      "dropping column last_2_paydates_employer_other\n",
      "dropping column last_2_paydates_employment_insurance_income\n",
      "dropping column last_2_paydates_government_income\n",
      "dropping column last_2_paydates_pension_income\n",
      "dropping column last_2_paydates_social_assistance_income\n",
      "dropping column last_2_paydates_wsib_income\n",
      "dropping column micro_lender_name\n",
      "dropping column last_2_social_assistance_income_dates\n",
      "dropping column last_2_employment_insurance_income_dates\n",
      "dropping column last_2_wsib_income_dates\n",
      "dropping column last_2_pension_income_dates\n",
      "dropping column last_2_child_support_income_government_dates\n",
      "dropping column last_2_disability_income_dates\n"
     ]
    }
   ],
   "source": [
    "for c in df:\n",
    "    if not is_numeric_dtype(df[c]):\n",
    "        if df[c].nunique() < 20:\n",
    "            try:\n",
    "                values, uniques = pd.factorize(df[c])\n",
    "                df[c] = values\n",
    "            except Exception as e:\n",
    "                print('Exception while factorizing colunm ' + str(c))\n",
    "                print(e)\n",
    "        else:\n",
    "            print('dropping column ' + str(c))\n",
    "            df.drop(c, axis=1, inplace=True)"
   ]
  },
  {
   "cell_type": "code",
   "execution_count": 36,
   "metadata": {},
   "outputs": [
    {
     "data": {
      "text/plain": [
       "718"
      ]
     },
     "execution_count": 36,
     "metadata": {},
     "output_type": "execute_result"
    }
   ],
   "source": [
    "len(df.columns)"
   ]
  },
  {
   "cell_type": "code",
   "execution_count": 37,
   "metadata": {},
   "outputs": [
    {
     "data": {
      "text/plain": [
       "Index(['gender', 'account_age_days', 'active_days_trend',\n",
       "       'auto_loan_payment_frequency',\n",
       "       'average_closing_balance_day_after_employer_income',\n",
       "       'average_closing_balance_day_after_income',\n",
       "       'average_closing_balance_day_of_employer_income',\n",
       "       'average_closing_balance_day_of_income', 'average_disability_deposit',\n",
       "       'average_employer_a_income_deposit',\n",
       "       ...\n",
       "       'student_loan_payments_frequency', 'telecom_payments_frequency',\n",
       "       'telecom_payments_average', 'other_loan_payments_frequency',\n",
       "       'other_loan_payments_average', 'utility_payments_frequency',\n",
       "       'utility_payments_average', 'average_monthly_insurance_income_complex',\n",
       "       'refusal', 'age'],\n",
       "      dtype='object', length=718)"
      ]
     },
     "execution_count": 37,
     "metadata": {},
     "output_type": "execute_result"
    }
   ],
   "source": [
    "df.columns"
   ]
  },
  {
   "cell_type": "code",
   "execution_count": 45,
   "metadata": {},
   "outputs": [],
   "source": [
    "train_df = df[[c for c in df.columns if c != 'refusal']]"
   ]
  },
  {
   "cell_type": "code",
   "execution_count": 46,
   "metadata": {},
   "outputs": [],
   "source": [
    "target = df['refusal']"
   ]
  },
  {
   "cell_type": "code",
   "execution_count": 54,
   "metadata": {},
   "outputs": [],
   "source": [
    "random_cols = random.sample(sorted(df.columns), 5)"
   ]
  },
  {
   "cell_type": "code",
   "execution_count": 55,
   "metadata": {},
   "outputs": [
    {
     "data": {
      "text/plain": [
       "['count_micro_loan_payments_2_months_ago',\n",
       " 'sum_social_assistance_income_4_months_ago',\n",
       " 'telecom_payments_frequency',\n",
       " 'average_monthly_employer_other_income_complex',\n",
       " 'count_student_loan_payments_5_months_ago']"
      ]
     },
     "execution_count": 55,
     "metadata": {},
     "output_type": "execute_result"
    }
   ],
   "source": [
    "random_cols"
   ]
  },
  {
   "cell_type": "code",
   "execution_count": 95,
   "metadata": {},
   "outputs": [
    {
     "name": "stderr",
     "output_type": "stream",
     "text": [
      "100%|██████████| 100/100 [15:56:34<00:00, 573.95s/it]     \n"
     ]
    }
   ],
   "source": [
    "results = []\n",
    "n_cols = int(math.sqrt(len(df.columns)))\n",
    "np.random.seed(123)\n",
    "\n",
    "for iter in tqdm(range(100)):\n",
    "\n",
    "    random_cols = random.sample(sorted(df.columns), n_cols)\n",
    "\n",
    "    automl_settings = {\n",
    "        \"time_budget\": 10,  # in seconds\n",
    "        \"metric\": \"roc_auc\",\n",
    "        \"task\": 'classification',\n",
    "        \"estimator_list\": ['rf'],\n",
    "        \"eval_method\": \"cv\",\n",
    "        \"n_splits\": 5,\n",
    "        \"retrain_full\": False,\n",
    "        \"verbose\": 2\n",
    "    }\n",
    "\n",
    "    automl = AutoML()\n",
    "\n",
    "    automl.fit(train_df, target, **automl_settings)\n",
    "\n",
    "    loss = automl.best_loss\n",
    "\n",
    "    r = {random_cols[i]:loss for i in range(len(random_cols))}\n",
    "\n",
    "    results.append(r)\n"
   ]
  },
  {
   "cell_type": "code",
   "execution_count": 96,
   "metadata": {},
   "outputs": [],
   "source": [
    "agg_results = defaultdict(list)\n",
    "\n",
    "for r in results:\n",
    "    for k,v in r.items():\n",
    "        agg_results[k].append(v)"
   ]
  },
  {
   "cell_type": "code",
   "execution_count": 97,
   "metadata": {},
   "outputs": [],
   "source": [
    "final_results = {k:[len(v), sum(v)/len(v)] for k,v in agg_results.items()}"
   ]
  },
  {
   "cell_type": "code",
   "execution_count": 99,
   "metadata": {},
   "outputs": [
    {
     "data": {
      "text/html": [
       "<div>\n",
       "<style scoped>\n",
       "    .dataframe tbody tr th:only-of-type {\n",
       "        vertical-align: middle;\n",
       "    }\n",
       "\n",
       "    .dataframe tbody tr th {\n",
       "        vertical-align: top;\n",
       "    }\n",
       "\n",
       "    .dataframe thead th {\n",
       "        text-align: right;\n",
       "    }\n",
       "</style>\n",
       "<table border=\"1\" class=\"dataframe\">\n",
       "  <thead>\n",
       "    <tr style=\"text-align: right;\">\n",
       "      <th></th>\n",
       "      <th>count</th>\n",
       "      <th>average_loss</th>\n",
       "    </tr>\n",
       "  </thead>\n",
       "  <tbody>\n",
       "    <tr>\n",
       "      <th>gender</th>\n",
       "      <td>10</td>\n",
       "      <td>inf</td>\n",
       "    </tr>\n",
       "    <tr>\n",
       "      <th>count_mortgage_payments_9_months_ago</th>\n",
       "      <td>10</td>\n",
       "      <td>inf</td>\n",
       "    </tr>\n",
       "    <tr>\n",
       "      <th>sum_government_income_11_months_ago</th>\n",
       "      <td>9</td>\n",
       "      <td>inf</td>\n",
       "    </tr>\n",
       "    <tr>\n",
       "      <th>recurring_deposits_3_months_ago</th>\n",
       "      <td>9</td>\n",
       "      <td>0.279370</td>\n",
       "    </tr>\n",
       "    <tr>\n",
       "      <th>average_monthly_micro_loan_payments_complex</th>\n",
       "      <td>9</td>\n",
       "      <td>inf</td>\n",
       "    </tr>\n",
       "    <tr>\n",
       "      <th>...</th>\n",
       "      <td>...</td>\n",
       "      <td>...</td>\n",
       "    </tr>\n",
       "    <tr>\n",
       "      <th>sum_employment_insurance_income_9_months_ago</th>\n",
       "      <td>1</td>\n",
       "      <td>0.254814</td>\n",
       "    </tr>\n",
       "    <tr>\n",
       "      <th>count_student_loan_payments_4_months_ago</th>\n",
       "      <td>1</td>\n",
       "      <td>0.254814</td>\n",
       "    </tr>\n",
       "    <tr>\n",
       "      <th>sum_micro_loan_payments_previous_month</th>\n",
       "      <td>1</td>\n",
       "      <td>0.254814</td>\n",
       "    </tr>\n",
       "    <tr>\n",
       "      <th>sum_telecom_payments_2_months_ago</th>\n",
       "      <td>1</td>\n",
       "      <td>0.253517</td>\n",
       "    </tr>\n",
       "    <tr>\n",
       "      <th>average_monthly_government_income_complex</th>\n",
       "      <td>1</td>\n",
       "      <td>0.294390</td>\n",
       "    </tr>\n",
       "  </tbody>\n",
       "</table>\n",
       "<p>696 rows × 2 columns</p>\n",
       "</div>"
      ],
      "text/plain": [
       "                                              count  average_loss\n",
       "gender                                           10           inf\n",
       "count_mortgage_payments_9_months_ago             10           inf\n",
       "sum_government_income_11_months_ago               9           inf\n",
       "recurring_deposits_3_months_ago                   9      0.279370\n",
       "average_monthly_micro_loan_payments_complex       9           inf\n",
       "...                                             ...           ...\n",
       "sum_employment_insurance_income_9_months_ago      1      0.254814\n",
       "count_student_loan_payments_4_months_ago          1      0.254814\n",
       "sum_micro_loan_payments_previous_month            1      0.254814\n",
       "sum_telecom_payments_2_months_ago                 1      0.253517\n",
       "average_monthly_government_income_complex         1      0.294390\n",
       "\n",
       "[696 rows x 2 columns]"
      ]
     },
     "execution_count": 99,
     "metadata": {},
     "output_type": "execute_result"
    }
   ],
   "source": [
    "pd.DataFrame.from_records(list(final_results.values()), \n",
    "                               index=final_results.keys(),\n",
    "                               columns = ['count', 'average_loss']).sort_values('count', ascending=False)"
   ]
  },
  {
   "cell_type": "code",
   "execution_count": 67,
   "metadata": {},
   "outputs": [
    {
     "data": {
      "text/html": [
       "<div>\n",
       "<style scoped>\n",
       "    .dataframe tbody tr th:only-of-type {\n",
       "        vertical-align: middle;\n",
       "    }\n",
       "\n",
       "    .dataframe tbody tr th {\n",
       "        vertical-align: top;\n",
       "    }\n",
       "\n",
       "    .dataframe thead th {\n",
       "        text-align: right;\n",
       "    }\n",
       "</style>\n",
       "<table border=\"1\" class=\"dataframe\">\n",
       "  <thead>\n",
       "    <tr style=\"text-align: right;\">\n",
       "      <th></th>\n",
       "      <th>feature_0</th>\n",
       "      <th>feature_1</th>\n",
       "      <th>feature_2</th>\n",
       "      <th>feature_3</th>\n",
       "      <th>feature_4</th>\n",
       "      <th>loss</th>\n",
       "    </tr>\n",
       "  </thead>\n",
       "  <tbody>\n",
       "    <tr>\n",
       "      <th>0</th>\n",
       "      <td>recurring_deposits_7_months_ago</td>\n",
       "      <td>sum_auto_loan_payments_3_months_ago</td>\n",
       "      <td>utility_payments_average</td>\n",
       "      <td>count_auto_loan_payments_4_months_ago</td>\n",
       "      <td>count_employer_b_income_10_months_ago</td>\n",
       "      <td>0.29439</td>\n",
       "    </tr>\n",
       "  </tbody>\n",
       "</table>\n",
       "</div>"
      ],
      "text/plain": [
       "                         feature_0                            feature_1  \\\n",
       "0  recurring_deposits_7_months_ago  sum_auto_loan_payments_3_months_ago   \n",
       "\n",
       "                  feature_2                              feature_3  \\\n",
       "0  utility_payments_average  count_auto_loan_payments_4_months_ago   \n",
       "\n",
       "                               feature_4     loss  \n",
       "0  count_employer_b_income_10_months_ago  0.29439  "
      ]
     },
     "execution_count": 67,
     "metadata": {},
     "output_type": "execute_result"
    }
   ],
   "source": [
    "pd.DataFrame(results[0], index=[0])"
   ]
  },
  {
   "cell_type": "code",
   "execution_count": 69,
   "metadata": {},
   "outputs": [],
   "source": [
    "results_df = pd.concat([pd.DataFrame(r, index=[0]) for r in results])"
   ]
  },
  {
   "cell_type": "code",
   "execution_count": 72,
   "metadata": {},
   "outputs": [
    {
     "data": {
      "text/html": [
       "<div>\n",
       "<style scoped>\n",
       "    .dataframe tbody tr th:only-of-type {\n",
       "        vertical-align: middle;\n",
       "    }\n",
       "\n",
       "    .dataframe tbody tr th {\n",
       "        vertical-align: top;\n",
       "    }\n",
       "\n",
       "    .dataframe thead th {\n",
       "        text-align: right;\n",
       "    }\n",
       "</style>\n",
       "<table border=\"1\" class=\"dataframe\">\n",
       "  <thead>\n",
       "    <tr style=\"text-align: right;\">\n",
       "      <th></th>\n",
       "      <th>count</th>\n",
       "      <th>sum</th>\n",
       "    </tr>\n",
       "    <tr>\n",
       "      <th>feature_0</th>\n",
       "      <th></th>\n",
       "      <th></th>\n",
       "    </tr>\n",
       "  </thead>\n",
       "  <tbody>\n",
       "    <tr>\n",
       "      <th>recurring_deposits_7_months_ago</th>\n",
       "      <td>1</td>\n",
       "      <td>0.294390</td>\n",
       "    </tr>\n",
       "    <tr>\n",
       "      <th>sum_disability_income_2_months_ago</th>\n",
       "      <td>1</td>\n",
       "      <td>0.258730</td>\n",
       "    </tr>\n",
       "    <tr>\n",
       "      <th>telecom_payments_frequency</th>\n",
       "      <td>1</td>\n",
       "      <td>0.299457</td>\n",
       "    </tr>\n",
       "  </tbody>\n",
       "</table>\n",
       "</div>"
      ],
      "text/plain": [
       "                                    count       sum\n",
       "feature_0                                          \n",
       "recurring_deposits_7_months_ago         1  0.294390\n",
       "sum_disability_income_2_months_ago      1  0.258730\n",
       "telecom_payments_frequency              1  0.299457"
      ]
     },
     "execution_count": 72,
     "metadata": {},
     "output_type": "execute_result"
    }
   ],
   "source": [
    "results_df.groupby('feature_0')['loss'].agg(['count', 'sum'])"
   ]
  }
 ],
 "metadata": {
  "interpreter": {
   "hash": "38b8ab3c7caf7263c2b1864059dd22fc7e99c3d689cca848f2cf647715e92ae3"
  },
  "kernelspec": {
   "display_name": "Python 3.10.5 ('.env-flaml': venv)",
   "language": "python",
   "name": "python3"
  },
  "language_info": {
   "codemirror_mode": {
    "name": "ipython",
    "version": 3
   },
   "file_extension": ".py",
   "mimetype": "text/x-python",
   "name": "python",
   "nbconvert_exporter": "python",
   "pygments_lexer": "ipython3",
   "version": "3.10.5"
  },
  "orig_nbformat": 4
 },
 "nbformat": 4,
 "nbformat_minor": 2
}
