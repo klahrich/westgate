{
 "cells": [
  {
   "cell_type": "code",
   "execution_count": 1,
   "metadata": {},
   "outputs": [],
   "source": [
    "%load_ext autoreload\n",
    "%autoreload 2"
   ]
  },
  {
   "cell_type": "code",
   "execution_count": 2,
   "metadata": {},
   "outputs": [],
   "source": [
    "import pandas as pd\n",
    "from westgate.flaml_model import *\n",
    "import pandas as pd\n",
    "from westgate.combochart import combo_chart\n",
    "import argparse\n",
    "from colored import Fore, Back, Style\n",
    "from sklearn.ensemble._stacking import StackingClassifier\n",
    "import sqlite3"
   ]
  },
  {
   "cell_type": "code",
   "execution_count": 4,
   "metadata": {},
   "outputs": [],
   "source": [
    "default_model = UWModel(experiment_id='default_1.1')\n",
    "#default_model = load_model('default_1.0')"
   ]
  },
  {
   "cell_type": "code",
   "execution_count": 6,
   "metadata": {},
   "outputs": [
    {
     "name": "stderr",
     "output_type": "stream",
     "text": [
      "C:\\Users\\karim\\AppData\\Local\\Temp\\ipykernel_35628\\866427730.py:1: DtypeWarning: Columns (741) have mixed types. Specify dtype option on import or set low_memory=False.\n",
      "  accepted_df = pd.read_csv('C:/Users/karim/Documents/westgate/data/AttributesLoans2022.csv', encoding='latin')\n"
     ]
    }
   ],
   "source": [
    "accepted_df = pd.read_csv('C:/Users/karim/Documents/westgate/data/AttributesLoans2022.csv', encoding='latin')"
   ]
  },
  {
   "cell_type": "code",
   "execution_count": 7,
   "metadata": {},
   "outputs": [
    {
     "data": {
      "text/plain": [
       "employer_income_frequency\n",
       "BiWeekly     6553\n",
       "Weekly       1365\n",
       "BiMonthly    1124\n",
       "Unknown       545\n",
       "Monthly        48\n",
       "Name: count, dtype: int64"
      ]
     },
     "execution_count": 7,
     "metadata": {},
     "output_type": "execute_result"
    }
   ],
   "source": [
    "accepted_df['employer_income_frequency'].value_counts()"
   ]
  },
  {
   "cell_type": "code",
   "execution_count": 8,
   "metadata": {},
   "outputs": [
    {
     "data": {
      "text/plain": [
       "10098"
      ]
     },
     "execution_count": 8,
     "metadata": {},
     "output_type": "execute_result"
    }
   ],
   "source": [
    "len(accepted_df)"
   ]
  },
  {
   "cell_type": "code",
   "execution_count": 9,
   "metadata": {},
   "outputs": [],
   "source": [
    "accepted_df['request_month'] = accepted_df['request_date'].str[5:7].astype(int)\n",
    "accepted_df['validation_flag'] = accepted_df['request_month'] == 11\n",
    "accepted_df['test_flag'] = accepted_df['request_month'] == 12\n",
    "accepted_df['weight'] = accepted_df['request_month'] / 12.0"
   ]
  },
  {
   "cell_type": "code",
   "execution_count": 10,
   "metadata": {},
   "outputs": [],
   "source": [
    "accepted_df['profit'] = accepted_df['total_paid'] - accepted_df['principal']"
   ]
  },
  {
   "cell_type": "code",
   "execution_count": 11,
   "metadata": {},
   "outputs": [
    {
     "data": {
      "text/plain": [
       "'status'"
      ]
     },
     "execution_count": 11,
     "metadata": {},
     "output_type": "execute_result"
    }
   ],
   "source": [
    "default_model.target"
   ]
  },
  {
   "cell_type": "code",
   "execution_count": 12,
   "metadata": {},
   "outputs": [],
   "source": [
    "accepted_df[default_model.target] = np.where(accepted_df['profit'] < 50, 1, 0)"
   ]
  },
  {
   "cell_type": "code",
   "execution_count": 13,
   "metadata": {},
   "outputs": [
    {
     "data": {
      "text/plain": [
       "status\n",
       "0    0.700832\n",
       "1    0.299168\n",
       "Name: proportion, dtype: float64"
      ]
     },
     "execution_count": 13,
     "metadata": {},
     "output_type": "execute_result"
    }
   ],
   "source": [
    "accepted_df[default_model.target].value_counts(normalize=True)"
   ]
  },
  {
   "cell_type": "code",
   "execution_count": 14,
   "metadata": {},
   "outputs": [
    {
     "name": "stdout",
     "output_type": "stream",
     "text": [
      "Rows with 'account_age_days' column not positive will be discarded.\n"
     ]
    }
   ],
   "source": [
    "filtered_df = default_model.filter_df(accepted_df)"
   ]
  },
  {
   "cell_type": "code",
   "execution_count": 15,
   "metadata": {},
   "outputs": [
    {
     "data": {
      "text/plain": [
       "9507"
      ]
     },
     "execution_count": 15,
     "metadata": {},
     "output_type": "execute_result"
    }
   ],
   "source": [
    "len(filtered_df)"
   ]
  },
  {
   "cell_type": "code",
   "execution_count": 16,
   "metadata": {},
   "outputs": [
    {
     "data": {
      "text/plain": [
       "status\n",
       "0    0.703376\n",
       "1    0.296624\n",
       "Name: proportion, dtype: float64"
      ]
     },
     "execution_count": 16,
     "metadata": {},
     "output_type": "execute_result"
    }
   ],
   "source": [
    "filtered_df[default_model.target].value_counts(normalize=True)"
   ]
  },
  {
   "cell_type": "code",
   "execution_count": 17,
   "metadata": {},
   "outputs": [],
   "source": [
    "#not used\n",
    "#rs = ShuffleSplit(n_splits=1, test_size=.20, random_state=0)"
   ]
  },
  {
   "cell_type": "code",
   "execution_count": 18,
   "metadata": {},
   "outputs": [],
   "source": [
    "# here X_teste is December\n",
    "\n",
    "X_train, X_test, y_train, y_test, extra = default_model.split_data(filtered_df, \n",
    "                                                            split_criteria='test_flag',\n",
    "                                                            extra_cols=['weight', 'validation_flag', 'request_month'])\n",
    "\n",
    "X_train, X_test = default_model.feature_engineer(X_train, X_test)\n",
    "\n",
    "#TODO: deal with na values in X_train/X_test if any\n",
    "#non_na_idx = X['age'].notna()\n",
    "\n",
    "#X = X[non_na_idx]\n",
    "\n",
    "#if y is not None:\n",
    "    #y = y[non_na_idx]\n",
    "\n"
   ]
  },
  {
   "cell_type": "code",
   "execution_count": 19,
   "metadata": {},
   "outputs": [
    {
     "data": {
      "text/plain": [
       "8455"
      ]
     },
     "execution_count": 19,
     "metadata": {},
     "output_type": "execute_result"
    }
   ],
   "source": [
    "len(X_train)"
   ]
  },
  {
   "cell_type": "code",
   "execution_count": 20,
   "metadata": {},
   "outputs": [],
   "source": [
    "# here X_val is November\n",
    "\n",
    "X_val, y_val = X_train.loc[extra['train_validation_flag']], y_train.loc[extra['train_validation_flag']]\n",
    "X_train, y_train = X_train.loc[~extra['train_validation_flag']], y_train.loc[~extra['train_validation_flag']]"
   ]
  },
  {
   "cell_type": "code",
   "execution_count": 21,
   "metadata": {},
   "outputs": [
    {
     "data": {
      "text/plain": [
       "True"
      ]
     },
     "execution_count": 21,
     "metadata": {},
     "output_type": "execute_result"
    }
   ],
   "source": [
    "len(X_train) + len(X_val) + len(X_test) == len(filtered_df)"
   ]
  },
  {
   "cell_type": "code",
   "execution_count": 22,
   "metadata": {},
   "outputs": [],
   "source": [
    "weight_train = extra['train_weight'].loc[~extra['train_validation_flag']]\n",
    "weight_val = extra['train_weight'].loc[extra['train_validation_flag']]\n",
    "weight_test = extra['test_weight']"
   ]
  },
  {
   "cell_type": "code",
   "execution_count": 23,
   "metadata": {},
   "outputs": [
    {
     "data": {
      "text/plain": [
       "(7501, 954, 1052)"
      ]
     },
     "execution_count": 23,
     "metadata": {},
     "output_type": "execute_result"
    }
   ],
   "source": [
    "len(weight_train), len(weight_val), len(weight_test)"
   ]
  },
  {
   "cell_type": "code",
   "execution_count": 24,
   "metadata": {},
   "outputs": [
    {
     "data": {
      "text/plain": [
       "(7501, 954, 1052)"
      ]
     },
     "execution_count": 24,
     "metadata": {},
     "output_type": "execute_result"
    }
   ],
   "source": [
    "len(X_train), len(X_val), len(X_test)"
   ]
  },
  {
   "cell_type": "code",
   "execution_count": 28,
   "metadata": {},
   "outputs": [
    {
     "name": "stdout",
     "output_type": "stream",
     "text": [
      "X_train shape: (7501, 34)\n",
      "X_test shape: (1052, 34)\n",
      "\n"
     ]
    },
    {
     "data": {
      "image/png": "[encoded data removed]",
      "text/plain": [
       "<Figure size 640x480 with 1 Axes>"
      ]
     },
     "metadata": {},
     "output_type": "display_data"
    },
    {
     "name": "stdout",
     "output_type": "stream",
     "text": [
      "Actual Default[TEST]:\n",
      "297 (28.2%)\n",
      "Predicted Default[TEST]:\n",
      "106 (10.1%)\n",
      "\n",
      "y_pred_proba distribution:\n",
      "(0.253, 0.264]    159\n",
      "(0.264, 0.274]    201\n",
      "(0.274, 0.284]    170\n",
      "(0.284, 0.295]    124\n",
      "(0.295, 0.305]     98\n",
      "(0.305, 0.315]     97\n",
      "(0.315, 0.326]    102\n",
      "(0.326, 0.336]     73\n",
      "(0.336, 0.346]     22\n",
      "(0.346, 0.356]      6\n",
      "Name: count, dtype: int64\n",
      "\n",
      "Best validation loss: 0.23959039931262127\n",
      "\n",
      "\n",
      "              precision    recall  f1-score   support\n",
      "\n",
      "           0       0.75      0.94      0.84       755\n",
      "           1       0.59      0.21      0.31       297\n",
      "\n",
      "    accuracy                           0.74      1052\n",
      "   macro avg       0.67      0.58      0.57      1052\n",
      "weighted avg       0.71      0.74      0.69      1052\n",
      "\n",
      "Normalized confusion matrix:\n",
      "[[0.94304636 0.05695364]\n",
      " [0.78787879 0.21212121]]\n",
      "\n",
      "\n",
      "Saving X_test-default_1.1.csv\n",
      "Profitability stats\n",
      "----\n",
      "Predicted profit [TEST]: $203988.00\n",
      "Actual profit [TEST]: $203798.00\n",
      "Anti-profit [TEST]: $-190.00\n",
      "\u001b[4m\u001b[38;5;6m\u001b[48;5;0mAnti-profit per loan [TEST]: $0.00\u001b[0m\n",
      "----\n"
     ]
    },
    {
     "data": {
      "image/png": "[encoded data removed]",
      "text/plain": [
       "<Figure size 640x480 with 1 Axes>"
      ]
     },
     "metadata": {},
     "output_type": "display_data"
    },
    {
     "data": {
      "image/png": "[encoded data removed]",
      "text/plain": [
       "<Figure size 640x480 with 2 Axes>"
      ]
     },
     "metadata": {},
     "output_type": "display_data"
    }
   ],
   "source": [
    "def p90_accuracy_metric(X_val, y_val, estimator, labels,\n",
    "                X_train, y_train, weight_val=None, weight_train=None,\n",
    "                *args):\n",
    "    y_probas = estimator.predict_proba(X_val)[:, 1]\n",
    "    df = pd.DataFrame({'proba': y_probas, 'y_val': y_val})\n",
    "    perc90 = np.percentile(y_probas, 90)\n",
    "    perc10 = np.percentile(y_probas, 10)\n",
    "    delta = df.loc[df['proba'] >= perc90]['y_val'].sum() - df.loc[df['proba'] <= perc10]['y_val'].sum()\n",
    "    return -delta, {}\n",
    "        \n",
    "config = {\n",
    "    #\"ensemble\": True,\n",
    "    \"estimator_list\": ['xgb_limitdepth'],\n",
    "    #\"estimator_list\": ['xgboost'],\n",
    "    \"metric\": \"roc_auc\",\n",
    "    #\"metric\": p90_accuracy_metric,\n",
    "    \"eval_method\": 'holdout',\n",
    "    'X_val': X_val,\n",
    "    'y_val': y_val,\n",
    "    'sample_weight': weight_train,\n",
    "    'sample_weight_val': weight_val\n",
    "}\n",
    "\n",
    "y_pred_proba, y_pred, extra = default_model.fit(\n",
    "        X_train, X_test, y_train, y_test, extra,\n",
    "        time_budget=240, \n",
    "        automl_config=config,\n",
    "        show_plots=True,\n",
    "        percentile=90\n",
    ")"
   ]
  },
  {
   "cell_type": "code",
   "execution_count": 89,
   "metadata": {},
   "outputs": [
    {
     "data": {
      "text/plain": [
       "34"
      ]
     },
     "execution_count": 89,
     "metadata": {},
     "output_type": "execute_result"
    }
   ],
   "source": [
    "len(default_model.features)"
   ]
  },
  {
   "cell_type": "code",
   "execution_count": 90,
   "metadata": {},
   "outputs": [
    {
     "name": "stdout",
     "output_type": "stream",
     "text": [
      "['account_age_days', 'average_closing_balance_day_after_employer_income', 'average_closing_balance_day_of_employer_income', 'average_closing_balance_day_of_income', 'average_employer_a_income_deposit', 'average_monthly_employer_income_complex', 'average_monthly_micro_loan_payments_complex', 'average_monthly_total_recurring_deposits_complex', 'average_monthly_total_recurring_payments_complex', 'average_monthly_utility_payments_complex', 'balance_90_days_ago', 'balance_current', 'balance_min', 'count_active_days', 'count_days_negative_balance_90_days', 'count_distinct_micro_lenders', 'count_loan_payments_3_months_ago', 'count_loan_payments_current_month', 'count_loan_payments_previous_month', 'count_nsf_30_days', 'employer_income_frequency', 'sum_employer_income_2_months_ago', 'sum_employer_income_current_month', 'sum_employer_income_previous_month', 'sum_loan_payments', 'sum_non_employer_income', 'sum_non_employer_income_2_months_ago', 'sum_non_employer_income_current_month', 'sum_non_employer_income_previous_month', 'telecom_payments_average', 'other_loan_payments_average', 'utility_payments_average', 'gender', 'age']\n"
     ]
    }
   ],
   "source": [
    "print(default_model.features)"
   ]
  },
  {
   "cell_type": "code",
   "execution_count": 91,
   "metadata": {},
   "outputs": [],
   "source": [
    "X2022 = pd.concat([X_train, X_val, X_test])"
   ]
  },
  {
   "cell_type": "code",
   "execution_count": 92,
   "metadata": {},
   "outputs": [],
   "source": [
    "y2022 = pd.concat([y_train, y_val, y_test])"
   ]
  },
  {
   "cell_type": "code",
   "execution_count": 93,
   "metadata": {},
   "outputs": [],
   "source": [
    "weight2022 = pd.concat([weight_train, weight_val, weight_test])"
   ]
  },
  {
   "cell_type": "code",
   "execution_count": 94,
   "metadata": {},
   "outputs": [
    {
     "name": "stdout",
     "output_type": "stream",
     "text": [
      "[flaml.automl.logger: 04-17 18:59:26] {804} INFO - log file name log_default_1.0.log\n",
      "[flaml.automl.logger: 04-17 18:59:26] {857} INFO - estimator = xgb_limitdepth, config = {'n_estimators': 163, 'max_depth': 8, 'min_child_weight': 2.319252794607969, 'learning_rate': 0.049674871360517625, 'subsample': 0.8104112461997317, 'colsample_bylevel': 0.25651805133340927, 'colsample_bytree': 0.70269216671595, 'reg_alpha': 0.001908269199465285, 'reg_lambda': 9.899322947456335}, #training instances = 9507\n",
      "[flaml.automl.logger: 04-17 18:59:29] {890} INFO - retrain from log succeeded\n"
     ]
    },
    {
     "data": {
      "text/plain": [
       "16.721657752990723"
      ]
     },
     "execution_count": 94,
     "metadata": {},
     "output_type": "execute_result"
    }
   ],
   "source": [
    "default_model.automl.retrain_from_log(\n",
    "    'log_default_1.0.log',\n",
    "    X2022,\n",
    "    y2022,\n",
    "    train_best=True,\n",
    "    train_full=True,\n",
    "    sample_weight=weight2022,\n",
    "    time_budget=20\n",
    ")"
   ]
  },
  {
   "cell_type": "code",
   "execution_count": 95,
   "metadata": {},
   "outputs": [],
   "source": [
    "preds2022 = default_model.predict_proba(X2022, filter=False, engineer=False)"
   ]
  },
  {
   "cell_type": "code",
   "execution_count": 96,
   "metadata": {},
   "outputs": [
    {
     "data": {
      "text/plain": [
       "array([0.03983999, 0.05366157, 0.06737748, 0.08571413, 0.11130583,\n",
       "       0.14183516, 0.17227723, 0.20372595, 0.23610583, 0.2671864 ,\n",
       "       0.301761  , 0.33674967, 0.37699147, 0.418183  , 0.46411544,\n",
       "       0.51172521, 0.56681685, 0.62843996, 0.69784298])"
      ]
     },
     "execution_count": 96,
     "metadata": {},
     "output_type": "execute_result"
    }
   ],
   "source": [
    "percentiles = np.percentile(preds2022['pred_proba'], range(5,100,5))\n",
    "percentiles"
   ]
  },
  {
   "cell_type": "code",
   "execution_count": 97,
   "metadata": {},
   "outputs": [
    {
     "data": {
      "text/plain": [
       "{5: 0.03983998708426952,\n",
       " 10: 0.053661569207906726,\n",
       " 15: 0.06737748235464096,\n",
       " 20: 0.08571412712335587,\n",
       " 25: 0.111305832862854,\n",
       " 30: 0.14183516204357144,\n",
       " 35: 0.1722772270441055,\n",
       " 40: 0.20372594892978668,\n",
       " 45: 0.23610582947731018,\n",
       " 50: 0.26718640327453613,\n",
       " 55: 0.3017610013484955,\n",
       " 60: 0.33674967288970936,\n",
       " 65: 0.376991468667984,\n",
       " 70: 0.4181829988956451,\n",
       " 75: 0.4641154408454895,\n",
       " 80: 0.5117252111434937,\n",
       " 85: 0.5668168485164642,\n",
       " 90: 0.6284399628639221,\n",
       " 95: 0.6978429794311524}"
      ]
     },
     "execution_count": 97,
     "metadata": {},
     "output_type": "execute_result"
    }
   ],
   "source": [
    "default_model.percentiles = {p:v for p,v in zip(range(5,100,5), percentiles)}\n",
    "default_model.percentiles "
   ]
  },
  {
   "cell_type": "markdown",
   "metadata": {},
   "source": [
    "Saving / loading the model"
   ]
  },
  {
   "cell_type": "code",
   "execution_count": 98,
   "metadata": {},
   "outputs": [],
   "source": [
    "default_model.save()"
   ]
  },
  {
   "cell_type": "code",
   "execution_count": 21,
   "metadata": {},
   "outputs": [],
   "source": [
    "default_model = load_model('default_1.1')"
   ]
  },
  {
   "cell_type": "code",
   "execution_count": 4,
   "metadata": {},
   "outputs": [
    {
     "data": {
      "text/html": [
       "<div>\n",
       "<style scoped>\n",
       "    .dataframe tbody tr th:only-of-type {\n",
       "        vertical-align: middle;\n",
       "    }\n",
       "\n",
       "    .dataframe tbody tr th {\n",
       "        vertical-align: top;\n",
       "    }\n",
       "\n",
       "    .dataframe thead th {\n",
       "        text-align: right;\n",
       "    }\n",
       "</style>\n",
       "<table border=\"1\" class=\"dataframe\">\n",
       "  <thead>\n",
       "    <tr style=\"text-align: right;\">\n",
       "      <th></th>\n",
       "      <th>variable</th>\n",
       "      <th>imp</th>\n",
       "    </tr>\n",
       "  </thead>\n",
       "  <tbody>\n",
       "    <tr>\n",
       "      <th>13</th>\n",
       "      <td>count_loan_payments_previous_month</td>\n",
       "      <td>0.122576</td>\n",
       "    </tr>\n",
       "    <tr>\n",
       "      <th>5</th>\n",
       "      <td>average_monthly_micro_loan_payments_complex</td>\n",
       "      <td>0.106857</td>\n",
       "    </tr>\n",
       "    <tr>\n",
       "      <th>11</th>\n",
       "      <td>count_distinct_micro_lenders</td>\n",
       "      <td>0.093204</td>\n",
       "    </tr>\n",
       "    <tr>\n",
       "      <th>12</th>\n",
       "      <td>count_loan_payments_current_month</td>\n",
       "      <td>0.042197</td>\n",
       "    </tr>\n",
       "    <tr>\n",
       "      <th>23</th>\n",
       "      <td>other_loan_payments_average</td>\n",
       "      <td>0.041419</td>\n",
       "    </tr>\n",
       "    <tr>\n",
       "      <th>6</th>\n",
       "      <td>average_monthly_utility_payments_complex</td>\n",
       "      <td>0.036522</td>\n",
       "    </tr>\n",
       "    <tr>\n",
       "      <th>8</th>\n",
       "      <td>balance_current</td>\n",
       "      <td>0.032088</td>\n",
       "    </tr>\n",
       "    <tr>\n",
       "      <th>15</th>\n",
       "      <td>sum_employer_income_2_months_ago</td>\n",
       "      <td>0.031807</td>\n",
       "    </tr>\n",
       "    <tr>\n",
       "      <th>17</th>\n",
       "      <td>sum_employer_income_previous_month</td>\n",
       "      <td>0.031602</td>\n",
       "    </tr>\n",
       "    <tr>\n",
       "      <th>22</th>\n",
       "      <td>telecom_payments_average</td>\n",
       "      <td>0.031142</td>\n",
       "    </tr>\n",
       "    <tr>\n",
       "      <th>18</th>\n",
       "      <td>sum_non_employer_income</td>\n",
       "      <td>0.031112</td>\n",
       "    </tr>\n",
       "    <tr>\n",
       "      <th>25</th>\n",
       "      <td>age</td>\n",
       "      <td>0.030631</td>\n",
       "    </tr>\n",
       "    <tr>\n",
       "      <th>7</th>\n",
       "      <td>balance_90_days_ago</td>\n",
       "      <td>0.030067</td>\n",
       "    </tr>\n",
       "    <tr>\n",
       "      <th>4</th>\n",
       "      <td>average_closing_balance_day_of_income</td>\n",
       "      <td>0.027563</td>\n",
       "    </tr>\n",
       "    <tr>\n",
       "      <th>3</th>\n",
       "      <td>average_closing_balance_day_of_employer_income</td>\n",
       "      <td>0.027209</td>\n",
       "    </tr>\n",
       "    <tr>\n",
       "      <th>10</th>\n",
       "      <td>count_days_negative_balance_90_days</td>\n",
       "      <td>0.027100</td>\n",
       "    </tr>\n",
       "    <tr>\n",
       "      <th>2</th>\n",
       "      <td>average_closing_balance_day_after_employer_income</td>\n",
       "      <td>0.027063</td>\n",
       "    </tr>\n",
       "    <tr>\n",
       "      <th>24</th>\n",
       "      <td>utility_payments_average</td>\n",
       "      <td>0.026914</td>\n",
       "    </tr>\n",
       "    <tr>\n",
       "      <th>19</th>\n",
       "      <td>sum_non_employer_income_2_months_ago</td>\n",
       "      <td>0.026471</td>\n",
       "    </tr>\n",
       "    <tr>\n",
       "      <th>9</th>\n",
       "      <td>balance_min</td>\n",
       "      <td>0.026333</td>\n",
       "    </tr>\n",
       "    <tr>\n",
       "      <th>1</th>\n",
       "      <td>gender</td>\n",
       "      <td>0.025949</td>\n",
       "    </tr>\n",
       "    <tr>\n",
       "      <th>21</th>\n",
       "      <td>sum_non_employer_income_previous_month</td>\n",
       "      <td>0.025704</td>\n",
       "    </tr>\n",
       "    <tr>\n",
       "      <th>20</th>\n",
       "      <td>sum_non_employer_income_current_month</td>\n",
       "      <td>0.025385</td>\n",
       "    </tr>\n",
       "    <tr>\n",
       "      <th>16</th>\n",
       "      <td>sum_employer_income_current_month</td>\n",
       "      <td>0.024863</td>\n",
       "    </tr>\n",
       "    <tr>\n",
       "      <th>0</th>\n",
       "      <td>employer_income_frequency</td>\n",
       "      <td>0.024390</td>\n",
       "    </tr>\n",
       "    <tr>\n",
       "      <th>14</th>\n",
       "      <td>count_nsf_30_days</td>\n",
       "      <td>0.023832</td>\n",
       "    </tr>\n",
       "  </tbody>\n",
       "</table>\n",
       "</div>"
      ],
      "text/plain": [
       "                                             variable       imp\n",
       "13                 count_loan_payments_previous_month  0.122576\n",
       "5         average_monthly_micro_loan_payments_complex  0.106857\n",
       "11                       count_distinct_micro_lenders  0.093204\n",
       "12                  count_loan_payments_current_month  0.042197\n",
       "23                        other_loan_payments_average  0.041419\n",
       "6            average_monthly_utility_payments_complex  0.036522\n",
       "8                                     balance_current  0.032088\n",
       "15                   sum_employer_income_2_months_ago  0.031807\n",
       "17                 sum_employer_income_previous_month  0.031602\n",
       "22                           telecom_payments_average  0.031142\n",
       "18                            sum_non_employer_income  0.031112\n",
       "25                                                age  0.030631\n",
       "7                                 balance_90_days_ago  0.030067\n",
       "4               average_closing_balance_day_of_income  0.027563\n",
       "3      average_closing_balance_day_of_employer_income  0.027209\n",
       "10                count_days_negative_balance_90_days  0.027100\n",
       "2   average_closing_balance_day_after_employer_income  0.027063\n",
       "24                           utility_payments_average  0.026914\n",
       "19               sum_non_employer_income_2_months_ago  0.026471\n",
       "9                                         balance_min  0.026333\n",
       "1                                              gender  0.025949\n",
       "21             sum_non_employer_income_previous_month  0.025704\n",
       "20              sum_non_employer_income_current_month  0.025385\n",
       "16                  sum_employer_income_current_month  0.024863\n",
       "0                           employer_income_frequency  0.024390\n",
       "14                                  count_nsf_30_days  0.023832"
      ]
     },
     "execution_count": 4,
     "metadata": {},
     "output_type": "execute_result"
    }
   ],
   "source": [
    "default_model.feat_imp()"
   ]
  },
  {
   "cell_type": "code",
   "execution_count": 27,
   "metadata": {},
   "outputs": [],
   "source": [
    "default_model.save()"
   ]
  },
  {
   "cell_type": "markdown",
   "metadata": {},
   "source": [
    "# Predictions for Jan'23"
   ]
  },
  {
   "cell_type": "code",
   "execution_count": 42,
   "metadata": {},
   "outputs": [
    {
     "name": "stderr",
     "output_type": "stream",
     "text": [
      "C:\\Users\\karim\\AppData\\Local\\Temp\\ipykernel_3504\\4126847242.py:1: DtypeWarning: Columns (387) have mixed types. Specify dtype option on import or set low_memory=False.\n",
      "  data2023_df = pd.read_csv('../data/janToNov2023Loansv2.csv', encoding='latin')\n"
     ]
    }
   ],
   "source": [
    "data2023_df = pd.read_csv('../data/janToNov2023Loansv2.csv', encoding='latin')"
   ]
  },
  {
   "cell_type": "code",
   "execution_count": 43,
   "metadata": {},
   "outputs": [
    {
     "data": {
      "text/plain": [
       "9499"
      ]
     },
     "execution_count": 43,
     "metadata": {},
     "output_type": "execute_result"
    }
   ],
   "source": [
    "len(data2023_df)"
   ]
  },
  {
   "cell_type": "code",
   "execution_count": 44,
   "metadata": {},
   "outputs": [],
   "source": [
    "jan23_df = data2023_df.loc[data2023_df['request_date'].str[:7]=='2023-01']"
   ]
  },
  {
   "cell_type": "code",
   "execution_count": 45,
   "metadata": {},
   "outputs": [
    {
     "data": {
      "text/plain": [
       "1045"
      ]
     },
     "execution_count": 45,
     "metadata": {},
     "output_type": "execute_result"
    }
   ],
   "source": [
    "len(jan23_df)"
   ]
  },
  {
   "cell_type": "code",
   "execution_count": 46,
   "metadata": {},
   "outputs": [],
   "source": [
    "jan23_df.drop_duplicates(inplace=True)"
   ]
  },
  {
   "cell_type": "code",
   "execution_count": 47,
   "metadata": {},
   "outputs": [
    {
     "data": {
      "text/plain": [
       "1040"
      ]
     },
     "execution_count": 47,
     "metadata": {},
     "output_type": "execute_result"
    }
   ],
   "source": [
    "len(jan23_df)"
   ]
  },
  {
   "cell_type": "code",
   "execution_count": 58,
   "metadata": {},
   "outputs": [],
   "source": [
    "jan23_df.set_index('loanId', inplace=True)"
   ]
  },
  {
   "cell_type": "code",
   "execution_count": 59,
   "metadata": {},
   "outputs": [
    {
     "data": {
      "text/html": [
       "<div>\n",
       "<style scoped>\n",
       "    .dataframe tbody tr th:only-of-type {\n",
       "        vertical-align: middle;\n",
       "    }\n",
       "\n",
       "    .dataframe tbody tr th {\n",
       "        vertical-align: top;\n",
       "    }\n",
       "\n",
       "    .dataframe thead th {\n",
       "        text-align: right;\n",
       "    }\n",
       "</style>\n",
       "<table border=\"1\" class=\"dataframe\">\n",
       "  <thead>\n",
       "    <tr style=\"text-align: right;\">\n",
       "      <th></th>\n",
       "      <th>dob</th>\n",
       "      <th>gender</th>\n",
       "      <th>request_date</th>\n",
       "      <th>account_age_days</th>\n",
       "      <th>active_days_trend</th>\n",
       "      <th>auto_loan_payment_frequency</th>\n",
       "      <th>average_closing_balance_day_after_employer_income</th>\n",
       "      <th>average_closing_balance_day_after_government_income</th>\n",
       "      <th>average_closing_balance_day_after_income</th>\n",
       "      <th>average_closing_balance_day_of_employer_income</th>\n",
       "      <th>...</th>\n",
       "      <th>sum_wsib_income</th>\n",
       "      <th>student_loan_payments_frequency</th>\n",
       "      <th>telecom_payments_frequency</th>\n",
       "      <th>telecom_payments_average</th>\n",
       "      <th>other_loan_payments_frequency</th>\n",
       "      <th>other_loan_payments_average</th>\n",
       "      <th>utility_payments_frequency</th>\n",
       "      <th>utility_payments_average</th>\n",
       "      <th>average_monthly_insurance_income_complex</th>\n",
       "      <th>MostRecentTransactionDate</th>\n",
       "    </tr>\n",
       "    <tr>\n",
       "      <th>loanId</th>\n",
       "      <th></th>\n",
       "      <th></th>\n",
       "      <th></th>\n",
       "      <th></th>\n",
       "      <th></th>\n",
       "      <th></th>\n",
       "      <th></th>\n",
       "      <th></th>\n",
       "      <th></th>\n",
       "      <th></th>\n",
       "      <th></th>\n",
       "      <th></th>\n",
       "      <th></th>\n",
       "      <th></th>\n",
       "      <th></th>\n",
       "      <th></th>\n",
       "      <th></th>\n",
       "      <th></th>\n",
       "      <th></th>\n",
       "      <th></th>\n",
       "      <th></th>\n",
       "    </tr>\n",
       "  </thead>\n",
       "  <tbody>\n",
       "    <tr>\n",
       "      <th>3970620</th>\n",
       "      <td>1991-09-15</td>\n",
       "      <td>Female</td>\n",
       "      <td>2023-01-19</td>\n",
       "      <td>366.0</td>\n",
       "      <td>1.03</td>\n",
       "      <td>Monthly</td>\n",
       "      <td>364.90</td>\n",
       "      <td>85.89</td>\n",
       "      <td>297.83</td>\n",
       "      <td>329.04</td>\n",
       "      <td>...</td>\n",
       "      <td>0.0</td>\n",
       "      <td>Unknown</td>\n",
       "      <td>Unknown</td>\n",
       "      <td>143.38</td>\n",
       "      <td>BiWeekly</td>\n",
       "      <td>293.26</td>\n",
       "      <td>NONE_DETECTED</td>\n",
       "      <td>0.00</td>\n",
       "      <td>7.27</td>\n",
       "      <td>05/25/2023</td>\n",
       "    </tr>\n",
       "    <tr>\n",
       "      <th>3986502</th>\n",
       "      <td>1991-11-07</td>\n",
       "      <td>Female</td>\n",
       "      <td>2023-01-31</td>\n",
       "      <td>365.0</td>\n",
       "      <td>1.02</td>\n",
       "      <td>NONE_DETECTED</td>\n",
       "      <td>381.74</td>\n",
       "      <td>269.92</td>\n",
       "      <td>276.69</td>\n",
       "      <td>411.25</td>\n",
       "      <td>...</td>\n",
       "      <td>0.0</td>\n",
       "      <td>NONE_DETECTED</td>\n",
       "      <td>Unknown</td>\n",
       "      <td>130.27</td>\n",
       "      <td>NONE_DETECTED</td>\n",
       "      <td>0.00</td>\n",
       "      <td>NONE_DETECTED</td>\n",
       "      <td>0.00</td>\n",
       "      <td>0.00</td>\n",
       "      <td>06/19/2023</td>\n",
       "    </tr>\n",
       "    <tr>\n",
       "      <th>3813879</th>\n",
       "      <td>1989-08-16</td>\n",
       "      <td>Male</td>\n",
       "      <td>2023-01-02</td>\n",
       "      <td>366.0</td>\n",
       "      <td>1.06</td>\n",
       "      <td>Weekly</td>\n",
       "      <td>996.93</td>\n",
       "      <td>-55.76</td>\n",
       "      <td>835.17</td>\n",
       "      <td>1153.10</td>\n",
       "      <td>...</td>\n",
       "      <td>0.0</td>\n",
       "      <td>NONE_DETECTED</td>\n",
       "      <td>NONE_DETECTED</td>\n",
       "      <td>0.00</td>\n",
       "      <td>Weekly</td>\n",
       "      <td>83.37</td>\n",
       "      <td>NONE_DETECTED</td>\n",
       "      <td>0.00</td>\n",
       "      <td>0.00</td>\n",
       "      <td>08/29/2023</td>\n",
       "    </tr>\n",
       "    <tr>\n",
       "      <th>3814985</th>\n",
       "      <td>2004-02-04</td>\n",
       "      <td>Male</td>\n",
       "      <td>2023-01-03</td>\n",
       "      <td>365.0</td>\n",
       "      <td>0.74</td>\n",
       "      <td>NONE_DETECTED</td>\n",
       "      <td>1178.11</td>\n",
       "      <td>1.26</td>\n",
       "      <td>1114.36</td>\n",
       "      <td>1249.69</td>\n",
       "      <td>...</td>\n",
       "      <td>0.0</td>\n",
       "      <td>NONE_DETECTED</td>\n",
       "      <td>Monthly</td>\n",
       "      <td>40.40</td>\n",
       "      <td>NONE_DETECTED</td>\n",
       "      <td>0.00</td>\n",
       "      <td>Unknown</td>\n",
       "      <td>76.93</td>\n",
       "      <td>0.40</td>\n",
       "      <td>04/21/2023</td>\n",
       "    </tr>\n",
       "    <tr>\n",
       "      <th>3813995</th>\n",
       "      <td>1992-08-21</td>\n",
       "      <td>Male</td>\n",
       "      <td>2023-01-02</td>\n",
       "      <td>366.0</td>\n",
       "      <td>1.08</td>\n",
       "      <td>NONE_DETECTED</td>\n",
       "      <td>522.96</td>\n",
       "      <td>170.62</td>\n",
       "      <td>429.96</td>\n",
       "      <td>525.33</td>\n",
       "      <td>...</td>\n",
       "      <td>0.0</td>\n",
       "      <td>NONE_DETECTED</td>\n",
       "      <td>Unknown</td>\n",
       "      <td>163.80</td>\n",
       "      <td>BiWeekly</td>\n",
       "      <td>279.30</td>\n",
       "      <td>Unknown</td>\n",
       "      <td>157.44</td>\n",
       "      <td>1.08</td>\n",
       "      <td>08/07/2023</td>\n",
       "    </tr>\n",
       "  </tbody>\n",
       "</table>\n",
       "<p>5 rows × 742 columns</p>\n",
       "</div>"
      ],
      "text/plain": [
       "                dob  gender request_date  account_age_days  active_days_trend  \\\n",
       "loanId                                                                          \n",
       "3970620  1991-09-15  Female   2023-01-19             366.0               1.03   \n",
       "3986502  1991-11-07  Female   2023-01-31             365.0               1.02   \n",
       "3813879  1989-08-16    Male   2023-01-02             366.0               1.06   \n",
       "3814985  2004-02-04    Male   2023-01-03             365.0               0.74   \n",
       "3813995  1992-08-21    Male   2023-01-02             366.0               1.08   \n",
       "\n",
       "        auto_loan_payment_frequency  \\\n",
       "loanId                                \n",
       "3970620                     Monthly   \n",
       "3986502               NONE_DETECTED   \n",
       "3813879                      Weekly   \n",
       "3814985               NONE_DETECTED   \n",
       "3813995               NONE_DETECTED   \n",
       "\n",
       "         average_closing_balance_day_after_employer_income  \\\n",
       "loanId                                                       \n",
       "3970620                                             364.90   \n",
       "3986502                                             381.74   \n",
       "3813879                                             996.93   \n",
       "3814985                                            1178.11   \n",
       "3813995                                             522.96   \n",
       "\n",
       "        average_closing_balance_day_after_government_income  \\\n",
       "loanId                                                        \n",
       "3970620                                              85.89    \n",
       "3986502                                             269.92    \n",
       "3813879                                             -55.76    \n",
       "3814985                                               1.26    \n",
       "3813995                                             170.62    \n",
       "\n",
       "         average_closing_balance_day_after_income  \\\n",
       "loanId                                              \n",
       "3970620                                    297.83   \n",
       "3986502                                    276.69   \n",
       "3813879                                    835.17   \n",
       "3814985                                   1114.36   \n",
       "3813995                                    429.96   \n",
       "\n",
       "         average_closing_balance_day_of_employer_income  ... sum_wsib_income  \\\n",
       "loanId                                                   ...                   \n",
       "3970620                                          329.04  ...             0.0   \n",
       "3986502                                          411.25  ...             0.0   \n",
       "3813879                                         1153.10  ...             0.0   \n",
       "3814985                                         1249.69  ...             0.0   \n",
       "3813995                                          525.33  ...             0.0   \n",
       "\n",
       "         student_loan_payments_frequency  telecom_payments_frequency  \\\n",
       "loanId                                                                 \n",
       "3970620                          Unknown                     Unknown   \n",
       "3986502                    NONE_DETECTED                     Unknown   \n",
       "3813879                    NONE_DETECTED               NONE_DETECTED   \n",
       "3814985                    NONE_DETECTED                     Monthly   \n",
       "3813995                    NONE_DETECTED                     Unknown   \n",
       "\n",
       "         telecom_payments_average  other_loan_payments_frequency  \\\n",
       "loanId                                                             \n",
       "3970620                    143.38                       BiWeekly   \n",
       "3986502                    130.27                  NONE_DETECTED   \n",
       "3813879                      0.00                         Weekly   \n",
       "3814985                     40.40                  NONE_DETECTED   \n",
       "3813995                    163.80                       BiWeekly   \n",
       "\n",
       "         other_loan_payments_average  utility_payments_frequency  \\\n",
       "loanId                                                             \n",
       "3970620                       293.26               NONE_DETECTED   \n",
       "3986502                         0.00               NONE_DETECTED   \n",
       "3813879                        83.37               NONE_DETECTED   \n",
       "3814985                         0.00                     Unknown   \n",
       "3813995                       279.30                     Unknown   \n",
       "\n",
       "         utility_payments_average  average_monthly_insurance_income_complex  \\\n",
       "loanId                                                                        \n",
       "3970620                      0.00                                      7.27   \n",
       "3986502                      0.00                                      0.00   \n",
       "3813879                      0.00                                      0.00   \n",
       "3814985                     76.93                                      0.40   \n",
       "3813995                    157.44                                      1.08   \n",
       "\n",
       "         MostRecentTransactionDate  \n",
       "loanId                              \n",
       "3970620                 05/25/2023  \n",
       "3986502                 06/19/2023  \n",
       "3813879                 08/29/2023  \n",
       "3814985                 04/21/2023  \n",
       "3813995                 08/07/2023  \n",
       "\n",
       "[5 rows x 742 columns]"
      ]
     },
     "execution_count": 59,
     "metadata": {},
     "output_type": "execute_result"
    }
   ],
   "source": [
    "jan23_df.head()"
   ]
  },
  {
   "cell_type": "code",
   "execution_count": 48,
   "metadata": {},
   "outputs": [],
   "source": [
    "loans23_df = pd.read_csv('../data/loans_branch-if-jan2023.csv')"
   ]
  },
  {
   "cell_type": "code",
   "execution_count": 49,
   "metadata": {},
   "outputs": [],
   "source": [
    "loans23_df['profit'] = loans23_df['Paid Amount'] - loans23_df['Principal Amount']"
   ]
  },
  {
   "cell_type": "code",
   "execution_count": 50,
   "metadata": {},
   "outputs": [],
   "source": [
    "loans23_df.set_index('Loan Id', inplace=True)"
   ]
  },
  {
   "cell_type": "code",
   "execution_count": 55,
   "metadata": {},
   "outputs": [
    {
     "data": {
      "text/plain": [
       "31510"
      ]
     },
     "execution_count": 55,
     "metadata": {},
     "output_type": "execute_result"
    }
   ],
   "source": [
    "len(loans23_df)"
   ]
  },
  {
   "cell_type": "code",
   "execution_count": 56,
   "metadata": {},
   "outputs": [
    {
     "data": {
      "text/html": [
       "<div>\n",
       "<style scoped>\n",
       "    .dataframe tbody tr th:only-of-type {\n",
       "        vertical-align: middle;\n",
       "    }\n",
       "\n",
       "    .dataframe tbody tr th {\n",
       "        vertical-align: top;\n",
       "    }\n",
       "\n",
       "    .dataframe thead th {\n",
       "        text-align: right;\n",
       "    }\n",
       "</style>\n",
       "<table border=\"1\" class=\"dataframe\">\n",
       "  <thead>\n",
       "    <tr style=\"text-align: right;\">\n",
       "      <th></th>\n",
       "      <th>Loan #</th>\n",
       "      <th>Loan Duration</th>\n",
       "      <th>Maturity Date</th>\n",
       "      <th>First Name</th>\n",
       "      <th>Last Name</th>\n",
       "      <th>Full Name</th>\n",
       "      <th>Released Date</th>\n",
       "      <th>Principal Amount</th>\n",
       "      <th>Disbursed By</th>\n",
       "      <th>Paid Amount</th>\n",
       "      <th>...</th>\n",
       "      <th>Total Interest Paid</th>\n",
       "      <th>Total Penalty Balance</th>\n",
       "      <th>Total Penalty Paid</th>\n",
       "      <th>Pending Due</th>\n",
       "      <th>Pending Fees Due</th>\n",
       "      <th>Pending Interest Due</th>\n",
       "      <th>Pending Penalty Due</th>\n",
       "      <th>Pending Principal Due</th>\n",
       "      <th>Balance Amount</th>\n",
       "      <th>profit</th>\n",
       "    </tr>\n",
       "    <tr>\n",
       "      <th>Loan Id</th>\n",
       "      <th></th>\n",
       "      <th></th>\n",
       "      <th></th>\n",
       "      <th></th>\n",
       "      <th></th>\n",
       "      <th></th>\n",
       "      <th></th>\n",
       "      <th></th>\n",
       "      <th></th>\n",
       "      <th></th>\n",
       "      <th></th>\n",
       "      <th></th>\n",
       "      <th></th>\n",
       "      <th></th>\n",
       "      <th></th>\n",
       "      <th></th>\n",
       "      <th></th>\n",
       "      <th></th>\n",
       "      <th></th>\n",
       "      <th></th>\n",
       "      <th></th>\n",
       "    </tr>\n",
       "  </thead>\n",
       "  <tbody>\n",
       "    <tr>\n",
       "      <th>2545807</th>\n",
       "      <td>IF10000083</td>\n",
       "      <td>3 Months</td>\n",
       "      <td>02/24/2022</td>\n",
       "      <td>Brian</td>\n",
       "      <td>Robert Wason</td>\n",
       "      <td>Brian Robert Wason</td>\n",
       "      <td>12/02/2021</td>\n",
       "      <td>300.0</td>\n",
       "      <td>Cash</td>\n",
       "      <td>587.58</td>\n",
       "      <td>...</td>\n",
       "      <td>17.58</td>\n",
       "      <td>0.0</td>\n",
       "      <td>0.0</td>\n",
       "      <td>0.00</td>\n",
       "      <td>NaN</td>\n",
       "      <td>NaN</td>\n",
       "      <td>NaN</td>\n",
       "      <td>NaN</td>\n",
       "      <td>0.00</td>\n",
       "      <td>287.58</td>\n",
       "    </tr>\n",
       "    <tr>\n",
       "      <th>2545954</th>\n",
       "      <td>IF10000085</td>\n",
       "      <td>3 Months</td>\n",
       "      <td>02/18/2022</td>\n",
       "      <td>Ashley</td>\n",
       "      <td>Sarah Pulker</td>\n",
       "      <td>Ashley Sarah Pulker</td>\n",
       "      <td>12/02/2021</td>\n",
       "      <td>300.0</td>\n",
       "      <td>Online Transfer</td>\n",
       "      <td>391.72</td>\n",
       "      <td>...</td>\n",
       "      <td>11.72</td>\n",
       "      <td>110.0</td>\n",
       "      <td>0.0</td>\n",
       "      <td>305.86</td>\n",
       "      <td>90.0</td>\n",
       "      <td>5.86</td>\n",
       "      <td>110.0</td>\n",
       "      <td>100.0</td>\n",
       "      <td>305.86</td>\n",
       "      <td>91.72</td>\n",
       "    </tr>\n",
       "    <tr>\n",
       "      <th>2545977</th>\n",
       "      <td>IF10000086</td>\n",
       "      <td>2 Months</td>\n",
       "      <td>01/31/2022</td>\n",
       "      <td>Anpalagan</td>\n",
       "      <td>Dilajini</td>\n",
       "      <td>Anpalagan Dilajini</td>\n",
       "      <td>12/02/2021</td>\n",
       "      <td>200.0</td>\n",
       "      <td>Cash</td>\n",
       "      <td>379.74</td>\n",
       "      <td>...</td>\n",
       "      <td>7.74</td>\n",
       "      <td>0.0</td>\n",
       "      <td>0.0</td>\n",
       "      <td>0.00</td>\n",
       "      <td>90.0</td>\n",
       "      <td>5.86</td>\n",
       "      <td>110.0</td>\n",
       "      <td>100.0</td>\n",
       "      <td>0.00</td>\n",
       "      <td>179.74</td>\n",
       "    </tr>\n",
       "    <tr>\n",
       "      <th>2545990</th>\n",
       "      <td>IF10000087</td>\n",
       "      <td>3 Months</td>\n",
       "      <td>02/24/2022</td>\n",
       "      <td>Kenneth</td>\n",
       "      <td>Payne</td>\n",
       "      <td>Kenneth Payne</td>\n",
       "      <td>12/02/2021</td>\n",
       "      <td>350.0</td>\n",
       "      <td>Cash</td>\n",
       "      <td>880.51</td>\n",
       "      <td>...</td>\n",
       "      <td>20.51</td>\n",
       "      <td>0.0</td>\n",
       "      <td>210.0</td>\n",
       "      <td>0.00</td>\n",
       "      <td>90.0</td>\n",
       "      <td>5.86</td>\n",
       "      <td>110.0</td>\n",
       "      <td>100.0</td>\n",
       "      <td>0.00</td>\n",
       "      <td>530.51</td>\n",
       "    </tr>\n",
       "    <tr>\n",
       "      <th>2546124</th>\n",
       "      <td>IF10000091</td>\n",
       "      <td>3 Months</td>\n",
       "      <td>02/24/2022</td>\n",
       "      <td>Dawn Eleanor</td>\n",
       "      <td>Bailey</td>\n",
       "      <td>Dawn Eleanor Bailey</td>\n",
       "      <td>12/02/2021</td>\n",
       "      <td>300.0</td>\n",
       "      <td>Cash</td>\n",
       "      <td>587.58</td>\n",
       "      <td>...</td>\n",
       "      <td>17.58</td>\n",
       "      <td>0.0</td>\n",
       "      <td>0.0</td>\n",
       "      <td>0.00</td>\n",
       "      <td>90.0</td>\n",
       "      <td>5.86</td>\n",
       "      <td>110.0</td>\n",
       "      <td>100.0</td>\n",
       "      <td>0.00</td>\n",
       "      <td>287.58</td>\n",
       "    </tr>\n",
       "  </tbody>\n",
       "</table>\n",
       "<p>5 rows × 26 columns</p>\n",
       "</div>"
      ],
      "text/plain": [
       "             Loan # Loan Duration Maturity Date    First Name     Last Name  \\\n",
       "Loan Id                                                                       \n",
       "2545807  IF10000083      3 Months    02/24/2022         Brian  Robert Wason   \n",
       "2545954  IF10000085      3 Months    02/18/2022        Ashley  Sarah Pulker   \n",
       "2545977  IF10000086      2 Months    01/31/2022     Anpalagan      Dilajini   \n",
       "2545990  IF10000087      3 Months    02/24/2022       Kenneth         Payne   \n",
       "2546124  IF10000091      3 Months    02/24/2022  Dawn Eleanor        Bailey   \n",
       "\n",
       "                   Full Name Released Date  Principal Amount     Disbursed By  \\\n",
       "Loan Id                                                                         \n",
       "2545807   Brian Robert Wason    12/02/2021             300.0             Cash   \n",
       "2545954  Ashley Sarah Pulker    12/02/2021             300.0  Online Transfer   \n",
       "2545977   Anpalagan Dilajini    12/02/2021             200.0             Cash   \n",
       "2545990        Kenneth Payne    12/02/2021             350.0             Cash   \n",
       "2546124  Dawn Eleanor Bailey    12/02/2021             300.0             Cash   \n",
       "\n",
       "         Paid Amount  ...  Total Interest Paid  Total Penalty Balance  \\\n",
       "Loan Id               ...                                               \n",
       "2545807       587.58  ...                17.58                    0.0   \n",
       "2545954       391.72  ...                11.72                  110.0   \n",
       "2545977       379.74  ...                 7.74                    0.0   \n",
       "2545990       880.51  ...                20.51                    0.0   \n",
       "2546124       587.58  ...                17.58                    0.0   \n",
       "\n",
       "         Total Penalty Paid  Pending Due  Pending Fees Due  \\\n",
       "Loan Id                                                      \n",
       "2545807                 0.0         0.00               NaN   \n",
       "2545954                 0.0       305.86              90.0   \n",
       "2545977                 0.0         0.00              90.0   \n",
       "2545990               210.0         0.00              90.0   \n",
       "2546124                 0.0         0.00              90.0   \n",
       "\n",
       "         Pending Interest Due  Pending Penalty Due  Pending Principal Due  \\\n",
       "Loan Id                                                                     \n",
       "2545807                   NaN                  NaN                    NaN   \n",
       "2545954                  5.86                110.0                  100.0   \n",
       "2545977                  5.86                110.0                  100.0   \n",
       "2545990                  5.86                110.0                  100.0   \n",
       "2546124                  5.86                110.0                  100.0   \n",
       "\n",
       "         Balance Amount  profit  \n",
       "Loan Id                          \n",
       "2545807            0.00  287.58  \n",
       "2545954          305.86   91.72  \n",
       "2545977            0.00  179.74  \n",
       "2545990            0.00  530.51  \n",
       "2546124            0.00  287.58  \n",
       "\n",
       "[5 rows x 26 columns]"
      ]
     },
     "execution_count": 56,
     "metadata": {},
     "output_type": "execute_result"
    }
   ],
   "source": [
    "loans23_df.sort_index().head()"
   ]
  },
  {
   "cell_type": "code",
   "execution_count": 60,
   "metadata": {},
   "outputs": [],
   "source": [
    "jan23_ex_df = pd.merge(jan23_df, loans23_df, left_index=True, right_index=True, validate='one_to_one')"
   ]
  },
  {
   "cell_type": "code",
   "execution_count": 61,
   "metadata": {},
   "outputs": [
    {
     "data": {
      "text/plain": [
       "1040"
      ]
     },
     "execution_count": 61,
     "metadata": {},
     "output_type": "execute_result"
    }
   ],
   "source": [
    "len(jan23_ex_df)"
   ]
  },
  {
   "cell_type": "code",
   "execution_count": 62,
   "metadata": {},
   "outputs": [],
   "source": [
    "jan23_ex_df['pred_proba'] = default_model.predict_proba(jan23_ex_df)['pred_proba']"
   ]
  },
  {
   "cell_type": "code",
   "execution_count": 63,
   "metadata": {},
   "outputs": [],
   "source": [
    "predicted_defaults_df = jan23_ex_df.loc[jan23_ex_df['pred_proba'] >= p90_2022]"
   ]
  },
  {
   "cell_type": "code",
   "execution_count": 64,
   "metadata": {},
   "outputs": [
    {
     "data": {
      "text/plain": [
       "(74, 1040, 0.07115384615384615)"
      ]
     },
     "execution_count": 64,
     "metadata": {},
     "output_type": "execute_result"
    }
   ],
   "source": [
    "len(predicted_defaults_df), len(jan23_ex_df), len(predicted_defaults_df) / len(jan23_ex_df) "
   ]
  },
  {
   "cell_type": "code",
   "execution_count": 65,
   "metadata": {},
   "outputs": [
    {
     "data": {
      "text/plain": [
       "-16.31202702702702"
      ]
     },
     "execution_count": 65,
     "metadata": {},
     "output_type": "execute_result"
    }
   ],
   "source": [
    "profit_jan23 = predicted_defaults_df['profit'].sum() / len(predicted_defaults_df)\n",
    "profit_jan23"
   ]
  },
  {
   "cell_type": "markdown",
   "metadata": {},
   "source": [
    "# Predictions for all 2022 + jan'23"
   ]
  },
  {
   "cell_type": "code",
   "execution_count": 66,
   "metadata": {},
   "outputs": [],
   "source": [
    "request_month = pd.concat([extra['train_request_month'], extra['test_request_month']])\n",
    "profits = pd.concat([extra['train_profit'], extra['test_profit']])"
   ]
  },
  {
   "cell_type": "code",
   "execution_count": 67,
   "metadata": {},
   "outputs": [],
   "source": [
    "res_list = []\n",
    "\n",
    "for month in range(1, 13):\n",
    "    X_month = X2022.loc[request_month == month]\n",
    "    profits_month = profits.loc[request_month == month]\n",
    "    preds_df = default_model.predict_proba(X_month, filter=False, engineer=False)\n",
    "    preds_df['profit'] = profits_month\n",
    "    predicted_defaults = preds_df.loc[preds_df['pred_proba'] >= p90_2022]\n",
    "    res_list.append({'month': '2022-' + (str(month) if month >= 10 else '0' + str(month)), \n",
    "                    'anti-profit per loan': round(predicted_defaults['profit'].sum() / len(predicted_defaults))})\n",
    "\n",
    "profits_month = jan23_ex_df['profit']\n",
    "preds_df = default_model.predict_proba(jan23_ex_df)\n",
    "preds_df['profit'] = profits_month\n",
    "predicted_defaults = preds_df.loc[preds_df['pred_proba'] >= p90_2022]\n",
    "res_list.append({'month': '2023-01', \n",
    "                'anti-profit per loan': round(predicted_defaults['profit'].sum() / len(predicted_defaults))})"
   ]
  },
  {
   "cell_type": "code",
   "execution_count": 68,
   "metadata": {},
   "outputs": [
    {
     "data": {
      "text/html": [
       "<div>\n",
       "<style scoped>\n",
       "    .dataframe tbody tr th:only-of-type {\n",
       "        vertical-align: middle;\n",
       "    }\n",
       "\n",
       "    .dataframe tbody tr th {\n",
       "        vertical-align: top;\n",
       "    }\n",
       "\n",
       "    .dataframe thead th {\n",
       "        text-align: right;\n",
       "    }\n",
       "</style>\n",
       "<table border=\"1\" class=\"dataframe\">\n",
       "  <thead>\n",
       "    <tr style=\"text-align: right;\">\n",
       "      <th></th>\n",
       "      <th>month</th>\n",
       "      <th>anti-profit per loan</th>\n",
       "    </tr>\n",
       "  </thead>\n",
       "  <tbody>\n",
       "    <tr>\n",
       "      <th>0</th>\n",
       "      <td>2022-01</td>\n",
       "      <td>-89</td>\n",
       "    </tr>\n",
       "    <tr>\n",
       "      <th>1</th>\n",
       "      <td>2022-02</td>\n",
       "      <td>-33</td>\n",
       "    </tr>\n",
       "    <tr>\n",
       "      <th>2</th>\n",
       "      <td>2022-03</td>\n",
       "      <td>42</td>\n",
       "    </tr>\n",
       "    <tr>\n",
       "      <th>3</th>\n",
       "      <td>2022-04</td>\n",
       "      <td>36</td>\n",
       "    </tr>\n",
       "    <tr>\n",
       "      <th>4</th>\n",
       "      <td>2022-05</td>\n",
       "      <td>53</td>\n",
       "    </tr>\n",
       "    <tr>\n",
       "      <th>5</th>\n",
       "      <td>2022-06</td>\n",
       "      <td>42</td>\n",
       "    </tr>\n",
       "    <tr>\n",
       "      <th>6</th>\n",
       "      <td>2022-07</td>\n",
       "      <td>13</td>\n",
       "    </tr>\n",
       "    <tr>\n",
       "      <th>7</th>\n",
       "      <td>2022-08</td>\n",
       "      <td>12</td>\n",
       "    </tr>\n",
       "    <tr>\n",
       "      <th>8</th>\n",
       "      <td>2022-09</td>\n",
       "      <td>30</td>\n",
       "    </tr>\n",
       "    <tr>\n",
       "      <th>9</th>\n",
       "      <td>2022-10</td>\n",
       "      <td>10</td>\n",
       "    </tr>\n",
       "    <tr>\n",
       "      <th>10</th>\n",
       "      <td>2022-11</td>\n",
       "      <td>13</td>\n",
       "    </tr>\n",
       "    <tr>\n",
       "      <th>11</th>\n",
       "      <td>2022-12</td>\n",
       "      <td>25</td>\n",
       "    </tr>\n",
       "    <tr>\n",
       "      <th>12</th>\n",
       "      <td>2023-01</td>\n",
       "      <td>-16</td>\n",
       "    </tr>\n",
       "  </tbody>\n",
       "</table>\n",
       "</div>"
      ],
      "text/plain": [
       "      month  anti-profit per loan\n",
       "0   2022-01                   -89\n",
       "1   2022-02                   -33\n",
       "2   2022-03                    42\n",
       "3   2022-04                    36\n",
       "4   2022-05                    53\n",
       "5   2022-06                    42\n",
       "6   2022-07                    13\n",
       "7   2022-08                    12\n",
       "8   2022-09                    30\n",
       "9   2022-10                    10\n",
       "10  2022-11                    13\n",
       "11  2022-12                    25\n",
       "12  2023-01                   -16"
      ]
     },
     "execution_count": 68,
     "metadata": {},
     "output_type": "execute_result"
    }
   ],
   "source": [
    "pd.DataFrame.from_records(res_list)"
   ]
  },
  {
   "cell_type": "code",
   "execution_count": 236,
   "metadata": {},
   "outputs": [
    {
     "data": {
      "text/plain": [
       "33.38461538461539"
      ]
     },
     "execution_count": 236,
     "metadata": {},
     "output_type": "execute_result"
    }
   ],
   "source": [
    "pd.DataFrame.from_records(res_list)['anti-profit per loan'].mean()"
   ]
  }
 ],
 "metadata": {
  "interpreter": {
   "hash": "38b8ab3c7caf7263c2b1864059dd22fc7e99c3d689cca848f2cf647715e92ae3"
  },
  "kernelspec": {
   "display_name": "Python 3.10.5 ('.env-flaml': venv)",
   "language": "python",
   "name": "python3"
  },
  "language_info": {
   "codemirror_mode": {
    "name": "ipython",
    "version": 3
   },
   "file_extension": ".py",
   "mimetype": "text/x-python",
   "name": "python",
   "nbconvert_exporter": "python",
   "pygments_lexer": "ipython3",
   "version": "3.12.3"
  },
  "orig_nbformat": 4
 },
 "nbformat": 4,
 "nbformat_minor": 2
}
