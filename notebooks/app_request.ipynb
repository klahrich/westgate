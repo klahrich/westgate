{
 "cells": [
  {
   "cell_type": "code",
   "execution_count": 20,
   "metadata": {},
   "outputs": [],
   "source": [
    "import pandas as pd\n",
    "import requests\n",
    "from westgate.flaml_model import *"
   ]
  },
  {
   "cell_type": "code",
   "execution_count": 26,
   "metadata": {},
   "outputs": [],
   "source": [
    "payload_example = {\n",
    "  \"gender\": \"male\",\n",
    "  \"dob\": \"2000-03-24\",\n",
    "  \"request_date\": \"2024-03-24\",\n",
    "  \"account_age_days\": 360,\n",
    "  \"count_nsf_90_days\": 10,\n",
    "  \"count_nsf_30_days\": 0,\n",
    "  \"count_stop_payment_90_days\": 0,\n",
    "  \"sum_micro_loan_payments_current_month\": 0,\n",
    "  \"sum_micro_loan_payments_previous_month\": 0,\n",
    "  \"sum_micro_loan_payments_2_months_ago\": 0,\n",
    "  \"recurring_deposits_current_month\": 0,\n",
    "  \"recurring_deposits_previous_month\": 0,\n",
    "  \"recurring_deposits_2_months_ago\": 0,\n",
    "  \"count_active_days\": 10,\n",
    "  \"sum_total_income_current_month\": 1000,\n",
    "  \"sum_total_income_previous_month\": 0,\n",
    "  \"sum_total_income_2_months_ago\": 0,\n",
    "  \"sum_loan_payments_current_month\": 0,\n",
    "  \"sum_loan_payments_previous_month\": 0,\n",
    "  \"sum_loan_payments_2_months_ago\": 0,\n",
    "  \"sum_loan_deposits_30_days\": 0,\n",
    "  \"sum_loan_deposits_60_days\": 0,\n",
    "  \"sum_loan_deposits_90_days\": 10,\n",
    "  \"sum_government_income_current_month\": 0,\n",
    "  \"sum_government_income_previous_month\": 0,\n",
    "  \"sum_government_income_2_months_ago\": 0,\n",
    "  \"sum_employment_insurance_income_current_month\": 0,\n",
    "  \"sum_employment_insurance_income_previous_month\": 0,\n",
    "  \"sum_employment_insurance_income_2_months_ago\": 0,\n",
    "  \"sum_employer_income_current_month\": 0,\n",
    "  \"sum_employer_income_previous_month\": 0,\n",
    "  \"sum_employer_income_2_months_ago\": 0,\n",
    "  \"sum_disability_income_current_month\": 0,\n",
    "  \"sum_disability_income_previous_month\": 0,\n",
    "  \"sum_disability_income_2_months_ago\": 0,\n",
    "  \"average_monthly_recurring_transfers_in_complex\": 0,\n",
    "  \"average_monthly_recurring_transfers_out_complex\": 0,\n",
    "  \"employer_income_frequency\": \"BiWeekly\",\n",
    "  \"average_closing_balance_day_after_employer_income\": 1250,\n",
    "  \"average_closing_balance_day_of_employer_income\": 1000,\n",
    "  \"balance_90_days_ago\": 90,\n",
    "  \"balance_current\": 1000,\n",
    "  \"balance_min\": 0,\n",
    "  \"count_loan_payments_current_month\": 0,\n",
    "  \"count_loan_payments_previous_month\": 3,\n",
    "  \"count_distinct_micro_lenders\": 0,\n",
    "  \"count_days_negative_balance_90_days\": 0,\n",
    "  \"sum_non_employer_income_current_month\": 0,\n",
    "  \"sum_non_employer_income_previous_month\": 0,\n",
    "  \"sum_non_employer_income_2_months_ago\": 0,\n",
    "  \"sum_non_employer_income\": 0,\n",
    "  \"average_closing_balance_day_of_income\": 0,\n",
    "  \"average_monthly_micro_loan_payments_complex\": 0,\n",
    "  \"average_monthly_utility_payments_complex\": 0,\n",
    "  \"telecom_payments_average\": 0,\n",
    "  \"other_loan_payments_average\": 0,\n",
    "  \"utility_payments_average\": 0,\n",
    "  \"zozo\": 0\n",
    "}"
   ]
  },
  {
   "cell_type": "code",
   "execution_count": 15,
   "metadata": {},
   "outputs": [
    {
     "name": "stderr",
     "output_type": "stream",
     "text": [
      "C:\\Users\\karim\\AppData\\Local\\Temp\\ipykernel_10268\\3967161521.py:1: DtypeWarning: Columns (741) have mixed types. Specify dtype option on import or set low_memory=False.\n",
      "  accepted_df = pd.read_csv('../data/AttributesLoans2022.csv', encoding='latin')\n"
     ]
    }
   ],
   "source": [
    "accepted_df = pd.read_csv('../data/AttributesLoans2022.csv', encoding='latin')\n",
    "refused_raw_df = pd.read_csv('../data/refusal2022.csv', encoding='latin')"
   ]
  },
  {
   "cell_type": "code",
   "execution_count": 16,
   "metadata": {},
   "outputs": [],
   "source": [
    "refused_raw_df['recurring_deposits_90_days'] = (\n",
    "    refused_raw_df['recurring_deposits_current_month'] + \n",
    "    refused_raw_df['recurring_deposits_previous_month'] +\n",
    "    refused_raw_df['recurring_deposits_2_months_ago']\n",
    ")\n",
    "\n",
    "refused_raw_df['sum_micro_loans_60_days'] = (\n",
    "    refused_raw_df['sum_micro_loan_payments_current_month'] + \n",
    "    refused_raw_df['sum_micro_loan_payments_previous_month'] \n",
    ")\n",
    "\n",
    "refused_raw_df['recurring_deposits_90_days'] = (\n",
    "    refused_raw_df['recurring_deposits_current_month'] + \n",
    "    refused_raw_df['recurring_deposits_previous_month'] +\n",
    "    refused_raw_df['recurring_deposits_2_months_ago']\n",
    ")\n",
    "\n",
    "refused_raw_df['sum_micro_loans_60_days'] = (\n",
    "    refused_raw_df['sum_micro_loan_payments_current_month'] + \n",
    "    refused_raw_df['sum_micro_loan_payments_previous_month'] \n",
    ")"
   ]
  },
  {
   "cell_type": "code",
   "execution_count": 17,
   "metadata": {},
   "outputs": [
    {
     "name": "stdout",
     "output_type": "stream",
     "text": [
      "# loans before auto-refusal: 37398\n",
      "# loans after auto-refusal: 28579\n"
     ]
    }
   ],
   "source": [
    "print('# loans before auto-refusal: ' + str(len(refused_raw_df)))\n",
    "\n",
    "refused_df = refused_raw_df[refused_raw_df['account_age_days'] >= 85]\n",
    "\n",
    "refused_df = refused_df[refused_df['count_nsf_90_days'] <= 8]\n",
    "\n",
    "refused_df = refused_df[refused_df['count_nsf_30_days'] <= 6]\n",
    "\n",
    "refused_df = refused_df[refused_df['count_stop_payment_90_days'] <= 4]\n",
    "\n",
    "#refused_df = refused_df[refused_df['recurring_deposits_90_days']/3.0 >= 1800] <-- filers way too much\n",
    "\n",
    "#refused_df = refused_df[refused_df['sum_micro_loans_60_days'] <= 1000]\n",
    "\n",
    "print('# loans after auto-refusal: ' + str(len(refused_df)))"
   ]
  },
  {
   "cell_type": "code",
   "execution_count": 22,
   "metadata": {},
   "outputs": [],
   "source": [
    "default_model = load_model(experiment_id='default_1.0', basefolder='../default_model/')"
   ]
  },
  {
   "cell_type": "code",
   "execution_count": 65,
   "metadata": {},
   "outputs": [],
   "source": [
    "refusal_model = load_model(experiment_id='refusal_0.2', basefolder='../refusal_model/')"
   ]
  },
  {
   "cell_type": "code",
   "execution_count": 71,
   "metadata": {},
   "outputs": [],
   "source": [
    "cols_default = default_model.features_in\n",
    "cols_refusal = refusal_model.features_in\n",
    "cols_combined = list(set(cols_default + cols_refusal))\n",
    "\n",
    "with open('cols_combined.txt', 'w') as f:\n",
    "    for c in cols_combined:\n",
    "        f.write(c)\n",
    "        f.write('\\n')"
   ]
  },
  {
   "cell_type": "code",
   "execution_count": 23,
   "metadata": {},
   "outputs": [
    {
     "name": "stdout",
     "output_type": "stream",
     "text": [
      "Rows with 'account_age_days' column not positive will be discarded.\n"
     ]
    }
   ],
   "source": [
    "accepted_filtered_df = default_model.filter_df(accepted_df)"
   ]
  },
  {
   "cell_type": "code",
   "execution_count": 115,
   "metadata": {},
   "outputs": [],
   "source": [
    "accepted_filtered_df['refusal'] = 0\n",
    "refused_df['refusal'] = 1\n",
    "\n",
    "df = pd.concat([accepted_filtered_df, refused_df])"
   ]
  },
  {
   "cell_type": "code",
   "execution_count": 25,
   "metadata": {},
   "outputs": [
    {
     "data": {
      "text/plain": [
       "status\n",
       "Refused         28579\n",
       "Fully Paid       5901\n",
       "Defaulted        3530\n",
       "Restructured       76\n",
       "Name: count, dtype: int64"
      ]
     },
     "execution_count": 25,
     "metadata": {},
     "output_type": "execute_result"
    }
   ],
   "source": [
    "df['status'].value_counts()"
   ]
  },
  {
   "cell_type": "code",
   "execution_count": 120,
   "metadata": {},
   "outputs": [],
   "source": [
    "df = df[cols_combined + ['status', 'dob', 'refusalReason']]"
   ]
  },
  {
   "cell_type": "code",
   "execution_count": 153,
   "metadata": {},
   "outputs": [],
   "source": [
    "def sample_one(status=None):\n",
    "\n",
    "    if status is not None:\n",
    "        df_filtered = df[df['status']==status]\n",
    "    else:\n",
    "        df_filtered = df\n",
    "\n",
    "    #df.drop(columns=['Id'], inplace=True)\n",
    "\n",
    "    #sample = df.sample(1)\n",
    "\n",
    "    sample_df = df_filtered.sample(1)\n",
    "\n",
    "    sample = sample_df.reset_index().to_dict(orient='records')[0]\n",
    "\n",
    "    if pd.isna(sample['refusalReason']):\n",
    "        sample['refusalReason'] = ''\n",
    "\n",
    "    sample['dob'] = sample['dob'][0:10]\n",
    "    sample['request_date'] = '2024-04-15'\n",
    "\n",
    "    return sample"
   ]
  },
  {
   "cell_type": "code",
   "execution_count": 154,
   "metadata": {},
   "outputs": [],
   "source": [
    "def send_request(payload):\n",
    "    headers = {\n",
    "    \"Content-type\": \"application/json\",\n",
    "    \"Accept\": \"application/json\"\n",
    "    }\n",
    "\n",
    "    response = requests.post(\n",
    "        \"https://westgate.fly.dev/predict\",\n",
    "        headers=headers,\n",
    "        json=payload\n",
    "    )\n",
    "\n",
    "    return response.json()"
   ]
  },
  {
   "cell_type": "code",
   "execution_count": 162,
   "metadata": {},
   "outputs": [
    {
     "data": {
      "text/plain": [
       "{'index': 19455,\n",
       " 'sum_employment_insurance_income_previous_month': 0.0,\n",
       " 'balance_min': -154.58,\n",
       " 'count_distinct_micro_lenders': 0.0,\n",
       " 'sum_micro_loan_payments_previous_month': 0.0,\n",
       " 'count_days_negative_balance_90_days': 10.0,\n",
       " 'count_loan_payments_previous_month': 0.0,\n",
       " 'sum_employer_income_current_month': 0.0,\n",
       " 'sum_total_income_current_month': 0.0,\n",
       " 'average_monthly_micro_loan_payments_complex': 0.0,\n",
       " 'recurring_deposits_2_months_ago': 0.0,\n",
       " 'count_loan_payments_current_month': 0.0,\n",
       " 'average_monthly_utility_payments_complex': 233.33,\n",
       " 'employer_income_frequency': 'Unknown',\n",
       " 'sum_employer_income_2_months_ago': 0.0,\n",
       " 'sum_non_employer_income_2_months_ago': 1125.19,\n",
       " 'sum_government_income_previous_month': 75.53,\n",
       " 'sum_loan_deposits_30_days': 0.0,\n",
       " 'sum_non_employer_income_current_month': 0.0,\n",
       " 'sum_disability_income_current_month': 0.0,\n",
       " 'sum_loan_payments_2_months_ago': 0.0,\n",
       " 'average_closing_balance_day_after_employer_income': 622.31,\n",
       " 'balance_current': 194.41,\n",
       " 'sum_total_income_2_months_ago': 1125.19,\n",
       " 'sum_non_employer_income_previous_month': 75.53,\n",
       " 'account_age_days': 121.0,\n",
       " 'sum_government_income_current_month': 0.0,\n",
       " 'sum_employer_income_previous_month': 2314.09,\n",
       " 'sum_loan_deposits_90_days': 0.0,\n",
       " 'sum_government_income_2_months_ago': 1125.19,\n",
       " 'average_closing_balance_day_of_income': 858.11,\n",
       " 'sum_disability_income_previous_month': 0.0,\n",
       " 'count_nsf_30_days': 0.0,\n",
       " 'utility_payments_average': 350.0,\n",
       " 'other_loan_payments_average': 0.0,\n",
       " 'gender': 'female',\n",
       " 'sum_disability_income_2_months_ago': 0.0,\n",
       " 'sum_loan_deposits_60_days': 0.0,\n",
       " 'average_monthly_recurring_transfers_out_complex': 0.0,\n",
       " 'sum_employment_insurance_income_2_months_ago': 0.0,\n",
       " 'average_closing_balance_day_of_employer_income': 812.32,\n",
       " 'sum_non_employer_income': 2178.52,\n",
       " 'balance_90_days_ago': -43.21,\n",
       " 'sum_micro_loan_payments_2_months_ago': 0.0,\n",
       " 'sum_loan_payments_current_month': 0.0,\n",
       " 'count_nsf_90_days': 1.0,\n",
       " 'count_stop_payment_90_days': 0.0,\n",
       " 'count_active_days': 79.0,\n",
       " 'sum_loan_payments_previous_month': 0.0,\n",
       " 'telecom_payments_average': 0.0,\n",
       " 'average_monthly_recurring_transfers_in_complex': 0.0,\n",
       " 'sum_micro_loan_payments_current_month': 0.0,\n",
       " 'recurring_deposits_previous_month': 0.0,\n",
       " 'recurring_deposits_current_month': 0.0,\n",
       " 'sum_employment_insurance_income_current_month': 0.0,\n",
       " 'sum_total_income_previous_month': 2389.62,\n",
       " 'status': 'Refused',\n",
       " 'dob': '1986-04-16',\n",
       " 'refusalReason': 'Other (when other the agent will have to manually type a note to explain the situation.) ',\n",
       " 'request_date': '2024-04-15'}"
      ]
     },
     "execution_count": 162,
     "metadata": {},
     "output_type": "execute_result"
    }
   ],
   "source": [
    "payload"
   ]
  },
  {
   "cell_type": "code",
   "execution_count": 160,
   "metadata": {},
   "outputs": [],
   "source": [
    "#payload = sample_one('Fully Paid')\n",
    "payload = sample_one('Refused')"
   ]
  },
  {
   "cell_type": "code",
   "execution_count": 161,
   "metadata": {},
   "outputs": [
    {
     "data": {
      "text/plain": [
       "{'refusal': {'score': 0.9521138072013855, 'percentile': 75},\n",
       " 'default': {'score': 0.526416540145874, 'percentile': 95},\n",
       " 'uw_decision': 'refuse',\n",
       " 'version': 'v1.0',\n",
       " 'timestamp': '15/04/2024 17:59:22'}"
      ]
     },
     "execution_count": 161,
     "metadata": {},
     "output_type": "execute_result"
    }
   ],
   "source": [
    "send_request(payload)"
   ]
  }
 ],
 "metadata": {
  "interpreter": {
   "hash": "19d7494050f6c9a6c10bf446792601129da912a7d46bcc12461fc5350e6e3583"
  },
  "kernelspec": {
   "display_name": "Python 3.10.5 ('.env-flaml': venv)",
   "language": "python",
   "name": "python3"
  },
  "language_info": {
   "codemirror_mode": {
    "name": "ipython",
    "version": 3
   },
   "file_extension": ".py",
   "mimetype": "text/x-python",
   "name": "python",
   "nbconvert_exporter": "python",
   "pygments_lexer": "ipython3",
   "version": "3.10.5"
  },
  "orig_nbformat": 4
 },
 "nbformat": 4,
 "nbformat_minor": 2
}
