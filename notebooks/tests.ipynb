{
 "cells": [
  {
   "cell_type": "code",
   "execution_count": 1,
   "metadata": {},
   "outputs": [],
   "source": [
    "%load_ext autoreload\n",
    "%autoreload 2"
   ]
  },
  {
   "cell_type": "code",
   "execution_count": 2,
   "metadata": {},
   "outputs": [],
   "source": [
    "from westgate.flaml_model import *\n",
    "import pandas as pd"
   ]
  },
  {
   "cell_type": "code",
   "execution_count": 3,
   "metadata": {},
   "outputs": [],
   "source": [
    "model_refusal = load_model('refusal_0.2', basefolder='../model_binaries/')\n",
    "model_default = load_model('default_1.0', basefolder='../model_binaries/')"
   ]
  },
  {
   "cell_type": "code",
   "execution_count": 45,
   "metadata": {},
   "outputs": [],
   "source": [
    "data = {\n",
    "  \"gender\": \"male\",\n",
    "  \"dob\": \"2000-03-27\",\n",
    "  \"request_date\": \"2024-03-27\",\n",
    "  \"account_age_days\": 30,\n",
    "  \"count_nsf_90_days\": 0,\n",
    "  \"count_nsf_30_days\": 0,\n",
    "  \"count_stop_payment_90_days\": 0,\n",
    "  \"sum_micro_loan_payments_current_month\": 0,\n",
    "  \"sum_micro_loan_payments_previous_month\": 0,\n",
    "  \"sum_micro_loan_payments_2_months_ago\": 0,\n",
    "  \"recurring_deposits_current_month\": 0,\n",
    "  \"recurring_deposits_previous_month\": 0,\n",
    "  \"recurring_deposits_2_months_ago\": 0,\n",
    "  \"count_active_days\": 0,\n",
    "  \"sum_total_income_current_month\": 0,\n",
    "  \"sum_total_income_previous_month\": 0,\n",
    "  \"sum_total_income_2_months_ago\": 0,\n",
    "  \"sum_loan_payments_current_month\": 0,\n",
    "  \"sum_loan_payments_previous_month\": 0,\n",
    "  \"sum_loan_payments_2_months_ago\": 0,\n",
    "  \"sum_loan_deposits_30_days\": 0,\n",
    "  \"sum_loan_deposits_60_days\": 0,\n",
    "  \"sum_loan_deposits_90_days\": 0,\n",
    "  \"sum_government_income_current_month\": 0,\n",
    "  \"sum_government_income_previous_month\": 0,\n",
    "  \"sum_government_income_2_months_ago\": 0,\n",
    "  \"sum_employment_insurance_income_current_month\": 0,\n",
    "  \"sum_employment_insurance_income_previous_month\": 0,\n",
    "  \"sum_employment_insurance_income_2_months_ago\": 0,\n",
    "  \"sum_employer_income_current_month\": 0,\n",
    "  \"sum_employer_income_previous_month\": 0,\n",
    "  \"sum_employer_income_2_months_ago\": 0,\n",
    "  \"sum_disability_income_current_month\": 0,\n",
    "  \"sum_disability_income_previous_month\": 0,\n",
    "  \"sum_disability_income_2_months_ago\": 0,\n",
    "  \"average_monthly_recurring_transfers_in_complex\": 0,\n",
    "  \"average_monthly_recurring_transfers_out_complex\": 0,\n",
    "  \"employer_income_frequency\": \"BiWeekly\",\n",
    "  \"average_closing_balance_day_after_employer_income\": 0,\n",
    "  \"average_closing_balance_day_of_employer_income\": 0,\n",
    "  \"balance_90_days_ago\": 0,\n",
    "  \"balance_current\": 0,\n",
    "  \"balance_min\": 0,\n",
    "  \"count_loan_payments_current_month\": 0,\n",
    "  \"count_loan_payments_previous_month\": 0,\n",
    "  \"count_distinct_micro_lenders\": 0,\n",
    "  \"count_days_negative_balance_90_days\": 0,\n",
    "  \"sum_non_employer_income_current_month\": 0,\n",
    "  \"sum_non_employer_income_previous_month\": 0,\n",
    "  \"sum_non_employer_income_2_months_ago\": 0,\n",
    "  \"sum_non_employer_income\": 0,\n",
    "  \"average_closing_balance_day_of_income\": 0,\n",
    "  \"average_monthly_micro_loan_payments_complex\": 0,\n",
    "  \"average_monthly_utility_payments_complex\": 0,\n",
    "  \"telecom_payments_average\": 0,\n",
    "  \"other_loan_payments_average\": 0,\n",
    "  \"utility_payments_average\": 0\n",
    "}"
   ]
  },
  {
   "cell_type": "code",
   "execution_count": 46,
   "metadata": {},
   "outputs": [],
   "source": [
    "df = pd.DataFrame.from_dict([data])"
   ]
  },
  {
   "cell_type": "code",
   "execution_count": 47,
   "metadata": {},
   "outputs": [
    {
     "data": {
      "text/html": [
       "<div>\n",
       "<style scoped>\n",
       "    .dataframe tbody tr th:only-of-type {\n",
       "        vertical-align: middle;\n",
       "    }\n",
       "\n",
       "    .dataframe tbody tr th {\n",
       "        vertical-align: top;\n",
       "    }\n",
       "\n",
       "    .dataframe thead th {\n",
       "        text-align: right;\n",
       "    }\n",
       "</style>\n",
       "<table border=\"1\" class=\"dataframe\">\n",
       "  <thead>\n",
       "    <tr style=\"text-align: right;\">\n",
       "      <th></th>\n",
       "      <th>gender</th>\n",
       "      <th>dob</th>\n",
       "      <th>request_date</th>\n",
       "      <th>account_age_days</th>\n",
       "      <th>count_nsf_90_days</th>\n",
       "      <th>count_nsf_30_days</th>\n",
       "      <th>count_stop_payment_90_days</th>\n",
       "      <th>sum_micro_loan_payments_current_month</th>\n",
       "      <th>sum_micro_loan_payments_previous_month</th>\n",
       "      <th>sum_micro_loan_payments_2_months_ago</th>\n",
       "      <th>...</th>\n",
       "      <th>sum_non_employer_income_current_month</th>\n",
       "      <th>sum_non_employer_income_previous_month</th>\n",
       "      <th>sum_non_employer_income_2_months_ago</th>\n",
       "      <th>sum_non_employer_income</th>\n",
       "      <th>average_closing_balance_day_of_income</th>\n",
       "      <th>average_monthly_micro_loan_payments_complex</th>\n",
       "      <th>average_monthly_utility_payments_complex</th>\n",
       "      <th>telecom_payments_average</th>\n",
       "      <th>other_loan_payments_average</th>\n",
       "      <th>utility_payments_average</th>\n",
       "    </tr>\n",
       "  </thead>\n",
       "  <tbody>\n",
       "    <tr>\n",
       "      <th>0</th>\n",
       "      <td>male</td>\n",
       "      <td>2000-03-27</td>\n",
       "      <td>2024-03-27</td>\n",
       "      <td>30</td>\n",
       "      <td>0</td>\n",
       "      <td>0</td>\n",
       "      <td>0</td>\n",
       "      <td>0</td>\n",
       "      <td>0</td>\n",
       "      <td>0</td>\n",
       "      <td>...</td>\n",
       "      <td>0</td>\n",
       "      <td>0</td>\n",
       "      <td>0</td>\n",
       "      <td>0</td>\n",
       "      <td>0</td>\n",
       "      <td>0</td>\n",
       "      <td>0</td>\n",
       "      <td>0</td>\n",
       "      <td>0</td>\n",
       "      <td>0</td>\n",
       "    </tr>\n",
       "  </tbody>\n",
       "</table>\n",
       "<p>1 rows × 57 columns</p>\n",
       "</div>"
      ],
      "text/plain": [
       "  gender         dob request_date  account_age_days  count_nsf_90_days  \\\n",
       "0   male  2000-03-27   2024-03-27                30                  0   \n",
       "\n",
       "   count_nsf_30_days  count_stop_payment_90_days  \\\n",
       "0                  0                           0   \n",
       "\n",
       "   sum_micro_loan_payments_current_month  \\\n",
       "0                                      0   \n",
       "\n",
       "   sum_micro_loan_payments_previous_month  \\\n",
       "0                                       0   \n",
       "\n",
       "   sum_micro_loan_payments_2_months_ago  ...  \\\n",
       "0                                     0  ...   \n",
       "\n",
       "   sum_non_employer_income_current_month  \\\n",
       "0                                      0   \n",
       "\n",
       "   sum_non_employer_income_previous_month  \\\n",
       "0                                       0   \n",
       "\n",
       "   sum_non_employer_income_2_months_ago  sum_non_employer_income  \\\n",
       "0                                     0                        0   \n",
       "\n",
       "   average_closing_balance_day_of_income  \\\n",
       "0                                      0   \n",
       "\n",
       "   average_monthly_micro_loan_payments_complex  \\\n",
       "0                                            0   \n",
       "\n",
       "   average_monthly_utility_payments_complex  telecom_payments_average  \\\n",
       "0                                         0                         0   \n",
       "\n",
       "   other_loan_payments_average  utility_payments_average  \n",
       "0                            0                         0  \n",
       "\n",
       "[1 rows x 57 columns]"
      ]
     },
     "execution_count": 47,
     "metadata": {},
     "output_type": "execute_result"
    }
   ],
   "source": [
    "df"
   ]
  },
  {
   "cell_type": "code",
   "execution_count": 48,
   "metadata": {},
   "outputs": [
    {
     "data": {
      "text/html": [
       "<div>\n",
       "<style scoped>\n",
       "    .dataframe tbody tr th:only-of-type {\n",
       "        vertical-align: middle;\n",
       "    }\n",
       "\n",
       "    .dataframe tbody tr th {\n",
       "        vertical-align: top;\n",
       "    }\n",
       "\n",
       "    .dataframe thead th {\n",
       "        text-align: right;\n",
       "    }\n",
       "</style>\n",
       "<table border=\"1\" class=\"dataframe\">\n",
       "  <thead>\n",
       "    <tr style=\"text-align: right;\">\n",
       "      <th></th>\n",
       "      <th>gender</th>\n",
       "      <th>dob</th>\n",
       "      <th>request_date</th>\n",
       "      <th>account_age_days</th>\n",
       "      <th>count_nsf_90_days</th>\n",
       "      <th>count_nsf_30_days</th>\n",
       "      <th>count_stop_payment_90_days</th>\n",
       "      <th>sum_micro_loan_payments_current_month</th>\n",
       "      <th>sum_micro_loan_payments_previous_month</th>\n",
       "      <th>sum_micro_loan_payments_2_months_ago</th>\n",
       "      <th>...</th>\n",
       "      <th>sum_non_employer_income_current_month</th>\n",
       "      <th>sum_non_employer_income_previous_month</th>\n",
       "      <th>sum_non_employer_income_2_months_ago</th>\n",
       "      <th>sum_non_employer_income</th>\n",
       "      <th>average_closing_balance_day_of_income</th>\n",
       "      <th>average_monthly_micro_loan_payments_complex</th>\n",
       "      <th>average_monthly_utility_payments_complex</th>\n",
       "      <th>telecom_payments_average</th>\n",
       "      <th>other_loan_payments_average</th>\n",
       "      <th>utility_payments_average</th>\n",
       "    </tr>\n",
       "  </thead>\n",
       "  <tbody>\n",
       "    <tr>\n",
       "      <th>0</th>\n",
       "      <td>male</td>\n",
       "      <td>2000-03-27</td>\n",
       "      <td>2024-03-27</td>\n",
       "      <td>30</td>\n",
       "      <td>0</td>\n",
       "      <td>0</td>\n",
       "      <td>0</td>\n",
       "      <td>0</td>\n",
       "      <td>0</td>\n",
       "      <td>0</td>\n",
       "      <td>...</td>\n",
       "      <td>0</td>\n",
       "      <td>0</td>\n",
       "      <td>0</td>\n",
       "      <td>0</td>\n",
       "      <td>0</td>\n",
       "      <td>0</td>\n",
       "      <td>0</td>\n",
       "      <td>0</td>\n",
       "      <td>0</td>\n",
       "      <td>0</td>\n",
       "    </tr>\n",
       "  </tbody>\n",
       "</table>\n",
       "<p>1 rows × 57 columns</p>\n",
       "</div>"
      ],
      "text/plain": [
       "  gender         dob request_date  account_age_days  count_nsf_90_days  \\\n",
       "0   male  2000-03-27   2024-03-27                30                  0   \n",
       "\n",
       "   count_nsf_30_days  count_stop_payment_90_days  \\\n",
       "0                  0                           0   \n",
       "\n",
       "   sum_micro_loan_payments_current_month  \\\n",
       "0                                      0   \n",
       "\n",
       "   sum_micro_loan_payments_previous_month  \\\n",
       "0                                       0   \n",
       "\n",
       "   sum_micro_loan_payments_2_months_ago  ...  \\\n",
       "0                                     0  ...   \n",
       "\n",
       "   sum_non_employer_income_current_month  \\\n",
       "0                                      0   \n",
       "\n",
       "   sum_non_employer_income_previous_month  \\\n",
       "0                                       0   \n",
       "\n",
       "   sum_non_employer_income_2_months_ago  sum_non_employer_income  \\\n",
       "0                                     0                        0   \n",
       "\n",
       "   average_closing_balance_day_of_income  \\\n",
       "0                                      0   \n",
       "\n",
       "   average_monthly_micro_loan_payments_complex  \\\n",
       "0                                            0   \n",
       "\n",
       "   average_monthly_utility_payments_complex  telecom_payments_average  \\\n",
       "0                                         0                         0   \n",
       "\n",
       "   other_loan_payments_average  utility_payments_average  \n",
       "0                            0                         0  \n",
       "\n",
       "[1 rows x 57 columns]"
      ]
     },
     "execution_count": 48,
     "metadata": {},
     "output_type": "execute_result"
    }
   ],
   "source": [
    "model_default.filter_df(df)"
   ]
  },
  {
   "cell_type": "code",
   "execution_count": 50,
   "metadata": {},
   "outputs": [
    {
     "data": {
      "text/plain": [
       "0.033979673"
      ]
     },
     "execution_count": 50,
     "metadata": {},
     "output_type": "execute_result"
    }
   ],
   "source": [
    "model_refusal.predict_proba(df, filter=True, engineer=True)"
   ]
  },
  {
   "cell_type": "code",
   "execution_count": 49,
   "metadata": {},
   "outputs": [
    {
     "name": "stdout",
     "output_type": "stream",
     "text": [
      "1\n"
     ]
    },
    {
     "data": {
      "text/plain": [
       "0.49805933"
      ]
     },
     "execution_count": 49,
     "metadata": {},
     "output_type": "execute_result"
    }
   ],
   "source": [
    "model_default.predict_proba(df, filter=True, engineer=True)"
   ]
  },
  {
   "cell_type": "code",
   "execution_count": 27,
   "metadata": {},
   "outputs": [
    {
     "data": {
      "text/plain": [
       "([{'variable': 'balance_min', 'threshold_min': -5000.0}], [])"
      ]
     },
     "execution_count": 27,
     "metadata": {},
     "output_type": "execute_result"
    }
   ],
   "source": [
    "model_default.thresholds_min, model_default.thresholds_max"
   ]
  }
 ],
 "metadata": {
  "interpreter": {
   "hash": "19d7494050f6c9a6c10bf446792601129da912a7d46bcc12461fc5350e6e3583"
  },
  "kernelspec": {
   "display_name": "Python 3.10.5 ('.env-flaml': venv)",
   "language": "python",
   "name": "python3"
  },
  "language_info": {
   "codemirror_mode": {
    "name": "ipython",
    "version": 3
   },
   "file_extension": ".py",
   "mimetype": "text/x-python",
   "name": "python",
   "nbconvert_exporter": "python",
   "pygments_lexer": "ipython3",
   "version": "3.10.5"
  },
  "orig_nbformat": 4
 },
 "nbformat": 4,
 "nbformat_minor": 2
}
