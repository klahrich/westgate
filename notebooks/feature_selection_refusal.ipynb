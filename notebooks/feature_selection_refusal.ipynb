{
 "cells": [
  {
   "cell_type": "code",
   "execution_count": 15,
   "metadata": {},
   "outputs": [],
   "source": [
    "import pandas as pd\n",
    "import numpy as np\n",
    "from westgate.flaml_model import *\n",
    "from scipy.stats import ttest_ind"
   ]
  },
  {
   "cell_type": "code",
   "execution_count": 3,
   "metadata": {},
   "outputs": [
    {
     "name": "stderr",
     "output_type": "stream",
     "text": [
      "C:\\Users\\karim\\AppData\\Local\\Temp\\ipykernel_26732\\3967161521.py:1: DtypeWarning: Columns (741) have mixed types. Specify dtype option on import or set low_memory=False.\n",
      "  accepted_df = pd.read_csv('../data/AttributesLoans2022.csv', encoding='latin')\n"
     ]
    }
   ],
   "source": [
    "accepted_df = pd.read_csv('../data/AttributesLoans2022.csv', encoding='latin')\n",
    "refused_raw_df = pd.read_csv('../data/refusal2022.csv', encoding='latin')"
   ]
  },
  {
   "cell_type": "code",
   "execution_count": 4,
   "metadata": {},
   "outputs": [],
   "source": [
    "refused_raw_df['recurring_deposits_90_days'] = (\n",
    "    refused_raw_df['recurring_deposits_current_month'] + \n",
    "    refused_raw_df['recurring_deposits_previous_month'] +\n",
    "    refused_raw_df['recurring_deposits_2_months_ago']\n",
    ")\n",
    "\n",
    "refused_raw_df['sum_micro_loans_60_days'] = (\n",
    "    refused_raw_df['sum_micro_loan_payments_current_month'] + \n",
    "    refused_raw_df['sum_micro_loan_payments_previous_month'] \n",
    ")\n",
    "\n",
    "refused_raw_df['recurring_deposits_90_days'] = (\n",
    "    refused_raw_df['recurring_deposits_current_month'] + \n",
    "    refused_raw_df['recurring_deposits_previous_month'] +\n",
    "    refused_raw_df['recurring_deposits_2_months_ago']\n",
    ")\n",
    "\n",
    "refused_raw_df['sum_micro_loans_60_days'] = (\n",
    "    refused_raw_df['sum_micro_loan_payments_current_month'] + \n",
    "    refused_raw_df['sum_micro_loan_payments_previous_month'] \n",
    ")"
   ]
  },
  {
   "cell_type": "code",
   "execution_count": 5,
   "metadata": {},
   "outputs": [
    {
     "name": "stdout",
     "output_type": "stream",
     "text": [
      "# loans before auto-refusal: 37398\n",
      "# loans after auto-refusal: 28579\n"
     ]
    }
   ],
   "source": [
    "print('# loans before auto-refusal: ' + str(len(refused_raw_df)))\n",
    "\n",
    "refused_df = refused_raw_df[refused_raw_df['account_age_days'] >= 85]\n",
    "\n",
    "refused_df = refused_df[refused_df['count_nsf_90_days'] <= 8]\n",
    "\n",
    "refused_df = refused_df[refused_df['count_nsf_30_days'] <= 6]\n",
    "\n",
    "refused_df = refused_df[refused_df['count_stop_payment_90_days'] <= 4]\n",
    "\n",
    "#refused_df = refused_df[refused_df['recurring_deposits_90_days']/3.0 >= 1800] <-- filers way too much\n",
    "\n",
    "#refused_df = refused_df[refused_df['sum_micro_loans_60_days'] <= 1000]\n",
    "\n",
    "print('# loans after auto-refusal: ' + str(len(refused_df)))"
   ]
  },
  {
   "cell_type": "code",
   "execution_count": 8,
   "metadata": {},
   "outputs": [],
   "source": [
    "default_model = load_model(experiment_id='default_1.0', basefolder='../default_model/')"
   ]
  },
  {
   "cell_type": "code",
   "execution_count": 12,
   "metadata": {},
   "outputs": [],
   "source": [
    "refusal_model = load_model(experiment_id='refusal_0.2', basefolder='../refusal_model/')"
   ]
  },
  {
   "cell_type": "code",
   "execution_count": 9,
   "metadata": {},
   "outputs": [
    {
     "name": "stdout",
     "output_type": "stream",
     "text": [
      "Rows with 'account_age_days' column not positive will be discarded.\n"
     ]
    }
   ],
   "source": [
    "accepted_filtered_df = default_model.filter_df(accepted_df)"
   ]
  },
  {
   "cell_type": "code",
   "execution_count": 10,
   "metadata": {},
   "outputs": [],
   "source": [
    "accepted_filtered_df['refusal'] = 0\n",
    "refused_df['refusal'] = 1\n",
    "\n",
    "df = pd.concat([accepted_filtered_df, refused_df])"
   ]
  },
  {
   "cell_type": "code",
   "execution_count": 23,
   "metadata": {},
   "outputs": [
    {
     "data": {
      "text/plain": [
       "Index(['Id', 'account_age_days', 'active_days_trend',\n",
       "       'auto_loan_payment_frequency',\n",
       "       'average_closing_balance_day_after_employer_income',\n",
       "       'average_closing_balance_day_after_government_income',\n",
       "       'average_closing_balance_day_after_income',\n",
       "       'average_closing_balance_day_of_employer_income',\n",
       "       'average_closing_balance_day_of_government_income',\n",
       "       'average_closing_balance_day_of_income',\n",
       "       ...\n",
       "       'loan_application_id', 'borrower_id', 'error', 'refusal',\n",
       "       'approbexRequest', 'province', 'refusalReason',\n",
       "       'recurring_deposits_90_days', 'sum_micro_loans_60_days', 'age'],\n",
       "      dtype='object', length=762)"
      ]
     },
     "execution_count": 23,
     "metadata": {},
     "output_type": "execute_result"
    }
   ],
   "source": [
    "df.columns"
   ]
  },
  {
   "cell_type": "markdown",
   "metadata": {},
   "source": [
    "# Count variables"
   ]
  },
  {
   "cell_type": "code",
   "execution_count": 172,
   "metadata": {},
   "outputs": [],
   "source": [
    "count_vars = [c for c in df.columns if c.startswith('count_')]"
   ]
  },
  {
   "cell_type": "code",
   "execution_count": 173,
   "metadata": {},
   "outputs": [
    {
     "data": {
      "text/plain": [
       "304"
      ]
     },
     "execution_count": 173,
     "metadata": {},
     "output_type": "execute_result"
    }
   ],
   "source": [
    "len(count_vars)"
   ]
  },
  {
   "cell_type": "code",
   "execution_count": 174,
   "metadata": {},
   "outputs": [],
   "source": [
    "stats = {'c': [], 'pvalue': [], 'stat': []}\n",
    "\n",
    "for c in count_vars:\n",
    "    refused = df.loc[df['refusal']==1, c]\n",
    "    accepted = df.loc[df['refusal']==0, c]\n",
    "    result = ttest_ind(refused, accepted, equal_var=False)\n",
    "    stats['c'].append(c)\n",
    "    stats['pvalue'].append(result.pvalue)\n",
    "    stats['stat'].append(result.statistic)"
   ]
  },
  {
   "cell_type": "code",
   "execution_count": 175,
   "metadata": {},
   "outputs": [],
   "source": [
    "count_pvalues_df = pd.DataFrame(stats)"
   ]
  },
  {
   "cell_type": "code",
   "execution_count": 176,
   "metadata": {},
   "outputs": [],
   "source": [
    "count_pvalues_df['abs_stat'] = count_pvalues_df['stat'].abs()"
   ]
  },
  {
   "cell_type": "code",
   "execution_count": 177,
   "metadata": {},
   "outputs": [],
   "source": [
    "count_pvalues_filtered_df = count_pvalues_df[count_pvalues_df['pvalue'] < 0.001].sort_values('abs_stat', ascending=False)"
   ]
  },
  {
   "cell_type": "code",
   "execution_count": 178,
   "metadata": {},
   "outputs": [
    {
     "data": {
      "text/html": [
       "<div>\n",
       "<style scoped>\n",
       "    .dataframe tbody tr th:only-of-type {\n",
       "        vertical-align: middle;\n",
       "    }\n",
       "\n",
       "    .dataframe tbody tr th {\n",
       "        vertical-align: top;\n",
       "    }\n",
       "\n",
       "    .dataframe thead th {\n",
       "        text-align: right;\n",
       "    }\n",
       "</style>\n",
       "<table border=\"1\" class=\"dataframe\">\n",
       "  <thead>\n",
       "    <tr style=\"text-align: right;\">\n",
       "      <th></th>\n",
       "      <th>c</th>\n",
       "      <th>pvalue</th>\n",
       "      <th>stat</th>\n",
       "      <th>abs_stat</th>\n",
       "    </tr>\n",
       "  </thead>\n",
       "  <tbody>\n",
       "    <tr>\n",
       "      <th>45</th>\n",
       "      <td>count_employer_a_income_2_months_ago</td>\n",
       "      <td>0.000000e+00</td>\n",
       "      <td>-42.362517</td>\n",
       "      <td>42.362517</td>\n",
       "    </tr>\n",
       "    <tr>\n",
       "      <th>136</th>\n",
       "      <td>count_loan_payments_2_months_ago</td>\n",
       "      <td>0.000000e+00</td>\n",
       "      <td>-40.624764</td>\n",
       "      <td>40.624764</td>\n",
       "    </tr>\n",
       "    <tr>\n",
       "      <th>145</th>\n",
       "      <td>count_loan_payments_previous_month</td>\n",
       "      <td>0.000000e+00</td>\n",
       "      <td>-39.937455</td>\n",
       "      <td>39.937455</td>\n",
       "    </tr>\n",
       "    <tr>\n",
       "      <th>54</th>\n",
       "      <td>count_employer_a_income_previous_month</td>\n",
       "      <td>0.000000e+00</td>\n",
       "      <td>-39.623883</td>\n",
       "      <td>39.623883</td>\n",
       "    </tr>\n",
       "    <tr>\n",
       "      <th>41</th>\n",
       "      <td>count_distinct_micro_lenders</td>\n",
       "      <td>1.604758e-305</td>\n",
       "      <td>-38.334076</td>\n",
       "      <td>38.334076</td>\n",
       "    </tr>\n",
       "    <tr>\n",
       "      <th>...</th>\n",
       "      <td>...</td>\n",
       "      <td>...</td>\n",
       "      <td>...</td>\n",
       "      <td>...</td>\n",
       "    </tr>\n",
       "    <tr>\n",
       "      <th>168</th>\n",
       "      <td>count_mortgage_payments_8_months_ago</td>\n",
       "      <td>4.515084e-04</td>\n",
       "      <td>-3.508840</td>\n",
       "      <td>3.508840</td>\n",
       "    </tr>\n",
       "    <tr>\n",
       "      <th>169</th>\n",
       "      <td>count_mortgage_payments_9_months_ago</td>\n",
       "      <td>4.847694e-04</td>\n",
       "      <td>-3.489862</td>\n",
       "      <td>3.489862</td>\n",
       "    </tr>\n",
       "    <tr>\n",
       "      <th>36</th>\n",
       "      <td>count_disability_income_7_months_ago</td>\n",
       "      <td>8.532061e-04</td>\n",
       "      <td>3.335457</td>\n",
       "      <td>3.335457</td>\n",
       "    </tr>\n",
       "    <tr>\n",
       "      <th>207</th>\n",
       "      <td>count_pension_income_10_months_ago</td>\n",
       "      <td>9.387601e-04</td>\n",
       "      <td>-3.309000</td>\n",
       "      <td>3.309000</td>\n",
       "    </tr>\n",
       "    <tr>\n",
       "      <th>302</th>\n",
       "      <td>count_wsib_income_current_month</td>\n",
       "      <td>9.747743e-04</td>\n",
       "      <td>3.298112</td>\n",
       "      <td>3.298112</td>\n",
       "    </tr>\n",
       "  </tbody>\n",
       "</table>\n",
       "<p>224 rows × 4 columns</p>\n",
       "</div>"
      ],
      "text/plain": [
       "                                          c         pvalue       stat  \\\n",
       "45     count_employer_a_income_2_months_ago   0.000000e+00 -42.362517   \n",
       "136        count_loan_payments_2_months_ago   0.000000e+00 -40.624764   \n",
       "145      count_loan_payments_previous_month   0.000000e+00 -39.937455   \n",
       "54   count_employer_a_income_previous_month   0.000000e+00 -39.623883   \n",
       "41             count_distinct_micro_lenders  1.604758e-305 -38.334076   \n",
       "..                                      ...            ...        ...   \n",
       "168    count_mortgage_payments_8_months_ago   4.515084e-04  -3.508840   \n",
       "169    count_mortgage_payments_9_months_ago   4.847694e-04  -3.489862   \n",
       "36     count_disability_income_7_months_ago   8.532061e-04   3.335457   \n",
       "207      count_pension_income_10_months_ago   9.387601e-04  -3.309000   \n",
       "302         count_wsib_income_current_month   9.747743e-04   3.298112   \n",
       "\n",
       "      abs_stat  \n",
       "45   42.362517  \n",
       "136  40.624764  \n",
       "145  39.937455  \n",
       "54   39.623883  \n",
       "41   38.334076  \n",
       "..         ...  \n",
       "168   3.508840  \n",
       "169   3.489862  \n",
       "36    3.335457  \n",
       "207   3.309000  \n",
       "302   3.298112  \n",
       "\n",
       "[224 rows x 4 columns]"
      ]
     },
     "execution_count": 178,
     "metadata": {},
     "output_type": "execute_result"
    }
   ],
   "source": [
    "count_pvalues_filtered_df"
   ]
  },
  {
   "cell_type": "code",
   "execution_count": 179,
   "metadata": {},
   "outputs": [],
   "source": [
    "count_pvalues_filtered_df.to_csv('refusal_count_pvalues_filtered.csv', index=False)"
   ]
  },
  {
   "cell_type": "code",
   "execution_count": 180,
   "metadata": {},
   "outputs": [],
   "source": [
    "count_top10_df = count_pvalues_filtered_df.iloc[0:10]"
   ]
  },
  {
   "cell_type": "code",
   "execution_count": 181,
   "metadata": {},
   "outputs": [
    {
     "data": {
      "text/html": [
       "<div>\n",
       "<style scoped>\n",
       "    .dataframe tbody tr th:only-of-type {\n",
       "        vertical-align: middle;\n",
       "    }\n",
       "\n",
       "    .dataframe tbody tr th {\n",
       "        vertical-align: top;\n",
       "    }\n",
       "\n",
       "    .dataframe thead th {\n",
       "        text-align: right;\n",
       "    }\n",
       "</style>\n",
       "<table border=\"1\" class=\"dataframe\">\n",
       "  <thead>\n",
       "    <tr style=\"text-align: right;\">\n",
       "      <th></th>\n",
       "      <th>c</th>\n",
       "      <th>pvalue</th>\n",
       "      <th>stat</th>\n",
       "      <th>abs_stat</th>\n",
       "    </tr>\n",
       "  </thead>\n",
       "  <tbody>\n",
       "    <tr>\n",
       "      <th>45</th>\n",
       "      <td>count_employer_a_income_2_months_ago</td>\n",
       "      <td>0.000000e+00</td>\n",
       "      <td>-42.362517</td>\n",
       "      <td>42.362517</td>\n",
       "    </tr>\n",
       "    <tr>\n",
       "      <th>136</th>\n",
       "      <td>count_loan_payments_2_months_ago</td>\n",
       "      <td>0.000000e+00</td>\n",
       "      <td>-40.624764</td>\n",
       "      <td>40.624764</td>\n",
       "    </tr>\n",
       "    <tr>\n",
       "      <th>145</th>\n",
       "      <td>count_loan_payments_previous_month</td>\n",
       "      <td>0.000000e+00</td>\n",
       "      <td>-39.937455</td>\n",
       "      <td>39.937455</td>\n",
       "    </tr>\n",
       "    <tr>\n",
       "      <th>54</th>\n",
       "      <td>count_employer_a_income_previous_month</td>\n",
       "      <td>0.000000e+00</td>\n",
       "      <td>-39.623883</td>\n",
       "      <td>39.623883</td>\n",
       "    </tr>\n",
       "    <tr>\n",
       "      <th>41</th>\n",
       "      <td>count_distinct_micro_lenders</td>\n",
       "      <td>1.604758e-305</td>\n",
       "      <td>-38.334076</td>\n",
       "      <td>38.334076</td>\n",
       "    </tr>\n",
       "    <tr>\n",
       "      <th>149</th>\n",
       "      <td>count_micro_loan_payments_2_months_ago</td>\n",
       "      <td>6.095917e-292</td>\n",
       "      <td>-37.511878</td>\n",
       "      <td>37.511878</td>\n",
       "    </tr>\n",
       "    <tr>\n",
       "      <th>158</th>\n",
       "      <td>count_micro_loan_payments_previous_month</td>\n",
       "      <td>7.265440e-282</td>\n",
       "      <td>-36.787331</td>\n",
       "      <td>36.787331</td>\n",
       "    </tr>\n",
       "    <tr>\n",
       "      <th>137</th>\n",
       "      <td>count_loan_payments_3_months_ago</td>\n",
       "      <td>5.283274e-266</td>\n",
       "      <td>-35.722353</td>\n",
       "      <td>35.722353</td>\n",
       "    </tr>\n",
       "    <tr>\n",
       "      <th>150</th>\n",
       "      <td>count_micro_loan_payments_3_months_ago</td>\n",
       "      <td>4.583513e-237</td>\n",
       "      <td>-33.622316</td>\n",
       "      <td>33.622316</td>\n",
       "    </tr>\n",
       "    <tr>\n",
       "      <th>46</th>\n",
       "      <td>count_employer_a_income_3_months_ago</td>\n",
       "      <td>2.246586e-235</td>\n",
       "      <td>-33.309525</td>\n",
       "      <td>33.309525</td>\n",
       "    </tr>\n",
       "  </tbody>\n",
       "</table>\n",
       "</div>"
      ],
      "text/plain": [
       "                                            c         pvalue       stat  \\\n",
       "45       count_employer_a_income_2_months_ago   0.000000e+00 -42.362517   \n",
       "136          count_loan_payments_2_months_ago   0.000000e+00 -40.624764   \n",
       "145        count_loan_payments_previous_month   0.000000e+00 -39.937455   \n",
       "54     count_employer_a_income_previous_month   0.000000e+00 -39.623883   \n",
       "41               count_distinct_micro_lenders  1.604758e-305 -38.334076   \n",
       "149    count_micro_loan_payments_2_months_ago  6.095917e-292 -37.511878   \n",
       "158  count_micro_loan_payments_previous_month  7.265440e-282 -36.787331   \n",
       "137          count_loan_payments_3_months_ago  5.283274e-266 -35.722353   \n",
       "150    count_micro_loan_payments_3_months_ago  4.583513e-237 -33.622316   \n",
       "46       count_employer_a_income_3_months_ago  2.246586e-235 -33.309525   \n",
       "\n",
       "      abs_stat  \n",
       "45   42.362517  \n",
       "136  40.624764  \n",
       "145  39.937455  \n",
       "54   39.623883  \n",
       "41   38.334076  \n",
       "149  37.511878  \n",
       "158  36.787331  \n",
       "137  35.722353  \n",
       "150  33.622316  \n",
       "46   33.309525  "
      ]
     },
     "execution_count": 181,
     "metadata": {},
     "output_type": "execute_result"
    }
   ],
   "source": [
    "count_top10_df"
   ]
  },
  {
   "cell_type": "code",
   "execution_count": 182,
   "metadata": {},
   "outputs": [],
   "source": [
    "count_top10_corr = df[[c for c in count_top10_df['c']]].corr(method='spearman')"
   ]
  },
  {
   "cell_type": "code",
   "execution_count": 183,
   "metadata": {},
   "outputs": [],
   "source": [
    "count_top10_corr_long = count_top10_corr\\\n",
    "                        .reset_index()\\\n",
    "                        .melt(id_vars = ['index']).rename(columns={'index':'var1', 'variable':'var2'})"
   ]
  },
  {
   "cell_type": "code",
   "execution_count": 184,
   "metadata": {},
   "outputs": [
    {
     "data": {
      "text/html": [
       "<div>\n",
       "<style scoped>\n",
       "    .dataframe tbody tr th:only-of-type {\n",
       "        vertical-align: middle;\n",
       "    }\n",
       "\n",
       "    .dataframe tbody tr th {\n",
       "        vertical-align: top;\n",
       "    }\n",
       "\n",
       "    .dataframe thead th {\n",
       "        text-align: right;\n",
       "    }\n",
       "</style>\n",
       "<table border=\"1\" class=\"dataframe\">\n",
       "  <thead>\n",
       "    <tr style=\"text-align: right;\">\n",
       "      <th></th>\n",
       "      <th>var1</th>\n",
       "      <th>var2</th>\n",
       "      <th>value</th>\n",
       "    </tr>\n",
       "  </thead>\n",
       "  <tbody>\n",
       "    <tr>\n",
       "      <th>12</th>\n",
       "      <td>count_loan_payments_previous_month</td>\n",
       "      <td>count_loan_payments_2_months_ago</td>\n",
       "      <td>0.900313</td>\n",
       "    </tr>\n",
       "    <tr>\n",
       "      <th>21</th>\n",
       "      <td>count_loan_payments_2_months_ago</td>\n",
       "      <td>count_loan_payments_previous_month</td>\n",
       "      <td>0.900313</td>\n",
       "    </tr>\n",
       "  </tbody>\n",
       "</table>\n",
       "</div>"
      ],
      "text/plain": [
       "                                  var1                                var2  \\\n",
       "12  count_loan_payments_previous_month    count_loan_payments_2_months_ago   \n",
       "21    count_loan_payments_2_months_ago  count_loan_payments_previous_month   \n",
       "\n",
       "       value  \n",
       "12  0.900313  \n",
       "21  0.900313  "
      ]
     },
     "execution_count": 184,
     "metadata": {},
     "output_type": "execute_result"
    }
   ],
   "source": [
    "count_top10_corr_long.query('(var1 != var2) & (value >= 0.9)')"
   ]
  },
  {
   "cell_type": "markdown",
   "metadata": {},
   "source": [
    "# Sum variables"
   ]
  },
  {
   "cell_type": "code",
   "execution_count": 145,
   "metadata": {},
   "outputs": [],
   "source": [
    "sum_vars = [c for c in df.columns if c.startswith('sum_')]"
   ]
  },
  {
   "cell_type": "code",
   "execution_count": 147,
   "metadata": {},
   "outputs": [
    {
     "data": {
      "text/plain": [
       "302"
      ]
     },
     "execution_count": 147,
     "metadata": {},
     "output_type": "execute_result"
    }
   ],
   "source": [
    "len(sum_vars)"
   ]
  },
  {
   "cell_type": "code",
   "execution_count": 149,
   "metadata": {},
   "outputs": [],
   "source": [
    "stats = {'c': [], 'pvalue': [], 'stat': []}\n",
    "\n",
    "for c in sum_vars:\n",
    "    refused = df.loc[df['refusal']==1, c]\n",
    "    accepted = df.loc[df['refusal']==0, c]\n",
    "    result = ttest_ind(refused, accepted, equal_var=False)\n",
    "    stats['c'].append(c)\n",
    "    stats['pvalue'].append(result.pvalue)\n",
    "    stats['stat'].append(result.statistic)"
   ]
  },
  {
   "cell_type": "code",
   "execution_count": 158,
   "metadata": {},
   "outputs": [],
   "source": [
    "sum_pvalues_df = pd.DataFrame(stats)"
   ]
  },
  {
   "cell_type": "code",
   "execution_count": 159,
   "metadata": {},
   "outputs": [],
   "source": [
    "sum_pvalues_df['abs_stat'] = sum_pvalues_df['stat'].abs()"
   ]
  },
  {
   "cell_type": "code",
   "execution_count": 160,
   "metadata": {},
   "outputs": [],
   "source": [
    "sum_pvalues_filtered_df = sum_pvalues_df[sum_pvalues_df['pvalue'] < 0.001].sort_values('abs_stat', ascending=False)"
   ]
  },
  {
   "cell_type": "code",
   "execution_count": 161,
   "metadata": {},
   "outputs": [],
   "source": [
    "sum_top10_df = sum_pvalues_filtered_df.iloc[0:10]"
   ]
  },
  {
   "cell_type": "code",
   "execution_count": 165,
   "metadata": {},
   "outputs": [
    {
     "data": {
      "text/html": [
       "<div>\n",
       "<style scoped>\n",
       "    .dataframe tbody tr th:only-of-type {\n",
       "        vertical-align: middle;\n",
       "    }\n",
       "\n",
       "    .dataframe tbody tr th {\n",
       "        vertical-align: top;\n",
       "    }\n",
       "\n",
       "    .dataframe thead th {\n",
       "        text-align: right;\n",
       "    }\n",
       "</style>\n",
       "<table border=\"1\" class=\"dataframe\">\n",
       "  <thead>\n",
       "    <tr style=\"text-align: right;\">\n",
       "      <th></th>\n",
       "      <th>c</th>\n",
       "      <th>pvalue</th>\n",
       "      <th>stat</th>\n",
       "      <th>abs_stat</th>\n",
       "    </tr>\n",
       "  </thead>\n",
       "  <tbody>\n",
       "    <tr>\n",
       "      <th>77</th>\n",
       "      <td>sum_employer_income_previous_month</td>\n",
       "      <td>0.000000e+00</td>\n",
       "      <td>-47.010470</td>\n",
       "      <td>47.010470</td>\n",
       "    </tr>\n",
       "    <tr>\n",
       "      <th>68</th>\n",
       "      <td>sum_employer_income_2_months_ago</td>\n",
       "      <td>0.000000e+00</td>\n",
       "      <td>-45.207414</td>\n",
       "      <td>45.207414</td>\n",
       "    </tr>\n",
       "    <tr>\n",
       "      <th>42</th>\n",
       "      <td>sum_employer_a_income_2_months_ago</td>\n",
       "      <td>0.000000e+00</td>\n",
       "      <td>-43.913843</td>\n",
       "      <td>43.913843</td>\n",
       "    </tr>\n",
       "    <tr>\n",
       "      <th>51</th>\n",
       "      <td>sum_employer_a_income_previous_month</td>\n",
       "      <td>0.000000e+00</td>\n",
       "      <td>-43.284676</td>\n",
       "      <td>43.284676</td>\n",
       "    </tr>\n",
       "    <tr>\n",
       "      <th>69</th>\n",
       "      <td>sum_employer_income_3_months_ago</td>\n",
       "      <td>1.333561e-219</td>\n",
       "      <td>-32.294065</td>\n",
       "      <td>32.294065</td>\n",
       "    </tr>\n",
       "    <tr>\n",
       "      <th>149</th>\n",
       "      <td>sum_loan_payments_previous_month</td>\n",
       "      <td>1.842230e-219</td>\n",
       "      <td>-32.174720</td>\n",
       "      <td>32.174720</td>\n",
       "    </tr>\n",
       "    <tr>\n",
       "      <th>140</th>\n",
       "      <td>sum_loan_payments_2_months_ago</td>\n",
       "      <td>2.381645e-201</td>\n",
       "      <td>-30.790564</td>\n",
       "      <td>30.790564</td>\n",
       "    </tr>\n",
       "    <tr>\n",
       "      <th>136</th>\n",
       "      <td>sum_loan_payments</td>\n",
       "      <td>4.595155e-189</td>\n",
       "      <td>-29.824807</td>\n",
       "      <td>29.824807</td>\n",
       "    </tr>\n",
       "    <tr>\n",
       "      <th>43</th>\n",
       "      <td>sum_employer_a_income_3_months_ago</td>\n",
       "      <td>2.010103e-188</td>\n",
       "      <td>-29.808918</td>\n",
       "      <td>29.808918</td>\n",
       "    </tr>\n",
       "    <tr>\n",
       "      <th>153</th>\n",
       "      <td>sum_micro_loan_payments_2_months_ago</td>\n",
       "      <td>6.719752e-174</td>\n",
       "      <td>-28.532632</td>\n",
       "      <td>28.532632</td>\n",
       "    </tr>\n",
       "  </tbody>\n",
       "</table>\n",
       "</div>"
      ],
      "text/plain": [
       "                                        c         pvalue       stat   abs_stat\n",
       "77     sum_employer_income_previous_month   0.000000e+00 -47.010470  47.010470\n",
       "68       sum_employer_income_2_months_ago   0.000000e+00 -45.207414  45.207414\n",
       "42     sum_employer_a_income_2_months_ago   0.000000e+00 -43.913843  43.913843\n",
       "51   sum_employer_a_income_previous_month   0.000000e+00 -43.284676  43.284676\n",
       "69       sum_employer_income_3_months_ago  1.333561e-219 -32.294065  32.294065\n",
       "149      sum_loan_payments_previous_month  1.842230e-219 -32.174720  32.174720\n",
       "140        sum_loan_payments_2_months_ago  2.381645e-201 -30.790564  30.790564\n",
       "136                     sum_loan_payments  4.595155e-189 -29.824807  29.824807\n",
       "43     sum_employer_a_income_3_months_ago  2.010103e-188 -29.808918  29.808918\n",
       "153  sum_micro_loan_payments_2_months_ago  6.719752e-174 -28.532632  28.532632"
      ]
     },
     "execution_count": 165,
     "metadata": {},
     "output_type": "execute_result"
    }
   ],
   "source": [
    "sum_top10_df"
   ]
  },
  {
   "cell_type": "code",
   "execution_count": 162,
   "metadata": {},
   "outputs": [],
   "source": [
    "sum_top10_corr = df[[c for c in sum_top10_df['c']]].corr(method='spearman')"
   ]
  },
  {
   "cell_type": "code",
   "execution_count": 163,
   "metadata": {},
   "outputs": [],
   "source": [
    "sum_top10_corr_long = sum_top10_corr\\\n",
    "                        .reset_index()\\\n",
    "                        .melt(id_vars = ['index']).rename(columns={'index':'var1', 'variable':'var2'})"
   ]
  },
  {
   "cell_type": "code",
   "execution_count": 164,
   "metadata": {},
   "outputs": [
    {
     "data": {
      "text/html": [
       "<div>\n",
       "<style scoped>\n",
       "    .dataframe tbody tr th:only-of-type {\n",
       "        vertical-align: middle;\n",
       "    }\n",
       "\n",
       "    .dataframe tbody tr th {\n",
       "        vertical-align: top;\n",
       "    }\n",
       "\n",
       "    .dataframe thead th {\n",
       "        text-align: right;\n",
       "    }\n",
       "</style>\n",
       "<table border=\"1\" class=\"dataframe\">\n",
       "  <thead>\n",
       "    <tr style=\"text-align: right;\">\n",
       "      <th></th>\n",
       "      <th>var1</th>\n",
       "      <th>var2</th>\n",
       "      <th>value</th>\n",
       "    </tr>\n",
       "  </thead>\n",
       "  <tbody>\n",
       "  </tbody>\n",
       "</table>\n",
       "</div>"
      ],
      "text/plain": [
       "Empty DataFrame\n",
       "Columns: [var1, var2, value]\n",
       "Index: []"
      ]
     },
     "execution_count": 164,
     "metadata": {},
     "output_type": "execute_result"
    }
   ],
   "source": [
    "sum_top10_corr_long.query('(var1 != var2) & (value >= 0.9)')"
   ]
  },
  {
   "cell_type": "markdown",
   "metadata": {},
   "source": [
    "# Combined"
   ]
  },
  {
   "cell_type": "code",
   "execution_count": 185,
   "metadata": {},
   "outputs": [],
   "source": [
    "combined_df = pd.concat([count_top10_df, sum_top10_df])"
   ]
  },
  {
   "cell_type": "code",
   "execution_count": 195,
   "metadata": {},
   "outputs": [],
   "source": [
    "combined_df.sort_values('abs_stat', ascending=False, inplace=True)"
   ]
  },
  {
   "cell_type": "code",
   "execution_count": 198,
   "metadata": {},
   "outputs": [
    {
     "data": {
      "text/html": [
       "<div>\n",
       "<style scoped>\n",
       "    .dataframe tbody tr th:only-of-type {\n",
       "        vertical-align: middle;\n",
       "    }\n",
       "\n",
       "    .dataframe tbody tr th {\n",
       "        vertical-align: top;\n",
       "    }\n",
       "\n",
       "    .dataframe thead th {\n",
       "        text-align: right;\n",
       "    }\n",
       "</style>\n",
       "<table border=\"1\" class=\"dataframe\">\n",
       "  <thead>\n",
       "    <tr style=\"text-align: right;\">\n",
       "      <th></th>\n",
       "      <th>c</th>\n",
       "      <th>pvalue</th>\n",
       "      <th>stat</th>\n",
       "      <th>abs_stat</th>\n",
       "    </tr>\n",
       "  </thead>\n",
       "  <tbody>\n",
       "    <tr>\n",
       "      <th>77</th>\n",
       "      <td>sum_employer_income_previous_month</td>\n",
       "      <td>0.000000e+00</td>\n",
       "      <td>-47.010470</td>\n",
       "      <td>47.010470</td>\n",
       "    </tr>\n",
       "    <tr>\n",
       "      <th>68</th>\n",
       "      <td>sum_employer_income_2_months_ago</td>\n",
       "      <td>0.000000e+00</td>\n",
       "      <td>-45.207414</td>\n",
       "      <td>45.207414</td>\n",
       "    </tr>\n",
       "    <tr>\n",
       "      <th>42</th>\n",
       "      <td>sum_employer_a_income_2_months_ago</td>\n",
       "      <td>0.000000e+00</td>\n",
       "      <td>-43.913843</td>\n",
       "      <td>43.913843</td>\n",
       "    </tr>\n",
       "    <tr>\n",
       "      <th>51</th>\n",
       "      <td>sum_employer_a_income_previous_month</td>\n",
       "      <td>0.000000e+00</td>\n",
       "      <td>-43.284676</td>\n",
       "      <td>43.284676</td>\n",
       "    </tr>\n",
       "    <tr>\n",
       "      <th>45</th>\n",
       "      <td>count_employer_a_income_2_months_ago</td>\n",
       "      <td>0.000000e+00</td>\n",
       "      <td>-42.362517</td>\n",
       "      <td>42.362517</td>\n",
       "    </tr>\n",
       "    <tr>\n",
       "      <th>136</th>\n",
       "      <td>count_loan_payments_2_months_ago</td>\n",
       "      <td>0.000000e+00</td>\n",
       "      <td>-40.624764</td>\n",
       "      <td>40.624764</td>\n",
       "    </tr>\n",
       "    <tr>\n",
       "      <th>145</th>\n",
       "      <td>count_loan_payments_previous_month</td>\n",
       "      <td>0.000000e+00</td>\n",
       "      <td>-39.937455</td>\n",
       "      <td>39.937455</td>\n",
       "    </tr>\n",
       "    <tr>\n",
       "      <th>54</th>\n",
       "      <td>count_employer_a_income_previous_month</td>\n",
       "      <td>0.000000e+00</td>\n",
       "      <td>-39.623883</td>\n",
       "      <td>39.623883</td>\n",
       "    </tr>\n",
       "    <tr>\n",
       "      <th>41</th>\n",
       "      <td>count_distinct_micro_lenders</td>\n",
       "      <td>1.604758e-305</td>\n",
       "      <td>-38.334076</td>\n",
       "      <td>38.334076</td>\n",
       "    </tr>\n",
       "    <tr>\n",
       "      <th>149</th>\n",
       "      <td>count_micro_loan_payments_2_months_ago</td>\n",
       "      <td>6.095917e-292</td>\n",
       "      <td>-37.511878</td>\n",
       "      <td>37.511878</td>\n",
       "    </tr>\n",
       "    <tr>\n",
       "      <th>158</th>\n",
       "      <td>count_micro_loan_payments_previous_month</td>\n",
       "      <td>7.265440e-282</td>\n",
       "      <td>-36.787331</td>\n",
       "      <td>36.787331</td>\n",
       "    </tr>\n",
       "    <tr>\n",
       "      <th>137</th>\n",
       "      <td>count_loan_payments_3_months_ago</td>\n",
       "      <td>5.283274e-266</td>\n",
       "      <td>-35.722353</td>\n",
       "      <td>35.722353</td>\n",
       "    </tr>\n",
       "    <tr>\n",
       "      <th>150</th>\n",
       "      <td>count_micro_loan_payments_3_months_ago</td>\n",
       "      <td>4.583513e-237</td>\n",
       "      <td>-33.622316</td>\n",
       "      <td>33.622316</td>\n",
       "    </tr>\n",
       "    <tr>\n",
       "      <th>46</th>\n",
       "      <td>count_employer_a_income_3_months_ago</td>\n",
       "      <td>2.246586e-235</td>\n",
       "      <td>-33.309525</td>\n",
       "      <td>33.309525</td>\n",
       "    </tr>\n",
       "    <tr>\n",
       "      <th>69</th>\n",
       "      <td>sum_employer_income_3_months_ago</td>\n",
       "      <td>1.333561e-219</td>\n",
       "      <td>-32.294065</td>\n",
       "      <td>32.294065</td>\n",
       "    </tr>\n",
       "    <tr>\n",
       "      <th>149</th>\n",
       "      <td>sum_loan_payments_previous_month</td>\n",
       "      <td>1.842230e-219</td>\n",
       "      <td>-32.174720</td>\n",
       "      <td>32.174720</td>\n",
       "    </tr>\n",
       "    <tr>\n",
       "      <th>140</th>\n",
       "      <td>sum_loan_payments_2_months_ago</td>\n",
       "      <td>2.381645e-201</td>\n",
       "      <td>-30.790564</td>\n",
       "      <td>30.790564</td>\n",
       "    </tr>\n",
       "    <tr>\n",
       "      <th>136</th>\n",
       "      <td>sum_loan_payments</td>\n",
       "      <td>4.595155e-189</td>\n",
       "      <td>-29.824807</td>\n",
       "      <td>29.824807</td>\n",
       "    </tr>\n",
       "    <tr>\n",
       "      <th>43</th>\n",
       "      <td>sum_employer_a_income_3_months_ago</td>\n",
       "      <td>2.010103e-188</td>\n",
       "      <td>-29.808918</td>\n",
       "      <td>29.808918</td>\n",
       "    </tr>\n",
       "    <tr>\n",
       "      <th>153</th>\n",
       "      <td>sum_micro_loan_payments_2_months_ago</td>\n",
       "      <td>6.719752e-174</td>\n",
       "      <td>-28.532632</td>\n",
       "      <td>28.532632</td>\n",
       "    </tr>\n",
       "  </tbody>\n",
       "</table>\n",
       "</div>"
      ],
      "text/plain": [
       "                                            c         pvalue       stat  \\\n",
       "77         sum_employer_income_previous_month   0.000000e+00 -47.010470   \n",
       "68           sum_employer_income_2_months_ago   0.000000e+00 -45.207414   \n",
       "42         sum_employer_a_income_2_months_ago   0.000000e+00 -43.913843   \n",
       "51       sum_employer_a_income_previous_month   0.000000e+00 -43.284676   \n",
       "45       count_employer_a_income_2_months_ago   0.000000e+00 -42.362517   \n",
       "136          count_loan_payments_2_months_ago   0.000000e+00 -40.624764   \n",
       "145        count_loan_payments_previous_month   0.000000e+00 -39.937455   \n",
       "54     count_employer_a_income_previous_month   0.000000e+00 -39.623883   \n",
       "41               count_distinct_micro_lenders  1.604758e-305 -38.334076   \n",
       "149    count_micro_loan_payments_2_months_ago  6.095917e-292 -37.511878   \n",
       "158  count_micro_loan_payments_previous_month  7.265440e-282 -36.787331   \n",
       "137          count_loan_payments_3_months_ago  5.283274e-266 -35.722353   \n",
       "150    count_micro_loan_payments_3_months_ago  4.583513e-237 -33.622316   \n",
       "46       count_employer_a_income_3_months_ago  2.246586e-235 -33.309525   \n",
       "69           sum_employer_income_3_months_ago  1.333561e-219 -32.294065   \n",
       "149          sum_loan_payments_previous_month  1.842230e-219 -32.174720   \n",
       "140            sum_loan_payments_2_months_ago  2.381645e-201 -30.790564   \n",
       "136                         sum_loan_payments  4.595155e-189 -29.824807   \n",
       "43         sum_employer_a_income_3_months_ago  2.010103e-188 -29.808918   \n",
       "153      sum_micro_loan_payments_2_months_ago  6.719752e-174 -28.532632   \n",
       "\n",
       "      abs_stat  \n",
       "77   47.010470  \n",
       "68   45.207414  \n",
       "42   43.913843  \n",
       "51   43.284676  \n",
       "45   42.362517  \n",
       "136  40.624764  \n",
       "145  39.937455  \n",
       "54   39.623883  \n",
       "41   38.334076  \n",
       "149  37.511878  \n",
       "158  36.787331  \n",
       "137  35.722353  \n",
       "150  33.622316  \n",
       "46   33.309525  \n",
       "69   32.294065  \n",
       "149  32.174720  \n",
       "140  30.790564  \n",
       "136  29.824807  \n",
       "43   29.808918  \n",
       "153  28.532632  "
      ]
     },
     "execution_count": 198,
     "metadata": {},
     "output_type": "execute_result"
    }
   ],
   "source": [
    "combined_df"
   ]
  },
  {
   "cell_type": "code",
   "execution_count": 188,
   "metadata": {},
   "outputs": [],
   "source": [
    "top20_corr = df[[c for c in combined_df['c']]].corr(method='spearman')"
   ]
  },
  {
   "cell_type": "code",
   "execution_count": 189,
   "metadata": {},
   "outputs": [],
   "source": [
    "top20_corr_long = top20_corr\\\n",
    "                        .reset_index()\\\n",
    "                        .melt(id_vars = ['index']).rename(columns={'index':'var1', 'variable':'var2'})"
   ]
  },
  {
   "cell_type": "code",
   "execution_count": 194,
   "metadata": {},
   "outputs": [],
   "source": [
    "top20_corr_long.to_csv('refusal_top20_corr.csv', index=False)"
   ]
  },
  {
   "cell_type": "code",
   "execution_count": 197,
   "metadata": {},
   "outputs": [
    {
     "data": {
      "text/html": [
       "<div>\n",
       "<style scoped>\n",
       "    .dataframe tbody tr th:only-of-type {\n",
       "        vertical-align: middle;\n",
       "    }\n",
       "\n",
       "    .dataframe tbody tr th {\n",
       "        vertical-align: top;\n",
       "    }\n",
       "\n",
       "    .dataframe thead th {\n",
       "        text-align: right;\n",
       "    }\n",
       "</style>\n",
       "<table border=\"1\" class=\"dataframe\">\n",
       "  <thead>\n",
       "    <tr style=\"text-align: right;\">\n",
       "      <th></th>\n",
       "      <th>var1</th>\n",
       "      <th>var2</th>\n",
       "      <th>value</th>\n",
       "    </tr>\n",
       "  </thead>\n",
       "  <tbody>\n",
       "    <tr>\n",
       "      <th>22</th>\n",
       "      <td>count_loan_payments_previous_month</td>\n",
       "      <td>count_loan_payments_2_months_ago</td>\n",
       "      <td>0.900313</td>\n",
       "    </tr>\n",
       "    <tr>\n",
       "      <th>36</th>\n",
       "      <td>sum_loan_payments_2_months_ago</td>\n",
       "      <td>count_loan_payments_2_months_ago</td>\n",
       "      <td>0.926035</td>\n",
       "    </tr>\n",
       "    <tr>\n",
       "      <th>41</th>\n",
       "      <td>count_loan_payments_2_months_ago</td>\n",
       "      <td>count_loan_payments_previous_month</td>\n",
       "      <td>0.900313</td>\n",
       "    </tr>\n",
       "    <tr>\n",
       "      <th>55</th>\n",
       "      <td>sum_loan_payments_previous_month</td>\n",
       "      <td>count_loan_payments_previous_month</td>\n",
       "      <td>0.918180</td>\n",
       "    </tr>\n",
       "    <tr>\n",
       "      <th>119</th>\n",
       "      <td>sum_micro_loan_payments_2_months_ago</td>\n",
       "      <td>count_micro_loan_payments_2_months_ago</td>\n",
       "      <td>0.954152</td>\n",
       "    </tr>\n",
       "    <tr>\n",
       "      <th>198</th>\n",
       "      <td>sum_employer_a_income_3_months_ago</td>\n",
       "      <td>count_employer_a_income_3_months_ago</td>\n",
       "      <td>0.933543</td>\n",
       "    </tr>\n",
       "    <tr>\n",
       "      <th>302</th>\n",
       "      <td>count_loan_payments_previous_month</td>\n",
       "      <td>sum_loan_payments_previous_month</td>\n",
       "      <td>0.918180</td>\n",
       "    </tr>\n",
       "    <tr>\n",
       "      <th>321</th>\n",
       "      <td>count_loan_payments_2_months_ago</td>\n",
       "      <td>sum_loan_payments_2_months_ago</td>\n",
       "      <td>0.926035</td>\n",
       "    </tr>\n",
       "    <tr>\n",
       "      <th>369</th>\n",
       "      <td>count_employer_a_income_3_months_ago</td>\n",
       "      <td>sum_employer_a_income_3_months_ago</td>\n",
       "      <td>0.933543</td>\n",
       "    </tr>\n",
       "    <tr>\n",
       "      <th>385</th>\n",
       "      <td>count_micro_loan_payments_2_months_ago</td>\n",
       "      <td>sum_micro_loan_payments_2_months_ago</td>\n",
       "      <td>0.954152</td>\n",
       "    </tr>\n",
       "  </tbody>\n",
       "</table>\n",
       "</div>"
      ],
      "text/plain": [
       "                                       var1  \\\n",
       "22       count_loan_payments_previous_month   \n",
       "36           sum_loan_payments_2_months_ago   \n",
       "41         count_loan_payments_2_months_ago   \n",
       "55         sum_loan_payments_previous_month   \n",
       "119    sum_micro_loan_payments_2_months_ago   \n",
       "198      sum_employer_a_income_3_months_ago   \n",
       "302      count_loan_payments_previous_month   \n",
       "321        count_loan_payments_2_months_ago   \n",
       "369    count_employer_a_income_3_months_ago   \n",
       "385  count_micro_loan_payments_2_months_ago   \n",
       "\n",
       "                                       var2     value  \n",
       "22         count_loan_payments_2_months_ago  0.900313  \n",
       "36         count_loan_payments_2_months_ago  0.926035  \n",
       "41       count_loan_payments_previous_month  0.900313  \n",
       "55       count_loan_payments_previous_month  0.918180  \n",
       "119  count_micro_loan_payments_2_months_ago  0.954152  \n",
       "198    count_employer_a_income_3_months_ago  0.933543  \n",
       "302        sum_loan_payments_previous_month  0.918180  \n",
       "321          sum_loan_payments_2_months_ago  0.926035  \n",
       "369      sum_employer_a_income_3_months_ago  0.933543  \n",
       "385    sum_micro_loan_payments_2_months_ago  0.954152  "
      ]
     },
     "execution_count": 197,
     "metadata": {},
     "output_type": "execute_result"
    }
   ],
   "source": [
    "highly_correlated_df = top20_corr_long.query('(var1 != var2) & (value >= 0.9)')\n",
    "highly_correlated_df"
   ]
  },
  {
   "cell_type": "code",
   "execution_count": 201,
   "metadata": {},
   "outputs": [],
   "source": [
    "final_df = combined_df.merge(highly_correlated_df, left_on='c', right_on='var1', how='left')"
   ]
  },
  {
   "cell_type": "code",
   "execution_count": 202,
   "metadata": {},
   "outputs": [],
   "source": [
    "final_df.to_csv('refusal_top_features.csv', index=False)"
   ]
  }
 ],
 "metadata": {
  "interpreter": {
   "hash": "19d7494050f6c9a6c10bf446792601129da912a7d46bcc12461fc5350e6e3583"
  },
  "kernelspec": {
   "display_name": "Python 3.10.5 ('.env-flaml': venv)",
   "language": "python",
   "name": "python3"
  },
  "language_info": {
   "codemirror_mode": {
    "name": "ipython",
    "version": 3
   },
   "file_extension": ".py",
   "mimetype": "text/x-python",
   "name": "python",
   "nbconvert_exporter": "python",
   "pygments_lexer": "ipython3",
   "version": "3.10.5"
  },
  "orig_nbformat": 4
 },
 "nbformat": 4,
 "nbformat_minor": 2
}
