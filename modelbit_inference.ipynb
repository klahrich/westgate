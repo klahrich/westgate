{
 "cells": [
  {
   "cell_type": "code",
   "execution_count": 2,
   "metadata": {},
   "outputs": [],
   "source": [
    "import modelbit\n",
    "import pandas as pd"
   ]
  },
  {
   "cell_type": "code",
   "execution_count": 3,
   "metadata": {},
   "outputs": [],
   "source": [
    "X_test = pd.read_csv('./refusal_model/X_test-refusal_0.2.csv')"
   ]
  },
  {
   "cell_type": "code",
   "execution_count": 4,
   "metadata": {},
   "outputs": [],
   "source": [
    "X_test_one = X_test.iloc[0]"
   ]
  },
  {
   "cell_type": "code",
   "execution_count": 5,
   "metadata": {},
   "outputs": [
    {
     "data": {
      "text/plain": [
       "account_age_days                                      446.0\n",
       "average_monthly_recurring_transfers_in_complex          0.0\n",
       "average_monthly_recurring_transfers_out_complex       200.0\n",
       "count_active_days                                     220.0\n",
       "count_nsf_30_days                                       2.0\n",
       "count_nsf_90_days                                       4.0\n",
       "count_stop_payment_90_days                              0.0\n",
       "recurring_deposits_2_months_ago                         0.0\n",
       "recurring_deposits_current_month                        0.0\n",
       "recurring_deposits_previous_month                       0.0\n",
       "sum_disability_income_2_months_ago                      0.0\n",
       "sum_disability_income_current_month                     0.0\n",
       "sum_disability_income_previous_month                    0.0\n",
       "sum_employer_income_2_months_ago                    3521.36\n",
       "sum_employer_income_current_month                   5997.07\n",
       "sum_employer_income_previous_month                  4089.78\n",
       "sum_employment_insurance_income_2_months_ago            0.0\n",
       "sum_employment_insurance_income_current_month           0.0\n",
       "sum_employment_insurance_income_previous_month          0.0\n",
       "sum_government_income_2_months_ago                    357.5\n",
       "sum_government_income_current_month                     0.0\n",
       "sum_government_income_previous_month                    0.0\n",
       "sum_loan_deposits_30_days                             71.46\n",
       "sum_loan_deposits_60_days                            601.46\n",
       "sum_loan_deposits_90_days                            601.46\n",
       "sum_loan_payments_2_months_ago                      2730.92\n",
       "sum_loan_payments_current_month                     2233.22\n",
       "sum_loan_payments_previous_month                    3003.63\n",
       "sum_micro_loan_payments_2_months_ago                 822.34\n",
       "sum_micro_loan_payments_current_month                855.97\n",
       "sum_micro_loan_payments_previous_month               776.97\n",
       "sum_total_income_2_months_ago                       4763.86\n",
       "sum_total_income_current_month                      6723.07\n",
       "sum_total_income_previous_month                     6418.78\n",
       "gender                                               female\n",
       "age                                                      22\n",
       "y_pred                                                    1\n",
       "y_pred_proba                                       0.650729\n",
       "y_test                                                    1\n",
       "Name: 0, dtype: object"
      ]
     },
     "execution_count": 5,
     "metadata": {},
     "output_type": "execute_result"
    }
   ],
   "source": [
    "X_test_one"
   ]
  },
  {
   "cell_type": "code",
   "execution_count": 9,
   "metadata": {},
   "outputs": [
    {
     "name": "stderr",
     "output_type": "stream",
     "text": [
      "Traceback (most recent call last):\n",
      "  File \"/tmp/runtime/modelbit_deployment_runtime.py\", line 255, in grpcHandler\n",
      "    outputRows = loadStateAndInvokeRuntime(apiHandler)\n",
      "  File \"/tmp/runtime/modelbit_deployment_runtime.py\", line 307, in loadStateAndInvokeRuntime\n",
      "    outputRows = runMainFunc(apiHandler, inputRows)\n",
      "  File \"/tmp/runtime/modelbit_deployment_runtime.py\", line 356, in runMainFunc\n",
      "    return runEachRow(apiHandler, source, inputRows)\n",
      "  File \"/tmp/runtime/modelbit_deployment_runtime.py\", line 370, in runEachRow\n",
      "    result = resolveResult(source.__dict__[mainFuncName](*iRow[1:]))\n",
      "  File \"/tmp/modelbit/runtimes/predict_proba/main/5/source.py\", line 9, in predict_proba\n",
      "    model = mb.get_model('westgate_refusal_model_0.2')\n",
      "  File \"/tmp/modelbit/runtimes/predict_proba/main/5/modelbit/telemetry.py\", line 95, in innerFn\n",
      "    raise ModelbitError(error)\n",
      "modelbit.error.ModelbitError: Module missing from environment: westgate\n"
     ]
    },
    {
     "data": {
      "text/html": [
       "<div style=\"margin: 0; padding: 5px; line-height: 1.75; font-size: 14px; vertical-align: baseline; list-style: none; font-family: Roboto, Arial, sans-serif; background: none;\">\n",
       "  <span style=\"margin: 0; padding: 0; line-height: 1.75; font-size: 14px; vertical-align: baseline; list-style: none; font-family: Roboto, Arial, sans-serif; background: none; color: #E2548A; font-weight: bold;\">Error:</span>\n",
       "  Failed to get the inference. modelbit.error.ModelbitError: Module missing from environment: westgate\n",
       "</div>"
      ],
      "text/plain": [
       "<IPython.core.display.HTML object>"
      ]
     },
     "metadata": {},
     "output_type": "display_data"
    },
    {
     "ename": "ModelbitError",
     "evalue": "modelbit.error.ModelbitError: Module missing from environment: westgate",
     "output_type": "error",
     "traceback": [
      "\u001b[1;31m---------------------------------------------------------------------------\u001b[0m",
      "\u001b[1;31mModelbitError\u001b[0m                             Traceback (most recent call last)",
      "Cell \u001b[1;32mIn[9], line 1\u001b[0m\n\u001b[1;32m----> 1\u001b[0m \u001b[43mmodelbit\u001b[49m\u001b[38;5;241;43m.\u001b[39;49m\u001b[43mget_inference\u001b[49m\u001b[43m(\u001b[49m\n\u001b[0;32m      2\u001b[0m \u001b[43m  \u001b[49m\u001b[43mworkspace\u001b[49m\u001b[38;5;241;43m=\u001b[39;49m\u001b[38;5;124;43m\"\u001b[39;49m\u001b[38;5;124;43mkarimlahrichi\u001b[39;49m\u001b[38;5;124;43m\"\u001b[39;49m\u001b[43m,\u001b[49m\n\u001b[0;32m      3\u001b[0m \u001b[43m  \u001b[49m\u001b[43mdeployment\u001b[49m\u001b[38;5;241;43m=\u001b[39;49m\u001b[38;5;124;43m\"\u001b[39;49m\u001b[38;5;124;43mpredict_proba\u001b[39;49m\u001b[38;5;124;43m\"\u001b[39;49m\u001b[43m,\u001b[49m\n\u001b[0;32m      4\u001b[0m \u001b[43m  \u001b[49m\u001b[43mdata\u001b[49m\u001b[38;5;241;43m=\u001b[39;49m\u001b[43mX_test_one\u001b[49m\u001b[38;5;241;43m.\u001b[39;49m\u001b[43mto_dict\u001b[49m\u001b[43m(\u001b[49m\u001b[43m)\u001b[49m\n\u001b[0;32m      5\u001b[0m \u001b[43m)\u001b[49m\n",
      "File \u001b[1;32mc:\\Users\\karim\\Documents\\westgate\\.env-flaml\\lib\\site-packages\\modelbit\\telemetry.py:95\u001b[0m, in \u001b[0;36meatErrorAndLog.<locals>.decorator.<locals>.innerFn\u001b[1;34m(*args, **kwargs)\u001b[0m\n\u001b[0;32m     <a href='file:///c%3A/Users/karim/Documents/westgate/.env-flaml/lib/site-packages/modelbit/telemetry.py?line=92'>93</a>\u001b[0m \u001b[39m# Convert to generic ModelbitError.\u001b[39;00m\n\u001b[0;32m     <a href='file:///c%3A/Users/karim/Documents/westgate/.env-flaml/lib/site-packages/modelbit/telemetry.py?line=93'>94</a>\u001b[0m \u001b[39mif\u001b[39;00m \u001b[39mtype\u001b[39m(error) \u001b[39m==\u001b[39m \u001b[39mstr\u001b[39m:\n\u001b[1;32m---> <a href='file:///c%3A/Users/karim/Documents/westgate/.env-flaml/lib/site-packages/modelbit/telemetry.py?line=94'>95</a>\u001b[0m   \u001b[39mraise\u001b[39;00m ModelbitError(error)\n\u001b[0;32m     <a href='file:///c%3A/Users/karim/Documents/westgate/.env-flaml/lib/site-packages/modelbit/telemetry.py?line=95'>96</a>\u001b[0m \u001b[39melse\u001b[39;00m:\n\u001b[0;32m     <a href='file:///c%3A/Users/karim/Documents/westgate/.env-flaml/lib/site-packages/modelbit/telemetry.py?line=96'>97</a>\u001b[0m   \u001b[39mraise\u001b[39;00m cast(\u001b[39mException\u001b[39;00m, error)\n",
      "\u001b[1;31mModelbitError\u001b[0m: modelbit.error.ModelbitError: Module missing from environment: westgate"
     ]
    }
   ],
   "source": [
    "modelbit.get_inference(\n",
    "  workspace=\"karimlahrichi\",\n",
    "  deployment=\"predict_proba\",\n",
    "  data=X_test_one.to_dict()\n",
    ")"
   ]
  },
  {
   "cell_type": "code",
   "execution_count": null,
   "metadata": {},
   "outputs": [],
   "source": []
  }
 ],
 "metadata": {
  "interpreter": {
   "hash": "39db7c32028fdb33242b2a8aa8eafbad8e2a1fe5af05fd3862efe729d10b31bb"
  },
  "kernelspec": {
   "display_name": "Python 3.10.5 ('.env-flaml': venv)",
   "language": "python",
   "name": "python3"
  },
  "language_info": {
   "codemirror_mode": {
    "name": "ipython",
    "version": 3
   },
   "file_extension": ".py",
   "mimetype": "text/x-python",
   "name": "python",
   "nbconvert_exporter": "python",
   "pygments_lexer": "ipython3",
   "version": "3.10.5"
  },
  "orig_nbformat": 4
 },
 "nbformat": 4,
 "nbformat_minor": 2
}
