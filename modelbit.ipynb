{
 "cells": [
  {
   "cell_type": "code",
   "execution_count": 1,
   "metadata": {},
   "outputs": [
    {
     "ename": "ModuleNotFoundError",
     "evalue": "No module named 'westgate'",
     "output_type": "error",
     "traceback": [
      "\u001b[1;31m---------------------------------------------------------------------------\u001b[0m",
      "\u001b[1;31mModuleNotFoundError\u001b[0m                       Traceback (most recent call last)",
      "Cell \u001b[1;32mIn[1], line 1\u001b[0m\n\u001b[1;32m----> 1\u001b[0m \u001b[38;5;28;01mfrom\u001b[39;00m \u001b[38;5;21;01mwestgate\u001b[39;00m\u001b[38;5;21;01m.\u001b[39;00m\u001b[38;5;21;01mflaml_model\u001b[39;00m \u001b[38;5;28;01mimport\u001b[39;00m \u001b[38;5;241m*\u001b[39m\n\u001b[0;32m      2\u001b[0m \u001b[38;5;28;01mimport\u001b[39;00m \u001b[38;5;21;01mpandas\u001b[39;00m \u001b[38;5;28;01mas\u001b[39;00m \u001b[38;5;21;01mpd\u001b[39;00m\n\u001b[0;32m      3\u001b[0m \u001b[38;5;28;01mimport\u001b[39;00m \u001b[38;5;21;01mmodelbit\u001b[39;00m\n",
      "\u001b[1;31mModuleNotFoundError\u001b[0m: No module named 'westgate'"
     ]
    }
   ],
   "source": [
    "from westgate.flaml_model import *\n",
    "import pandas as pd\n",
    "import modelbit\n"
   ]
  },
  {
   "cell_type": "code",
   "execution_count": 2,
   "metadata": {},
   "outputs": [
    {
     "data": {
      "text/html": [
       "\n",
       "<div style=\"margin: 0; padding: 5px; line-height: 1.75; font-size: 14px; vertical-align: baseline; list-style: none; font-family: Roboto, Arial, sans-serif; background: none;\">\n",
       "  <div style=\"margin: 0; padding: 0; line-height: 1.75; font-size: 14px; vertical-align: baseline; list-style: none; font-family: Roboto, Arial, sans-serif; background: none;\">\n",
       "    You're <span style=\"margin: 0; padding: 0; line-height: 1.75; font-size: 14px; vertical-align: baseline; list-style: none; font-family: Roboto, Arial, sans-serif; background: none; color: #15803d; font-weight: bold;\">connected</span> to Modelbit as klahrich@gmail.com.\n",
       "    Workspace: <span style=\"margin: 0; padding: 0; line-height: 1.75; font-size: 14px; vertical-align: baseline; list-style: none; font-family: monospace; background: none; font-weight: bold; color: #845B99;\">karimlahrichi</span>.\n",
       "    \n",
       "    Branch: <span style=\"margin: 0; padding: 0; line-height: 1.75; font-size: 14px; vertical-align: baseline; list-style: none; font-family: monospace; background: none; font-weight: bold; color: #845B99;\">main</span>\n",
       "\t</div>\n",
       "  \n",
       "\n",
       "\n",
       "</div>"
      ],
      "text/plain": [
       "<IPython.core.display.HTML object>"
      ]
     },
     "metadata": {},
     "output_type": "display_data"
    }
   ],
   "source": [
    "mb = modelbit.login()"
   ]
  },
  {
   "cell_type": "code",
   "execution_count": 3,
   "metadata": {},
   "outputs": [],
   "source": [
    "refusal_model = load_model('refusal_0.2', basefolder='./refusal_model/')"
   ]
  },
  {
   "cell_type": "code",
   "execution_count": 15,
   "metadata": {},
   "outputs": [
    {
     "name": "stdout",
     "output_type": "stream",
     "text": [
      "Updating registry: 100%|██████████| 1/1 [00:01<00:00]\n"
     ]
    },
    {
     "data": {
      "text/html": [
       "<div style=\"margin: 0; padding: 5px; line-height: 1.75; font-size: 14px; vertical-align: baseline; list-style: none; font-family: Roboto, Arial, sans-serif; background: none;\">\n",
       "  Success: 1 model added to the registry.\n",
       "</div>"
      ],
      "text/plain": [
       "<IPython.core.display.HTML object>"
      ]
     },
     "metadata": {},
     "output_type": "display_data"
    }
   ],
   "source": [
    "mb.add_model(\"westgate_refusal_model_0.2\", refusal_model)"
   ]
  },
  {
   "cell_type": "code",
   "execution_count": 4,
   "metadata": {},
   "outputs": [],
   "source": [
    "def predict_proba(data):\n",
    "    from westgate.flaml_model import LendingModel\n",
    "    df = pd.DataFrame.from_dict([data])\n",
    "    model = mb.get_model('westgate_refusal_model_0.2')\n",
    "    return model.predict_proba(df, filter=False, engineer=False)"
   ]
  },
  {
   "cell_type": "code",
   "execution_count": 5,
   "metadata": {},
   "outputs": [],
   "source": [
    "X_test = pd.read_csv('./refusal_model/X_test-refusal_0.2.csv')"
   ]
  },
  {
   "cell_type": "code",
   "execution_count": 6,
   "metadata": {},
   "outputs": [
    {
     "data": {
      "text/html": [
       "<div>\n",
       "<style scoped>\n",
       "    .dataframe tbody tr th:only-of-type {\n",
       "        vertical-align: middle;\n",
       "    }\n",
       "\n",
       "    .dataframe tbody tr th {\n",
       "        vertical-align: top;\n",
       "    }\n",
       "\n",
       "    .dataframe thead th {\n",
       "        text-align: right;\n",
       "    }\n",
       "</style>\n",
       "<table border=\"1\" class=\"dataframe\">\n",
       "  <thead>\n",
       "    <tr style=\"text-align: right;\">\n",
       "      <th></th>\n",
       "      <th>pred_proba</th>\n",
       "    </tr>\n",
       "  </thead>\n",
       "  <tbody>\n",
       "    <tr>\n",
       "      <th>0</th>\n",
       "      <td>0.017699</td>\n",
       "    </tr>\n",
       "  </tbody>\n",
       "</table>\n",
       "</div>"
      ],
      "text/plain": [
       "   pred_proba\n",
       "0    0.017699"
      ]
     },
     "execution_count": 6,
     "metadata": {},
     "output_type": "execute_result"
    }
   ],
   "source": [
    "predict_proba(X_test.iloc[0].to_dict())"
   ]
  },
  {
   "cell_type": "code",
   "execution_count": 7,
   "metadata": {},
   "outputs": [
    {
     "data": {
      "text/html": [
       "<div style=\"margin: 0; padding: 5px; line-height: 1.75; font-size: 14px; vertical-align: baseline; list-style: none; font-family: Roboto, Arial, sans-serif; background: none;\">\n",
       "  <div>\n",
       "    <span style=\"margin: 0; padding: 0; line-height: 1.75; font-size: 14px; vertical-align: baseline; list-style: none; font-family: Roboto, Arial, sans-serif; background: none; font-weight: bold; color: #15803d;\">Deploying </span> <span style=\"margin: 0; padding: 3px; line-height: 1.75; font-size: 13px; vertical-align: baseline; list-style: none; font-family: monospace; background: none; font-weight: 400; background-color: rgba(209, 213, 219, 0.2);\">predict_proba</span>\n",
       "  </div>\n",
       "  \n",
       "  \n",
       "\n",
       "\n",
       "  <div style=\"margin: 0; padding: 0; line-height: 1.75; font-size: 14px; vertical-align: baseline; list-style: none; font-family: Roboto, Arial, sans-serif; background: none; margin-top: 10px;\">\n",
       "    <div style=\"margin: 0; padding: 0; line-height: 1.75; font-size: 14px; vertical-align: baseline; list-style: none; font-family: Roboto, Arial, sans-serif; background: none; font-weight: bold; color: #845B99;\">Heads up!</div>\n",
       "    <div style=\"margin: 0; padding: 0; line-height: 1.75; font-size: 14px; vertical-align: baseline; list-style: none; font-family: Roboto, Arial, sans-serif; background: none;\" id=\"fst-mb-104809727\">\n",
       "      <div style=\"margin: 0; padding: 5px; line-height: 1.75; font-size: 14px; vertical-align: baseline; list-style: none; font-family: Roboto, Arial, sans-serif; background: none; border-left: 1px solid #845B99; margin-bottom: 10px;\">\n",
       "\n",
       "    \n",
       "\n",
       "    \n",
       "\n",
       "    \n",
       "\n",
       "    \n",
       "\n",
       "    \n",
       "\n",
       "    \n",
       "      <div style=\"margin: 0; padding: 0; line-height: 1.75; font-size: 14px; vertical-align: baseline; list-style: none; font-family: Roboto, Arial, sans-serif; background: none;\">\n",
       "        Run your deployment function before deploying so that <span style=\"margin: 0; padding: 3px; line-height: 1.75; font-size: 13px; vertical-align: baseline; list-style: none; font-family: monospace; background: none; font-weight: 400; background-color: rgba(209, 213, 219, 0.2);\">mb.deploy</span> can auto-detect\n",
       "        the dependencies of the models you will load using <span style=\"margin: 0; padding: 3px; line-height: 1.75; font-size: 13px; vertical-align: baseline; list-style: none; font-family: monospace; background: none; font-weight: 400; background-color: rgba(209, 213, 219, 0.2);\">mb.get_model</span>.\n",
       "      </div>\n",
       "      <div style=\"margin: 0; padding: 0; line-height: 1.75; font-size: 14px; vertical-align: baseline; list-style: none; font-family: Roboto, Arial, sans-serif; background: none;\">\n",
       "      Model dependencies were not detected in <span style=\"margin: 0; padding: 3px; line-height: 1.75; font-size: 13px; vertical-align: baseline; list-style: none; font-family: monospace; background: none; font-weight: 400; background-color: rgba(209, 213, 219, 0.2);\">predict_proba</span>.\n",
       "      </div>\n",
       "    \n",
       "\n",
       "    \n",
       "\n",
       "    \n",
       "\n",
       "    \n",
       "\n",
       "    \n",
       "\n",
       "    \n",
       "\n",
       "    \n",
       "\n",
       "  </div>\n",
       "    </div>\n",
       "    \n",
       "  </div>\n",
       "\n",
       "  \n",
       "\n",
       "\n",
       "  \n",
       "\n",
       "\n",
       "\n",
       "\n",
       "  <div style=\"margin: 0; padding: 0; line-height: 1.75; font-size: 14px; vertical-align: baseline; list-style: none; font-family: Roboto, Arial, sans-serif; background: none;\">Uploading dependencies...</div>\n",
       "</div>"
      ],
      "text/plain": [
       "<IPython.core.display.HTML object>"
      ]
     },
     "metadata": {},
     "output_type": "display_data"
    },
    {
     "data": {
      "text/html": [
       "<div style=\"margin: 0; padding: 5px; line-height: 1.75; font-size: 14px; vertical-align: baseline; list-style: none; font-family: Roboto, Arial, sans-serif; background: none;\">\n",
       "  <div style=\"margin: 0; padding: 0; line-height: 1.75; font-size: 14px; vertical-align: baseline; list-style: none; font-family: Roboto, Arial, sans-serif; background: none; font-weight: bold; color: #15803d;\">Success!</div>\n",
       "  \n",
       "    <div style=\"margin: 0; padding: 0; line-height: 1.75; font-size: 14px; vertical-align: baseline; list-style: none; font-family: Roboto, Arial, sans-serif; background: none;\">\n",
       "      Deployment <span style=\"margin: 0; padding: 3px; line-height: 1.75; font-size: 13px; vertical-align: baseline; list-style: none; font-family: monospace; background: none; font-weight: 400; background-color: rgba(209, 213, 219, 0.2);\">predict_proba</span>\n",
       "      will be ready in  a couple minutes.\n",
       "    </div>\n",
       "  \n",
       "\n",
       "  <a href=\"https://app.modelbit.com/w/karimlahrichi/main/deployments/predict_proba/apis\" target=\"_blank\" style=\"display: inline-block; margin-top: 12px;\" >\n",
       "    <div\n",
       "      style=\"display: inline-block; background-color: #845B99; border-radius: 0.375rem; color: white; cursor: pointer; font-size: 14px; font-weight: 700; padding: 8px 16px;\"\n",
       "      onmouseenter=\"this.style.background='#714488'\"\n",
       "      onmouseleave=\"this.style.background='#845B99'\"\n",
       "    >\n",
       "      View in Modelbit\n",
       "    </div>\n",
       "  </a>\n",
       "</div>"
      ],
      "text/plain": [
       "<IPython.core.display.HTML object>"
      ]
     },
     "metadata": {},
     "output_type": "display_data"
    }
   ],
   "source": [
    "mb.deploy(predict_proba)"
   ]
  },
  {
   "cell_type": "code",
   "execution_count": 9,
   "metadata": {},
   "outputs": [
    {
     "data": {
      "text/html": [
       "<div style=\"margin: 0; padding: 5px; line-height: 1.75; font-size: 14px; vertical-align: baseline; list-style: none; font-family: Roboto, Arial, sans-serif; background: none;\">\n",
       "  <span style=\"margin: 0; padding: 0; line-height: 1.75; font-size: 14px; vertical-align: baseline; list-style: none; font-family: Roboto, Arial, sans-serif; background: none; color: #E2548A; font-weight: bold;\">Error:</span>\n",
       "  Failed to add package.\n",
       "  \n",
       "  <div>\n",
       "    <span\n",
       "      style=\"margin: 0; padding: 0; line-height: 1.75; font-size: 14px; vertical-align: baseline; list-style: none; font-family: Roboto, Arial, sans-serif; background: none; text-decoration: underline; cursor: pointer;\"\n",
       "      id=\"show-mb-220177497\"\n",
       "      onClick=\"document.getElementById('lst-mb-220177497').style.display='block'; document.getElementById('show-mb-220177497').style.display='none'; document.getElementById('btn-mb-220177497').style.display='none'; document.getElementById('fst-mb-220177497').style.display='none'; \">\n",
       "      Show details.\n",
       "    </span>\n",
       "    <div style=\"margin: 0; padding: 0; line-height: 1.75; font-size: 14px; vertical-align: baseline; list-style: none; font-family: Roboto, Arial, sans-serif; background: none; display: none;\" id=\"lst-mb-220177497\">\n",
       "      <pre style=\"white-space: pre-wrap;\">\n",
       "Traceback (most recent call last):\n",
       "  File &#34;c:\\Users\\karim\\Documents\\Westgate\\.env-flaml\\lib\\site-packages\\build\\__init__.py&#34;, line 466, in _handle_backend\n",
       "    yield\n",
       "  File &#34;c:\\Users\\karim\\Documents\\Westgate\\.env-flaml\\lib\\site-packages\\build\\__init__.py&#34;, line 459, in _call_backend\n",
       "    basename: str = callback(outdir, config_settings, **kwargs)\n",
       "  File &#34;c:\\Users\\karim\\Documents\\Westgate\\.env-flaml\\lib\\site-packages\\pyproject_hooks\\_impl.py&#34;, line 186, in prepare_metadata_for_build_wheel\n",
       "    return self._call_hook(&#39;prepare_metadata_for_build_wheel&#39;, {\n",
       "  File &#34;c:\\Users\\karim\\Documents\\Westgate\\.env-flaml\\lib\\site-packages\\pyproject_hooks\\_impl.py&#34;, line 311, in _call_hook\n",
       "    self._subprocess_runner(\n",
       "  File &#34;c:\\Users\\karim\\Documents\\Westgate\\.env-flaml\\lib\\site-packages\\build\\__init__.py&#34;, line 302, in _runner\n",
       "    self._hook_runner(cmd, cwd, extra_environ)\n",
       "  File &#34;c:\\Users\\karim\\Documents\\Westgate\\.env-flaml\\lib\\site-packages\\pyproject_hooks\\_impl.py&#34;, line 71, in quiet_subprocess_runner\n",
       "    check_output(cmd, cwd=cwd, env=env, stderr=STDOUT)\n",
       "  File &#34;C:\\Users\\karim\\.pyenv\\pyenv-win\\versions\\3.10.5\\lib\\subprocess.py&#34;, line 420, in check_output\n",
       "    return run(*popenargs, stdout=PIPE, timeout=timeout, check=True,\n",
       "  File &#34;C:\\Users\\karim\\.pyenv\\pyenv-win\\versions\\3.10.5\\lib\\subprocess.py&#34;, line 524, in run\n",
       "    raise CalledProcessError(retcode, process.args,\n",
       "subprocess.CalledProcessError: Command &#39;[&#39;c:\\\\Users\\\\karim\\\\Documents\\\\Westgate\\\\.env-flaml\\\\Scripts\\\\python.exe&#39;, &#39;c:\\\\Users\\\\karim\\\\Documents\\\\Westgate\\\\.env-flaml\\\\lib\\\\site-packages\\\\pyproject_hooks\\\\_in_process\\\\_in_process.py&#39;, &#39;prepare_metadata_for_build_wheel&#39;, &#39;C:\\\\Users\\\\karim\\\\AppData\\\\Local\\\\Temp\\\\tmp0m_v99x6&#39;]&#39; returned non-zero exit status 1.\n",
       "\n",
       "During handling of the above exception, another exception occurred:\n",
       "\n",
       "Traceback (most recent call last):\n",
       "  File &#34;c:\\Users\\karim\\Documents\\Westgate\\.env-flaml\\lib\\site-packages\\modelbit\\telemetry.py&#34;, line 75, in innerFn\n",
       "    return func(*args, **kwargs)\n",
       "  File &#34;c:\\Users\\karim\\Documents\\Westgate\\.env-flaml\\lib\\site-packages\\modelbit\\__init__.py&#34;, line 300, in add_package\n",
       "    return m_package.add_package(path, force, _mbApi())\n",
       "  File &#34;c:\\Users\\karim\\Documents\\Westgate\\.env-flaml\\lib\\site-packages\\modelbit\\internal\\package.py&#34;, line 45, in add_package\n",
       "    pkgKind, pkgInfo = builder.packageInfo(path)\n",
       "  File &#34;c:\\Users\\karim\\Documents\\Westgate\\.env-flaml\\lib\\site-packages\\modelbit\\internal\\package.py&#34;, line 70, in packageInfo\n",
       "    pkgInfo = _pkgMetadata(path)\n",
       "  File &#34;c:\\Users\\karim\\Documents\\Westgate\\.env-flaml\\lib\\site-packages\\modelbit\\internal\\package.py&#34;, line 161, in _pkgMetadata\n",
       "    metadata = build.util.project_wheel_metadata(path, isolated=False)\n",
       "  File &#34;c:\\Users\\karim\\Documents\\Westgate\\.env-flaml\\lib\\site-packages\\build\\util.py&#34;, line 49, in project_wheel_metadata\n",
       "    return _project_wheel_metadata(builder)\n",
       "  File &#34;c:\\Users\\karim\\Documents\\Westgate\\.env-flaml\\lib\\site-packages\\build\\util.py&#34;, line 24, in _project_wheel_metadata\n",
       "    path = pathlib.Path(builder.metadata_path(tmpdir))\n",
       "  File &#34;c:\\Users\\karim\\Documents\\Westgate\\.env-flaml\\lib\\site-packages\\build\\__init__.py&#34;, line 427, in metadata_path\n",
       "    metadata = self.prepare(&#39;wheel&#39;, output_directory)\n",
       "  File &#34;c:\\Users\\karim\\Documents\\Westgate\\.env-flaml\\lib\\site-packages\\build\\__init__.py&#34;, line 384, in prepare\n",
       "    return self._call_backend(\n",
       "  File &#34;c:\\Users\\karim\\Documents\\Westgate\\.env-flaml\\lib\\site-packages\\build\\__init__.py&#34;, line 458, in _call_backend\n",
       "    with self._handle_backend(hook_name):\n",
       "  File &#34;C:\\Users\\karim\\.pyenv\\pyenv-win\\versions\\3.10.5\\lib\\contextlib.py&#34;, line 153, in __exit__\n",
       "    self.gen.throw(typ, value, traceback)\n",
       "  File &#34;c:\\Users\\karim\\Documents\\Westgate\\.env-flaml\\lib\\site-packages\\build\\__init__.py&#34;, line 474, in _handle_backend\n",
       "    raise BuildBackendException(  # noqa: B904 # use raise from\n",
       "build.BuildBackendException: Backend subprocess exited when trying to invoke prepare_metadata_for_build_wheel\n",
       "\n",
       "      </pre>\n",
       "    </div>\n",
       "  </div>\n",
       "  \n",
       "</div>"
      ],
      "text/plain": [
       "<IPython.core.display.HTML object>"
      ]
     },
     "metadata": {},
     "output_type": "display_data"
    },
    {
     "ename": "ModelbitError",
     "evalue": "Failed to add package.",
     "output_type": "error",
     "traceback": [
      "\u001b[1;31m---------------------------------------------------------------------------\u001b[0m",
      "\u001b[1;31mModelbitError\u001b[0m                             Traceback (most recent call last)",
      "Cell \u001b[1;32mIn[9], line 1\u001b[0m\n\u001b[1;32m----> 1\u001b[0m \u001b[43mmb\u001b[49m\u001b[38;5;241;43m.\u001b[39;49m\u001b[43madd_package\u001b[49m\u001b[43m(\u001b[49m\u001b[38;5;124;43m\"\u001b[39;49m\u001b[38;5;124;43m.\u001b[39;49m\u001b[38;5;124;43m\"\u001b[39;49m\u001b[43m)\u001b[49m\n",
      "File \u001b[1;32mc:\\Users\\karim\\Documents\\Westgate\\.env-flaml\\lib\\site-packages\\modelbit\\telemetry.py:95\u001b[0m, in \u001b[0;36meatErrorAndLog.<locals>.decorator.<locals>.innerFn\u001b[1;34m(*args, **kwargs)\u001b[0m\n\u001b[0;32m     <a href='file:///c%3A/Users/karim/Documents/Westgate/.env-flaml/lib/site-packages/modelbit/telemetry.py?line=92'>93</a>\u001b[0m \u001b[39m# Convert to generic ModelbitError.\u001b[39;00m\n\u001b[0;32m     <a href='file:///c%3A/Users/karim/Documents/Westgate/.env-flaml/lib/site-packages/modelbit/telemetry.py?line=93'>94</a>\u001b[0m \u001b[39mif\u001b[39;00m \u001b[39mtype\u001b[39m(error) \u001b[39m==\u001b[39m \u001b[39mstr\u001b[39m:\n\u001b[1;32m---> <a href='file:///c%3A/Users/karim/Documents/Westgate/.env-flaml/lib/site-packages/modelbit/telemetry.py?line=94'>95</a>\u001b[0m   \u001b[39mraise\u001b[39;00m ModelbitError(error)\n\u001b[0;32m     <a href='file:///c%3A/Users/karim/Documents/Westgate/.env-flaml/lib/site-packages/modelbit/telemetry.py?line=95'>96</a>\u001b[0m \u001b[39melse\u001b[39;00m:\n\u001b[0;32m     <a href='file:///c%3A/Users/karim/Documents/Westgate/.env-flaml/lib/site-packages/modelbit/telemetry.py?line=96'>97</a>\u001b[0m   \u001b[39mraise\u001b[39;00m cast(\u001b[39mException\u001b[39;00m, error)\n",
      "\u001b[1;31mModelbitError\u001b[0m: Failed to add package."
     ]
    }
   ],
   "source": [
    "mb.add_package(\".\")"
   ]
  },
  {
   "cell_type": "code",
   "execution_count": 8,
   "metadata": {},
   "outputs": [
    {
     "data": {
      "text/html": [
       "<div style=\"margin: 0; padding: 5px; line-height: 1.75; font-size: 14px; vertical-align: baseline; list-style: none; font-family: Roboto, Arial, sans-serif; background: none;\">\n",
       "  Success: 1 file uploaded.\n",
       "</div>"
      ],
      "text/plain": [
       "<IPython.core.display.HTML object>"
      ]
     },
     "metadata": {},
     "output_type": "display_data"
    }
   ],
   "source": [
    "mb.add_common_files({'westgate/flaml_model.py': 'flaml_model.py'})"
   ]
  }
 ],
 "metadata": {
  "interpreter": {
   "hash": "38b8ab3c7caf7263c2b1864059dd22fc7e99c3d689cca848f2cf647715e92ae3"
  },
  "kernelspec": {
   "display_name": "Python 3.10.5 ('.env-flaml': venv)",
   "language": "python",
   "name": "python3"
  },
  "language_info": {
   "codemirror_mode": {
    "name": "ipython",
    "version": 3
   },
   "file_extension": ".py",
   "mimetype": "text/x-python",
   "name": "python",
   "nbconvert_exporter": "python",
   "pygments_lexer": "ipython3",
   "version": "3.10.5"
  },
  "orig_nbformat": 4
 },
 "nbformat": 4,
 "nbformat_minor": 2
}
